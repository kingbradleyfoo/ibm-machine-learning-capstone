{
  "metadata": {
    "kernelspec": {
      "language": "python",
      "display_name": "Python 3",
      "name": "python3"
    },
    "language_info": {
      "name": "python",
      "version": "3.7.12",
      "mimetype": "text/x-python",
      "codemirror_mode": {
        "name": "ipython",
        "version": 3
      },
      "pygments_lexer": "ipython3",
      "nbconvert_exporter": "python",
      "file_extension": ".py"
    },
    "colab": {
      "provenance": [],
      "include_colab_link": true
    }
  },
  "nbformat_minor": 0,
  "nbformat": 4,
  "cells": [
    {
      "cell_type": "markdown",
      "metadata": {
        "id": "view-in-github",
        "colab_type": "text"
      },
      "source": [
        "<a href=\"https://colab.research.google.com/github/kingbradleyfoo/ibm-machine-learning-capstone/blob/main/king_11_lab_jupyter_cf_performance\" target=\"_parent\"><img src=\"https://colab.research.google.com/assets/colab-badge.svg\" alt=\"Open In Colab\"/></a>"
      ]
    },
    {
      "cell_type": "code",
      "source": [
        "# This Python 3 environment comes with many helpful analytics libraries installed\n",
        "# It is defined by the kaggle/python Docker image: https://github.com/kaggle/docker-python\n",
        "# For example, here's several helpful packages to load\n",
        "\n",
        "import numpy as np # linear algebra\n",
        "import pandas as pd # data processing, CSV file I/O (e.g. pd.read_csv)\n",
        "\n",
        "# Input data files are available in the read-only \"../input/\" directory\n",
        "# For example, running this (by clicking run or pressing Shift+Enter) will list all files under the input directory\n",
        "\n",
        "import os\n",
        "for dirname, _, filenames in os.walk('/kaggle/input'):\n",
        "    for filename in filenames:\n",
        "        print(os.path.join(dirname, filename))\n",
        "\n",
        "# You can write up to 20GB to the current directory (/kaggle/working/) that gets preserved as output when you create a version using \"Save & Run All\" \n",
        "# You can also write temporary files to /kaggle/temp/, but they won't be saved outside of the current session"
      ],
      "metadata": {
        "_uuid": "8f2839f25d086af736a60e9eeb907d3b93b6e0e5",
        "_cell_guid": "b1076dfc-b9ad-4769-8c92-a6c4dae69d19",
        "execution": {
          "iopub.status.busy": "2022-09-12T18:18:01.034903Z",
          "iopub.execute_input": "2022-09-12T18:18:01.035818Z",
          "iopub.status.idle": "2022-09-12T18:18:01.069351Z",
          "shell.execute_reply.started": "2022-09-12T18:18:01.035691Z",
          "shell.execute_reply": "2022-09-12T18:18:01.068330Z"
        },
        "trusted": true,
        "id": "qpEmjlTDyO-b"
      },
      "execution_count": 1,
      "outputs": []
    },
    {
      "cell_type": "code",
      "source": [
        "import matplotlib.pyplot as plt"
      ],
      "metadata": {
        "execution": {
          "iopub.status.busy": "2022-09-12T18:18:01.073246Z",
          "iopub.execute_input": "2022-09-12T18:18:01.073737Z",
          "iopub.status.idle": "2022-09-12T18:18:01.078527Z",
          "shell.execute_reply.started": "2022-09-12T18:18:01.073693Z",
          "shell.execute_reply": "2022-09-12T18:18:01.077565Z"
        },
        "trusted": true,
        "id": "XCwIycmIyO-f"
      },
      "execution_count": 2,
      "outputs": []
    },
    {
      "cell_type": "code",
      "source": [
        "data = {'knn':0.20626601933358374,\n",
        "       'NMF':0.19785673369438034,\n",
        "       'ElasticNet':0.2109446644463765,\n",
        "       'Ridge':0.21028956245332192,\n",
        "       'Lasso':0.2109446644463765,\n",
        "       'Stacking_Classifier':0.09419297109131271,\n",
        "       'Neural_Network':0.1921297311782837,\n",
        "       'Random':1.29}"
      ],
      "metadata": {
        "execution": {
          "iopub.status.busy": "2022-09-12T18:36:43.129677Z",
          "iopub.execute_input": "2022-09-12T18:36:43.130241Z",
          "iopub.status.idle": "2022-09-12T18:36:43.136969Z",
          "shell.execute_reply.started": "2022-09-12T18:36:43.130193Z",
          "shell.execute_reply": "2022-09-12T18:36:43.135858Z"
        },
        "trusted": true,
        "id": "lLhHAHBIyO-f"
      },
      "execution_count": 3,
      "outputs": []
    },
    {
      "cell_type": "code",
      "source": [
        "x = data.keys()\n",
        "y = data.values()\n",
        "plt.figure(figsize=(20,10))\n",
        "font = {'family' : 'normal',\n",
        "        'weight' : 'bold',\n",
        "        'size'   : 11}\n",
        "\n",
        "plt.rc('font', **font)\n",
        "plt.bar(x = x,height=y,color=['lightblue']*7 + ['orange']*2)\n",
        "plt.ylabel('RMSE')\n",
        "plt.title('Model RMSE Comparison')"
      ],
      "metadata": {
        "execution": {
          "iopub.status.busy": "2022-09-12T18:36:43.580933Z",
          "iopub.execute_input": "2022-09-12T18:36:43.581485Z",
          "iopub.status.idle": "2022-09-12T18:36:43.834804Z",
          "shell.execute_reply.started": "2022-09-12T18:36:43.581442Z",
          "shell.execute_reply": "2022-09-12T18:36:43.833521Z"
        },
        "trusted": true,
        "id": "kCRWSDRAyO-g",
        "outputId": "ad510a3a-a109-4ac6-b2fe-d305698512bf",
        "colab": {
          "base_uri": "https://localhost:8080/",
          "height": 1000
        }
      },
      "execution_count": 4,
      "outputs": [
        {
          "output_type": "execute_result",
          "data": {
            "text/plain": [
              "Text(0.5, 1.0, 'Model RMSE Comparison')"
            ]
          },
          "metadata": {},
          "execution_count": 4
        },
        {
          "output_type": "stream",
          "name": "stderr",
          "text": [
            "WARNING:matplotlib.font_manager:findfont: Font family 'normal' not found.\n",
            "WARNING:matplotlib.font_manager:findfont: Font family 'normal' not found.\n",
            "WARNING:matplotlib.font_manager:findfont: Font family 'normal' not found.\n",
            "WARNING:matplotlib.font_manager:findfont: Font family 'normal' not found.\n",
            "WARNING:matplotlib.font_manager:findfont: Font family 'normal' not found.\n",
            "WARNING:matplotlib.font_manager:findfont: Font family 'normal' not found.\n",
            "WARNING:matplotlib.font_manager:findfont: Font family 'normal' not found.\n",
            "WARNING:matplotlib.font_manager:findfont: Font family 'normal' not found.\n",
            "WARNING:matplotlib.font_manager:findfont: Font family 'normal' not found.\n",
            "WARNING:matplotlib.font_manager:findfont: Font family 'normal' not found.\n",
            "WARNING:matplotlib.font_manager:findfont: Font family 'normal' not found.\n",
            "WARNING:matplotlib.font_manager:findfont: Font family 'normal' not found.\n",
            "WARNING:matplotlib.font_manager:findfont: Font family 'normal' not found.\n",
            "WARNING:matplotlib.font_manager:findfont: Font family 'normal' not found.\n",
            "WARNING:matplotlib.font_manager:findfont: Font family 'normal' not found.\n",
            "WARNING:matplotlib.font_manager:findfont: Font family 'normal' not found.\n",
            "WARNING:matplotlib.font_manager:findfont: Font family 'normal' not found.\n",
            "WARNING:matplotlib.font_manager:findfont: Font family 'normal' not found.\n",
            "WARNING:matplotlib.font_manager:findfont: Font family 'normal' not found.\n",
            "WARNING:matplotlib.font_manager:findfont: Font family 'normal' not found.\n",
            "WARNING:matplotlib.font_manager:findfont: Font family 'normal' not found.\n",
            "WARNING:matplotlib.font_manager:findfont: Font family 'normal' not found.\n",
            "WARNING:matplotlib.font_manager:findfont: Font family 'normal' not found.\n",
            "WARNING:matplotlib.font_manager:findfont: Font family 'normal' not found.\n",
            "WARNING:matplotlib.font_manager:findfont: Font family 'normal' not found.\n",
            "WARNING:matplotlib.font_manager:findfont: Font family 'normal' not found.\n",
            "WARNING:matplotlib.font_manager:findfont: Font family 'normal' not found.\n",
            "WARNING:matplotlib.font_manager:findfont: Font family 'normal' not found.\n",
            "WARNING:matplotlib.font_manager:findfont: Font family 'normal' not found.\n",
            "WARNING:matplotlib.font_manager:findfont: Font family 'normal' not found.\n",
            "WARNING:matplotlib.font_manager:findfont: Font family 'normal' not found.\n",
            "WARNING:matplotlib.font_manager:findfont: Font family 'normal' not found.\n",
            "WARNING:matplotlib.font_manager:findfont: Font family 'normal' not found.\n",
            "WARNING:matplotlib.font_manager:findfont: Font family 'normal' not found.\n",
            "WARNING:matplotlib.font_manager:findfont: Font family 'normal' not found.\n",
            "WARNING:matplotlib.font_manager:findfont: Font family 'normal' not found.\n",
            "WARNING:matplotlib.font_manager:findfont: Font family 'normal' not found.\n",
            "WARNING:matplotlib.font_manager:findfont: Font family 'normal' not found.\n",
            "WARNING:matplotlib.font_manager:findfont: Font family 'normal' not found.\n",
            "WARNING:matplotlib.font_manager:findfont: Font family 'normal' not found.\n",
            "WARNING:matplotlib.font_manager:findfont: Font family 'normal' not found.\n",
            "WARNING:matplotlib.font_manager:findfont: Font family 'normal' not found.\n",
            "WARNING:matplotlib.font_manager:findfont: Font family 'normal' not found.\n",
            "WARNING:matplotlib.font_manager:findfont: Font family 'normal' not found.\n",
            "WARNING:matplotlib.font_manager:findfont: Font family 'normal' not found.\n",
            "WARNING:matplotlib.font_manager:findfont: Font family 'normal' not found.\n",
            "WARNING:matplotlib.font_manager:findfont: Font family 'normal' not found.\n",
            "WARNING:matplotlib.font_manager:findfont: Font family 'normal' not found.\n",
            "WARNING:matplotlib.font_manager:findfont: Font family 'normal' not found.\n",
            "WARNING:matplotlib.font_manager:findfont: Font family 'normal' not found.\n",
            "WARNING:matplotlib.font_manager:findfont: Font family 'normal' not found.\n",
            "WARNING:matplotlib.font_manager:findfont: Font family 'normal' not found.\n",
            "WARNING:matplotlib.font_manager:findfont: Font family 'normal' not found.\n",
            "WARNING:matplotlib.font_manager:findfont: Font family 'normal' not found.\n",
            "WARNING:matplotlib.font_manager:findfont: Font family 'normal' not found.\n",
            "WARNING:matplotlib.font_manager:findfont: Font family 'normal' not found.\n",
            "WARNING:matplotlib.font_manager:findfont: Font family 'normal' not found.\n",
            "WARNING:matplotlib.font_manager:findfont: Font family 'normal' not found.\n",
            "WARNING:matplotlib.font_manager:findfont: Font family 'normal' not found.\n",
            "WARNING:matplotlib.font_manager:findfont: Font family 'normal' not found.\n",
            "WARNING:matplotlib.font_manager:findfont: Font family 'normal' not found.\n",
            "WARNING:matplotlib.font_manager:findfont: Font family 'normal' not found.\n",
            "WARNING:matplotlib.font_manager:findfont: Font family 'normal' not found.\n",
            "WARNING:matplotlib.font_manager:findfont: Font family 'normal' not found.\n",
            "WARNING:matplotlib.font_manager:findfont: Font family 'normal' not found.\n",
            "WARNING:matplotlib.font_manager:findfont: Font family 'normal' not found.\n",
            "WARNING:matplotlib.font_manager:findfont: Font family 'normal' not found.\n",
            "WARNING:matplotlib.font_manager:findfont: Font family 'normal' not found.\n",
            "WARNING:matplotlib.font_manager:findfont: Font family 'normal' not found.\n",
            "WARNING:matplotlib.font_manager:findfont: Font family 'normal' not found.\n",
            "WARNING:matplotlib.font_manager:findfont: Font family 'normal' not found.\n",
            "WARNING:matplotlib.font_manager:findfont: Font family 'normal' not found.\n",
            "WARNING:matplotlib.font_manager:findfont: Font family 'normal' not found.\n",
            "WARNING:matplotlib.font_manager:findfont: Font family 'normal' not found.\n"
          ]
        },
        {
          "output_type": "display_data",
          "data": {
            "text/plain": [
              "<Figure size 2000x1000 with 1 Axes>"
            ],
            "image/png": "[encoded data removed]"
          },
          "metadata": {}
        }
      ]
    },
    {
      "cell_type": "code",
      "source": [],
      "metadata": {
        "id": "ibao-2XvyO-g"
      },
      "execution_count": null,
      "outputs": []
    }
  ]
}
