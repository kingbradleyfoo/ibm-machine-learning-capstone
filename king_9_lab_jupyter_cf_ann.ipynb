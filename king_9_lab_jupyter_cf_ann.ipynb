{
  "cells": [
    {
      "cell_type": "markdown",
      "metadata": {
        "id": "51d3e6d1-4ce0-45fe-9296-60b9ec8c4841"
      },
      "source": [
        "<p style=\"text-align:center\">\n",
        "    <a href=\"https://skills.network/?utm_medium=Exinfluencer&utm_source=Exinfluencer&utm_content=000026UJ&utm_term=10006555&utm_id=NA-SkillsNetwork-Channel-SkillsNetworkCoursesIBMML321ENSkillsNetwork817-2022-01-01\" target=\"_blank\">\n",
        "    <img src=\"https://cf-courses-data.s3.us.cloud-object-storage.appdomain.cloud/assets/logos/SN_web_lightmode.png\" width=\"200\" alt=\"Skills Network Logo\"  />\n",
        "    </a>\n",
        "</p>\n"
      ]
    },
    {
      "cell_type": "markdown",
      "metadata": {
        "id": "899990e4-6229-4ae5-aec2-9ab97d21a5a1"
      },
      "source": [
        "# **Course Rating Prediction using Neural Networks**\n"
      ]
    },
    {
      "cell_type": "markdown",
      "metadata": {
        "id": "3a590f18-88b6-4678-a3c6-c1073879795a"
      },
      "source": [
        "Estimated time needed: **60** minutes\n"
      ]
    },
    {
      "cell_type": "markdown",
      "metadata": {
        "id": "bc07888c-a937-4390-891c-8f159a5945d1"
      },
      "source": [
        "In the previous labs, we have crafted several types of user and item feature vectors.  For example, given a user `i`, we may build its profile feature vector and course rating feature vector, and given an item `j`, we may create its genre vector and user enrollment vectors.\n"
      ]
    },
    {
      "cell_type": "markdown",
      "metadata": {
        "id": "30b75483-34e1-460e-ae57-b563b5d8f5f2"
      },
      "source": [
        "\n",
        "With these explicit features vectors, we can perform machine learning tasks such as calculating the similarities among users or items, finding nearest neighbors, and using dot-product to estimate a rating value. \n",
        "\n",
        "The main advantage of using these explicit features is they are highly interpretable and yield very good performance as well. The main disadvantage is we need to spend quite some effort to build and store them.\n"
      ]
    },
    {
      "cell_type": "markdown",
      "metadata": {
        "id": "241cdfc2-4ede-4e4f-a763-d7a226e12b47"
      },
      "source": [
        "![](https://cf-courses-data.s3.us.cloud-object-storage.appdomain.cloud/IBM-ML321EN-SkillsNetwork/labs/module_4/images/explicit_user_item_features.png)\n"
      ]
    },
    {
      "cell_type": "markdown",
      "metadata": {
        "id": "634fb4c3-cd1a-4c80-afc5-b01ab7c88d5d"
      },
      "source": [
        "Is it possible to predict a rating without building explicit feature vectors beforehand?  \n",
        "\n",
        "Yes, as you may recall, the Non-negative Matrix Factorization decomposes the user-item interaction matrix into user matrix and item matrix, which contain the latent features of users and items and you can simply dot-product them to get an estimated rating.\n"
      ]
    },
    {
      "cell_type": "markdown",
      "metadata": {
        "id": "91a938f1-3720-4b5e-abcf-1e7bb7f5f113"
      },
      "source": [
        "![](https://cf-courses-data.s3.us.cloud-object-storage.appdomain.cloud/IBM-ML321EN-SkillsNetwork/labs/module_4/images/nmf.png)\n"
      ]
    },
    {
      "cell_type": "markdown",
      "metadata": {
        "id": "623f49f0-2cf7-4094-8884-783f0980d31e"
      },
      "source": [
        "In addition to NMF, neural networks can also be used to extract the latent user and item features?  In fact,  neural networks are very good at learning patterns from data and are widely used to extract latent features.  When training neural networks, it gradually captures and stores the features within its hidden layers as weight matrices and can be extracted to represent the original data.\n"
      ]
    },
    {
      "cell_type": "markdown",
      "metadata": {
        "id": "259d6fe8-09fe-4311-9fd4-55606155a44f"
      },
      "source": [
        "In this lab, you will be training neural networks to predict course ratings while simultaneously extracting users' and items' latent features. \n"
      ]
    },
    {
      "cell_type": "markdown",
      "metadata": {
        "id": "35bb7589-d223-4f0c-8aaa-9340c2a0d61a"
      },
      "source": [
        "## Objectives\n"
      ]
    },
    {
      "cell_type": "markdown",
      "metadata": {
        "id": "f4f1e1d9-0569-43f2-a8db-c7daae9da4cf"
      },
      "source": [
        "After completing this lab you will be able to:\n"
      ]
    },
    {
      "cell_type": "markdown",
      "metadata": {
        "id": "b309b802-74f3-40e8-a7aa-dafcdc323d05"
      },
      "source": [
        "* Use `tensorflow` to train neural networks to extract the user and item latent features from the hidden's layers  \n",
        "* Predict course ratings with trained neural networks\n"
      ]
    },
    {
      "cell_type": "markdown",
      "metadata": {
        "id": "7a474d4d-efbd-45f8-b165-b47e93887504"
      },
      "source": [
        "----\n"
      ]
    },
    {
      "cell_type": "markdown",
      "metadata": {
        "id": "e5132dfd-3f42-4867-ac16-771736dd9d6b"
      },
      "source": [
        "## Prepare and setup lab environment\n"
      ]
    },
    {
      "cell_type": "markdown",
      "metadata": {
        "id": "d7f4714c-c0ad-4816-a309-6f0fd42d08c4"
      },
      "source": [
        "Install tensorflow 2.7 if not installed before in your Python environment\n"
      ]
    },
    {
      "cell_type": "code",
      "metadata": {
        "id": "d9beae9b-d03c-4051-acb3-d651e7c9a30f",
        "outputId": "3b726635-0fb0-4806-8d94-8600993f3fe5",
        "colab": {
          "base_uri": "https://localhost:8080/"
        }
      },
      "outputs": [
        {
          "output_type": "stream",
          "name": "stdout",
          "text": [
            "Looking in indexes: https://pypi.org/simple, https://us-python.pkg.dev/colab-wheels/public/simple/\n",
            "Collecting tensorflow==2.7.0\n",
            "  Downloading tensorflow-2.7.0-cp39-cp39-manylinux2010_x86_64.whl (489.7 MB)\n",
            "\u001b[2K     \u001b[90m━━━━━━━━━━━━━━━━━━━━━━━━━━━━━━━━━━━━━━━\u001b[0m \u001b[32m489.7/489.7 MB\u001b[0m \u001b[31m2.4 MB/s\u001b[0m eta \u001b[36m0:00:00\u001b[0m\n",
            "\u001b[?25hRequirement already satisfied: google-pasta>=0.1.1 in /usr/local/lib/python3.9/dist-packages (from tensorflow==2.7.0) (0.2.0)\n",
            "Requirement already satisfied: wheel<1.0,>=0.32.0 in /usr/local/lib/python3.9/dist-packages (from tensorflow==2.7.0) (0.40.0)\n",
            "Requirement already satisfied: astunparse>=1.6.0 in /usr/local/lib/python3.9/dist-packages (from tensorflow==2.7.0) (1.6.3)\n",
            "Requirement already satisfied: h5py>=2.9.0 in /usr/local/lib/python3.9/dist-packages (from tensorflow==2.7.0) (3.8.0)\n",
            "Requirement already satisfied: grpcio<2.0,>=1.24.3 in /usr/local/lib/python3.9/dist-packages (from tensorflow==2.7.0) (1.53.0)\n",
            "Requirement already satisfied: opt-einsum>=2.3.2 in /usr/local/lib/python3.9/dist-packages (from tensorflow==2.7.0) (3.3.0)\n",
            "Requirement already satisfied: termcolor>=1.1.0 in /usr/local/lib/python3.9/dist-packages (from tensorflow==2.7.0) (2.2.0)\n",
            "Requirement already satisfied: numpy>=1.14.5 in /usr/local/lib/python3.9/dist-packages (from tensorflow==2.7.0) (1.22.4)\n",
            "Requirement already satisfied: libclang>=9.0.1 in /usr/local/lib/python3.9/dist-packages (from tensorflow==2.7.0) (16.0.0)\n",
            "Collecting keras-preprocessing>=1.1.1\n",
            "  Downloading Keras_Preprocessing-1.1.2-py2.py3-none-any.whl (42 kB)\n",
            "\u001b[2K     \u001b[90m━━━━━━━━━━━━━━━━━━━━━━━━━━━━━━━━━━━━━━━━\u001b[0m \u001b[32m42.6/42.6 KB\u001b[0m \u001b[31m3.1 MB/s\u001b[0m eta \u001b[36m0:00:00\u001b[0m\n",
            "\u001b[?25hCollecting flatbuffers<3.0,>=1.12\n",
            "  Downloading flatbuffers-2.0.7-py2.py3-none-any.whl (26 kB)\n",
            "Requirement already satisfied: six>=1.12.0 in /usr/local/lib/python3.9/dist-packages (from tensorflow==2.7.0) (1.16.0)\n",
            "Collecting keras<2.8,>=2.7.0rc0\n",
            "  Downloading keras-2.7.0-py2.py3-none-any.whl (1.3 MB)\n",
            "\u001b[2K     \u001b[90m━━━━━━━━━━━━━━━━━━━━━━━━━━━━━━━━━━━━━━━━\u001b[0m \u001b[32m1.3/1.3 MB\u001b[0m \u001b[31m31.2 MB/s\u001b[0m eta \u001b[36m0:00:00\u001b[0m\n",
            "\u001b[?25hCollecting tensorflow-estimator<2.8,~=2.7.0rc0\n",
            "  Downloading tensorflow_estimator-2.7.0-py2.py3-none-any.whl (463 kB)\n",
            "\u001b[2K     \u001b[90m━━━━━━━━━━━━━━━━━━━━━━━━━━━━━━━━━━━━━━\u001b[0m \u001b[32m463.1/463.1 KB\u001b[0m \u001b[31m10.3 MB/s\u001b[0m eta \u001b[36m0:00:00\u001b[0m\n",
            "\u001b[?25hRequirement already satisfied: gast<0.5.0,>=0.2.1 in /usr/local/lib/python3.9/dist-packages (from tensorflow==2.7.0) (0.4.0)\n",
            "Requirement already satisfied: protobuf>=3.9.2 in /usr/local/lib/python3.9/dist-packages (from tensorflow==2.7.0) (3.20.3)\n",
            "Requirement already satisfied: tensorflow-io-gcs-filesystem>=0.21.0 in /usr/local/lib/python3.9/dist-packages (from tensorflow==2.7.0) (0.32.0)\n",
            "Requirement already satisfied: wrapt>=1.11.0 in /usr/local/lib/python3.9/dist-packages (from tensorflow==2.7.0) (1.14.1)\n",
            "Requirement already satisfied: tensorboard~=2.6 in /usr/local/lib/python3.9/dist-packages (from tensorflow==2.7.0) (2.12.1)\n",
            "Requirement already satisfied: absl-py>=0.4.0 in /usr/local/lib/python3.9/dist-packages (from tensorflow==2.7.0) (1.4.0)\n",
            "Requirement already satisfied: typing-extensions>=3.6.6 in /usr/local/lib/python3.9/dist-packages (from tensorflow==2.7.0) (4.5.0)\n",
            "Requirement already satisfied: werkzeug>=1.0.1 in /usr/local/lib/python3.9/dist-packages (from tensorboard~=2.6->tensorflow==2.7.0) (2.2.3)\n",
            "Requirement already satisfied: requests<3,>=2.21.0 in /usr/local/lib/python3.9/dist-packages (from tensorboard~=2.6->tensorflow==2.7.0) (2.27.1)\n",
            "Requirement already satisfied: setuptools>=41.0.0 in /usr/local/lib/python3.9/dist-packages (from tensorboard~=2.6->tensorflow==2.7.0) (67.6.1)\n",
            "Requirement already satisfied: tensorboard-plugin-wit>=1.6.0 in /usr/local/lib/python3.9/dist-packages (from tensorboard~=2.6->tensorflow==2.7.0) (1.8.1)\n",
            "Requirement already satisfied: google-auth-oauthlib<1.1,>=0.5 in /usr/local/lib/python3.9/dist-packages (from tensorboard~=2.6->tensorflow==2.7.0) (1.0.0)\n",
            "Requirement already satisfied: google-auth<3,>=1.6.3 in /usr/local/lib/python3.9/dist-packages (from tensorboard~=2.6->tensorflow==2.7.0) (2.17.1)\n",
            "Requirement already satisfied: markdown>=2.6.8 in /usr/local/lib/python3.9/dist-packages (from tensorboard~=2.6->tensorflow==2.7.0) (3.4.3)\n",
            "Requirement already satisfied: tensorboard-data-server<0.8.0,>=0.7.0 in /usr/local/lib/python3.9/dist-packages (from tensorboard~=2.6->tensorflow==2.7.0) (0.7.0)\n",
            "Requirement already satisfied: rsa<5,>=3.1.4 in /usr/local/lib/python3.9/dist-packages (from google-auth<3,>=1.6.3->tensorboard~=2.6->tensorflow==2.7.0) (4.9)\n",
            "Requirement already satisfied: pyasn1-modules>=0.2.1 in /usr/local/lib/python3.9/dist-packages (from google-auth<3,>=1.6.3->tensorboard~=2.6->tensorflow==2.7.0) (0.2.8)\n",
            "Requirement already satisfied: cachetools<6.0,>=2.0.0 in /usr/local/lib/python3.9/dist-packages (from google-auth<3,>=1.6.3->tensorboard~=2.6->tensorflow==2.7.0) (5.3.0)\n",
            "Requirement already satisfied: requests-oauthlib>=0.7.0 in /usr/local/lib/python3.9/dist-packages (from google-auth-oauthlib<1.1,>=0.5->tensorboard~=2.6->tensorflow==2.7.0) (1.3.1)\n",
            "Requirement already satisfied: importlib-metadata>=4.4 in /usr/local/lib/python3.9/dist-packages (from markdown>=2.6.8->tensorboard~=2.6->tensorflow==2.7.0) (6.1.0)\n",
            "Requirement already satisfied: charset-normalizer~=2.0.0 in /usr/local/lib/python3.9/dist-packages (from requests<3,>=2.21.0->tensorboard~=2.6->tensorflow==2.7.0) (2.0.12)\n",
            "Requirement already satisfied: idna<4,>=2.5 in /usr/local/lib/python3.9/dist-packages (from requests<3,>=2.21.0->tensorboard~=2.6->tensorflow==2.7.0) (3.4)\n",
            "Requirement already satisfied: urllib3<1.27,>=1.21.1 in /usr/local/lib/python3.9/dist-packages (from requests<3,>=2.21.0->tensorboard~=2.6->tensorflow==2.7.0) (1.26.15)\n",
            "Requirement already satisfied: certifi>=2017.4.17 in /usr/local/lib/python3.9/dist-packages (from requests<3,>=2.21.0->tensorboard~=2.6->tensorflow==2.7.0) (2022.12.7)\n",
            "Requirement already satisfied: MarkupSafe>=2.1.1 in /usr/local/lib/python3.9/dist-packages (from werkzeug>=1.0.1->tensorboard~=2.6->tensorflow==2.7.0) (2.1.2)\n",
            "Requirement already satisfied: zipp>=0.5 in /usr/local/lib/python3.9/dist-packages (from importlib-metadata>=4.4->markdown>=2.6.8->tensorboard~=2.6->tensorflow==2.7.0) (3.15.0)\n",
            "Requirement already satisfied: pyasn1<0.5.0,>=0.4.6 in /usr/local/lib/python3.9/dist-packages (from pyasn1-modules>=0.2.1->google-auth<3,>=1.6.3->tensorboard~=2.6->tensorflow==2.7.0) (0.4.8)\n",
            "Requirement already satisfied: oauthlib>=3.0.0 in /usr/local/lib/python3.9/dist-packages (from requests-oauthlib>=0.7.0->google-auth-oauthlib<1.1,>=0.5->tensorboard~=2.6->tensorflow==2.7.0) (3.2.2)\n",
            "Installing collected packages: tensorflow-estimator, keras, flatbuffers, keras-preprocessing, tensorflow\n",
            "  Attempting uninstall: tensorflow-estimator\n",
            "    Found existing installation: tensorflow-estimator 2.12.0\n",
            "    Uninstalling tensorflow-estimator-2.12.0:\n",
            "      Successfully uninstalled tensorflow-estimator-2.12.0\n",
            "  Attempting uninstall: keras\n",
            "    Found existing installation: keras 2.12.0\n",
            "    Uninstalling keras-2.12.0:\n",
            "      Successfully uninstalled keras-2.12.0\n",
            "  Attempting uninstall: flatbuffers\n",
            "    Found existing installation: flatbuffers 23.3.3\n",
            "    Uninstalling flatbuffers-23.3.3:\n",
            "      Successfully uninstalled flatbuffers-23.3.3\n",
            "  Attempting uninstall: tensorflow\n",
            "    Found existing installation: tensorflow 2.12.0\n",
            "    Uninstalling tensorflow-2.12.0:\n",
            "      Successfully uninstalled tensorflow-2.12.0\n",
            "Successfully installed flatbuffers-2.0.7 keras-2.7.0 keras-preprocessing-1.1.2 tensorflow-2.7.0 tensorflow-estimator-2.7.0\n"
          ]
        }
      ],
      "source": [
        "!pip install tensorflow==2.7.0"
      ],
      "execution_count": 1
    },
    {
      "cell_type": "markdown",
      "metadata": {
        "id": "bffd4abc-08e0-4845-bb45-d601408c3c14"
      },
      "source": [
        "and import required libraries:\n"
      ]
    },
    {
      "cell_type": "code",
      "metadata": {
        "id": "d2cca8ba-dab5-4617-95c9-4ff14184b4bd"
      },
      "outputs": [],
      "source": [
        "import pandas as pd\n",
        "import tensorflow as tf\n",
        "import matplotlib.pyplot as plt\n",
        "\n",
        "from tensorflow import keras\n",
        "from tensorflow.keras import layers"
      ],
      "execution_count": 2
    },
    {
      "cell_type": "code",
      "metadata": {
        "id": "46b1eca5-4dcc-4f69-b865-f3aa2dde0b52"
      },
      "outputs": [],
      "source": [
        "# also set a random state\n",
        "rs = 123"
      ],
      "execution_count": 3
    },
    {
      "cell_type": "markdown",
      "metadata": {
        "id": "3df30857-26fb-4dd3-8edd-1372c205455e"
      },
      "source": [
        "### Load and processing rating dataset\n"
      ]
    },
    {
      "cell_type": "code",
      "metadata": {
        "id": "f0cbf852-4a5e-4205-aa6d-b3bae89a0c2e",
        "outputId": "708e3ad0-f49b-4b29-ebaf-267c611328ae",
        "colab": {
          "base_uri": "https://localhost:8080/",
          "height": 206
        }
      },
      "outputs": [
        {
          "output_type": "execute_result",
          "data": {
            "text/plain": [
              "      user        item  rating\n",
              "0  1889878    CC0101EN     3.0\n",
              "1  1342067    CL0101EN     3.0\n",
              "2  1990814  ML0120ENv3     3.0\n",
              "3   380098    BD0211EN     3.0\n",
              "4   779563    DS0101EN     3.0"
            ],
            "text/html": [
              "\n",
              "  <div id=\"df-650a1a6f-a483-4789-948d-c5145ee63b8a\">\n",
              "    <div class=\"colab-df-container\">\n",
              "      <div>\n",
              "<style scoped>\n",
              "    .dataframe tbody tr th:only-of-type {\n",
              "        vertical-align: middle;\n",
              "    }\n",
              "\n",
              "    .dataframe tbody tr th {\n",
              "        vertical-align: top;\n",
              "    }\n",
              "\n",
              "    .dataframe thead th {\n",
              "        text-align: right;\n",
              "    }\n",
              "</style>\n",
              "<table border=\"1\" class=\"dataframe\">\n",
              "  <thead>\n",
              "    <tr style=\"text-align: right;\">\n",
              "      <th></th>\n",
              "      <th>user</th>\n",
              "      <th>item</th>\n",
              "      <th>rating</th>\n",
              "    </tr>\n",
              "  </thead>\n",
              "  <tbody>\n",
              "    <tr>\n",
              "      <th>0</th>\n",
              "      <td>1889878</td>\n",
              "      <td>CC0101EN</td>\n",
              "      <td>3.0</td>\n",
              "    </tr>\n",
              "    <tr>\n",
              "      <th>1</th>\n",
              "      <td>1342067</td>\n",
              "      <td>CL0101EN</td>\n",
              "      <td>3.0</td>\n",
              "    </tr>\n",
              "    <tr>\n",
              "      <th>2</th>\n",
              "      <td>1990814</td>\n",
              "      <td>ML0120ENv3</td>\n",
              "      <td>3.0</td>\n",
              "    </tr>\n",
              "    <tr>\n",
              "      <th>3</th>\n",
              "      <td>380098</td>\n",
              "      <td>BD0211EN</td>\n",
              "      <td>3.0</td>\n",
              "    </tr>\n",
              "    <tr>\n",
              "      <th>4</th>\n",
              "      <td>779563</td>\n",
              "      <td>DS0101EN</td>\n",
              "      <td>3.0</td>\n",
              "    </tr>\n",
              "  </tbody>\n",
              "</table>\n",
              "</div>\n",
              "      <button class=\"colab-df-convert\" onclick=\"convertToInteractive('df-650a1a6f-a483-4789-948d-c5145ee63b8a')\"\n",
              "              title=\"Convert this dataframe to an interactive table.\"\n",
              "              style=\"display:none;\">\n",
              "        \n",
              "  <svg xmlns=\"http://www.w3.org/2000/svg\" height=\"24px\"viewBox=\"0 0 24 24\"\n",
              "       width=\"24px\">\n",
              "    <path d=\"M0 0h24v24H0V0z\" fill=\"none\"/>\n",
              "    <path d=\"M18.56 5.44l.94 2.06.94-2.06 2.06-.94-2.06-.94-.94-2.06-.94 2.06-2.06.94zm-11 1L8.5 8.5l.94-2.06 2.06-.94-2.06-.94L8.5 2.5l-.94 2.06-2.06.94zm10 10l.94 2.06.94-2.06 2.06-.94-2.06-.94-.94-2.06-.94 2.06-2.06.94z\"/><path d=\"M17.41 7.96l-1.37-1.37c-.4-.4-.92-.59-1.43-.59-.52 0-1.04.2-1.43.59L10.3 9.45l-7.72 7.72c-.78.78-.78 2.05 0 2.83L4 21.41c.39.39.9.59 1.41.59.51 0 1.02-.2 1.41-.59l7.78-7.78 2.81-2.81c.8-.78.8-2.07 0-2.86zM5.41 20L4 18.59l7.72-7.72 1.47 1.35L5.41 20z\"/>\n",
              "  </svg>\n",
              "      </button>\n",
              "      \n",
              "  <style>\n",
              "    .colab-df-container {\n",
              "      display:flex;\n",
              "      flex-wrap:wrap;\n",
              "      gap: 12px;\n",
              "    }\n",
              "\n",
              "    .colab-df-convert {\n",
              "      background-color: #E8F0FE;\n",
              "      border: none;\n",
              "      border-radius: 50%;\n",
              "      cursor: pointer;\n",
              "      display: none;\n",
              "      fill: #1967D2;\n",
              "      height: 32px;\n",
              "      padding: 0 0 0 0;\n",
              "      width: 32px;\n",
              "    }\n",
              "\n",
              "    .colab-df-convert:hover {\n",
              "      background-color: #E2EBFA;\n",
              "      box-shadow: 0px 1px 2px rgba(60, 64, 67, 0.3), 0px 1px 3px 1px rgba(60, 64, 67, 0.15);\n",
              "      fill: #174EA6;\n",
              "    }\n",
              "\n",
              "    [theme=dark] .colab-df-convert {\n",
              "      background-color: #3B4455;\n",
              "      fill: #D2E3FC;\n",
              "    }\n",
              "\n",
              "    [theme=dark] .colab-df-convert:hover {\n",
              "      background-color: #434B5C;\n",
              "      box-shadow: 0px 1px 3px 1px rgba(0, 0, 0, 0.15);\n",
              "      filter: drop-shadow(0px 1px 2px rgba(0, 0, 0, 0.3));\n",
              "      fill: #FFFFFF;\n",
              "    }\n",
              "  </style>\n",
              "\n",
              "      <script>\n",
              "        const buttonEl =\n",
              "          document.querySelector('#df-650a1a6f-a483-4789-948d-c5145ee63b8a button.colab-df-convert');\n",
              "        buttonEl.style.display =\n",
              "          google.colab.kernel.accessAllowed ? 'block' : 'none';\n",
              "\n",
              "        async function convertToInteractive(key) {\n",
              "          const element = document.querySelector('#df-650a1a6f-a483-4789-948d-c5145ee63b8a');\n",
              "          const dataTable =\n",
              "            await google.colab.kernel.invokeFunction('convertToInteractive',\n",
              "                                                     [key], {});\n",
              "          if (!dataTable) return;\n",
              "\n",
              "          const docLinkHtml = 'Like what you see? Visit the ' +\n",
              "            '<a target=\"_blank\" href=https://colab.research.google.com/notebooks/data_table.ipynb>data table notebook</a>'\n",
              "            + ' to learn more about interactive tables.';\n",
              "          element.innerHTML = '';\n",
              "          dataTable['output_type'] = 'display_data';\n",
              "          await google.colab.output.renderOutput(dataTable, element);\n",
              "          const docLink = document.createElement('div');\n",
              "          docLink.innerHTML = docLinkHtml;\n",
              "          element.appendChild(docLink);\n",
              "        }\n",
              "      </script>\n",
              "    </div>\n",
              "  </div>\n",
              "  "
            ]
          },
          "metadata": {},
          "execution_count": 4
        }
      ],
      "source": [
        "rating_url = \"https://cf-courses-data.s3.us.cloud-object-storage.appdomain.cloud/IBM-ML321EN-SkillsNetwork/labs/datasets/ratings.csv\"\n",
        "rating_df = pd.read_csv(rating_url)\n",
        "rating_df.head()"
      ],
      "execution_count": 4
    },
    {
      "cell_type": "markdown",
      "metadata": {
        "id": "a14e1a19-3b7d-41dd-9b68-3b9041c33b2d"
      },
      "source": [
        "This is the same rating dataset we have been using in previous lab, which contains the three main columns: `user`, `item`, and `rating`. \n"
      ]
    },
    {
      "cell_type": "markdown",
      "metadata": {
        "id": "924fbce1-cb1e-4fb4-a991-f77348d88577"
      },
      "source": [
        "Next, let's figure out how many unique users and items, their total numbers will determine the sizes of one-hot encoding vectors.\n"
      ]
    },
    {
      "cell_type": "code",
      "metadata": {
        "id": "01912ceb-ab1d-4600-a79f-60c21a44f1e5",
        "outputId": "d3e93e4a-41d2-4482-d612-6172be2331bb",
        "colab": {
          "base_uri": "https://localhost:8080/"
        }
      },
      "outputs": [
        {
          "output_type": "stream",
          "name": "stdout",
          "text": [
            "There are total `33901` of users and `126` items\n"
          ]
        }
      ],
      "source": [
        "num_users = len(rating_df['user'].unique())\n",
        "num_items = len(rating_df['item'].unique())\n",
        "print(f\"There are total `{num_users}` of users and `{num_items}` items\")"
      ],
      "execution_count": 5
    },
    {
      "cell_type": "markdown",
      "metadata": {
        "id": "6bcd9652-e882-401f-9e23-56c6301b3588"
      },
      "source": [
        "It means our each user can be represented as a `33901 x 1` one-hot vector and each item can be represented as `126 x 1` one-hot vector.\n"
      ]
    },
    {
      "cell_type": "markdown",
      "metadata": {
        "id": "f3db37e9-14f7-4426-a72a-e8091ad0f11c"
      },
      "source": [
        "The goal is to create a neural network structure that can take the user and item one-hot vectors as inputs and outputs a rating estimation or the probability of interaction (such as the probability of completing a course). \n",
        "\n",
        "While training and updating the weights in the neural network, its hidden layers should be able to capture the pattern or features for each user and item. Based on this idea, we can design a simple neural network architecture like the following:\n"
      ]
    },
    {
      "cell_type": "markdown",
      "metadata": {
        "id": "06d380d7-9dc1-476e-91d9-c37a2056c854"
      },
      "source": [
        "![](https://cf-courses-data.s3.us.cloud-object-storage.appdomain.cloud/IBM-ML321EN-SkillsNetwork/labs/module_4/images/embedding_feature_vector.png)\n"
      ]
    },
    {
      "cell_type": "markdown",
      "metadata": {
        "id": "cb9f4159-a687-4672-b532-91a771752fb7"
      },
      "source": [
        "The network inputs are two one-hot encoding vectors, the blue one is for the user and the green one is for the item. Then on top of them, we added two embedding layers. Here embedding means embedding the one-hot encoding vector into a latent feature space. The embedding layer is a fully-connected layer that outputs the embedding feature vectors. For example, the user embedding layer takes `33901 x 1` one-hot vector as input and outputs a `16 x 1` embedding vector.\n"
      ]
    },
    {
      "cell_type": "markdown",
      "metadata": {
        "id": "54d4b720-935b-4950-8c59-49143744cadf"
      },
      "source": [
        "The embedding layer outputs two embedding vectors, which are similar to Non-negative matrix factorization. Then we could simply dot the product the user and item embedding vector to output a rating estimation.\n"
      ]
    },
    {
      "cell_type": "markdown",
      "metadata": {
        "id": "483a3a53-3269-4e7f-8b77-de8f63ed1265"
      },
      "source": [
        "#### Implementing the recommender neural network using tensorflow \n"
      ]
    },
    {
      "cell_type": "markdown",
      "metadata": {
        "id": "302aa955-b032-4c3f-9248-d90776ba48a5"
      },
      "source": [
        "This network architecture could be defined and implemented as a sub-class inheriting the `tensorflow.keras.Model` super class, let's call it `RecommenderNet()`.\n"
      ]
    },
    {
      "cell_type": "code",
      "metadata": {
        "id": "faf22412-aa0b-4903-baf0-656e9d6cd4a9"
      },
      "outputs": [],
      "source": [
        "class RecommenderNet(keras.Model):\n",
        "    \n",
        "    def __init__(self, num_users, num_items, embedding_size=16, **kwargs):\n",
        "        \"\"\"\n",
        "           Constructor\n",
        "           :param int num_users: number of users\n",
        "           :param int num_items: number of items\n",
        "           :param int embedding_size: the size of embedding vector\n",
        "        \"\"\"\n",
        "        super(RecommenderNet, self).__init__(**kwargs)\n",
        "        self.num_users = num_users\n",
        "        self.num_items = num_items\n",
        "        self.embedding_size = embedding_size\n",
        "        \n",
        "        # Define a user_embedding vector\n",
        "        # Input dimension is the num_users\n",
        "        # Output dimension is the embedding size\n",
        "        self.user_embedding_layer = layers.Embedding(\n",
        "            input_dim=num_users,\n",
        "            output_dim=embedding_size,\n",
        "            name='user_embedding_layer',\n",
        "            embeddings_initializer=\"he_normal\",\n",
        "            embeddings_regularizer=keras.regularizers.l2(1e-6),\n",
        "        )\n",
        "        # Define a user bias layer\n",
        "        self.user_bias = layers.Embedding(\n",
        "            input_dim=num_users,\n",
        "            output_dim=1,\n",
        "            name=\"user_bias\")\n",
        "        \n",
        "        # Define an item_embedding vector\n",
        "        # Input dimension is the num_items\n",
        "        # Output dimension is the embedding size\n",
        "        self.item_embedding_layer = layers.Embedding(\n",
        "            input_dim=num_items,\n",
        "            output_dim=embedding_size,\n",
        "            name='item_embedding_layer',\n",
        "            embeddings_initializer=\"he_normal\",\n",
        "            embeddings_regularizer=keras.regularizers.l2(1e-6),\n",
        "        )\n",
        "        # Define an item bias layer\n",
        "        self.item_bias = layers.Embedding(\n",
        "            input_dim=num_items,\n",
        "            output_dim=1,\n",
        "            name=\"item_bias\")\n",
        "        \n",
        "    def call(self, inputs):\n",
        "        \"\"\"\n",
        "           method to be called during model fitting\n",
        "           \n",
        "           :param inputs: user and item one-hot vectors\n",
        "        \"\"\"\n",
        "        # Compute the user embedding vector\n",
        "        user_vector = self.user_embedding_layer(inputs[:, 0])\n",
        "        user_bias = self.user_bias(inputs[:, 0])\n",
        "        item_vector = self.item_embedding_layer(inputs[:, 1])\n",
        "        item_bias = self.item_bias(inputs[:, 1])\n",
        "        dot_user_item = tf.tensordot(user_vector, item_vector, 2)\n",
        "        # Add all the components (including bias)\n",
        "        x = dot_user_item + user_bias + item_bias\n",
        "        # Sigmoid output layer to output the probability\n",
        "        return tf.nn.relu(x)"
      ],
      "execution_count": 6
    },
    {
      "cell_type": "markdown",
      "metadata": {
        "id": "96e243d9-323f-486f-a0b1-ed3c365d50ab"
      },
      "source": [
        "### TASK: Train and evaluate the RecommenderNet()\n"
      ]
    },
    {
      "cell_type": "markdown",
      "metadata": {
        "id": "52a8447a-3ee0-4b9a-bb00-c8bc26590c22"
      },
      "source": [
        "Now it's time to train and evaluate the defined `RecommenderNet()`. First, we need to process the original rating dataset a little bit by converting the actual user ids and item ids into integer indices for `tensorflow` to creating the one-hot encoding vectors.\n"
      ]
    },
    {
      "cell_type": "code",
      "metadata": {
        "id": "e367b70c-7373-4fc3-88c0-dee452c0f6bf"
      },
      "outputs": [],
      "source": [
        "def process_dataset(raw_data):\n",
        "    \n",
        "    encoded_data = raw_data.copy()\n",
        "    \n",
        "    # Mapping user ids to indices\n",
        "    user_list = encoded_data[\"user\"].unique().tolist()\n",
        "    user_id2idx_dict = {x: i for i, x in enumerate(user_list)}\n",
        "    user_idx2id_dict = {i: x for i, x in enumerate(user_list)}\n",
        "    \n",
        "    # Mapping course ids to indices\n",
        "    course_list = encoded_data[\"item\"].unique().tolist()\n",
        "    course_id2idx_dict = {x: i for i, x in enumerate(course_list)}\n",
        "    course_idx2id_dict = {i: x for i, x in enumerate(course_list)}\n",
        "\n",
        "    # Convert original user ids to idx\n",
        "    encoded_data[\"user\"] = encoded_data[\"user\"].map(user_id2idx_dict)\n",
        "    # Convert original course ids to idx\n",
        "    encoded_data[\"item\"] = encoded_data[\"item\"].map(course_id2idx_dict)\n",
        "    # Convert rating to int\n",
        "    encoded_data[\"rating\"] = encoded_data[\"rating\"].values.astype(\"int\")\n",
        "\n",
        "    return encoded_data, user_idx2id_dict, course_idx2id_dict"
      ],
      "execution_count": 7
    },
    {
      "cell_type": "code",
      "metadata": {
        "id": "fd94664f-010a-4af4-86b5-68aaa35351b7"
      },
      "outputs": [],
      "source": [
        "encoded_data, user_idx2id_dict, course_idx2id_dict = process_dataset(rating_df)"
      ],
      "execution_count": 8
    },
    {
      "cell_type": "code",
      "metadata": {
        "id": "30aa1b91-bf81-4b84-a684-1f9dc29ac8d4",
        "outputId": "91f89698-c432-4662-b74b-c930ec2b9aa6",
        "colab": {
          "base_uri": "https://localhost:8080/",
          "height": 206
        }
      },
      "outputs": [
        {
          "output_type": "execute_result",
          "data": {
            "text/plain": [
              "   user  item  rating\n",
              "0     0     0       3\n",
              "1     1     1       3\n",
              "2     2     2       3\n",
              "3     3     3       3\n",
              "4     4     4       3"
            ],
            "text/html": [
              "\n",
              "  <div id=\"df-b6057164-e6ba-460d-ad90-e3d881aa33c3\">\n",
              "    <div class=\"colab-df-container\">\n",
              "      <div>\n",
              "<style scoped>\n",
              "    .dataframe tbody tr th:only-of-type {\n",
              "        vertical-align: middle;\n",
              "    }\n",
              "\n",
              "    .dataframe tbody tr th {\n",
              "        vertical-align: top;\n",
              "    }\n",
              "\n",
              "    .dataframe thead th {\n",
              "        text-align: right;\n",
              "    }\n",
              "</style>\n",
              "<table border=\"1\" class=\"dataframe\">\n",
              "  <thead>\n",
              "    <tr style=\"text-align: right;\">\n",
              "      <th></th>\n",
              "      <th>user</th>\n",
              "      <th>item</th>\n",
              "      <th>rating</th>\n",
              "    </tr>\n",
              "  </thead>\n",
              "  <tbody>\n",
              "    <tr>\n",
              "      <th>0</th>\n",
              "      <td>0</td>\n",
              "      <td>0</td>\n",
              "      <td>3</td>\n",
              "    </tr>\n",
              "    <tr>\n",
              "      <th>1</th>\n",
              "      <td>1</td>\n",
              "      <td>1</td>\n",
              "      <td>3</td>\n",
              "    </tr>\n",
              "    <tr>\n",
              "      <th>2</th>\n",
              "      <td>2</td>\n",
              "      <td>2</td>\n",
              "      <td>3</td>\n",
              "    </tr>\n",
              "    <tr>\n",
              "      <th>3</th>\n",
              "      <td>3</td>\n",
              "      <td>3</td>\n",
              "      <td>3</td>\n",
              "    </tr>\n",
              "    <tr>\n",
              "      <th>4</th>\n",
              "      <td>4</td>\n",
              "      <td>4</td>\n",
              "      <td>3</td>\n",
              "    </tr>\n",
              "  </tbody>\n",
              "</table>\n",
              "</div>\n",
              "      <button class=\"colab-df-convert\" onclick=\"convertToInteractive('df-b6057164-e6ba-460d-ad90-e3d881aa33c3')\"\n",
              "              title=\"Convert this dataframe to an interactive table.\"\n",
              "              style=\"display:none;\">\n",
              "        \n",
              "  <svg xmlns=\"http://www.w3.org/2000/svg\" height=\"24px\"viewBox=\"0 0 24 24\"\n",
              "       width=\"24px\">\n",
              "    <path d=\"M0 0h24v24H0V0z\" fill=\"none\"/>\n",
              "    <path d=\"M18.56 5.44l.94 2.06.94-2.06 2.06-.94-2.06-.94-.94-2.06-.94 2.06-2.06.94zm-11 1L8.5 8.5l.94-2.06 2.06-.94-2.06-.94L8.5 2.5l-.94 2.06-2.06.94zm10 10l.94 2.06.94-2.06 2.06-.94-2.06-.94-.94-2.06-.94 2.06-2.06.94z\"/><path d=\"M17.41 7.96l-1.37-1.37c-.4-.4-.92-.59-1.43-.59-.52 0-1.04.2-1.43.59L10.3 9.45l-7.72 7.72c-.78.78-.78 2.05 0 2.83L4 21.41c.39.39.9.59 1.41.59.51 0 1.02-.2 1.41-.59l7.78-7.78 2.81-2.81c.8-.78.8-2.07 0-2.86zM5.41 20L4 18.59l7.72-7.72 1.47 1.35L5.41 20z\"/>\n",
              "  </svg>\n",
              "      </button>\n",
              "      \n",
              "  <style>\n",
              "    .colab-df-container {\n",
              "      display:flex;\n",
              "      flex-wrap:wrap;\n",
              "      gap: 12px;\n",
              "    }\n",
              "\n",
              "    .colab-df-convert {\n",
              "      background-color: #E8F0FE;\n",
              "      border: none;\n",
              "      border-radius: 50%;\n",
              "      cursor: pointer;\n",
              "      display: none;\n",
              "      fill: #1967D2;\n",
              "      height: 32px;\n",
              "      padding: 0 0 0 0;\n",
              "      width: 32px;\n",
              "    }\n",
              "\n",
              "    .colab-df-convert:hover {\n",
              "      background-color: #E2EBFA;\n",
              "      box-shadow: 0px 1px 2px rgba(60, 64, 67, 0.3), 0px 1px 3px 1px rgba(60, 64, 67, 0.15);\n",
              "      fill: #174EA6;\n",
              "    }\n",
              "\n",
              "    [theme=dark] .colab-df-convert {\n",
              "      background-color: #3B4455;\n",
              "      fill: #D2E3FC;\n",
              "    }\n",
              "\n",
              "    [theme=dark] .colab-df-convert:hover {\n",
              "      background-color: #434B5C;\n",
              "      box-shadow: 0px 1px 3px 1px rgba(0, 0, 0, 0.15);\n",
              "      filter: drop-shadow(0px 1px 2px rgba(0, 0, 0, 0.3));\n",
              "      fill: #FFFFFF;\n",
              "    }\n",
              "  </style>\n",
              "\n",
              "      <script>\n",
              "        const buttonEl =\n",
              "          document.querySelector('#df-b6057164-e6ba-460d-ad90-e3d881aa33c3 button.colab-df-convert');\n",
              "        buttonEl.style.display =\n",
              "          google.colab.kernel.accessAllowed ? 'block' : 'none';\n",
              "\n",
              "        async function convertToInteractive(key) {\n",
              "          const element = document.querySelector('#df-b6057164-e6ba-460d-ad90-e3d881aa33c3');\n",
              "          const dataTable =\n",
              "            await google.colab.kernel.invokeFunction('convertToInteractive',\n",
              "                                                     [key], {});\n",
              "          if (!dataTable) return;\n",
              "\n",
              "          const docLinkHtml = 'Like what you see? Visit the ' +\n",
              "            '<a target=\"_blank\" href=https://colab.research.google.com/notebooks/data_table.ipynb>data table notebook</a>'\n",
              "            + ' to learn more about interactive tables.';\n",
              "          element.innerHTML = '';\n",
              "          dataTable['output_type'] = 'display_data';\n",
              "          await google.colab.output.renderOutput(dataTable, element);\n",
              "          const docLink = document.createElement('div');\n",
              "          docLink.innerHTML = docLinkHtml;\n",
              "          element.appendChild(docLink);\n",
              "        }\n",
              "      </script>\n",
              "    </div>\n",
              "  </div>\n",
              "  "
            ]
          },
          "metadata": {},
          "execution_count": 9
        }
      ],
      "source": [
        "encoded_data.head()"
      ],
      "execution_count": 9
    },
    {
      "cell_type": "markdown",
      "metadata": {
        "id": "04702641-1bf0-46fb-a6d8-61846dc88137"
      },
      "source": [
        "Then we can split the encoded dataset into training and testing datasets.\n"
      ]
    },
    {
      "cell_type": "code",
      "metadata": {
        "id": "a920aacf-ea34-4809-ba7d-133ffbb0d802"
      },
      "outputs": [],
      "source": [
        "def generate_train_test_datasets(dataset, scale=True):\n",
        "\n",
        "    min_rating = min(dataset[\"rating\"])\n",
        "    max_rating = max(dataset[\"rating\"])\n",
        "\n",
        "    dataset = dataset.sample(frac=1, random_state=42)\n",
        "    x = dataset[[\"user\", \"item\"]].values\n",
        "    if scale:\n",
        "        y = dataset[\"rating\"].apply(lambda x: (x - min_rating) / (max_rating - min_rating)).values\n",
        "    else:\n",
        "        y = dataset[\"rating\"].values\n",
        "\n",
        "    # Assuming training on 80% of the data and validating on 10%, and testing 10%\n",
        "    train_indices = int(0.8 * dataset.shape[0])\n",
        "    test_indices = int(0.9 * dataset.shape[0])\n",
        "\n",
        "    x_train, x_val, x_test, y_train, y_val, y_test = (\n",
        "        x[:train_indices],\n",
        "        x[train_indices:test_indices],\n",
        "        x[test_indices:],\n",
        "        y[:train_indices],\n",
        "        y[train_indices:test_indices],\n",
        "        y[test_indices:],\n",
        "    )\n",
        "    return x_train, x_val, x_test, y_train, y_val, y_test"
      ],
      "execution_count": 10
    },
    {
      "cell_type": "code",
      "metadata": {
        "id": "2ad47858-1b60-40e9-a028-b242765cffa0"
      },
      "outputs": [],
      "source": [
        "x_train, x_val, x_test, y_train, y_val, y_test = generate_train_test_datasets(encoded_data)"
      ],
      "execution_count": 12
    },
    {
      "cell_type": "markdown",
      "metadata": {
        "id": "defd2055-d0ae-4472-9e26-1d503907d202"
      },
      "source": [
        "If we take a look at the training input data, it is simply just a list of user indices and item indices, which is a dense format of one-hot encoding vectors.\n"
      ]
    },
    {
      "cell_type": "code",
      "metadata": {
        "id": "3e3c1292-d606-42f8-bd68-0a48d55b1369",
        "outputId": "e7c4e547-c217-4cef-dadb-85dfffb54b89",
        "colab": {
          "base_uri": "https://localhost:8080/"
        }
      },
      "outputs": [
        {
          "output_type": "execute_result",
          "data": {
            "text/plain": [
              "array([ 8376,  7659, 10717, ...,  3409, 28761,  4973])"
            ]
          },
          "metadata": {},
          "execution_count": 13
        }
      ],
      "source": [
        "user_indices = x_train[:, 0]\n",
        "user_indices"
      ],
      "execution_count": 13
    },
    {
      "cell_type": "code",
      "metadata": {
        "id": "e2684228-e188-48c6-a0a9-c65f4e0fc8c0",
        "outputId": "349031ca-2b13-4f88-d7a1-06f53928405c",
        "colab": {
          "base_uri": "https://localhost:8080/"
        }
      },
      "outputs": [
        {
          "output_type": "execute_result",
          "data": {
            "text/plain": [
              "array([12, 29,  3, ..., 18, 19, 17])"
            ]
          },
          "metadata": {},
          "execution_count": 14
        }
      ],
      "source": [
        "item_indices = x_train[:, 1]\n",
        "item_indices"
      ],
      "execution_count": 14
    },
    {
      "cell_type": "markdown",
      "metadata": {
        "id": "b2db4f39-1bdf-4a00-85ce-b9151076397f"
      },
      "source": [
        "and training output labels are a list of 0s and 1s indicating if the user has completed a course or not.\n"
      ]
    },
    {
      "cell_type": "code",
      "metadata": {
        "id": "565ed3ff-f47e-47a6-8557-89a96a4350c8",
        "outputId": "231e2013-78bf-45bc-de94-f26bf11a431a",
        "colab": {
          "base_uri": "https://localhost:8080/"
        }
      },
      "outputs": [
        {
          "output_type": "execute_result",
          "data": {
            "text/plain": [
              "array([1., 1., 1., ..., 1., 0., 1.])"
            ]
          },
          "metadata": {},
          "execution_count": 15
        }
      ],
      "source": [
        "y_train"
      ],
      "execution_count": 15
    },
    {
      "cell_type": "markdown",
      "metadata": {
        "id": "a987a6f4-a738-4bd1-a787-03486866398d"
      },
      "source": [
        "Then we can choose a small embedding vector size to be 16 and create a `RecommenderNet()` model to be trained\n"
      ]
    },
    {
      "cell_type": "code",
      "metadata": {
        "id": "3a01a64a-0631-44e2-b7a2-33b87ca81835"
      },
      "outputs": [],
      "source": [
        "embedding_size = 16\n",
        "model = RecommenderNet(num_users, num_items, embedding_size)"
      ],
      "execution_count": 16
    },
    {
      "cell_type": "markdown",
      "metadata": {
        "id": "38ddd9f5-80a2-4461-a52f-96fbce46e834"
      },
      "source": [
        "_TODO: Train the RecommenderNet() model_\n"
      ]
    },
    {
      "cell_type": "code",
      "metadata": {
        "id": "7bbe604f-ddba-49f3-a1aa-5cbd354be597",
        "outputId": "6a900d77-2568-4a67-ecf9-cd8a24704bc6",
        "colab": {
          "base_uri": "https://localhost:8080/"
        }
      },
      "outputs": [
        {
          "output_type": "stream",
          "name": "stdout",
          "text": [
            "Epoch 1/10\n",
            "5833/5833 [==============================] - 33s 5ms/step - loss: 0.5425 - root_mean_squared_error: 0.7365 - val_loss: 0.3263 - val_root_mean_squared_error: 0.5712\n",
            "Epoch 2/10\n",
            "5833/5833 [==============================] - 31s 5ms/step - loss: 0.2246 - root_mean_squared_error: 0.4738 - val_loss: 0.1918 - val_root_mean_squared_error: 0.4379\n",
            "Epoch 3/10\n",
            "5833/5833 [==============================] - 37s 6ms/step - loss: 0.1375 - root_mean_squared_error: 0.3708 - val_loss: 0.1373 - val_root_mean_squared_error: 0.3704\n",
            "Epoch 4/10\n",
            "5833/5833 [==============================] - 30s 5ms/step - loss: 0.0993 - root_mean_squared_error: 0.3150 - val_loss: 0.1084 - val_root_mean_squared_error: 0.3291\n",
            "Epoch 5/10\n",
            "5833/5833 [==============================] - 29s 5ms/step - loss: 0.0785 - root_mean_squared_error: 0.2800 - val_loss: 0.0909 - val_root_mean_squared_error: 0.3013\n",
            "Epoch 6/10\n",
            "5833/5833 [==============================] - 29s 5ms/step - loss: 0.0655 - root_mean_squared_error: 0.2558 - val_loss: 0.0794 - val_root_mean_squared_error: 0.2816\n",
            "Epoch 7/10\n",
            "5833/5833 [==============================] - 30s 5ms/step - loss: 0.0570 - root_mean_squared_error: 0.2387 - val_loss: 0.0715 - val_root_mean_squared_error: 0.2673\n",
            "Epoch 8/10\n",
            "5833/5833 [==============================] - 30s 5ms/step - loss: 0.0511 - root_mean_squared_error: 0.2260 - val_loss: 0.0658 - val_root_mean_squared_error: 0.2564\n",
            "Epoch 9/10\n",
            "5833/5833 [==============================] - 29s 5ms/step - loss: 0.0468 - root_mean_squared_error: 0.2162 - val_loss: 0.0616 - val_root_mean_squared_error: 0.2481\n",
            "Epoch 10/10\n",
            "5833/5833 [==============================] - 30s 5ms/step - loss: 0.0436 - root_mean_squared_error: 0.2087 - val_loss: 0.0585 - val_root_mean_squared_error: 0.2417\n"
          ]
        },
        {
          "output_type": "execute_result",
          "data": {
            "text/plain": [
              "dict_keys(['loss', 'root_mean_squared_error', 'val_loss', 'val_root_mean_squared_error'])"
            ]
          },
          "metadata": {},
          "execution_count": 18
        }
      ],
      "source": [
        "## WRITE YOUR CODE HERE:\n",
        "from tensorflow.keras.optimizers import Adam, SGD, RMSprop # Optimizers\n",
        "## - call model.compile() method to set up the loss and optimizer and metrics for the model training, you may use\n",
        "##  - - tf.keras.losses.MeanSquaredError() as training loss\n",
        "##  - - keras.optimizers.Adam() as optimizer\n",
        "##  - - tf.keras.metrics.RootMeanSquaredError() as metric\n",
        "model.compile(optimizer = SGD(learning_rate = .003), loss = \"MeanSquaredError\", metrics=[\"RootMeanSquaredError\"]) \n",
        "## - call model.fit() to train the model\n",
        "run_hist = model.fit(x_train, y_train, validation_data=(x_test, y_test), epochs=10)\n",
        "## - optionally call model.save() to save the model\n",
        "\n",
        "## - plot the train and validation loss\n",
        "run_hist.history.keys()"
      ],
      "execution_count": 18
    },
    {
      "cell_type": "code",
      "source": [
        "n = len(run_hist.history[\"loss\"])\n",
        "\n",
        "fig = plt.figure(figsize=(12, 6)) # Initiate the figure \n",
        "ax = fig.add_subplot(1, 2, 1) # bounding box 1 \n",
        "ax.plot(range(n), (run_hist.history[\"loss\"]),'r', label=\"Train Loss\")\n",
        "ax.plot(range(n), (run_hist.history[\"val_loss\"]),'b', label=\"Validation Loss\")\n",
        "ax.legend()\n",
        "ax.set_title('Loss over iterations')\n",
        "\n",
        "ax = fig.add_subplot(1, 2, 2)  # bounding box 2\n",
        "ax.plot(range(n), (run_hist.history[\"root_mean_squared_error\"]),'r', label=\"Train RMSE\")\n",
        "ax.plot(range(n), (run_hist.history[\"val_root_mean_squared_error\"]),'b', label=\"Validation RMSE\")\n",
        "\n",
        "ax.legend(loc='lower right')\n",
        "ax.set_title('RMSE over iterations')"
      ],
      "metadata": {
        "id": "H6cXE0PCTWE6",
        "outputId": "082d1f73-b58b-484c-d11b-6e88938c4187",
        "colab": {
          "base_uri": "https://localhost:8080/",
          "height": 562
        }
      },
      "execution_count": 19,
      "outputs": [
        {
          "output_type": "execute_result",
          "data": {
            "text/plain": [
              "Text(0.5, 1.0, 'RMSE over iterations')"
            ]
          },
          "metadata": {},
          "execution_count": 19
        },
        {
          "output_type": "display_data",
          "data": {
            "text/plain": [
              "<Figure size 1200x600 with 2 Axes>"
            ],
            "image/png": "[encoded data removed]"
          },
          "metadata": {}
        }
      ]
    },
    {
      "cell_type": "markdown",
      "metadata": {
        "id": "460e7fd3-e9c6-414d-a589-544c67588f09"
      },
      "source": [
        "<details>\n",
        "    <summary>Click here for Hints</summary>\n",
        "    \n",
        "When you are fitting a model, dont forget to specify the parameters: `x=x_train, y=y_train`, as well as `batch_size=64`, number of `epochs=10` and of course `validation_data=(x_val, y_val)` you can also define `verbose = 1` which will show you an animated progress for the training progress for each epoch.\n",
        "    \n",
        "* You can set  `history = model.fit()` which will give you a \"loss\" dataframe which will be very useful for ploting the train and validation loss. To plot it, use plt.plot() with `history.history[\"loss\"]` as its parameter for train loss and `history.history[\"val_loss\"]` for validation loss.\n"
      ]
    },
    {
      "cell_type": "markdown",
      "metadata": {
        "id": "46692d80-a3ff-4783-aa20-292e5274cb22"
      },
      "source": [
        "_TODO:_ Evaluate the trained model\n"
      ]
    },
    {
      "cell_type": "code",
      "metadata": {
        "id": "c0fd2b01-feb6-4ae8-916d-1e2874c4f32f",
        "outputId": "7668d21d-7e82-44af-9e99-1322ef141d77",
        "colab": {
          "base_uri": "https://localhost:8080/"
        }
      },
      "outputs": [
        {
          "output_type": "stream",
          "name": "stdout",
          "text": [
            "730/730 [==============================] - 2s 3ms/step - loss: 0.0583 - root_mean_squared_error: 0.2413\n"
          ]
        },
        {
          "output_type": "execute_result",
          "data": {
            "text/plain": [
              "[0.058314722031354904, 0.2413311004638672]"
            ]
          },
          "metadata": {},
          "execution_count": 20
        }
      ],
      "source": [
        "### WRITE YOUR CODE HERE\n",
        "\n",
        "### - call model.evaluate() to evaluate the model\n",
        "model.evaluate(x = x_val,y = y_val)"
      ],
      "execution_count": 20
    },
    {
      "cell_type": "markdown",
      "metadata": {
        "id": "7bf34bc7-1352-4ad0-894b-15c8e63fa236"
      },
      "source": [
        "<details>\n",
        "    <summary>Click here for Hints</summary>\n",
        "    \n",
        "Use `x_test, y_test` as parameters for `model.evaluate()`\n"
      ]
    },
    {
      "cell_type": "markdown",
      "metadata": {
        "id": "6b2dcae8-dcdf-48cf-9a1e-b2837685f135"
      },
      "source": [
        "### Extract the user and item embedding vectors as latent feature vectors\n"
      ]
    },
    {
      "cell_type": "markdown",
      "metadata": {
        "id": "a59b09e9-4ad5-41c7-be0f-881bfc001854"
      },
      "source": [
        "Now, we have trained the `RecommenderNet()` model and it can predict the ratings with relatively small RMSE. \n",
        "\n",
        "If we print the trained model then we can see its layers and their parameters/weights.\n"
      ]
    },
    {
      "cell_type": "code",
      "metadata": {
        "id": "8b3f3726-55e8-4fda-b9d2-6e69b9ac9bda",
        "outputId": "59ebc705-879a-407f-c2b4-71a960bacae8",
        "colab": {
          "base_uri": "https://localhost:8080/"
        }
      },
      "outputs": [
        {
          "output_type": "stream",
          "name": "stdout",
          "text": [
            "Model: \"recommender_net\"\n",
            "_________________________________________________________________\n",
            " Layer (type)                Output Shape              Param #   \n",
            "=================================================================\n",
            " user_embedding_layer (Embed  multiple                 542416    \n",
            " ding)                                                           \n",
            "                                                                 \n",
            " user_bias (Embedding)       multiple                  33901     \n",
            "                                                                 \n",
            " item_embedding_layer (Embed  multiple                 2016      \n",
            " ding)                                                           \n",
            "                                                                 \n",
            " item_bias (Embedding)       multiple                  126       \n",
            "                                                                 \n",
            "=================================================================\n",
            "Total params: 578,459\n",
            "Trainable params: 578,459\n",
            "Non-trainable params: 0\n",
            "_________________________________________________________________\n"
          ]
        }
      ],
      "source": [
        "model.summary()"
      ],
      "execution_count": 21
    },
    {
      "cell_type": "markdown",
      "metadata": {
        "id": "db95bc15-44e4-471f-a06a-d621e766022b"
      },
      "source": [
        "In the `RecommenderNet`, the `user_embedding_layer` and `item_embedding_layer` layers contain the trained weights. Essentially, they are the latent user and item features learned by `RecommenderNet` and will be used to predict the interaction. As such, while training the neural network to predict rating, the embedding layers are simultaneously trained to extract the embedding user and item features.\n"
      ]
    },
    {
      "cell_type": "markdown",
      "metadata": {
        "id": "3218e96d-4a16-442e-b15c-df9124117f89"
      },
      "source": [
        "We can easily get the actual weights using `model.get_layer().get_weights()` methods\n"
      ]
    },
    {
      "cell_type": "code",
      "metadata": {
        "id": "0552f4b0-31d8-4ad1-8498-e875fd3c6006",
        "outputId": "6c3323ef-cff9-4859-bdd0-f6bfb9202e74",
        "colab": {
          "base_uri": "https://localhost:8080/"
        }
      },
      "outputs": [
        {
          "output_type": "stream",
          "name": "stdout",
          "text": [
            "User features shape: (33901, 16)\n"
          ]
        }
      ],
      "source": [
        "# User features\n",
        "user_latent_features = model.get_layer('user_embedding_layer').get_weights()[0]\n",
        "print(f\"User features shape: {user_latent_features.shape}\")"
      ],
      "execution_count": 22
    },
    {
      "cell_type": "code",
      "metadata": {
        "id": "ac63d0b2-3be2-4824-bb1e-7d23ecba558c",
        "outputId": "9719223f-6f32-46c3-e124-1a6d5c3c1937",
        "colab": {
          "base_uri": "https://localhost:8080/"
        }
      },
      "outputs": [
        {
          "output_type": "execute_result",
          "data": {
            "text/plain": [
              "array([ 0.005164  ,  0.02137487, -0.00807655,  0.01482454, -0.00174848,\n",
              "        0.00652247,  0.00227703,  0.01021569,  0.00603176,  0.00252463,\n",
              "       -0.00526743, -0.01324931, -0.00328054,  0.0016476 , -0.00179193,\n",
              "       -0.00318839], dtype=float32)"
            ]
          },
          "metadata": {},
          "execution_count": 23
        }
      ],
      "source": [
        "user_latent_features[0]"
      ],
      "execution_count": 23
    },
    {
      "cell_type": "code",
      "metadata": {
        "id": "8271192e-8169-43a1-b2b2-ec212b801a9f",
        "outputId": "344db3eb-3c2e-46fd-fb23-67a513d629d4",
        "colab": {
          "base_uri": "https://localhost:8080/"
        }
      },
      "outputs": [
        {
          "output_type": "stream",
          "name": "stdout",
          "text": [
            "Item features shape: (126, 16)\n"
          ]
        }
      ],
      "source": [
        "item_latent_features = model.get_layer('item_embedding_layer').get_weights()[0]\n",
        "print(f\"Item features shape: {item_latent_features.shape}\")"
      ],
      "execution_count": 24
    },
    {
      "cell_type": "code",
      "metadata": {
        "id": "168288c6-bee9-4e1f-a250-af934bc5522c",
        "outputId": "48ee9956-3fa8-44c9-8463-64ad5406183c",
        "colab": {
          "base_uri": "https://localhost:8080/"
        }
      },
      "outputs": [
        {
          "output_type": "execute_result",
          "data": {
            "text/plain": [
              "array([-0.14328758, -0.00098347, -0.20433816,  0.29777077,  0.21872409,\n",
              "       -0.00613891,  0.22978607, -0.08222835, -0.02155652, -0.12757632,\n",
              "       -0.07885003,  0.22637291, -0.18308868,  0.10076921, -0.02522096,\n",
              "       -0.20299931], dtype=float32)"
            ]
          },
          "metadata": {},
          "execution_count": 25
        }
      ],
      "source": [
        "item_latent_features[0]"
      ],
      "execution_count": 25
    },
    {
      "cell_type": "markdown",
      "metadata": {
        "id": "bbe6f129-c84c-4727-89b1-6f9a54da60b5"
      },
      "source": [
        "Now, each user of the total 33901 users has been transformed into a 16 x 1 latent feature vector and each item of the total 126 has been transformed into a 16 x 1 latent feature vector.\n"
      ]
    },
    {
      "cell_type": "markdown",
      "metadata": {
        "id": "74baca07-acde-4786-88d6-b65a9415f3ed"
      },
      "source": [
        "### TASK (Optional): Customize the RecommenderNet to potentially improve the model performance\n"
      ]
    },
    {
      "cell_type": "markdown",
      "metadata": {
        "id": "6622be2a-5fb7-44b7-9aca-013497180418"
      },
      "source": [
        "The pre-defined `RecommenderNet()` is a actually very basic neural network, you are encouraged to customize it to see if model prediction performance will be improved. Here are some directions:\n",
        "- Hyperparameter tuning, such as the embedding layer dimensions\n",
        "- Add more hidden layers\n",
        "- Try different activation functions such as `ReLu`\n"
      ]
    },
    {
      "cell_type": "code",
      "metadata": {
        "id": "e20a4b90-090a-465a-b13b-4f2e3c8cbb3a"
      },
      "outputs": [],
      "source": [
        "## WRITE YOUR CODE HERE\n",
        "\n",
        "## Update RecommenderNet() class\n",
        "\n",
        "## compile and fit the updated model\n",
        "\n",
        "## evaluate the updated model\n"
      ],
      "execution_count": null
    },
    {
      "cell_type": "markdown",
      "metadata": {
        "id": "7e440692-1478-4c78-bd9e-a72075d3c48b"
      },
      "source": [
        "### Summary\n"
      ]
    },
    {
      "cell_type": "markdown",
      "metadata": {
        "id": "6372a6ab-939e-4021-bde4-f1ff001b8ffa"
      },
      "source": [
        "In this lab, you have learned and practiced predicting course ratings using neural networks. With a predefined and trained neural network, we can extract or embed users and items into latent feature spaces and further predict the interaction between a user and an item with the latent feature vectors.\n"
      ]
    },
    {
      "cell_type": "markdown",
      "metadata": {
        "id": "945af885-a6f2-41d5-9202-7d4244ef105e"
      },
      "source": [
        "## Authors\n"
      ]
    },
    {
      "cell_type": "markdown",
      "metadata": {
        "id": "72ed86a8-96a1-4ebf-a0da-d6af1741d602"
      },
      "source": [
        "[Yan Luo](https://www.linkedin.com/in/yan-luo-96288783/?utm_medium=Exinfluencer&utm_source=Exinfluencer&utm_content=000026UJ&utm_term=10006555&utm_id=NA-SkillsNetwork-Channel-SkillsNetworkCoursesIBMML321ENSkillsNetwork817-2022-01-01)\n"
      ]
    },
    {
      "cell_type": "markdown",
      "metadata": {
        "id": "45344dbe-00e3-4158-b8a1-14f18834498d"
      },
      "source": [
        "### Other Contributors\n"
      ]
    },
    {
      "cell_type": "markdown",
      "metadata": {
        "id": "162ef0e9-adbe-4327-8974-2e05d43ef9d5"
      },
      "source": [
        "## Change Log\n"
      ]
    },
    {
      "cell_type": "markdown",
      "metadata": {
        "id": "8928ccd7-368c-4a55-a53d-c3fb3ae6e5b0"
      },
      "source": [
        "|Date (YYYY-MM-DD)|Version|Changed By|Change Description|\n",
        "|-|-|-|-|\n",
        "|2021-10-25|1.0|Yan|Created the initial version|\n"
      ]
    },
    {
      "cell_type": "markdown",
      "metadata": {
        "id": "654257e8-413c-41a5-82ab-9c630fb7f3a9"
      },
      "source": [
        "Copyright © 2021 IBM Corporation. All rights reserved.\n"
      ]
    }
  ],
  "metadata": {
    "kernelspec": {
      "display_name": "Python",
      "language": "python",
      "name": "conda-env-python-py"
    },
    "language_info": {
      "name": ""
    },
    "colab": {
      "provenance": []
    }
  },
  "nbformat": 4,
  "nbformat_minor": 0
}