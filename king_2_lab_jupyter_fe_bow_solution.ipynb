{
  "cells": [
    {
      "cell_type": "markdown",
      "metadata": {
        "id": "95e483da-23b3-41f0-ab78-5a3ba2e558b3"
      },
      "source": [
        "<p style=\"text-align:center\">\n",
        "    <a href=\"https://skills.network/?utm_medium=Exinfluencer&utm_source=Exinfluencer&utm_content=000026UJ&utm_term=10006555&utm_id=NA-SkillsNetwork-Channel-SkillsNetworkCoursesIBMML321ENSkillsNetwork817-2022-01-01\" target=\"_blank\">\n",
        "    <img src=\"https://cf-courses-data.s3.us.cloud-object-storage.appdomain.cloud/assets/logos/SN_web_lightmode.png\" width=\"200\" alt=\"Skills Network Logo\"  />\n",
        "    </a>\n",
        "</p>\n"
      ]
    },
    {
      "cell_type": "markdown",
      "metadata": {
        "id": "fc484e05-7073-47ad-a3ce-e20323f6eedb"
      },
      "source": [
        "# **Extract Bag of Words (BoW) Features from Course Textual Content**\n"
      ]
    },
    {
      "cell_type": "markdown",
      "metadata": {
        "id": "0971929e-91aa-4d34-977d-b74db663cc49"
      },
      "source": [
        "Estimated time needed: **60** minutes\n"
      ]
    },
    {
      "cell_type": "markdown",
      "metadata": {
        "id": "564f3ee0-33f5-44f1-8edb-5da393bff1b7"
      },
      "source": [
        "The main goal of recommender systems is to help users find items they potentially interested in. Depending on the recommendation tasks, an item can be a movie, a restaurant, or, in our case, an online course. \n",
        "\n",
        "Machine learning algorithms cannot work on an item directly so we first need to extract features and represent the items mathematically, i.e., with a feature vector.\n",
        "\n",
        "Many items are often described by text so they are associated with textual data, such as the titles and descriptions of a movie or course. Since machine learning algorithms can not process textual data directly, we need to transform the raw text into numeric feature vectors.\n"
      ]
    },
    {
      "cell_type": "markdown",
      "metadata": {
        "id": "075dfbc7-11d6-4825-95e9-418078f7dce3"
      },
      "source": [
        "![](https://cf-courses-data.s3.us.cloud-object-storage.appdomain.cloud/IBM-ML321EN-SkillsNetwork/labs/module_2/images/extract_textual_features.png)\n"
      ]
    },
    {
      "cell_type": "markdown",
      "metadata": {
        "id": "24cfeb45-7ebb-49f7-855f-b6941ce1a0b3"
      },
      "source": [
        "In this lab, you will be learning to extract the bag of words (BoW) features from course titles and descriptions. The BoW feature is a simple but effective feature characterizing textual data and is widely used in many textual machine learning tasks.\n"
      ]
    },
    {
      "cell_type": "markdown",
      "metadata": {
        "id": "83357fce-32db-499f-ad00-897a62180f02"
      },
      "source": [
        "## Objectives\n"
      ]
    },
    {
      "cell_type": "markdown",
      "metadata": {
        "id": "e2f3932b-164a-4103-b631-dbc2e01c048d"
      },
      "source": [
        "After completing this lab you will be able to:\n"
      ]
    },
    {
      "cell_type": "markdown",
      "metadata": {
        "id": "012219f3-00f1-43d1-b1ba-1f0f61fe4453"
      },
      "source": [
        "* Extract Bag of Words (BoW) features from course titles and descriptions\n",
        "* Build a course BoW dataset to be used for building a content-based recommender system later\n"
      ]
    },
    {
      "cell_type": "markdown",
      "metadata": {
        "id": "d3d70242-7ed4-4761-8283-121328114c13"
      },
      "source": [
        "----\n"
      ]
    },
    {
      "cell_type": "markdown",
      "metadata": {
        "id": "059d20cb-9e49-41e6-9fee-9268da4aa539"
      },
      "source": [
        "## Prepare and setup the lab environment\n"
      ]
    },
    {
      "cell_type": "markdown",
      "metadata": {
        "id": "07fa941b-9108-4148-8534-82797b7c708f"
      },
      "source": [
        "First, let's install and import required libraries:\n"
      ]
    },
    {
      "cell_type": "code",
      "execution_count": 1,
      "metadata": {
        "id": "bfb15844-5f36-4a88-8f3e-249947e73eb6",
        "outputId": "e9ab926b-7149-40ad-d3fe-6a19a7b77724",
        "colab": {
          "base_uri": "https://localhost:8080/"
        }
      },
      "outputs": [
        {
          "output_type": "stream",
          "name": "stdout",
          "text": [
            "Looking in indexes: https://pypi.org/simple, https://us-python.pkg.dev/colab-wheels/public/simple/\n",
            "Collecting nltk==3.6.7\n",
            "  Downloading nltk-3.6.7-py3-none-any.whl (1.5 MB)\n",
            "\u001b[2K     \u001b[90m━━━━━━━━━━━━━━━━━━━━━━━━━━━━━━━━━━━━━━━━\u001b[0m \u001b[32m1.5/1.5 MB\u001b[0m \u001b[31m6.4 MB/s\u001b[0m eta \u001b[36m0:00:00\u001b[0m\n",
            "\u001b[?25hRequirement already satisfied: joblib in /usr/local/lib/python3.9/dist-packages (from nltk==3.6.7) (1.1.1)\n",
            "Requirement already satisfied: click in /usr/local/lib/python3.9/dist-packages (from nltk==3.6.7) (8.1.3)\n",
            "Requirement already satisfied: regex>=2021.8.3 in /usr/local/lib/python3.9/dist-packages (from nltk==3.6.7) (2022.10.31)\n",
            "Requirement already satisfied: tqdm in /usr/local/lib/python3.9/dist-packages (from nltk==3.6.7) (4.65.0)\n",
            "Installing collected packages: nltk\n",
            "  Attempting uninstall: nltk\n",
            "    Found existing installation: nltk 3.8.1\n",
            "    Uninstalling nltk-3.8.1:\n",
            "      Successfully uninstalled nltk-3.8.1\n",
            "Successfully installed nltk-3.6.7\n",
            "Looking in indexes: https://pypi.org/simple, https://us-python.pkg.dev/colab-wheels/public/simple/\n",
            "Collecting gensim==4.1.2\n",
            "  Downloading gensim-4.1.2-cp39-cp39-manylinux_2_12_x86_64.manylinux2010_x86_64.whl (24.0 MB)\n",
            "\u001b[2K     \u001b[91m━━━━━━━━━━━━━━━━━━━━━━━━\u001b[0m\u001b[90m╺\u001b[0m\u001b[90m━━━━━━━━━━━━━━━\u001b[0m \u001b[32m14.7/24.0 MB\u001b[0m \u001b[31m5.2 MB/s\u001b[0m eta \u001b[36m0:00:02\u001b[0m\n",
            "\u001b[?25h\u001b[31mERROR: Exception:\n",
            "Traceback (most recent call last):\n",
            "  File \"/usr/local/lib/python3.9/dist-packages/pip/_vendor/urllib3/response.py\", line 438, in _error_catcher\n",
            "    yield\n",
            "  File \"/usr/local/lib/python3.9/dist-packages/pip/_vendor/urllib3/response.py\", line 519, in read\n",
            "    data = self._fp.read(amt) if not fp_closed else b\"\"\n",
            "  File \"/usr/local/lib/python3.9/dist-packages/pip/_vendor/cachecontrol/filewrapper.py\", line 90, in read\n",
            "    data = self.__fp.read(amt)\n",
            "  File \"/usr/lib/python3.9/http/client.py\", line 463, in read\n",
            "    n = self.readinto(b)\n",
            "  File \"/usr/lib/python3.9/http/client.py\", line 507, in readinto\n",
            "    n = self.fp.readinto(b)\n",
            "  File \"/usr/lib/python3.9/socket.py\", line 704, in readinto\n",
            "    return self._sock.recv_into(b)\n",
            "  File \"/usr/lib/python3.9/ssl.py\", line 1242, in recv_into\n",
            "    return self.read(nbytes, buffer)\n",
            "  File \"/usr/lib/python3.9/ssl.py\", line 1100, in read\n",
            "    return self._sslobj.read(len, buffer)\n",
            "socket.timeout: The read operation timed out\n",
            "\n",
            "During handling of the above exception, another exception occurred:\n",
            "\n",
            "Traceback (most recent call last):\n",
            "  File \"/usr/local/lib/python3.9/dist-packages/pip/_internal/cli/base_command.py\", line 167, in exc_logging_wrapper\n",
            "    status = run_func(*args)\n",
            "  File \"/usr/local/lib/python3.9/dist-packages/pip/_internal/cli/req_command.py\", line 199, in wrapper\n",
            "    return func(self, options, args)\n",
            "  File \"/usr/local/lib/python3.9/dist-packages/pip/_internal/commands/install.py\", line 339, in run\n",
            "    requirement_set = resolver.resolve(\n",
            "  File \"/usr/local/lib/python3.9/dist-packages/pip/_internal/resolution/resolvelib/resolver.py\", line 94, in resolve\n",
            "    result = self._result = resolver.resolve(\n",
            "  File \"/usr/local/lib/python3.9/dist-packages/pip/_vendor/resolvelib/resolvers.py\", line 481, in resolve\n",
            "    state = resolution.resolve(requirements, max_rounds=max_rounds)\n",
            "  File \"/usr/local/lib/python3.9/dist-packages/pip/_vendor/resolvelib/resolvers.py\", line 348, in resolve\n",
            "    self._add_to_criteria(self.state.criteria, r, parent=None)\n",
            "  File \"/usr/local/lib/python3.9/dist-packages/pip/_vendor/resolvelib/resolvers.py\", line 172, in _add_to_criteria\n",
            "    if not criterion.candidates:\n",
            "  File \"/usr/local/lib/python3.9/dist-packages/pip/_vendor/resolvelib/structs.py\", line 151, in __bool__\n",
            "    return bool(self._sequence)\n",
            "  File \"/usr/local/lib/python3.9/dist-packages/pip/_internal/resolution/resolvelib/found_candidates.py\", line 155, in __bool__\n",
            "    return any(self)\n",
            "  File \"/usr/local/lib/python3.9/dist-packages/pip/_internal/resolution/resolvelib/found_candidates.py\", line 143, in <genexpr>\n",
            "    return (c for c in iterator if id(c) not in self._incompatible_ids)\n",
            "  File \"/usr/local/lib/python3.9/dist-packages/pip/_internal/resolution/resolvelib/found_candidates.py\", line 47, in _iter_built\n",
            "    candidate = func()\n",
            "  File \"/usr/local/lib/python3.9/dist-packages/pip/_internal/resolution/resolvelib/factory.py\", line 215, in _make_candidate_from_link\n",
            "    self._link_candidate_cache[link] = LinkCandidate(\n",
            "  File \"/usr/local/lib/python3.9/dist-packages/pip/_internal/resolution/resolvelib/candidates.py\", line 288, in __init__\n",
            "    super().__init__(\n",
            "  File \"/usr/local/lib/python3.9/dist-packages/pip/_internal/resolution/resolvelib/candidates.py\", line 158, in __init__\n",
            "    self.dist = self._prepare()\n",
            "  File \"/usr/local/lib/python3.9/dist-packages/pip/_internal/resolution/resolvelib/candidates.py\", line 227, in _prepare\n",
            "    dist = self._prepare_distribution()\n",
            "  File \"/usr/local/lib/python3.9/dist-packages/pip/_internal/resolution/resolvelib/candidates.py\", line 299, in _prepare_distribution\n",
            "    return preparer.prepare_linked_requirement(self._ireq, parallel_builds=True)\n",
            "  File \"/usr/local/lib/python3.9/dist-packages/pip/_internal/operations/prepare.py\", line 487, in prepare_linked_requirement\n",
            "    return self._prepare_linked_requirement(req, parallel_builds)\n",
            "  File \"/usr/local/lib/python3.9/dist-packages/pip/_internal/operations/prepare.py\", line 532, in _prepare_linked_requirement\n",
            "    local_file = unpack_url(\n",
            "  File \"/usr/local/lib/python3.9/dist-packages/pip/_internal/operations/prepare.py\", line 214, in unpack_url\n",
            "    file = get_http_url(\n",
            "  File \"/usr/local/lib/python3.9/dist-packages/pip/_internal/operations/prepare.py\", line 94, in get_http_url\n",
            "    from_path, content_type = download(link, temp_dir.path)\n",
            "  File \"/usr/local/lib/python3.9/dist-packages/pip/_internal/network/download.py\", line 146, in __call__\n",
            "    for chunk in chunks:\n",
            "  File \"/usr/local/lib/python3.9/dist-packages/pip/_internal/cli/progress_bars.py\", line 304, in _rich_progress_bar\n",
            "    for chunk in iterable:\n",
            "  File \"/usr/local/lib/python3.9/dist-packages/pip/_internal/network/utils.py\", line 63, in response_chunks\n",
            "    for chunk in response.raw.stream(\n",
            "  File \"/usr/local/lib/python3.9/dist-packages/pip/_vendor/urllib3/response.py\", line 576, in stream\n",
            "    data = self.read(amt=amt, decode_content=decode_content)\n",
            "  File \"/usr/local/lib/python3.9/dist-packages/pip/_vendor/urllib3/response.py\", line 541, in read\n",
            "    raise IncompleteRead(self._fp_bytes_read, self.length_remaining)\n",
            "  File \"/usr/lib/python3.9/contextlib.py\", line 137, in __exit__\n",
            "    self.gen.throw(typ, value, traceback)\n",
            "  File \"/usr/local/lib/python3.9/dist-packages/pip/_vendor/urllib3/response.py\", line 443, in _error_catcher\n",
            "    raise ReadTimeoutError(self._pool, None, \"Read timed out.\")\n",
            "pip._vendor.urllib3.exceptions.ReadTimeoutError: HTTPSConnectionPool(host='files.pythonhosted.org', port=443): Read timed out.\u001b[0m\u001b[31m\n",
            "\u001b[0m"
          ]
        }
      ],
      "source": [
        "!pip install nltk==3.6.7\n",
        "!pip install gensim==4.1.2"
      ]
    },
    {
      "cell_type": "code",
      "execution_count": 2,
      "metadata": {
        "id": "d17368a0-e7e3-42b3-8a7d-d6db5c500f28"
      },
      "outputs": [],
      "source": [
        "import gensim\n",
        "import pandas as pd\n",
        "import nltk as nltk\n",
        "from nltk.corpus import stopwords\n",
        "from nltk.tokenize import word_tokenize\n",
        "from gensim import corpora\n",
        "\n",
        "%matplotlib inline"
      ]
    },
    {
      "cell_type": "markdown",
      "metadata": {
        "id": "0b29cbb7-4058-4a6c-b830-c7ecbc7c5313"
      },
      "source": [
        "Download stopwords\n"
      ]
    },
    {
      "cell_type": "code",
      "execution_count": 3,
      "metadata": {
        "id": "bd9b71d0-1159-4cd6-be41-9e8387f66f69",
        "outputId": "8287b59f-a2c3-467d-da9a-bc783fd75d09",
        "colab": {
          "base_uri": "https://localhost:8080/"
        }
      },
      "outputs": [
        {
          "output_type": "stream",
          "name": "stderr",
          "text": [
            "[nltk_data] Downloading package punkt to /root/nltk_data...\n",
            "[nltk_data]   Unzipping tokenizers/punkt.zip.\n",
            "[nltk_data] Downloading package stopwords to /root/nltk_data...\n",
            "[nltk_data]   Unzipping corpora/stopwords.zip.\n",
            "[nltk_data] Downloading package averaged_perceptron_tagger to\n",
            "[nltk_data]     /root/nltk_data...\n",
            "[nltk_data]   Unzipping taggers/averaged_perceptron_tagger.zip.\n"
          ]
        },
        {
          "output_type": "execute_result",
          "data": {
            "text/plain": [
              "True"
            ]
          },
          "metadata": {},
          "execution_count": 3
        }
      ],
      "source": [
        "nltk.download('punkt')\n",
        "nltk.download('stopwords')\n",
        "nltk.download('averaged_perceptron_tagger')"
      ]
    },
    {
      "cell_type": "code",
      "execution_count": 4,
      "metadata": {
        "id": "d3d003ea-1745-4f59-8fe3-d65844248f56"
      },
      "outputs": [],
      "source": [
        "# also set a random state\n",
        "rs = 123"
      ]
    },
    {
      "cell_type": "markdown",
      "metadata": {
        "id": "740312d5-23b7-40c6-a2cb-a03a340f4523"
      },
      "source": [
        "### Bag of Words (BoW) features\n"
      ]
    },
    {
      "cell_type": "markdown",
      "metadata": {
        "id": "b0e5fd8e-0ed5-42a6-9415-b240e52ab70e"
      },
      "source": [
        "BoW features are essentially the counts or frequencies of each word that appears in a text (string). Let's illustrate it with some simple examples.\n"
      ]
    },
    {
      "cell_type": "markdown",
      "metadata": {
        "id": "8ee872c3-40f4-4baa-b6e7-c13f2873d823"
      },
      "source": [
        "Suppose we have two course descriptions as follows:\n"
      ]
    },
    {
      "cell_type": "code",
      "execution_count": 5,
      "metadata": {
        "id": "4ed67ed3-608e-4e14-9f69-1d31ae0595db"
      },
      "outputs": [],
      "source": [
        "course1 = \"this is an introduction data science course which introduces data science to beginners\""
      ]
    },
    {
      "cell_type": "code",
      "execution_count": 6,
      "metadata": {
        "id": "e52596e0-a377-4594-9150-677e9afcb9a7"
      },
      "outputs": [],
      "source": [
        "course2 = \"machine learning for beginners\""
      ]
    },
    {
      "cell_type": "code",
      "execution_count": 7,
      "metadata": {
        "id": "b53f5476-0fbf-4946-aafd-5e9ae4ecfb7d",
        "outputId": "ad3cbf7a-6c51-46be-b226-7dcac9ac8b2e",
        "colab": {
          "base_uri": "https://localhost:8080/"
        }
      },
      "outputs": [
        {
          "output_type": "execute_result",
          "data": {
            "text/plain": [
              "['this is an introduction data science course which introduces data science to beginners',\n",
              " 'machine learning for beginners']"
            ]
          },
          "metadata": {},
          "execution_count": 7
        }
      ],
      "source": [
        "courses = [course1, course2]\n",
        "courses"
      ]
    },
    {
      "cell_type": "markdown",
      "metadata": {
        "id": "ae39e1f2-7a3c-4b9d-ab20-75030f8e447c"
      },
      "source": [
        "The first step is to split the two strings into words (tokens). A token in the text processing context means the smallest unit of text such as a word, a symbol/punctuation, or a phrase, etc. The process to transform a string into a collection of tokens is called `tokenization`.\n"
      ]
    },
    {
      "cell_type": "markdown",
      "metadata": {
        "id": "7035267f-e19d-4b86-842d-f5e35a2991e3"
      },
      "source": [
        "One common way to do ```tokenization``` is to use the Python built-in `split()` method of the `str` class.  However, in this lab, we want to leverage the `nltk` (Natural Language Toolkit) package, which is probably the most commonly used package to process text or natural language.\n"
      ]
    },
    {
      "cell_type": "markdown",
      "metadata": {
        "id": "00e51374-3337-4b4d-a0d4-c91eed6d442d"
      },
      "source": [
        " More specifically, we will use the ```word_tokenize()``` method on the content of course (string):\n"
      ]
    },
    {
      "cell_type": "code",
      "execution_count": 8,
      "metadata": {
        "id": "ab0d204f-e87c-43f3-a118-c50fc43418c3"
      },
      "outputs": [],
      "source": [
        "# Tokenize the two courses\n",
        "tokenized_courses = [word_tokenize(course) for course in courses]"
      ]
    },
    {
      "cell_type": "code",
      "execution_count": 9,
      "metadata": {
        "id": "7baaecde-2e48-49f8-b098-62bd854e70d3",
        "outputId": "5b31e9e2-f37b-4bbc-a4d9-058291d0c006",
        "colab": {
          "base_uri": "https://localhost:8080/"
        }
      },
      "outputs": [
        {
          "output_type": "execute_result",
          "data": {
            "text/plain": [
              "[['this',\n",
              "  'is',\n",
              "  'an',\n",
              "  'introduction',\n",
              "  'data',\n",
              "  'science',\n",
              "  'course',\n",
              "  'which',\n",
              "  'introduces',\n",
              "  'data',\n",
              "  'science',\n",
              "  'to',\n",
              "  'beginners'],\n",
              " ['machine', 'learning', 'for', 'beginners']]"
            ]
          },
          "metadata": {},
          "execution_count": 9
        }
      ],
      "source": [
        "tokenized_courses"
      ]
    },
    {
      "cell_type": "markdown",
      "metadata": {
        "id": "b2f426d5-63dc-480d-ac87-d9f24e8be5fe"
      },
      "source": [
        "As you can see from the cell output, two courses have been tokenized and turned into two token arrays.\n"
      ]
    },
    {
      "cell_type": "markdown",
      "metadata": {
        "id": "15c7fa17-dc8c-4279-88dd-5fa91e559500"
      },
      "source": [
        "Next, we want to create a token dictionary to index all tokens. Basically, we want to assign a key/index for each token. One way to index tokens is to use the `gensim` package which is another popular package for processing textual data:\n"
      ]
    },
    {
      "cell_type": "code",
      "execution_count": 10,
      "metadata": {
        "id": "5aa71f1b-c537-433c-81d9-7be19cb9dc50"
      },
      "outputs": [],
      "source": [
        "# Create a token dictionary for the two courses\n",
        "tokens_dict = gensim.corpora.Dictionary(tokenized_courses)"
      ]
    },
    {
      "cell_type": "code",
      "execution_count": 11,
      "metadata": {
        "id": "e70dedf7-5c0d-49af-9414-ed39072ba468",
        "outputId": "11e85d7b-dbac-484c-e9ec-ab5e4597600d",
        "colab": {
          "base_uri": "https://localhost:8080/"
        }
      },
      "outputs": [
        {
          "output_type": "stream",
          "name": "stdout",
          "text": [
            "{'an': 0, 'beginners': 1, 'course': 2, 'data': 3, 'introduces': 4, 'introduction': 5, 'is': 6, 'science': 7, 'this': 8, 'to': 9, 'which': 10, 'for': 11, 'learning': 12, 'machine': 13}\n"
          ]
        }
      ],
      "source": [
        "print(tokens_dict.token2id)"
      ]
    },
    {
      "cell_type": "markdown",
      "metadata": {
        "id": "684cafae-cbe0-4959-a593-4254955063c3"
      },
      "source": [
        "With the token dictionary, we can easily count each token in the two example courses and output two BoW feature vectors. However, more conveniently, the `gensim` package provides us a `doc2bow` method to generate BoW features out-of-box.\n"
      ]
    },
    {
      "cell_type": "code",
      "execution_count": 12,
      "metadata": {
        "id": "b92058f4-d73e-43a4-aa91-44269f427c20"
      },
      "outputs": [],
      "source": [
        "# Generate BoW features for each course\n",
        "courses_bow = [tokens_dict.doc2bow(course) for course in tokenized_courses]"
      ]
    },
    {
      "cell_type": "code",
      "execution_count": 13,
      "metadata": {
        "id": "709ef8d4-49bc-4aec-aa94-213a93a86c59",
        "outputId": "e01cbb2d-170d-4b00-acc5-8f8d39752d3d",
        "colab": {
          "base_uri": "https://localhost:8080/"
        }
      },
      "outputs": [
        {
          "output_type": "execute_result",
          "data": {
            "text/plain": [
              "[[(0, 1),\n",
              "  (1, 1),\n",
              "  (2, 1),\n",
              "  (3, 2),\n",
              "  (4, 1),\n",
              "  (5, 1),\n",
              "  (6, 1),\n",
              "  (7, 2),\n",
              "  (8, 1),\n",
              "  (9, 1),\n",
              "  (10, 1)],\n",
              " [(1, 1), (11, 1), (12, 1), (13, 1)]]"
            ]
          },
          "metadata": {},
          "execution_count": 13
        }
      ],
      "source": [
        "courses_bow"
      ]
    },
    {
      "cell_type": "markdown",
      "metadata": {
        "id": "6610ac6e-536a-4574-b2f3-0347f0c3b225"
      },
      "source": [
        "It outputs two BoW arrays where each element is a tuple, e.g., (0, 1) and (7, 2). The first element of the tuple is the token ID and the second element is its count. So `(0, 1)` means `(``an``, 1)` and `(7, 2)` means `(``science``, 2)`.\n"
      ]
    },
    {
      "cell_type": "markdown",
      "metadata": {
        "id": "96c6274b-f257-4627-a509-95a572ab1faa"
      },
      "source": [
        "We can use the following code snippet to print each token and its count:\n"
      ]
    },
    {
      "cell_type": "code",
      "execution_count": 14,
      "metadata": {
        "id": "06ad83c6-ed33-4182-9fbd-c47cb53ff8f7",
        "outputId": "63d0d058-fb3f-47ac-b101-ef5d01e50012",
        "colab": {
          "base_uri": "https://localhost:8080/"
        }
      },
      "outputs": [
        {
          "output_type": "stream",
          "name": "stdout",
          "text": [
            "Bag of words for course 0:\n",
            "--Token: 'an', Count:1\n",
            "--Token: 'beginners', Count:1\n",
            "--Token: 'course', Count:1\n",
            "--Token: 'data', Count:2\n",
            "--Token: 'introduces', Count:1\n",
            "--Token: 'introduction', Count:1\n",
            "--Token: 'is', Count:1\n",
            "--Token: 'science', Count:2\n",
            "--Token: 'this', Count:1\n",
            "--Token: 'to', Count:1\n",
            "--Token: 'which', Count:1\n",
            "Bag of words for course 1:\n",
            "--Token: 'beginners', Count:1\n",
            "--Token: 'for', Count:1\n",
            "--Token: 'learning', Count:1\n",
            "--Token: 'machine', Count:1\n"
          ]
        }
      ],
      "source": [
        "for course_idx, course_bow in enumerate(courses_bow):\n",
        "    print(f\"Bag of words for course {course_idx}:\")\n",
        "    # For each token index, print its bow value (word count)\n",
        "    for token_index, token_bow in course_bow:\n",
        "        token = tokens_dict.get(token_index)\n",
        "        print(f\"--Token: '{token}', Count:{token_bow}\")"
      ]
    },
    {
      "cell_type": "markdown",
      "metadata": {
        "id": "fe609836-62a6-4837-9063-d4424a7fcab3"
      },
      "source": [
        "If we turn to the long list into a horizontal feature vectors, we can see the two courses become two numerical feature vectors:\n"
      ]
    },
    {
      "cell_type": "markdown",
      "metadata": {
        "id": "155b7c02-f768-4dc5-81e2-a8c404d753b4"
      },
      "source": [
        "![](https://cf-courses-data.s3.us.cloud-object-storage.appdomain.cloud/IBM-ML321EN-SkillsNetwork/labs/module_2/images/bow.png)\n"
      ]
    },
    {
      "cell_type": "markdown",
      "metadata": {
        "id": "f840ee20-5efa-4d2f-998d-c59f78d6fddd"
      },
      "source": [
        "### BoW dimensionality reduction\n"
      ]
    },
    {
      "cell_type": "markdown",
      "metadata": {
        "id": "35d9b92b-c25b-4f7e-82de-168a89e93f95"
      },
      "source": [
        "A document may contain tens of thousands of words which makes the dimension of the BoW feature vector huge. To reduce the dimensionality, one common way is to filter the relatively meaningless tokens such as stop words or sometimes add position and adjective words.\n"
      ]
    },
    {
      "cell_type": "markdown",
      "metadata": {
        "id": "9d1618a2-9e99-48ab-aec8-a3401b257296"
      },
      "source": [
        "Note there are many other ways to reduce dimensionality such as `stemming` and `lemmatization` but they are beyond the scope of this capstone project. You are encouraged to explore them yourself.\n"
      ]
    },
    {
      "cell_type": "markdown",
      "metadata": {
        "id": "0dc8c1e2-ecfa-4d51-b066-ee37ce57c871"
      },
      "source": [
        "We can use the english stop words provided in `nltk`:\n"
      ]
    },
    {
      "cell_type": "code",
      "execution_count": 15,
      "metadata": {
        "id": "6bdd93bb-9a44-4918-9c8b-61c35e3770df"
      },
      "outputs": [],
      "source": [
        "stop_words = set(stopwords.words('english'))"
      ]
    },
    {
      "cell_type": "code",
      "execution_count": 16,
      "metadata": {
        "id": "21ef0d1c-b391-424d-895a-117aa58d32ba",
        "outputId": "d4eef8dd-9ea5-4040-d9ce-052ec4a09fa6",
        "colab": {
          "base_uri": "https://localhost:8080/"
        }
      },
      "outputs": [
        {
          "output_type": "execute_result",
          "data": {
            "text/plain": [
              "{'a',\n",
              " 'about',\n",
              " 'above',\n",
              " 'after',\n",
              " 'again',\n",
              " 'against',\n",
              " 'ain',\n",
              " 'all',\n",
              " 'am',\n",
              " 'an',\n",
              " 'and',\n",
              " 'any',\n",
              " 'are',\n",
              " 'aren',\n",
              " \"aren't\",\n",
              " 'as',\n",
              " 'at',\n",
              " 'be',\n",
              " 'because',\n",
              " 'been',\n",
              " 'before',\n",
              " 'being',\n",
              " 'below',\n",
              " 'between',\n",
              " 'both',\n",
              " 'but',\n",
              " 'by',\n",
              " 'can',\n",
              " 'couldn',\n",
              " \"couldn't\",\n",
              " 'd',\n",
              " 'did',\n",
              " 'didn',\n",
              " \"didn't\",\n",
              " 'do',\n",
              " 'does',\n",
              " 'doesn',\n",
              " \"doesn't\",\n",
              " 'doing',\n",
              " 'don',\n",
              " \"don't\",\n",
              " 'down',\n",
              " 'during',\n",
              " 'each',\n",
              " 'few',\n",
              " 'for',\n",
              " 'from',\n",
              " 'further',\n",
              " 'had',\n",
              " 'hadn',\n",
              " \"hadn't\",\n",
              " 'has',\n",
              " 'hasn',\n",
              " \"hasn't\",\n",
              " 'have',\n",
              " 'haven',\n",
              " \"haven't\",\n",
              " 'having',\n",
              " 'he',\n",
              " 'her',\n",
              " 'here',\n",
              " 'hers',\n",
              " 'herself',\n",
              " 'him',\n",
              " 'himself',\n",
              " 'his',\n",
              " 'how',\n",
              " 'i',\n",
              " 'if',\n",
              " 'in',\n",
              " 'into',\n",
              " 'is',\n",
              " 'isn',\n",
              " \"isn't\",\n",
              " 'it',\n",
              " \"it's\",\n",
              " 'its',\n",
              " 'itself',\n",
              " 'just',\n",
              " 'll',\n",
              " 'm',\n",
              " 'ma',\n",
              " 'me',\n",
              " 'mightn',\n",
              " \"mightn't\",\n",
              " 'more',\n",
              " 'most',\n",
              " 'mustn',\n",
              " \"mustn't\",\n",
              " 'my',\n",
              " 'myself',\n",
              " 'needn',\n",
              " \"needn't\",\n",
              " 'no',\n",
              " 'nor',\n",
              " 'not',\n",
              " 'now',\n",
              " 'o',\n",
              " 'of',\n",
              " 'off',\n",
              " 'on',\n",
              " 'once',\n",
              " 'only',\n",
              " 'or',\n",
              " 'other',\n",
              " 'our',\n",
              " 'ours',\n",
              " 'ourselves',\n",
              " 'out',\n",
              " 'over',\n",
              " 'own',\n",
              " 're',\n",
              " 's',\n",
              " 'same',\n",
              " 'shan',\n",
              " \"shan't\",\n",
              " 'she',\n",
              " \"she's\",\n",
              " 'should',\n",
              " \"should've\",\n",
              " 'shouldn',\n",
              " \"shouldn't\",\n",
              " 'so',\n",
              " 'some',\n",
              " 'such',\n",
              " 't',\n",
              " 'than',\n",
              " 'that',\n",
              " \"that'll\",\n",
              " 'the',\n",
              " 'their',\n",
              " 'theirs',\n",
              " 'them',\n",
              " 'themselves',\n",
              " 'then',\n",
              " 'there',\n",
              " 'these',\n",
              " 'they',\n",
              " 'this',\n",
              " 'those',\n",
              " 'through',\n",
              " 'to',\n",
              " 'too',\n",
              " 'under',\n",
              " 'until',\n",
              " 'up',\n",
              " 've',\n",
              " 'very',\n",
              " 'was',\n",
              " 'wasn',\n",
              " \"wasn't\",\n",
              " 'we',\n",
              " 'were',\n",
              " 'weren',\n",
              " \"weren't\",\n",
              " 'what',\n",
              " 'when',\n",
              " 'where',\n",
              " 'which',\n",
              " 'while',\n",
              " 'who',\n",
              " 'whom',\n",
              " 'why',\n",
              " 'will',\n",
              " 'with',\n",
              " 'won',\n",
              " \"won't\",\n",
              " 'wouldn',\n",
              " \"wouldn't\",\n",
              " 'y',\n",
              " 'you',\n",
              " \"you'd\",\n",
              " \"you'll\",\n",
              " \"you're\",\n",
              " \"you've\",\n",
              " 'your',\n",
              " 'yours',\n",
              " 'yourself',\n",
              " 'yourselves'}"
            ]
          },
          "metadata": {},
          "execution_count": 16
        }
      ],
      "source": [
        "stop_words"
      ]
    },
    {
      "cell_type": "markdown",
      "metadata": {
        "id": "fa6cafc7-2d0f-44eb-a3f8-387b271186b9"
      },
      "source": [
        "Then we can filter those English stop words from the tokens in course1:\n"
      ]
    },
    {
      "cell_type": "code",
      "execution_count": 17,
      "metadata": {
        "id": "da73aa06-5f0e-47fb-8611-cccc773fee76",
        "outputId": "6fd39aaf-42b0-4be8-9e8e-4f2c3ef1f462",
        "colab": {
          "base_uri": "https://localhost:8080/"
        }
      },
      "outputs": [
        {
          "output_type": "execute_result",
          "data": {
            "text/plain": [
              "['this',\n",
              " 'is',\n",
              " 'an',\n",
              " 'introduction',\n",
              " 'data',\n",
              " 'science',\n",
              " 'course',\n",
              " 'which',\n",
              " 'introduces',\n",
              " 'data',\n",
              " 'science',\n",
              " 'to',\n",
              " 'beginners']"
            ]
          },
          "metadata": {},
          "execution_count": 17
        }
      ],
      "source": [
        "# Tokens in course 1\n",
        "tokenized_courses[0]"
      ]
    },
    {
      "cell_type": "code",
      "execution_count": 18,
      "metadata": {
        "id": "0f284775-3836-4e5f-8c09-fcdb18302543"
      },
      "outputs": [],
      "source": [
        "processed_tokens = [w for w in tokenized_courses[0] if not w.lower() in stop_words]"
      ]
    },
    {
      "cell_type": "code",
      "execution_count": 19,
      "metadata": {
        "id": "3c31765f-05e9-47b9-97d2-75ce1026a2db",
        "outputId": "bfef6a4b-069a-45d4-b21f-4547c3b67c95",
        "colab": {
          "base_uri": "https://localhost:8080/"
        }
      },
      "outputs": [
        {
          "output_type": "execute_result",
          "data": {
            "text/plain": [
              "['introduction',\n",
              " 'data',\n",
              " 'science',\n",
              " 'course',\n",
              " 'introduces',\n",
              " 'data',\n",
              " 'science',\n",
              " 'beginners']"
            ]
          },
          "metadata": {},
          "execution_count": 19
        }
      ],
      "source": [
        "processed_tokens"
      ]
    },
    {
      "cell_type": "markdown",
      "metadata": {
        "id": "840d09cd-a996-4615-bfef-d65b7442af42"
      },
      "source": [
        "You can see the number of tokens for ```course1``` has been reduced.\n"
      ]
    },
    {
      "cell_type": "markdown",
      "metadata": {
        "id": "4c89f467-4458-4fb5-9d35-4d7cd69d7836"
      },
      "source": [
        "Another common way is to only keep nouns in the text. We can use the `nltk.pos_tag()` method to analyze the part of speech (POS) and annotate each word.\n"
      ]
    },
    {
      "cell_type": "code",
      "execution_count": 20,
      "metadata": {
        "id": "fc0d0a6f-f543-42f6-a77f-22cd9bd9fed0",
        "outputId": "3b8d02e1-c801-494b-ac0d-dbe719f17492",
        "colab": {
          "base_uri": "https://localhost:8080/"
        }
      },
      "outputs": [
        {
          "output_type": "execute_result",
          "data": {
            "text/plain": [
              "[('this', 'DT'),\n",
              " ('is', 'VBZ'),\n",
              " ('an', 'DT'),\n",
              " ('introduction', 'NN'),\n",
              " ('data', 'NNS'),\n",
              " ('science', 'NN'),\n",
              " ('course', 'NN'),\n",
              " ('which', 'WDT'),\n",
              " ('introduces', 'VBZ'),\n",
              " ('data', 'NNS'),\n",
              " ('science', 'NN'),\n",
              " ('to', 'TO'),\n",
              " ('beginners', 'NNS')]"
            ]
          },
          "metadata": {},
          "execution_count": 20
        }
      ],
      "source": [
        "tags = nltk.pos_tag(tokenized_courses[0])\n",
        "tags"
      ]
    },
    {
      "cell_type": "markdown",
      "metadata": {
        "id": "8981392b-9dc1-445a-9fe9-782bdceefa17"
      },
      "source": [
        "As we can see [`introduction`, `data`, `science`, `course`, `beginners`] are all of the nouns and we may keep them in the BoW feature vector.\n"
      ]
    },
    {
      "cell_type": "markdown",
      "metadata": {
        "id": "ea136fa2-cff6-4476-8374-7e9dadbdf73b"
      },
      "source": [
        "### TASK: Extract BoW features for course textual content and build a dataset\n"
      ]
    },
    {
      "cell_type": "markdown",
      "metadata": {
        "id": "095447bc-e1c1-493c-9362-657d638206dc"
      },
      "source": [
        "By now you have learned what a BoW feature is, so let's start extracting BoW features from some real course textual content.\n"
      ]
    },
    {
      "cell_type": "code",
      "execution_count": 21,
      "metadata": {
        "id": "dac2f543-7559-430e-a8c3-02fd718f6e6a"
      },
      "outputs": [],
      "source": [
        "course_url = \"https://cf-courses-data.s3.us.cloud-object-storage.appdomain.cloud/IBM-ML321EN-SkillsNetwork/labs/datasets/course_processed.csv\"\n",
        "course_content_df = pd.read_csv(course_url)"
      ]
    },
    {
      "cell_type": "code",
      "execution_count": 22,
      "metadata": {
        "id": "9a242754-0467-4700-928f-e0d682a42b6f",
        "outputId": "7a48fe3b-8a41-4066-8c45-ec468ac9d922",
        "colab": {
          "base_uri": "https://localhost:8080/"
        }
      },
      "outputs": [
        {
          "output_type": "execute_result",
          "data": {
            "text/plain": [
              "COURSE_ID                                               ML0201EN\n",
              "TITLE          robots are coming  build iot apps with watson ...\n",
              "DESCRIPTION    have fun with iot and learn along the way  if ...\n",
              "Name: 0, dtype: object"
            ]
          },
          "metadata": {},
          "execution_count": 22
        }
      ],
      "source": [
        "course_content_df.iloc[0, :]"
      ]
    },
    {
      "cell_type": "markdown",
      "metadata": {
        "id": "500b3ee5-b212-4a83-b212-9127097e3fd2"
      },
      "source": [
        "The course content dataset has three columns `COURSE_ID`, `TITLE`, and `DESCRIPTION`. `TITLE` and `DESCRIPTION` are all text upon which we want to extract BoW features. \n"
      ]
    },
    {
      "cell_type": "markdown",
      "metadata": {
        "id": "bd189679-0e1c-4c90-a44e-369a4c245335"
      },
      "source": [
        "Let's join those two text columns together.\n"
      ]
    },
    {
      "cell_type": "code",
      "execution_count": 23,
      "metadata": {
        "id": "06e0ffd9-2987-4ffc-9f22-6e132794ae0b"
      },
      "outputs": [],
      "source": [
        "# Merge TITLE and DESCRIPTION title\n",
        "course_content_df['course_texts'] = course_content_df[['TITLE', 'DESCRIPTION']].agg(' '.join, axis=1)\n",
        "course_content_df = course_content_df.reset_index()\n",
        "course_content_df['index'] = course_content_df.index"
      ]
    },
    {
      "cell_type": "code",
      "execution_count": 24,
      "metadata": {
        "id": "0321fccd-904f-4b41-a368-bb732e828ae3",
        "outputId": "e4d7c385-3e5c-4ca8-852f-04c714c30b61",
        "colab": {
          "base_uri": "https://localhost:8080/"
        }
      },
      "outputs": [
        {
          "output_type": "execute_result",
          "data": {
            "text/plain": [
              "index                                                           0\n",
              "COURSE_ID                                                ML0201EN\n",
              "TITLE           robots are coming  build iot apps with watson ...\n",
              "DESCRIPTION     have fun with iot and learn along the way  if ...\n",
              "course_texts    robots are coming  build iot apps with watson ...\n",
              "Name: 0, dtype: object"
            ]
          },
          "metadata": {},
          "execution_count": 24
        }
      ],
      "source": [
        "course_content_df.iloc[0, :]"
      ]
    },
    {
      "cell_type": "markdown",
      "metadata": {
        "id": "25ef1252-1211-4c1a-96dc-0b078087c7e4"
      },
      "source": [
        "and we have prepared a `tokenize_course()` method for you to tokenize the course content:\n"
      ]
    },
    {
      "cell_type": "code",
      "execution_count": 25,
      "metadata": {
        "id": "7c3a355c-b8bf-466e-8d27-d6658040bf7d"
      },
      "outputs": [],
      "source": [
        "def tokenize_course(course, keep_only_nouns=True):\n",
        "    stop_words = set(stopwords.words('english'))\n",
        "    word_tokens = word_tokenize(course)\n",
        "    # Remove English stop words and numbers\n",
        "    word_tokens = [w for w in word_tokens if (not w.lower() in stop_words) and (not w.isnumeric())]\n",
        "    # Only keep nouns \n",
        "    if keep_only_nouns:\n",
        "        filter_list = ['WDT', 'WP', 'WRB', 'FW', 'IN', 'JJR', 'JJS', 'MD', 'PDT', 'POS', 'PRP', 'RB', 'RBR', 'RBS',\n",
        "                       'RP']\n",
        "        tags = nltk.pos_tag(word_tokens)\n",
        "        word_tokens = [word for word, pos in tags if pos not in filter_list]\n",
        "\n",
        "    return word_tokens"
      ]
    },
    {
      "cell_type": "markdown",
      "metadata": {
        "id": "c858bb0f-8bc6-4e52-aea8-f733b2b3890a"
      },
      "source": [
        "Let's try it on the first course.\n"
      ]
    },
    {
      "cell_type": "code",
      "execution_count": 26,
      "metadata": {
        "id": "4d53a6ee-a980-46c9-acb4-6c28871d1e51",
        "outputId": "cd88fa29-d4d5-449d-f7b3-39dac86d1f56",
        "colab": {
          "base_uri": "https://localhost:8080/",
          "height": 70
        }
      },
      "outputs": [
        {
          "output_type": "execute_result",
          "data": {
            "text/plain": [
              "'robots are coming  build iot apps with watson  swift  and node red have fun with iot and learn along the way  if you re a swift developer and want to learn more about iot and watson ai services in the cloud  raspberry pi   and node red  you ve found the right place  you ll build iot apps to read temperature data  take pictures with a raspcam  use ai to recognize the objects in those pictures  and program an irobot create 2 robot  '"
            ],
            "application/vnd.google.colaboratory.intrinsic+json": {
              "type": "string"
            }
          },
          "metadata": {},
          "execution_count": 26
        }
      ],
      "source": [
        "a_course = course_content_df.iloc[0, :]['course_texts']\n",
        "a_course"
      ]
    },
    {
      "cell_type": "code",
      "execution_count": 27,
      "metadata": {
        "id": "424804e4-b2da-406f-9212-e9f1253b7073",
        "outputId": "6a9c4b83-15a7-43aa-8a7f-960a3b49144b",
        "colab": {
          "base_uri": "https://localhost:8080/"
        }
      },
      "outputs": [
        {
          "output_type": "execute_result",
          "data": {
            "text/plain": [
              "['robots',\n",
              " 'coming',\n",
              " 'build',\n",
              " 'iot',\n",
              " 'apps',\n",
              " 'watson',\n",
              " 'swift',\n",
              " 'red',\n",
              " 'fun',\n",
              " 'iot',\n",
              " 'learn',\n",
              " 'way',\n",
              " 'swift',\n",
              " 'developer',\n",
              " 'want',\n",
              " 'learn',\n",
              " 'iot',\n",
              " 'watson',\n",
              " 'ai',\n",
              " 'services',\n",
              " 'cloud',\n",
              " 'raspberry',\n",
              " 'pi',\n",
              " 'node',\n",
              " 'red',\n",
              " 'found',\n",
              " 'place',\n",
              " 'build',\n",
              " 'iot',\n",
              " 'apps',\n",
              " 'read',\n",
              " 'temperature',\n",
              " 'data',\n",
              " 'take',\n",
              " 'pictures',\n",
              " 'raspcam',\n",
              " 'use',\n",
              " 'ai',\n",
              " 'recognize',\n",
              " 'objects',\n",
              " 'pictures',\n",
              " 'program',\n",
              " 'irobot',\n",
              " 'create',\n",
              " 'robot']"
            ]
          },
          "metadata": {},
          "execution_count": 27
        }
      ],
      "source": [
        "tokenize_course(a_course)"
      ]
    },
    {
      "cell_type": "markdown",
      "metadata": {
        "id": "39907555-523c-46e8-ac87-9d48ed4e63af"
      },
      "source": [
        "Next, you will need to write some code snippets to generate the BoW features for each course. Let's start by tokenzing all courses in the `courses_df`:\n"
      ]
    },
    {
      "cell_type": "markdown",
      "metadata": {
        "id": "767bcfdc-b728-4540-ba91-8f52caa916ce"
      },
      "source": [
        "_TODO: Use provided tokenize_course() method to tokenize all courses in courses_df['course_texts']._\n"
      ]
    },
    {
      "cell_type": "code",
      "execution_count": 32,
      "metadata": {
        "id": "8f8d4842-97d0-4162-8958-51801bc3f080"
      },
      "outputs": [],
      "source": [
        "# WRITE YOUR CODE HERE\n"
      ]
    },
    {
      "cell_type": "markdown",
      "metadata": {
        "id": "afe9c3cd-d79b-42d2-8b53-ba13e12b9530"
      },
      "source": [
        "\n",
        "<details>\n",
        "    <summary>Click here for Hints</summary>\n",
        "\n",
        "Use `tokenize_course(text, True)` command to tokenize each text in `courses_df['course_texts']`\n"
      ]
    },
    {
      "cell_type": "markdown",
      "metadata": {
        "id": "84f7ed6c-6690-4221-b2c1-4125aad7e1b1"
      },
      "source": [
        "Then we need to create a token dictionary `tokens_dict`\n"
      ]
    },
    {
      "cell_type": "markdown",
      "metadata": {
        "id": "2f499589-e120-4902-8107-1ce0eb3c8a88"
      },
      "source": [
        "_TODO: Use gensim.corpora.Dictionary(tokenized_courses) to create a token dictionary._\n"
      ]
    },
    {
      "cell_type": "code",
      "execution_count": null,
      "metadata": {
        "id": "44686fa2-9976-4f78-95ba-5c644f63737a"
      },
      "outputs": [],
      "source": [
        "# WRITE YOUR CODE HERE\n"
      ]
    },
    {
      "cell_type": "markdown",
      "metadata": {
        "id": "1e844282-a017-4bfd-8578-eaf6148b855d"
      },
      "source": [
        "Then we can use `doc2bow()` method to generate BoW features for each tokenized course.\n"
      ]
    },
    {
      "cell_type": "markdown",
      "metadata": {
        "id": "5ec8d96b-78ad-4e1e-bce4-395555ae840b"
      },
      "source": [
        "_TODO: Use tokens_dict.doc2bow() to generate BoW features for each tokenized course._\n"
      ]
    },
    {
      "cell_type": "code",
      "execution_count": null,
      "metadata": {
        "id": "acedc4df-22f4-4f7f-a19f-36ab346d707c"
      },
      "outputs": [],
      "source": [
        "# WRITE YOUR CODE HERE\n"
      ]
    },
    {
      "cell_type": "markdown",
      "metadata": {
        "id": "e9b01648-53d7-492d-b5e0-eba8f5a50d6c"
      },
      "source": [
        "<details>\n",
        "    <summary>Click here for Hints</summary>\n",
        "    \n",
        "You can use `tokens_dict.doc2bow(course)` command  for each course in `tokenized_courses`\n"
      ]
    },
    {
      "cell_type": "markdown",
      "metadata": {
        "id": "7f30dd84-f6e3-4afc-bf65-63e374dd7e90"
      },
      "source": [
        "Lastly, you need to append the BoW features for each course into a new BoW dataframe. The new dataframe needs to include the following columns (you may include other relevant columns as well):\n",
        "- 'doc_index': the course index starting from 0\n",
        "- 'doc_id': the actual course id such as `ML0201EN`\n",
        "- 'token': the tokens for each course\n",
        "- 'bow': the bow value for each token\n"
      ]
    },
    {
      "cell_type": "markdown",
      "metadata": {
        "id": "f2dc4446-cd42-4e12-b812-604229bc4544"
      },
      "source": [
        "_TODO: Create a new course_bow dataframe based on the extracted BoW features._\n"
      ]
    },
    {
      "cell_type": "code",
      "execution_count": null,
      "metadata": {
        "id": "debee268-c31d-441c-9a21-c9025fc8e288"
      },
      "outputs": [],
      "source": [
        "# WRITE YOUR CODE HERE\n",
        "\n",
        "#  ...\n",
        "#  bow_dicts = {\"doc_index\": doc_indices,\n",
        "#            \"doc_id\": doc_ids,\n",
        "#            \"token\": tokens,\n",
        "#            \"bow\": bow_values}\n",
        "#  pd.DataFrame(bow_dicts)"
      ]
    },
    {
      "cell_type": "markdown",
      "metadata": {
        "id": "bf5f4ce8-a48a-495e-825d-98857576749a"
      },
      "source": [
        "<details>\n",
        "    <summary>Click here for Hints</summary>\n",
        "    \n",
        "You can use 2 for-loops to create your data frame: first one will be `for doc_index, doc_bow in enumerate(bow_docs):` where bow_docs is the list of BoW features for each tokenized course and within this for-loop you will have another loop `for token_index, token_bow in doc_bow:`. Then you can get each \"token\" by applying the `token_index` to your `token_dict`,  `token_bow` will give you \"bow\" values, `doc_indices` will give you values for  \"doc_index\" and you can get \"doc_id\" by using `courses_df['COURSE_ID']` list and `doc_index` as indexes.\n"
      ]
    },
    {
      "cell_type": "markdown",
      "metadata": {
        "id": "62552290-8e53-4e5d-9fb1-6abdec875b08"
      },
      "source": [
        "Your course BoW dataframe may look like the following:\n"
      ]
    },
    {
      "cell_type": "markdown",
      "metadata": {
        "id": "14cc5ac0-bd11-485a-9ef1-fb40101676d8"
      },
      "source": [
        "![](https://cf-courses-data.s3.us.cloud-object-storage.appdomain.cloud/IBM-ML321EN-SkillsNetwork/labs/module_2/images/bow_dataset.png)\n"
      ]
    },
    {
      "cell_type": "markdown",
      "metadata": {
        "id": "7eee1a8d-fb3e-48bb-b1a6-65fe7745b321"
      },
      "source": [
        "You may refer to previous code examples in this lab if you need help with creating the BoW dataframe.\n"
      ]
    },
    {
      "cell_type": "markdown",
      "metadata": {
        "id": "f99350d3-7109-4831-bb88-e2dfe42584c6"
      },
      "source": [
        "### Other popular textual features\n"
      ]
    },
    {
      "cell_type": "markdown",
      "metadata": {
        "id": "48281f28-44b4-476d-8fb0-55ec2707d6ce"
      },
      "source": [
        "In addition to the basic token BoW feature, there are two other types of widely used textual features. If you are interested, you may explore them yourself to learn how to extract them from the course textual content: \n"
      ]
    },
    {
      "cell_type": "markdown",
      "metadata": {
        "id": "0f03d93c-acde-4228-aa3f-706d399a4664"
      },
      "source": [
        "- **tf-idf**: tf-idf refers to Term Frequency–Inverse Document Frequency. Similar to BoW, the tf-idf also counts the word frequencies in each document. Furthermore, tf-idf will  offset the number of documents in the corpus that contain the word in order to adjust for the fact that some words appear more frequently in general. The higher the tf-idf normally means the greater the importance the word/token is.\n",
        "- **Text embedding vector**. Embedding means projecting an object into a latent feature space. We normally employ neural networks or deep neural networks to learn the latent features of a textual object such as a word, a sentence, or the entire document. The learned latent feature vectors will be used to represent the original textual entities. \n"
      ]
    },
    {
      "cell_type": "markdown",
      "metadata": {
        "id": "42e466ac-0b96-438e-82be-058905cc2511"
      },
      "source": [
        "### Summary\n"
      ]
    },
    {
      "cell_type": "markdown",
      "metadata": {
        "id": "0ad3b588-9f7d-470a-8152-27a9a167b669"
      },
      "source": [
        "Congratulations, you have completed the BoW feature extraction lab. In this lab, you have learned and practiced extracting BoW features from course titles and descriptions. Once the feature vectors on the courses has been built, we can then apply machine learning algorithms such as similarity measurements, clustering, or classification on the courses in later labs.\n"
      ]
    },
    {
      "cell_type": "markdown",
      "metadata": {
        "id": "efed39d8-a3e7-4054-8314-3b8418b70fd4"
      },
      "source": [
        "## Authors\n"
      ]
    },
    {
      "cell_type": "markdown",
      "metadata": {
        "id": "93e21023-2ed9-4f3c-af4b-1db5323f0458"
      },
      "source": [
        "[Yan Luo](https://www.linkedin.com/in/yan-luo-96288783/?utm_medium=Exinfluencer&utm_source=Exinfluencer&utm_content=000026UJ&utm_term=10006555&utm_id=NA-SkillsNetwork-Channel-SkillsNetworkCoursesIBMML321ENSkillsNetwork817-2022-01-01)\n"
      ]
    },
    {
      "cell_type": "markdown",
      "metadata": {
        "id": "acf7a0a7-3c03-4854-a12e-01a673576160"
      },
      "source": [
        "### Other Contributors\n"
      ]
    },
    {
      "cell_type": "markdown",
      "metadata": {
        "id": "03a13659-178e-415d-9b44-990390536d0f"
      },
      "source": [
        "## Change Log\n"
      ]
    },
    {
      "cell_type": "markdown",
      "metadata": {
        "id": "203ccbc6-9624-4ba3-96cc-e1adf00c63b4"
      },
      "source": [
        "|Date (YYYY-MM-DD)|Version|Changed By|Change Description|\n",
        "|-|-|-|-|\n",
        "|2021-10-25|1.0|Yan|Created the initial version|\n"
      ]
    },
    {
      "cell_type": "markdown",
      "metadata": {
        "id": "870b57df-0496-494a-8c29-c79c16093c15"
      },
      "source": [
        "Copyright © 2021 IBM Corporation. All rights reserved.\n"
      ]
    }
  ],
  "metadata": {
    "kernelspec": {
      "display_name": "Python 3 (ipykernel)",
      "language": "python",
      "name": "python3"
    },
    "language_info": {
      "codemirror_mode": {
        "name": "ipython",
        "version": 3
      },
      "file_extension": ".py",
      "mimetype": "text/x-python",
      "name": "python",
      "nbconvert_exporter": "python",
      "pygments_lexer": "ipython3",
      "version": "3.9.12"
    },
    "colab": {
      "provenance": []
    }
  },
  "nbformat": 4,
  "nbformat_minor": 0
}