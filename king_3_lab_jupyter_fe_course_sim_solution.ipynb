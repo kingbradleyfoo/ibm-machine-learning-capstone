{
  "cells": [
    {
      "cell_type": "markdown",
      "metadata": {
        "id": "79b763fe-3ed4-4058-ac98-977b518b5248"
      },
      "source": [
        "<p style=\"text-align:center\">\n",
        "    <a href=\"https://skills.network/?utm_medium=Exinfluencer&utm_source=Exinfluencer&utm_content=000026UJ&utm_term=10006555&utm_id=NA-SkillsNetwork-Channel-SkillsNetworkCoursesIBMML321ENSkillsNetwork817-2022-01-01\" target=\"_blank\">\n",
        "    <img src=\"https://cf-courses-data.s3.us.cloud-object-storage.appdomain.cloud/assets/logos/SN_web_lightmode.png\" width=\"200\" alt=\"Skills Network Logo\"  />\n",
        "    </a>\n",
        "</p>\n"
      ]
    },
    {
      "cell_type": "markdown",
      "metadata": {
        "id": "d41fbce7-2b38-4d99-b677-bdea7eec6dd6"
      },
      "source": [
        "# **Calculate Course Similarity using BoW Features**\n"
      ]
    },
    {
      "cell_type": "markdown",
      "metadata": {
        "id": "7e24b13a-7e39-4c53-a170-f94d2506cdc1"
      },
      "source": [
        "Estimated time needed: **45** minutes\n"
      ]
    },
    {
      "cell_type": "markdown",
      "metadata": {
        "id": "e47d1121-4dae-47fa-b096-d1185345da55"
      },
      "source": [
        "Similarity measurement between items is the foundation of many recommendation algorithms, especially for content-based recommendation algorithms. For example, if a new course is similar to user's enrolled courses, we could recommend that new similar course to the user. Or If user A is similar to user B, then we can recommend some of user B's courses to user A (the unseen courses) because user A and user B may have similar interests.\n"
      ]
    },
    {
      "cell_type": "markdown",
      "metadata": {
        "id": "92f69525-9f8b-43c8-b91c-2f9dbd41dbb7"
      },
      "source": [
        "In a previous course, you learned many similarity measurements such as `consine`, `jaccard index`, or `euclidean distance`, and these methods need to work on either two vectors or two sets (sometimes even matrices or tensors). \n",
        "\n",
        "In previous labs, we extracted the BoW features from course textual content. Given the course BoW feature vectors, we can easily apply similarity measurement to calculate the course similarity as shown in the below figure.\n"
      ]
    },
    {
      "cell_type": "markdown",
      "metadata": {
        "id": "d7a77705-86f9-4a58-a2eb-529aad2e0a47"
      },
      "source": [
        "![](https://cf-courses-data.s3.us.cloud-object-storage.appdomain.cloud/IBM-ML321EN-SkillsNetwork/labs/module_2/images/course_sim.png)\n"
      ]
    },
    {
      "cell_type": "markdown",
      "metadata": {
        "id": "0b503501-2ca5-4d38-9980-9f730b24610d"
      },
      "source": [
        "## Objectives\n"
      ]
    },
    {
      "cell_type": "markdown",
      "metadata": {
        "id": "745e0132-2d2b-4641-b9b3-5a10a2cb60d5"
      },
      "source": [
        "After completing this lab you will be able to:\n"
      ]
    },
    {
      "cell_type": "markdown",
      "metadata": {
        "id": "2361628d-40e0-41ee-a8fa-93df30e274e8"
      },
      "source": [
        "* Calculate the similarity between any two courses using BoW feature vectors\n"
      ]
    },
    {
      "cell_type": "markdown",
      "metadata": {
        "id": "5faf16df-3d42-4a59-a3fa-9dfdffd0be86"
      },
      "source": [
        "----\n"
      ]
    },
    {
      "cell_type": "markdown",
      "metadata": {
        "id": "533a056f-0532-4724-9323-b27f487dd211"
      },
      "source": [
        "## Prepare and setup lab environment\n"
      ]
    },
    {
      "cell_type": "markdown",
      "metadata": {
        "id": "d42b720a-d488-48f4-8d9d-f00be6c57ffc"
      },
      "source": [
        "First let's install and import required libraries:\n"
      ]
    },
    {
      "cell_type": "code",
      "execution_count": 1,
      "metadata": {
        "id": "0571fba0-c3ca-4caa-830d-06b0bd609a4f",
        "outputId": "0f45287f-d958-47d3-8a4f-5f4980e0f084",
        "colab": {
          "base_uri": "https://localhost:8080/"
        }
      },
      "outputs": [
        {
          "output_type": "stream",
          "name": "stdout",
          "text": [
            "Looking in indexes: https://pypi.org/simple, https://us-python.pkg.dev/colab-wheels/public/simple/\n",
            "Collecting nltk==3.6.7\n",
            "  Downloading nltk-3.6.7-py3-none-any.whl (1.5 MB)\n",
            "\u001b[2K     \u001b[90m━━━━━━━━━━━━━━━━━━━━━━━━━━━━━━━━━━━━━━━━\u001b[0m \u001b[32m1.5/1.5 MB\u001b[0m \u001b[31m29.3 MB/s\u001b[0m eta \u001b[36m0:00:00\u001b[0m\n",
            "\u001b[?25hRequirement already satisfied: click in /usr/local/lib/python3.9/dist-packages (from nltk==3.6.7) (8.1.3)\n",
            "Requirement already satisfied: tqdm in /usr/local/lib/python3.9/dist-packages (from nltk==3.6.7) (4.65.0)\n",
            "Requirement already satisfied: joblib in /usr/local/lib/python3.9/dist-packages (from nltk==3.6.7) (1.1.1)\n",
            "Requirement already satisfied: regex>=2021.8.3 in /usr/local/lib/python3.9/dist-packages (from nltk==3.6.7) (2022.10.31)\n",
            "Installing collected packages: nltk\n",
            "  Attempting uninstall: nltk\n",
            "    Found existing installation: nltk 3.8.1\n",
            "    Uninstalling nltk-3.8.1:\n",
            "      Successfully uninstalled nltk-3.8.1\n",
            "Successfully installed nltk-3.6.7\n",
            "Looking in indexes: https://pypi.org/simple, https://us-python.pkg.dev/colab-wheels/public/simple/\n",
            "Collecting gensim==4.1.2\n",
            "  Downloading gensim-4.1.2-cp39-cp39-manylinux_2_12_x86_64.manylinux2010_x86_64.whl (24.0 MB)\n",
            "\u001b[2K     \u001b[90m━━━━━━━━━━━━━━━━━━━━━━━━━━━━━━━━━━━━━━━━\u001b[0m \u001b[32m24.0/24.0 MB\u001b[0m \u001b[31m14.3 MB/s\u001b[0m eta \u001b[36m0:00:00\u001b[0m\n",
            "\u001b[?25hRequirement already satisfied: numpy>=1.17.0 in /usr/local/lib/python3.9/dist-packages (from gensim==4.1.2) (1.22.4)\n",
            "Requirement already satisfied: scipy>=0.18.1 in /usr/local/lib/python3.9/dist-packages (from gensim==4.1.2) (1.10.1)\n",
            "Requirement already satisfied: smart-open>=1.8.1 in /usr/local/lib/python3.9/dist-packages (from gensim==4.1.2) (6.3.0)\n",
            "Installing collected packages: gensim\n",
            "  Attempting uninstall: gensim\n",
            "    Found existing installation: gensim 4.3.1\n",
            "    Uninstalling gensim-4.3.1:\n",
            "      Successfully uninstalled gensim-4.3.1\n",
            "Successfully installed gensim-4.1.2\n"
          ]
        }
      ],
      "source": [
        "!pip install nltk==3.6.7\n",
        "!pip install gensim==4.1.2"
      ]
    },
    {
      "cell_type": "code",
      "execution_count": 2,
      "metadata": {
        "id": "1f2aa8cc-898f-4bae-97f7-4a526da84ab5"
      },
      "outputs": [],
      "source": [
        "import seaborn as sns\n",
        "import matplotlib.pyplot as plt\n",
        "import pandas as pd\n",
        "import numpy as np\n",
        "import gensim\n",
        "import pandas as pd\n",
        "import nltk as nltk\n",
        "\n",
        "from scipy.spatial.distance import cosine\n",
        "from nltk.corpus import stopwords\n",
        "from nltk.tokenize import word_tokenize\n",
        "from nltk import ngrams\n",
        "from gensim import corpora\n",
        "\n",
        "%matplotlib inline"
      ]
    },
    {
      "cell_type": "code",
      "execution_count": 3,
      "metadata": {
        "id": "ad9f0d86-6eb6-41e2-8da3-e13d78bf9344"
      },
      "outputs": [],
      "source": [
        "# also set a random state\n",
        "rs = 123"
      ]
    },
    {
      "cell_type": "markdown",
      "metadata": {
        "id": "44040660-f915-4e7a-8121-a435c60a749a"
      },
      "source": [
        "### Calculate the consine similarity between two example courses\n"
      ]
    },
    {
      "cell_type": "markdown",
      "metadata": {
        "id": "a98bea36-73e9-4704-a913-d11b4cc348a5"
      },
      "source": [
        "Suppose we have two simple example courses:\n"
      ]
    },
    {
      "cell_type": "code",
      "execution_count": 4,
      "metadata": {
        "id": "24a82d97-dd59-45ff-a88b-4aa96aff0d00"
      },
      "outputs": [],
      "source": [
        "course1 = \"machine learning for everyone\""
      ]
    },
    {
      "cell_type": "code",
      "execution_count": 5,
      "metadata": {
        "id": "b83936f9-9b45-4799-a0e6-16c8355e81d5"
      },
      "outputs": [],
      "source": [
        "course2 = \"machine learning for beginners\""
      ]
    },
    {
      "cell_type": "markdown",
      "metadata": {
        "id": "28cec50f-8268-4548-9f63-811424c355bb"
      },
      "source": [
        "Next we can quickly tokenize them using the split() method (or using `word_tokenize()` method provided in `nltk` as we did in the previous lab).\n"
      ]
    },
    {
      "cell_type": "code",
      "execution_count": 6,
      "metadata": {
        "id": "a55c0e6f-3809-4d4d-8c7d-b1c48dd21bb8"
      },
      "outputs": [],
      "source": [
        "tokens = set(course1.split() + course2.split())"
      ]
    },
    {
      "cell_type": "code",
      "execution_count": 7,
      "metadata": {
        "id": "36f61871-6e4f-49e8-a570-6076661ad6dd",
        "outputId": "286d402f-06ca-4590-a546-c6211774a633",
        "colab": {
          "base_uri": "https://localhost:8080/"
        }
      },
      "outputs": [
        {
          "output_type": "execute_result",
          "data": {
            "text/plain": [
              "['everyone', 'learning', 'beginners', 'for', 'machine']"
            ]
          },
          "metadata": {},
          "execution_count": 7
        }
      ],
      "source": [
        "tokens = list(tokens)\n",
        "tokens"
      ]
    },
    {
      "cell_type": "markdown",
      "metadata": {
        "id": "58990988-cf21-4e54-9f11-d728b113d7c6"
      },
      "source": [
        "then generate BoW features (token counts) for these two courses (or using `tokens_dict.doc2bow()` method provided in `nltk`, similar to what we did in the previous lab).\n"
      ]
    },
    {
      "cell_type": "code",
      "execution_count": 8,
      "metadata": {
        "id": "08110100-81bf-40ec-b837-ba2b026c88c1"
      },
      "outputs": [],
      "source": [
        "def generate_sparse_bow(course):\n",
        "    bow_vector = []\n",
        "    words = course.split()\n",
        "    for token in tokens:\n",
        "        if token in words:\n",
        "            bow_vector.append(1)\n",
        "        else:\n",
        "            bow_vector.append(0)\n",
        "    return bow_vector"
      ]
    },
    {
      "cell_type": "code",
      "execution_count": 9,
      "metadata": {
        "id": "8a2cd3ed-0209-4cf9-8963-7b5085d60f9c",
        "outputId": "0031dcc6-ac5f-4419-aad6-4d58d7a804a1",
        "colab": {
          "base_uri": "https://localhost:8080/"
        }
      },
      "outputs": [
        {
          "output_type": "execute_result",
          "data": {
            "text/plain": [
              "[1, 1, 0, 1, 1]"
            ]
          },
          "metadata": {},
          "execution_count": 9
        }
      ],
      "source": [
        "bow1 = generate_sparse_bow(course1)\n",
        "bow1"
      ]
    },
    {
      "cell_type": "code",
      "execution_count": 10,
      "metadata": {
        "id": "cd29f0ac-fac5-498b-8872-67be69d4e156",
        "outputId": "9b1e1516-2537-47a1-8f2d-1cf12fc62997",
        "colab": {
          "base_uri": "https://localhost:8080/"
        }
      },
      "outputs": [
        {
          "output_type": "execute_result",
          "data": {
            "text/plain": [
              "[0, 1, 1, 1, 1]"
            ]
          },
          "metadata": {},
          "execution_count": 10
        }
      ],
      "source": [
        "bow2 = generate_sparse_bow(course2)\n",
        "bow2"
      ]
    },
    {
      "cell_type": "markdown",
      "metadata": {
        "id": "b34db294-9107-42db-a5da-fbe4a3743dd4"
      },
      "source": [
        "From the above cell outputs, we can see the two vectors are very similar. Only two dimensions are different.\n"
      ]
    },
    {
      "cell_type": "markdown",
      "metadata": {
        "id": "d0885134-e76d-4411-9bf1-34ee05eb27c1"
      },
      "source": [
        "Now we can quickly apply the cosine similarity measurement on the two vectors:\n"
      ]
    },
    {
      "cell_type": "code",
      "execution_count": 11,
      "metadata": {
        "id": "2d520734-f65f-4480-99f2-4bcd9acd059c"
      },
      "outputs": [],
      "source": [
        "cos_sim = 1 - cosine(bow1, bow2)"
      ]
    },
    {
      "cell_type": "code",
      "execution_count": 12,
      "metadata": {
        "id": "8951f289-9af7-44cb-abe5-e9cd72bb4d2e",
        "outputId": "fa179de5-44c2-495b-ec46-d841e0953fc7",
        "colab": {
          "base_uri": "https://localhost:8080/"
        }
      },
      "outputs": [
        {
          "output_type": "stream",
          "name": "stdout",
          "text": [
            "The cosine similarity between course `machine learning for everyone` and course `machine learning for beginners` is 75.0%\n"
          ]
        }
      ],
      "source": [
        "print(f\"The cosine similarity between course `{course1}` and course `{course2}` is {round(cos_sim, 2) * 100}%\")"
      ]
    },
    {
      "cell_type": "markdown",
      "metadata": {
        "id": "caf208bf-1a47-4415-85fe-560469bcde87"
      },
      "source": [
        "_Practice: Try other similarity measurements such as Euclidean Distance or Jaccard index._\n"
      ]
    },
    {
      "cell_type": "code",
      "execution_count": 13,
      "metadata": {
        "id": "988313ee-1ba9-44b1-9353-412d54bf145b"
      },
      "outputs": [],
      "source": [
        "# WRITE YOUR CODE HERE\n",
        "s=0\n",
        "j_1,j_2 = 0,0\n",
        "for e1,e2 in zip(bow1,bow2):\n",
        "    s +=(e1-e2)**2\n",
        "    j_1 += e1 & e2\n",
        "    j_2 += e1 | e2\n",
        "euclid = np.sqrt(s)\n",
        "\n",
        "jaccard = j_1/j_2"
      ]
    },
    {
      "cell_type": "markdown",
      "metadata": {
        "id": "e2364aee-efaf-48b6-b044-adb7c7630d67"
      },
      "source": [
        "For Example: Euclidean distance between 2 points $p$ and $q$ can be summarized by this equation: $d(p,q)={\\sqrt {(p_{1}-q_{1})^{2}+(p_{2}-q_{2})^{2}+(p_{3}-q_{3})^{2}}}$. You can use `euclidean(p,q)` function from ```scipy``` package to calculate it. \n"
      ]
    },
    {
      "cell_type": "markdown",
      "metadata": {
        "id": "8b3d0acf-0661-4350-9f17-86ae6aa79259"
      },
      "source": [
        "### TASK: Find similar courses to the course `Machine Learning with Python`\n"
      ]
    },
    {
      "cell_type": "markdown",
      "metadata": {
        "id": "1706058a-2c47-4a4e-bdc8-4392bc9ceacf"
      },
      "source": [
        "Now you have learned how to calculate cosine similarity between two sample BoW feature vectors. Let's work on some real course BoW feature vectors.\n"
      ]
    },
    {
      "cell_type": "code",
      "execution_count": 14,
      "metadata": {
        "id": "847a7d7b-b450-470c-8cc4-b2156d1732f6"
      },
      "outputs": [],
      "source": [
        "# Load the BoW features as Pandas dataframe\n",
        "bows_url = \"https://cf-courses-data.s3.us.cloud-object-storage.appdomain.cloud/IBM-ML321EN-SkillsNetwork/labs/datasets/courses_bows.csv\"\n",
        "bows_df = pd.read_csv(bows_url)\n",
        "bows_df = bows_df[['doc_id', 'token', 'bow']]"
      ]
    },
    {
      "cell_type": "code",
      "execution_count": 15,
      "metadata": {
        "id": "7401761b-1e93-4573-9c3a-6489fe24d9c7",
        "outputId": "458703e5-f9f9-4367-d41f-827f6f7ebdd5",
        "colab": {
          "base_uri": "https://localhost:8080/",
          "height": 363
        }
      },
      "outputs": [
        {
          "output_type": "execute_result",
          "data": {
            "text/plain": [
              "     doc_id      token  bow\n",
              "0  ML0201EN         ai    2\n",
              "1  ML0201EN       apps    2\n",
              "2  ML0201EN      build    2\n",
              "3  ML0201EN      cloud    1\n",
              "4  ML0201EN     coming    1\n",
              "5  ML0201EN     create    1\n",
              "6  ML0201EN       data    1\n",
              "7  ML0201EN  developer    1\n",
              "8  ML0201EN      found    1\n",
              "9  ML0201EN        fun    1"
            ],
            "text/html": [
              "\n",
              "  <div id=\"df-b1177e4e-74c9-4a38-a92e-15ab8eda2837\">\n",
              "    <div class=\"colab-df-container\">\n",
              "      <div>\n",
              "<style scoped>\n",
              "    .dataframe tbody tr th:only-of-type {\n",
              "        vertical-align: middle;\n",
              "    }\n",
              "\n",
              "    .dataframe tbody tr th {\n",
              "        vertical-align: top;\n",
              "    }\n",
              "\n",
              "    .dataframe thead th {\n",
              "        text-align: right;\n",
              "    }\n",
              "</style>\n",
              "<table border=\"1\" class=\"dataframe\">\n",
              "  <thead>\n",
              "    <tr style=\"text-align: right;\">\n",
              "      <th></th>\n",
              "      <th>doc_id</th>\n",
              "      <th>token</th>\n",
              "      <th>bow</th>\n",
              "    </tr>\n",
              "  </thead>\n",
              "  <tbody>\n",
              "    <tr>\n",
              "      <th>0</th>\n",
              "      <td>ML0201EN</td>\n",
              "      <td>ai</td>\n",
              "      <td>2</td>\n",
              "    </tr>\n",
              "    <tr>\n",
              "      <th>1</th>\n",
              "      <td>ML0201EN</td>\n",
              "      <td>apps</td>\n",
              "      <td>2</td>\n",
              "    </tr>\n",
              "    <tr>\n",
              "      <th>2</th>\n",
              "      <td>ML0201EN</td>\n",
              "      <td>build</td>\n",
              "      <td>2</td>\n",
              "    </tr>\n",
              "    <tr>\n",
              "      <th>3</th>\n",
              "      <td>ML0201EN</td>\n",
              "      <td>cloud</td>\n",
              "      <td>1</td>\n",
              "    </tr>\n",
              "    <tr>\n",
              "      <th>4</th>\n",
              "      <td>ML0201EN</td>\n",
              "      <td>coming</td>\n",
              "      <td>1</td>\n",
              "    </tr>\n",
              "    <tr>\n",
              "      <th>5</th>\n",
              "      <td>ML0201EN</td>\n",
              "      <td>create</td>\n",
              "      <td>1</td>\n",
              "    </tr>\n",
              "    <tr>\n",
              "      <th>6</th>\n",
              "      <td>ML0201EN</td>\n",
              "      <td>data</td>\n",
              "      <td>1</td>\n",
              "    </tr>\n",
              "    <tr>\n",
              "      <th>7</th>\n",
              "      <td>ML0201EN</td>\n",
              "      <td>developer</td>\n",
              "      <td>1</td>\n",
              "    </tr>\n",
              "    <tr>\n",
              "      <th>8</th>\n",
              "      <td>ML0201EN</td>\n",
              "      <td>found</td>\n",
              "      <td>1</td>\n",
              "    </tr>\n",
              "    <tr>\n",
              "      <th>9</th>\n",
              "      <td>ML0201EN</td>\n",
              "      <td>fun</td>\n",
              "      <td>1</td>\n",
              "    </tr>\n",
              "  </tbody>\n",
              "</table>\n",
              "</div>\n",
              "      <button class=\"colab-df-convert\" onclick=\"convertToInteractive('df-b1177e4e-74c9-4a38-a92e-15ab8eda2837')\"\n",
              "              title=\"Convert this dataframe to an interactive table.\"\n",
              "              style=\"display:none;\">\n",
              "        \n",
              "  <svg xmlns=\"http://www.w3.org/2000/svg\" height=\"24px\"viewBox=\"0 0 24 24\"\n",
              "       width=\"24px\">\n",
              "    <path d=\"M0 0h24v24H0V0z\" fill=\"none\"/>\n",
              "    <path d=\"M18.56 5.44l.94 2.06.94-2.06 2.06-.94-2.06-.94-.94-2.06-.94 2.06-2.06.94zm-11 1L8.5 8.5l.94-2.06 2.06-.94-2.06-.94L8.5 2.5l-.94 2.06-2.06.94zm10 10l.94 2.06.94-2.06 2.06-.94-2.06-.94-.94-2.06-.94 2.06-2.06.94z\"/><path d=\"M17.41 7.96l-1.37-1.37c-.4-.4-.92-.59-1.43-.59-.52 0-1.04.2-1.43.59L10.3 9.45l-7.72 7.72c-.78.78-.78 2.05 0 2.83L4 21.41c.39.39.9.59 1.41.59.51 0 1.02-.2 1.41-.59l7.78-7.78 2.81-2.81c.8-.78.8-2.07 0-2.86zM5.41 20L4 18.59l7.72-7.72 1.47 1.35L5.41 20z\"/>\n",
              "  </svg>\n",
              "      </button>\n",
              "      \n",
              "  <style>\n",
              "    .colab-df-container {\n",
              "      display:flex;\n",
              "      flex-wrap:wrap;\n",
              "      gap: 12px;\n",
              "    }\n",
              "\n",
              "    .colab-df-convert {\n",
              "      background-color: #E8F0FE;\n",
              "      border: none;\n",
              "      border-radius: 50%;\n",
              "      cursor: pointer;\n",
              "      display: none;\n",
              "      fill: #1967D2;\n",
              "      height: 32px;\n",
              "      padding: 0 0 0 0;\n",
              "      width: 32px;\n",
              "    }\n",
              "\n",
              "    .colab-df-convert:hover {\n",
              "      background-color: #E2EBFA;\n",
              "      box-shadow: 0px 1px 2px rgba(60, 64, 67, 0.3), 0px 1px 3px 1px rgba(60, 64, 67, 0.15);\n",
              "      fill: #174EA6;\n",
              "    }\n",
              "\n",
              "    [theme=dark] .colab-df-convert {\n",
              "      background-color: #3B4455;\n",
              "      fill: #D2E3FC;\n",
              "    }\n",
              "\n",
              "    [theme=dark] .colab-df-convert:hover {\n",
              "      background-color: #434B5C;\n",
              "      box-shadow: 0px 1px 3px 1px rgba(0, 0, 0, 0.15);\n",
              "      filter: drop-shadow(0px 1px 2px rgba(0, 0, 0, 0.3));\n",
              "      fill: #FFFFFF;\n",
              "    }\n",
              "  </style>\n",
              "\n",
              "      <script>\n",
              "        const buttonEl =\n",
              "          document.querySelector('#df-b1177e4e-74c9-4a38-a92e-15ab8eda2837 button.colab-df-convert');\n",
              "        buttonEl.style.display =\n",
              "          google.colab.kernel.accessAllowed ? 'block' : 'none';\n",
              "\n",
              "        async function convertToInteractive(key) {\n",
              "          const element = document.querySelector('#df-b1177e4e-74c9-4a38-a92e-15ab8eda2837');\n",
              "          const dataTable =\n",
              "            await google.colab.kernel.invokeFunction('convertToInteractive',\n",
              "                                                     [key], {});\n",
              "          if (!dataTable) return;\n",
              "\n",
              "          const docLinkHtml = 'Like what you see? Visit the ' +\n",
              "            '<a target=\"_blank\" href=https://colab.research.google.com/notebooks/data_table.ipynb>data table notebook</a>'\n",
              "            + ' to learn more about interactive tables.';\n",
              "          element.innerHTML = '';\n",
              "          dataTable['output_type'] = 'display_data';\n",
              "          await google.colab.output.renderOutput(dataTable, element);\n",
              "          const docLink = document.createElement('div');\n",
              "          docLink.innerHTML = docLinkHtml;\n",
              "          element.appendChild(docLink);\n",
              "        }\n",
              "      </script>\n",
              "    </div>\n",
              "  </div>\n",
              "  "
            ]
          },
          "metadata": {},
          "execution_count": 15
        }
      ],
      "source": [
        "bows_df.head(10)"
      ]
    },
    {
      "cell_type": "markdown",
      "metadata": {
        "id": "c0eb96cf-4aa2-4a89-bf95-b7b841a3d8c9"
      },
      "source": [
        "The `bows_df` dataframe contains the BoW features vectors for each course, in a vertical and dense format. It has three columns `doc_id` represents the course id, `token` represents the token value, and `bow` represents the BoW value (token count).\n"
      ]
    },
    {
      "cell_type": "markdown",
      "metadata": {
        "id": "916f25c8-e469-4d6e-b54a-6e594071c39b"
      },
      "source": [
        "Then, let's load another course content dataset which contains the course title and description:\n"
      ]
    },
    {
      "cell_type": "code",
      "execution_count": 16,
      "metadata": {
        "id": "ab81c0d6-eabf-4fdb-90b7-9af8d4d7f983"
      },
      "outputs": [],
      "source": [
        "# Load the course dataframe\n",
        "course_url = \"https://cf-courses-data.s3.us.cloud-object-storage.appdomain.cloud/IBM-ML321EN-SkillsNetwork/labs/datasets/course_processed.csv\"\n",
        "course_df = pd.read_csv(course_url)"
      ]
    },
    {
      "cell_type": "code",
      "execution_count": 17,
      "metadata": {
        "id": "a6a4a084-5df4-4ec0-aaab-32382b223086",
        "outputId": "47d4ff65-276a-42bd-baf5-098b71b95a5d",
        "colab": {
          "base_uri": "https://localhost:8080/",
          "height": 363
        }
      },
      "outputs": [
        {
          "output_type": "execute_result",
          "data": {
            "text/plain": [
              "    COURSE_ID                                              TITLE  \\\n",
              "0    ML0201EN  robots are coming  build iot apps with watson ...   \n",
              "1    ML0122EN                accelerating deep learning with gpu   \n",
              "2  GPXX0ZG0EN  consuming restful services using the reactive ...   \n",
              "3    RP0105EN         analyzing big data in r using apache spark   \n",
              "4  GPXX0Z2PEN  containerizing  packaging  and running a sprin...   \n",
              "5    CNSC02EN   cloud native security conference   data security   \n",
              "6    DX0106EN  data science bootcamp with r for university pr...   \n",
              "7  GPXX0FTCEN  learn how to use docker containers for iterati...   \n",
              "8  RAVSCTEST1                                       scorm test 1   \n",
              "9  GPXX06RFEN                 create your first mongodb database   \n",
              "\n",
              "                                         DESCRIPTION  \n",
              "0  have fun with iot and learn along the way  if ...  \n",
              "1  training complex deep learning models with lar...  \n",
              "2  learn how to use a reactive jax rs client to a...  \n",
              "3  apache spark is a popular cluster computing fr...  \n",
              "4  learn how to containerize  package  and run a ...  \n",
              "5             introduction to data security on cloud  \n",
              "6  a multi day intensive  in person data science ...  \n",
              "7  learn how to use docker containers for iterati...  \n",
              "8                                  scron test course  \n",
              "9  in this guided project  you will get started w...  "
            ],
            "text/html": [
              "\n",
              "  <div id=\"df-c227f9e1-b516-4fb0-92e7-bb09d4fde9eb\">\n",
              "    <div class=\"colab-df-container\">\n",
              "      <div>\n",
              "<style scoped>\n",
              "    .dataframe tbody tr th:only-of-type {\n",
              "        vertical-align: middle;\n",
              "    }\n",
              "\n",
              "    .dataframe tbody tr th {\n",
              "        vertical-align: top;\n",
              "    }\n",
              "\n",
              "    .dataframe thead th {\n",
              "        text-align: right;\n",
              "    }\n",
              "</style>\n",
              "<table border=\"1\" class=\"dataframe\">\n",
              "  <thead>\n",
              "    <tr style=\"text-align: right;\">\n",
              "      <th></th>\n",
              "      <th>COURSE_ID</th>\n",
              "      <th>TITLE</th>\n",
              "      <th>DESCRIPTION</th>\n",
              "    </tr>\n",
              "  </thead>\n",
              "  <tbody>\n",
              "    <tr>\n",
              "      <th>0</th>\n",
              "      <td>ML0201EN</td>\n",
              "      <td>robots are coming  build iot apps with watson ...</td>\n",
              "      <td>have fun with iot and learn along the way  if ...</td>\n",
              "    </tr>\n",
              "    <tr>\n",
              "      <th>1</th>\n",
              "      <td>ML0122EN</td>\n",
              "      <td>accelerating deep learning with gpu</td>\n",
              "      <td>training complex deep learning models with lar...</td>\n",
              "    </tr>\n",
              "    <tr>\n",
              "      <th>2</th>\n",
              "      <td>GPXX0ZG0EN</td>\n",
              "      <td>consuming restful services using the reactive ...</td>\n",
              "      <td>learn how to use a reactive jax rs client to a...</td>\n",
              "    </tr>\n",
              "    <tr>\n",
              "      <th>3</th>\n",
              "      <td>RP0105EN</td>\n",
              "      <td>analyzing big data in r using apache spark</td>\n",
              "      <td>apache spark is a popular cluster computing fr...</td>\n",
              "    </tr>\n",
              "    <tr>\n",
              "      <th>4</th>\n",
              "      <td>GPXX0Z2PEN</td>\n",
              "      <td>containerizing  packaging  and running a sprin...</td>\n",
              "      <td>learn how to containerize  package  and run a ...</td>\n",
              "    </tr>\n",
              "    <tr>\n",
              "      <th>5</th>\n",
              "      <td>CNSC02EN</td>\n",
              "      <td>cloud native security conference   data security</td>\n",
              "      <td>introduction to data security on cloud</td>\n",
              "    </tr>\n",
              "    <tr>\n",
              "      <th>6</th>\n",
              "      <td>DX0106EN</td>\n",
              "      <td>data science bootcamp with r for university pr...</td>\n",
              "      <td>a multi day intensive  in person data science ...</td>\n",
              "    </tr>\n",
              "    <tr>\n",
              "      <th>7</th>\n",
              "      <td>GPXX0FTCEN</td>\n",
              "      <td>learn how to use docker containers for iterati...</td>\n",
              "      <td>learn how to use docker containers for iterati...</td>\n",
              "    </tr>\n",
              "    <tr>\n",
              "      <th>8</th>\n",
              "      <td>RAVSCTEST1</td>\n",
              "      <td>scorm test 1</td>\n",
              "      <td>scron test course</td>\n",
              "    </tr>\n",
              "    <tr>\n",
              "      <th>9</th>\n",
              "      <td>GPXX06RFEN</td>\n",
              "      <td>create your first mongodb database</td>\n",
              "      <td>in this guided project  you will get started w...</td>\n",
              "    </tr>\n",
              "  </tbody>\n",
              "</table>\n",
              "</div>\n",
              "      <button class=\"colab-df-convert\" onclick=\"convertToInteractive('df-c227f9e1-b516-4fb0-92e7-bb09d4fde9eb')\"\n",
              "              title=\"Convert this dataframe to an interactive table.\"\n",
              "              style=\"display:none;\">\n",
              "        \n",
              "  <svg xmlns=\"http://www.w3.org/2000/svg\" height=\"24px\"viewBox=\"0 0 24 24\"\n",
              "       width=\"24px\">\n",
              "    <path d=\"M0 0h24v24H0V0z\" fill=\"none\"/>\n",
              "    <path d=\"M18.56 5.44l.94 2.06.94-2.06 2.06-.94-2.06-.94-.94-2.06-.94 2.06-2.06.94zm-11 1L8.5 8.5l.94-2.06 2.06-.94-2.06-.94L8.5 2.5l-.94 2.06-2.06.94zm10 10l.94 2.06.94-2.06 2.06-.94-2.06-.94-.94-2.06-.94 2.06-2.06.94z\"/><path d=\"M17.41 7.96l-1.37-1.37c-.4-.4-.92-.59-1.43-.59-.52 0-1.04.2-1.43.59L10.3 9.45l-7.72 7.72c-.78.78-.78 2.05 0 2.83L4 21.41c.39.39.9.59 1.41.59.51 0 1.02-.2 1.41-.59l7.78-7.78 2.81-2.81c.8-.78.8-2.07 0-2.86zM5.41 20L4 18.59l7.72-7.72 1.47 1.35L5.41 20z\"/>\n",
              "  </svg>\n",
              "      </button>\n",
              "      \n",
              "  <style>\n",
              "    .colab-df-container {\n",
              "      display:flex;\n",
              "      flex-wrap:wrap;\n",
              "      gap: 12px;\n",
              "    }\n",
              "\n",
              "    .colab-df-convert {\n",
              "      background-color: #E8F0FE;\n",
              "      border: none;\n",
              "      border-radius: 50%;\n",
              "      cursor: pointer;\n",
              "      display: none;\n",
              "      fill: #1967D2;\n",
              "      height: 32px;\n",
              "      padding: 0 0 0 0;\n",
              "      width: 32px;\n",
              "    }\n",
              "\n",
              "    .colab-df-convert:hover {\n",
              "      background-color: #E2EBFA;\n",
              "      box-shadow: 0px 1px 2px rgba(60, 64, 67, 0.3), 0px 1px 3px 1px rgba(60, 64, 67, 0.15);\n",
              "      fill: #174EA6;\n",
              "    }\n",
              "\n",
              "    [theme=dark] .colab-df-convert {\n",
              "      background-color: #3B4455;\n",
              "      fill: #D2E3FC;\n",
              "    }\n",
              "\n",
              "    [theme=dark] .colab-df-convert:hover {\n",
              "      background-color: #434B5C;\n",
              "      box-shadow: 0px 1px 3px 1px rgba(0, 0, 0, 0.15);\n",
              "      filter: drop-shadow(0px 1px 2px rgba(0, 0, 0, 0.3));\n",
              "      fill: #FFFFFF;\n",
              "    }\n",
              "  </style>\n",
              "\n",
              "      <script>\n",
              "        const buttonEl =\n",
              "          document.querySelector('#df-c227f9e1-b516-4fb0-92e7-bb09d4fde9eb button.colab-df-convert');\n",
              "        buttonEl.style.display =\n",
              "          google.colab.kernel.accessAllowed ? 'block' : 'none';\n",
              "\n",
              "        async function convertToInteractive(key) {\n",
              "          const element = document.querySelector('#df-c227f9e1-b516-4fb0-92e7-bb09d4fde9eb');\n",
              "          const dataTable =\n",
              "            await google.colab.kernel.invokeFunction('convertToInteractive',\n",
              "                                                     [key], {});\n",
              "          if (!dataTable) return;\n",
              "\n",
              "          const docLinkHtml = 'Like what you see? Visit the ' +\n",
              "            '<a target=\"_blank\" href=https://colab.research.google.com/notebooks/data_table.ipynb>data table notebook</a>'\n",
              "            + ' to learn more about interactive tables.';\n",
              "          element.innerHTML = '';\n",
              "          dataTable['output_type'] = 'display_data';\n",
              "          await google.colab.output.renderOutput(dataTable, element);\n",
              "          const docLink = document.createElement('div');\n",
              "          docLink.innerHTML = docLinkHtml;\n",
              "          element.appendChild(docLink);\n",
              "        }\n",
              "      </script>\n",
              "    </div>\n",
              "  </div>\n",
              "  "
            ]
          },
          "metadata": {},
          "execution_count": 17
        }
      ],
      "source": [
        "course_df.head(10)"
      ]
    },
    {
      "cell_type": "markdown",
      "metadata": {
        "id": "51fa9053-8c0f-46ff-9ab7-28992390cbb1"
      },
      "source": [
        "Given course ID `ML0101ENv3`, let's find out its title and description:\n"
      ]
    },
    {
      "cell_type": "code",
      "execution_count": 18,
      "metadata": {
        "id": "127f8e3f-b0ac-4376-99b4-815fb9508e03",
        "outputId": "8c822af9-0bd4-4145-9947-9b55ba8d7560",
        "colab": {
          "base_uri": "https://localhost:8080/",
          "height": 80
        }
      },
      "outputs": [
        {
          "output_type": "execute_result",
          "data": {
            "text/plain": [
              "      COURSE_ID                         TITLE  \\\n",
              "158  ML0101ENv3  machine learning with python   \n",
              "\n",
              "                                           DESCRIPTION  \n",
              "158  machine learning can be an incredibly benefici...  "
            ],
            "text/html": [
              "\n",
              "  <div id=\"df-8fdb8349-b11c-4255-8aba-216fb9b45e75\">\n",
              "    <div class=\"colab-df-container\">\n",
              "      <div>\n",
              "<style scoped>\n",
              "    .dataframe tbody tr th:only-of-type {\n",
              "        vertical-align: middle;\n",
              "    }\n",
              "\n",
              "    .dataframe tbody tr th {\n",
              "        vertical-align: top;\n",
              "    }\n",
              "\n",
              "    .dataframe thead th {\n",
              "        text-align: right;\n",
              "    }\n",
              "</style>\n",
              "<table border=\"1\" class=\"dataframe\">\n",
              "  <thead>\n",
              "    <tr style=\"text-align: right;\">\n",
              "      <th></th>\n",
              "      <th>COURSE_ID</th>\n",
              "      <th>TITLE</th>\n",
              "      <th>DESCRIPTION</th>\n",
              "    </tr>\n",
              "  </thead>\n",
              "  <tbody>\n",
              "    <tr>\n",
              "      <th>158</th>\n",
              "      <td>ML0101ENv3</td>\n",
              "      <td>machine learning with python</td>\n",
              "      <td>machine learning can be an incredibly benefici...</td>\n",
              "    </tr>\n",
              "  </tbody>\n",
              "</table>\n",
              "</div>\n",
              "      <button class=\"colab-df-convert\" onclick=\"convertToInteractive('df-8fdb8349-b11c-4255-8aba-216fb9b45e75')\"\n",
              "              title=\"Convert this dataframe to an interactive table.\"\n",
              "              style=\"display:none;\">\n",
              "        \n",
              "  <svg xmlns=\"http://www.w3.org/2000/svg\" height=\"24px\"viewBox=\"0 0 24 24\"\n",
              "       width=\"24px\">\n",
              "    <path d=\"M0 0h24v24H0V0z\" fill=\"none\"/>\n",
              "    <path d=\"M18.56 5.44l.94 2.06.94-2.06 2.06-.94-2.06-.94-.94-2.06-.94 2.06-2.06.94zm-11 1L8.5 8.5l.94-2.06 2.06-.94-2.06-.94L8.5 2.5l-.94 2.06-2.06.94zm10 10l.94 2.06.94-2.06 2.06-.94-2.06-.94-.94-2.06-.94 2.06-2.06.94z\"/><path d=\"M17.41 7.96l-1.37-1.37c-.4-.4-.92-.59-1.43-.59-.52 0-1.04.2-1.43.59L10.3 9.45l-7.72 7.72c-.78.78-.78 2.05 0 2.83L4 21.41c.39.39.9.59 1.41.59.51 0 1.02-.2 1.41-.59l7.78-7.78 2.81-2.81c.8-.78.8-2.07 0-2.86zM5.41 20L4 18.59l7.72-7.72 1.47 1.35L5.41 20z\"/>\n",
              "  </svg>\n",
              "      </button>\n",
              "      \n",
              "  <style>\n",
              "    .colab-df-container {\n",
              "      display:flex;\n",
              "      flex-wrap:wrap;\n",
              "      gap: 12px;\n",
              "    }\n",
              "\n",
              "    .colab-df-convert {\n",
              "      background-color: #E8F0FE;\n",
              "      border: none;\n",
              "      border-radius: 50%;\n",
              "      cursor: pointer;\n",
              "      display: none;\n",
              "      fill: #1967D2;\n",
              "      height: 32px;\n",
              "      padding: 0 0 0 0;\n",
              "      width: 32px;\n",
              "    }\n",
              "\n",
              "    .colab-df-convert:hover {\n",
              "      background-color: #E2EBFA;\n",
              "      box-shadow: 0px 1px 2px rgba(60, 64, 67, 0.3), 0px 1px 3px 1px rgba(60, 64, 67, 0.15);\n",
              "      fill: #174EA6;\n",
              "    }\n",
              "\n",
              "    [theme=dark] .colab-df-convert {\n",
              "      background-color: #3B4455;\n",
              "      fill: #D2E3FC;\n",
              "    }\n",
              "\n",
              "    [theme=dark] .colab-df-convert:hover {\n",
              "      background-color: #434B5C;\n",
              "      box-shadow: 0px 1px 3px 1px rgba(0, 0, 0, 0.15);\n",
              "      filter: drop-shadow(0px 1px 2px rgba(0, 0, 0, 0.3));\n",
              "      fill: #FFFFFF;\n",
              "    }\n",
              "  </style>\n",
              "\n",
              "      <script>\n",
              "        const buttonEl =\n",
              "          document.querySelector('#df-8fdb8349-b11c-4255-8aba-216fb9b45e75 button.colab-df-convert');\n",
              "        buttonEl.style.display =\n",
              "          google.colab.kernel.accessAllowed ? 'block' : 'none';\n",
              "\n",
              "        async function convertToInteractive(key) {\n",
              "          const element = document.querySelector('#df-8fdb8349-b11c-4255-8aba-216fb9b45e75');\n",
              "          const dataTable =\n",
              "            await google.colab.kernel.invokeFunction('convertToInteractive',\n",
              "                                                     [key], {});\n",
              "          if (!dataTable) return;\n",
              "\n",
              "          const docLinkHtml = 'Like what you see? Visit the ' +\n",
              "            '<a target=\"_blank\" href=https://colab.research.google.com/notebooks/data_table.ipynb>data table notebook</a>'\n",
              "            + ' to learn more about interactive tables.';\n",
              "          element.innerHTML = '';\n",
              "          dataTable['output_type'] = 'display_data';\n",
              "          await google.colab.output.renderOutput(dataTable, element);\n",
              "          const docLink = document.createElement('div');\n",
              "          docLink.innerHTML = docLinkHtml;\n",
              "          element.appendChild(docLink);\n",
              "        }\n",
              "      </script>\n",
              "    </div>\n",
              "  </div>\n",
              "  "
            ]
          },
          "metadata": {},
          "execution_count": 18
        }
      ],
      "source": [
        "course_df[course_df['COURSE_ID'] == 'ML0101ENv3']"
      ]
    },
    {
      "cell_type": "markdown",
      "metadata": {
        "id": "24a6dca1-42ed-4bf5-99a2-ddbe996ebc0a"
      },
      "source": [
        "We can see it is a machine learning with Python course so we can expect any machine learning or Python related courses would be similar.\n"
      ]
    },
    {
      "cell_type": "markdown",
      "metadata": {
        "id": "be5546e2-3b18-48d2-8aba-d27711179466"
      },
      "source": [
        "Then, let's print its associated BoW features:\n"
      ]
    },
    {
      "cell_type": "code",
      "execution_count": 19,
      "metadata": {
        "id": "8b77e31b-d041-482c-82c6-384f47c304ae",
        "outputId": "1cdb7ff4-3974-4f68-f4dd-876bae49e9e0",
        "colab": {
          "base_uri": "https://localhost:8080/",
          "height": 645
        }
      },
      "outputs": [
        {
          "output_type": "execute_result",
          "data": {
            "text/plain": [
              "          doc_id         token  bow\n",
              "2747  ML0101ENv3        course    1\n",
              "2748  ML0101ENv3      learning    4\n",
              "2749  ML0101ENv3       machine    3\n",
              "2750  ML0101ENv3          need    1\n",
              "2751  ML0101ENv3           get    1\n",
              "2752  ML0101ENv3       started    1\n",
              "2753  ML0101ENv3        python    2\n",
              "2754  ML0101ENv3          tool    1\n",
              "2755  ML0101ENv3         tools    1\n",
              "2756  ML0101ENv3       predict    1\n",
              "2757  ML0101ENv3          free    1\n",
              "2758  ML0101ENv3        hidden    1\n",
              "2759  ML0101ENv3      insights    1\n",
              "2760  ML0101ENv3    beneficial    1\n",
              "2761  ML0101ENv3        future    1\n",
              "2762  ML0101ENv3        trends    1\n",
              "2763  ML0101ENv3          give    1\n",
              "2764  ML0101ENv3    supervised    1\n",
              "2765  ML0101ENv3  unsupervised    1"
            ],
            "text/html": [
              "\n",
              "  <div id=\"df-f18d3dc2-1220-457d-a8b1-207d8e81ee95\">\n",
              "    <div class=\"colab-df-container\">\n",
              "      <div>\n",
              "<style scoped>\n",
              "    .dataframe tbody tr th:only-of-type {\n",
              "        vertical-align: middle;\n",
              "    }\n",
              "\n",
              "    .dataframe tbody tr th {\n",
              "        vertical-align: top;\n",
              "    }\n",
              "\n",
              "    .dataframe thead th {\n",
              "        text-align: right;\n",
              "    }\n",
              "</style>\n",
              "<table border=\"1\" class=\"dataframe\">\n",
              "  <thead>\n",
              "    <tr style=\"text-align: right;\">\n",
              "      <th></th>\n",
              "      <th>doc_id</th>\n",
              "      <th>token</th>\n",
              "      <th>bow</th>\n",
              "    </tr>\n",
              "  </thead>\n",
              "  <tbody>\n",
              "    <tr>\n",
              "      <th>2747</th>\n",
              "      <td>ML0101ENv3</td>\n",
              "      <td>course</td>\n",
              "      <td>1</td>\n",
              "    </tr>\n",
              "    <tr>\n",
              "      <th>2748</th>\n",
              "      <td>ML0101ENv3</td>\n",
              "      <td>learning</td>\n",
              "      <td>4</td>\n",
              "    </tr>\n",
              "    <tr>\n",
              "      <th>2749</th>\n",
              "      <td>ML0101ENv3</td>\n",
              "      <td>machine</td>\n",
              "      <td>3</td>\n",
              "    </tr>\n",
              "    <tr>\n",
              "      <th>2750</th>\n",
              "      <td>ML0101ENv3</td>\n",
              "      <td>need</td>\n",
              "      <td>1</td>\n",
              "    </tr>\n",
              "    <tr>\n",
              "      <th>2751</th>\n",
              "      <td>ML0101ENv3</td>\n",
              "      <td>get</td>\n",
              "      <td>1</td>\n",
              "    </tr>\n",
              "    <tr>\n",
              "      <th>2752</th>\n",
              "      <td>ML0101ENv3</td>\n",
              "      <td>started</td>\n",
              "      <td>1</td>\n",
              "    </tr>\n",
              "    <tr>\n",
              "      <th>2753</th>\n",
              "      <td>ML0101ENv3</td>\n",
              "      <td>python</td>\n",
              "      <td>2</td>\n",
              "    </tr>\n",
              "    <tr>\n",
              "      <th>2754</th>\n",
              "      <td>ML0101ENv3</td>\n",
              "      <td>tool</td>\n",
              "      <td>1</td>\n",
              "    </tr>\n",
              "    <tr>\n",
              "      <th>2755</th>\n",
              "      <td>ML0101ENv3</td>\n",
              "      <td>tools</td>\n",
              "      <td>1</td>\n",
              "    </tr>\n",
              "    <tr>\n",
              "      <th>2756</th>\n",
              "      <td>ML0101ENv3</td>\n",
              "      <td>predict</td>\n",
              "      <td>1</td>\n",
              "    </tr>\n",
              "    <tr>\n",
              "      <th>2757</th>\n",
              "      <td>ML0101ENv3</td>\n",
              "      <td>free</td>\n",
              "      <td>1</td>\n",
              "    </tr>\n",
              "    <tr>\n",
              "      <th>2758</th>\n",
              "      <td>ML0101ENv3</td>\n",
              "      <td>hidden</td>\n",
              "      <td>1</td>\n",
              "    </tr>\n",
              "    <tr>\n",
              "      <th>2759</th>\n",
              "      <td>ML0101ENv3</td>\n",
              "      <td>insights</td>\n",
              "      <td>1</td>\n",
              "    </tr>\n",
              "    <tr>\n",
              "      <th>2760</th>\n",
              "      <td>ML0101ENv3</td>\n",
              "      <td>beneficial</td>\n",
              "      <td>1</td>\n",
              "    </tr>\n",
              "    <tr>\n",
              "      <th>2761</th>\n",
              "      <td>ML0101ENv3</td>\n",
              "      <td>future</td>\n",
              "      <td>1</td>\n",
              "    </tr>\n",
              "    <tr>\n",
              "      <th>2762</th>\n",
              "      <td>ML0101ENv3</td>\n",
              "      <td>trends</td>\n",
              "      <td>1</td>\n",
              "    </tr>\n",
              "    <tr>\n",
              "      <th>2763</th>\n",
              "      <td>ML0101ENv3</td>\n",
              "      <td>give</td>\n",
              "      <td>1</td>\n",
              "    </tr>\n",
              "    <tr>\n",
              "      <th>2764</th>\n",
              "      <td>ML0101ENv3</td>\n",
              "      <td>supervised</td>\n",
              "      <td>1</td>\n",
              "    </tr>\n",
              "    <tr>\n",
              "      <th>2765</th>\n",
              "      <td>ML0101ENv3</td>\n",
              "      <td>unsupervised</td>\n",
              "      <td>1</td>\n",
              "    </tr>\n",
              "  </tbody>\n",
              "</table>\n",
              "</div>\n",
              "      <button class=\"colab-df-convert\" onclick=\"convertToInteractive('df-f18d3dc2-1220-457d-a8b1-207d8e81ee95')\"\n",
              "              title=\"Convert this dataframe to an interactive table.\"\n",
              "              style=\"display:none;\">\n",
              "        \n",
              "  <svg xmlns=\"http://www.w3.org/2000/svg\" height=\"24px\"viewBox=\"0 0 24 24\"\n",
              "       width=\"24px\">\n",
              "    <path d=\"M0 0h24v24H0V0z\" fill=\"none\"/>\n",
              "    <path d=\"M18.56 5.44l.94 2.06.94-2.06 2.06-.94-2.06-.94-.94-2.06-.94 2.06-2.06.94zm-11 1L8.5 8.5l.94-2.06 2.06-.94-2.06-.94L8.5 2.5l-.94 2.06-2.06.94zm10 10l.94 2.06.94-2.06 2.06-.94-2.06-.94-.94-2.06-.94 2.06-2.06.94z\"/><path d=\"M17.41 7.96l-1.37-1.37c-.4-.4-.92-.59-1.43-.59-.52 0-1.04.2-1.43.59L10.3 9.45l-7.72 7.72c-.78.78-.78 2.05 0 2.83L4 21.41c.39.39.9.59 1.41.59.51 0 1.02-.2 1.41-.59l7.78-7.78 2.81-2.81c.8-.78.8-2.07 0-2.86zM5.41 20L4 18.59l7.72-7.72 1.47 1.35L5.41 20z\"/>\n",
              "  </svg>\n",
              "      </button>\n",
              "      \n",
              "  <style>\n",
              "    .colab-df-container {\n",
              "      display:flex;\n",
              "      flex-wrap:wrap;\n",
              "      gap: 12px;\n",
              "    }\n",
              "\n",
              "    .colab-df-convert {\n",
              "      background-color: #E8F0FE;\n",
              "      border: none;\n",
              "      border-radius: 50%;\n",
              "      cursor: pointer;\n",
              "      display: none;\n",
              "      fill: #1967D2;\n",
              "      height: 32px;\n",
              "      padding: 0 0 0 0;\n",
              "      width: 32px;\n",
              "    }\n",
              "\n",
              "    .colab-df-convert:hover {\n",
              "      background-color: #E2EBFA;\n",
              "      box-shadow: 0px 1px 2px rgba(60, 64, 67, 0.3), 0px 1px 3px 1px rgba(60, 64, 67, 0.15);\n",
              "      fill: #174EA6;\n",
              "    }\n",
              "\n",
              "    [theme=dark] .colab-df-convert {\n",
              "      background-color: #3B4455;\n",
              "      fill: #D2E3FC;\n",
              "    }\n",
              "\n",
              "    [theme=dark] .colab-df-convert:hover {\n",
              "      background-color: #434B5C;\n",
              "      box-shadow: 0px 1px 3px 1px rgba(0, 0, 0, 0.15);\n",
              "      filter: drop-shadow(0px 1px 2px rgba(0, 0, 0, 0.3));\n",
              "      fill: #FFFFFF;\n",
              "    }\n",
              "  </style>\n",
              "\n",
              "      <script>\n",
              "        const buttonEl =\n",
              "          document.querySelector('#df-f18d3dc2-1220-457d-a8b1-207d8e81ee95 button.colab-df-convert');\n",
              "        buttonEl.style.display =\n",
              "          google.colab.kernel.accessAllowed ? 'block' : 'none';\n",
              "\n",
              "        async function convertToInteractive(key) {\n",
              "          const element = document.querySelector('#df-f18d3dc2-1220-457d-a8b1-207d8e81ee95');\n",
              "          const dataTable =\n",
              "            await google.colab.kernel.invokeFunction('convertToInteractive',\n",
              "                                                     [key], {});\n",
              "          if (!dataTable) return;\n",
              "\n",
              "          const docLinkHtml = 'Like what you see? Visit the ' +\n",
              "            '<a target=\"_blank\" href=https://colab.research.google.com/notebooks/data_table.ipynb>data table notebook</a>'\n",
              "            + ' to learn more about interactive tables.';\n",
              "          element.innerHTML = '';\n",
              "          dataTable['output_type'] = 'display_data';\n",
              "          await google.colab.output.renderOutput(dataTable, element);\n",
              "          const docLink = document.createElement('div');\n",
              "          docLink.innerHTML = docLinkHtml;\n",
              "          element.appendChild(docLink);\n",
              "        }\n",
              "      </script>\n",
              "    </div>\n",
              "  </div>\n",
              "  "
            ]
          },
          "metadata": {},
          "execution_count": 19
        }
      ],
      "source": [
        "ml_course = bows_df[bows_df['doc_id'] == 'ML0101ENv3']\n",
        "ml_course"
      ]
    },
    {
      "cell_type": "markdown",
      "metadata": {
        "id": "5374df46-3e30-44ca-acd6-99ca21c6aa54"
      },
      "source": [
        "We can see the BoW feature vector is in vertical format but normally feature vectors are in horizontal format. One way to transpose the feature vector from vertical to horizontal is to use the Pandas `pivot()` method:\n"
      ]
    },
    {
      "cell_type": "code",
      "execution_count": 20,
      "metadata": {
        "id": "95258583-5eed-4ba1-8e87-e2e22b08ec74",
        "outputId": "22c1da3d-d08a-4953-d882-d4482bd689b2",
        "colab": {
          "base_uri": "https://localhost:8080/",
          "height": 176
        }
      },
      "outputs": [
        {
          "output_type": "execute_result",
          "data": {
            "text/plain": [
              "           doc_id        bow                                              \\\n",
              "token             beneficial course free future get give hidden insights   \n",
              "0      ML0101ENv3          1      1    1      1   1    1      1        1   \n",
              "\n",
              "                                                                          \\\n",
              "token learning machine need predict python started supervised tool tools   \n",
              "0            4       3    1       1      2       1          1    1     1   \n",
              "\n",
              "                           \n",
              "token trends unsupervised  \n",
              "0          1            1  "
            ],
            "text/html": [
              "\n",
              "  <div id=\"df-25e5c9f7-d945-49ea-b47e-b4e1549e62e4\">\n",
              "    <div class=\"colab-df-container\">\n",
              "      <div>\n",
              "<style scoped>\n",
              "    .dataframe tbody tr th:only-of-type {\n",
              "        vertical-align: middle;\n",
              "    }\n",
              "\n",
              "    .dataframe tbody tr th {\n",
              "        vertical-align: top;\n",
              "    }\n",
              "\n",
              "    .dataframe thead tr th {\n",
              "        text-align: left;\n",
              "    }\n",
              "</style>\n",
              "<table border=\"1\" class=\"dataframe\">\n",
              "  <thead>\n",
              "    <tr>\n",
              "      <th></th>\n",
              "      <th>doc_id</th>\n",
              "      <th colspan=\"19\" halign=\"left\">bow</th>\n",
              "    </tr>\n",
              "    <tr>\n",
              "      <th>token</th>\n",
              "      <th></th>\n",
              "      <th>beneficial</th>\n",
              "      <th>course</th>\n",
              "      <th>free</th>\n",
              "      <th>future</th>\n",
              "      <th>get</th>\n",
              "      <th>give</th>\n",
              "      <th>hidden</th>\n",
              "      <th>insights</th>\n",
              "      <th>learning</th>\n",
              "      <th>machine</th>\n",
              "      <th>need</th>\n",
              "      <th>predict</th>\n",
              "      <th>python</th>\n",
              "      <th>started</th>\n",
              "      <th>supervised</th>\n",
              "      <th>tool</th>\n",
              "      <th>tools</th>\n",
              "      <th>trends</th>\n",
              "      <th>unsupervised</th>\n",
              "    </tr>\n",
              "  </thead>\n",
              "  <tbody>\n",
              "    <tr>\n",
              "      <th>0</th>\n",
              "      <td>ML0101ENv3</td>\n",
              "      <td>1</td>\n",
              "      <td>1</td>\n",
              "      <td>1</td>\n",
              "      <td>1</td>\n",
              "      <td>1</td>\n",
              "      <td>1</td>\n",
              "      <td>1</td>\n",
              "      <td>1</td>\n",
              "      <td>4</td>\n",
              "      <td>3</td>\n",
              "      <td>1</td>\n",
              "      <td>1</td>\n",
              "      <td>2</td>\n",
              "      <td>1</td>\n",
              "      <td>1</td>\n",
              "      <td>1</td>\n",
              "      <td>1</td>\n",
              "      <td>1</td>\n",
              "      <td>1</td>\n",
              "    </tr>\n",
              "  </tbody>\n",
              "</table>\n",
              "</div>\n",
              "      <button class=\"colab-df-convert\" onclick=\"convertToInteractive('df-25e5c9f7-d945-49ea-b47e-b4e1549e62e4')\"\n",
              "              title=\"Convert this dataframe to an interactive table.\"\n",
              "              style=\"display:none;\">\n",
              "        \n",
              "  <svg xmlns=\"http://www.w3.org/2000/svg\" height=\"24px\"viewBox=\"0 0 24 24\"\n",
              "       width=\"24px\">\n",
              "    <path d=\"M0 0h24v24H0V0z\" fill=\"none\"/>\n",
              "    <path d=\"M18.56 5.44l.94 2.06.94-2.06 2.06-.94-2.06-.94-.94-2.06-.94 2.06-2.06.94zm-11 1L8.5 8.5l.94-2.06 2.06-.94-2.06-.94L8.5 2.5l-.94 2.06-2.06.94zm10 10l.94 2.06.94-2.06 2.06-.94-2.06-.94-.94-2.06-.94 2.06-2.06.94z\"/><path d=\"M17.41 7.96l-1.37-1.37c-.4-.4-.92-.59-1.43-.59-.52 0-1.04.2-1.43.59L10.3 9.45l-7.72 7.72c-.78.78-.78 2.05 0 2.83L4 21.41c.39.39.9.59 1.41.59.51 0 1.02-.2 1.41-.59l7.78-7.78 2.81-2.81c.8-.78.8-2.07 0-2.86zM5.41 20L4 18.59l7.72-7.72 1.47 1.35L5.41 20z\"/>\n",
              "  </svg>\n",
              "      </button>\n",
              "      \n",
              "  <style>\n",
              "    .colab-df-container {\n",
              "      display:flex;\n",
              "      flex-wrap:wrap;\n",
              "      gap: 12px;\n",
              "    }\n",
              "\n",
              "    .colab-df-convert {\n",
              "      background-color: #E8F0FE;\n",
              "      border: none;\n",
              "      border-radius: 50%;\n",
              "      cursor: pointer;\n",
              "      display: none;\n",
              "      fill: #1967D2;\n",
              "      height: 32px;\n",
              "      padding: 0 0 0 0;\n",
              "      width: 32px;\n",
              "    }\n",
              "\n",
              "    .colab-df-convert:hover {\n",
              "      background-color: #E2EBFA;\n",
              "      box-shadow: 0px 1px 2px rgba(60, 64, 67, 0.3), 0px 1px 3px 1px rgba(60, 64, 67, 0.15);\n",
              "      fill: #174EA6;\n",
              "    }\n",
              "\n",
              "    [theme=dark] .colab-df-convert {\n",
              "      background-color: #3B4455;\n",
              "      fill: #D2E3FC;\n",
              "    }\n",
              "\n",
              "    [theme=dark] .colab-df-convert:hover {\n",
              "      background-color: #434B5C;\n",
              "      box-shadow: 0px 1px 3px 1px rgba(0, 0, 0, 0.15);\n",
              "      filter: drop-shadow(0px 1px 2px rgba(0, 0, 0, 0.3));\n",
              "      fill: #FFFFFF;\n",
              "    }\n",
              "  </style>\n",
              "\n",
              "      <script>\n",
              "        const buttonEl =\n",
              "          document.querySelector('#df-25e5c9f7-d945-49ea-b47e-b4e1549e62e4 button.colab-df-convert');\n",
              "        buttonEl.style.display =\n",
              "          google.colab.kernel.accessAllowed ? 'block' : 'none';\n",
              "\n",
              "        async function convertToInteractive(key) {\n",
              "          const element = document.querySelector('#df-25e5c9f7-d945-49ea-b47e-b4e1549e62e4');\n",
              "          const dataTable =\n",
              "            await google.colab.kernel.invokeFunction('convertToInteractive',\n",
              "                                                     [key], {});\n",
              "          if (!dataTable) return;\n",
              "\n",
              "          const docLinkHtml = 'Like what you see? Visit the ' +\n",
              "            '<a target=\"_blank\" href=https://colab.research.google.com/notebooks/data_table.ipynb>data table notebook</a>'\n",
              "            + ' to learn more about interactive tables.';\n",
              "          element.innerHTML = '';\n",
              "          dataTable['output_type'] = 'display_data';\n",
              "          await google.colab.output.renderOutput(dataTable, element);\n",
              "          const docLink = document.createElement('div');\n",
              "          docLink.innerHTML = docLinkHtml;\n",
              "          element.appendChild(docLink);\n",
              "        }\n",
              "      </script>\n",
              "    </div>\n",
              "  </div>\n",
              "  "
            ]
          },
          "metadata": {},
          "execution_count": 20
        }
      ],
      "source": [
        "ml_courseT = ml_course.pivot(index=['doc_id'], columns='token').reset_index(level=[0])\n",
        "ml_courseT"
      ]
    },
    {
      "cell_type": "markdown",
      "metadata": {
        "id": "618d6d83-ba4c-434b-86a7-f195c0f928b5"
      },
      "source": [
        "To compare the BoWs of any two courses, which normally have a different set of tokens, we need to create a union token set and then transpose them. We have provided a method called `pivot_two_bows` as follows:\n"
      ]
    },
    {
      "cell_type": "code",
      "execution_count": 21,
      "metadata": {
        "id": "9529f1ae-79d0-4795-92c1-e21e39645b51"
      },
      "outputs": [],
      "source": [
        "def pivot_two_bows(basedoc, comparedoc):\n",
        "    base = basedoc.copy()\n",
        "    base['type'] = 'base'\n",
        "    compare = comparedoc.copy()\n",
        "    compare['type'] = 'compare'\n",
        "    # Append the two token sets vertically\n",
        "    join = base.append(compare)\n",
        "    # Pivot the two joined courses\n",
        "    joinT = join.pivot(index=['doc_id', 'type'], columns='token').fillna(0).reset_index(level=[0, 1])\n",
        "    # Assign columns\n",
        "    joinT.columns = ['doc_id', 'type'] + [t[1] for t in joinT.columns][2:]\n",
        "    return joinT"
      ]
    },
    {
      "cell_type": "code",
      "execution_count": 22,
      "metadata": {
        "id": "7ec6c0ba-79ca-4cea-9f58-0149d58f77f0"
      },
      "outputs": [],
      "source": [
        "course1 = bows_df[bows_df['doc_id'] == 'ML0151EN']\n",
        "course2 = bows_df[bows_df['doc_id'] == 'ML0101ENv3']"
      ]
    },
    {
      "cell_type": "code",
      "execution_count": 23,
      "metadata": {
        "id": "63ff996d-9a86-4514-a389-40df202573f6",
        "outputId": "dd617a46-5995-48b4-c2f3-f91c95af793e",
        "colab": {
          "base_uri": "https://localhost:8080/",
          "height": 240
        }
      },
      "outputs": [
        {
          "output_type": "stream",
          "name": "stderr",
          "text": [
            "<ipython-input-21-abf8720ec68f>:7: FutureWarning: The frame.append method is deprecated and will be removed from pandas in a future version. Use pandas.concat instead.\n",
            "  join = base.append(compare)\n"
          ]
        },
        {
          "output_type": "execute_result",
          "data": {
            "text/plain": [
              "       doc_id     type  approachable  basics  beneficial  comparison  course  \\\n",
              "0  ML0101ENv3  compare           0.0     0.0         1.0         0.0     1.0   \n",
              "1    ML0151EN     base           1.0     1.0         0.0         1.0     1.0   \n",
              "\n",
              "   dives  free  future  ...  relates  started  statistical  supervised  tool  \\\n",
              "0    0.0   1.0     1.0  ...      0.0      1.0          0.0         1.0   1.0   \n",
              "1    1.0   0.0     0.0  ...      1.0      0.0          1.0         1.0   0.0   \n",
              "\n",
              "   tools  trends  unsupervised  using   vs  \n",
              "0    1.0     1.0           1.0    0.0  0.0  \n",
              "1    0.0     0.0           1.0    1.0  1.0  \n",
              "\n",
              "[2 rows x 36 columns]"
            ],
            "text/html": [
              "\n",
              "  <div id=\"df-5529c6d4-5cb4-430f-84c2-994888b0c0b3\">\n",
              "    <div class=\"colab-df-container\">\n",
              "      <div>\n",
              "<style scoped>\n",
              "    .dataframe tbody tr th:only-of-type {\n",
              "        vertical-align: middle;\n",
              "    }\n",
              "\n",
              "    .dataframe tbody tr th {\n",
              "        vertical-align: top;\n",
              "    }\n",
              "\n",
              "    .dataframe thead th {\n",
              "        text-align: right;\n",
              "    }\n",
              "</style>\n",
              "<table border=\"1\" class=\"dataframe\">\n",
              "  <thead>\n",
              "    <tr style=\"text-align: right;\">\n",
              "      <th></th>\n",
              "      <th>doc_id</th>\n",
              "      <th>type</th>\n",
              "      <th>approachable</th>\n",
              "      <th>basics</th>\n",
              "      <th>beneficial</th>\n",
              "      <th>comparison</th>\n",
              "      <th>course</th>\n",
              "      <th>dives</th>\n",
              "      <th>free</th>\n",
              "      <th>future</th>\n",
              "      <th>...</th>\n",
              "      <th>relates</th>\n",
              "      <th>started</th>\n",
              "      <th>statistical</th>\n",
              "      <th>supervised</th>\n",
              "      <th>tool</th>\n",
              "      <th>tools</th>\n",
              "      <th>trends</th>\n",
              "      <th>unsupervised</th>\n",
              "      <th>using</th>\n",
              "      <th>vs</th>\n",
              "    </tr>\n",
              "  </thead>\n",
              "  <tbody>\n",
              "    <tr>\n",
              "      <th>0</th>\n",
              "      <td>ML0101ENv3</td>\n",
              "      <td>compare</td>\n",
              "      <td>0.0</td>\n",
              "      <td>0.0</td>\n",
              "      <td>1.0</td>\n",
              "      <td>0.0</td>\n",
              "      <td>1.0</td>\n",
              "      <td>0.0</td>\n",
              "      <td>1.0</td>\n",
              "      <td>1.0</td>\n",
              "      <td>...</td>\n",
              "      <td>0.0</td>\n",
              "      <td>1.0</td>\n",
              "      <td>0.0</td>\n",
              "      <td>1.0</td>\n",
              "      <td>1.0</td>\n",
              "      <td>1.0</td>\n",
              "      <td>1.0</td>\n",
              "      <td>1.0</td>\n",
              "      <td>0.0</td>\n",
              "      <td>0.0</td>\n",
              "    </tr>\n",
              "    <tr>\n",
              "      <th>1</th>\n",
              "      <td>ML0151EN</td>\n",
              "      <td>base</td>\n",
              "      <td>1.0</td>\n",
              "      <td>1.0</td>\n",
              "      <td>0.0</td>\n",
              "      <td>1.0</td>\n",
              "      <td>1.0</td>\n",
              "      <td>1.0</td>\n",
              "      <td>0.0</td>\n",
              "      <td>0.0</td>\n",
              "      <td>...</td>\n",
              "      <td>1.0</td>\n",
              "      <td>0.0</td>\n",
              "      <td>1.0</td>\n",
              "      <td>1.0</td>\n",
              "      <td>0.0</td>\n",
              "      <td>0.0</td>\n",
              "      <td>0.0</td>\n",
              "      <td>1.0</td>\n",
              "      <td>1.0</td>\n",
              "      <td>1.0</td>\n",
              "    </tr>\n",
              "  </tbody>\n",
              "</table>\n",
              "<p>2 rows × 36 columns</p>\n",
              "</div>\n",
              "      <button class=\"colab-df-convert\" onclick=\"convertToInteractive('df-5529c6d4-5cb4-430f-84c2-994888b0c0b3')\"\n",
              "              title=\"Convert this dataframe to an interactive table.\"\n",
              "              style=\"display:none;\">\n",
              "        \n",
              "  <svg xmlns=\"http://www.w3.org/2000/svg\" height=\"24px\"viewBox=\"0 0 24 24\"\n",
              "       width=\"24px\">\n",
              "    <path d=\"M0 0h24v24H0V0z\" fill=\"none\"/>\n",
              "    <path d=\"M18.56 5.44l.94 2.06.94-2.06 2.06-.94-2.06-.94-.94-2.06-.94 2.06-2.06.94zm-11 1L8.5 8.5l.94-2.06 2.06-.94-2.06-.94L8.5 2.5l-.94 2.06-2.06.94zm10 10l.94 2.06.94-2.06 2.06-.94-2.06-.94-.94-2.06-.94 2.06-2.06.94z\"/><path d=\"M17.41 7.96l-1.37-1.37c-.4-.4-.92-.59-1.43-.59-.52 0-1.04.2-1.43.59L10.3 9.45l-7.72 7.72c-.78.78-.78 2.05 0 2.83L4 21.41c.39.39.9.59 1.41.59.51 0 1.02-.2 1.41-.59l7.78-7.78 2.81-2.81c.8-.78.8-2.07 0-2.86zM5.41 20L4 18.59l7.72-7.72 1.47 1.35L5.41 20z\"/>\n",
              "  </svg>\n",
              "      </button>\n",
              "      \n",
              "  <style>\n",
              "    .colab-df-container {\n",
              "      display:flex;\n",
              "      flex-wrap:wrap;\n",
              "      gap: 12px;\n",
              "    }\n",
              "\n",
              "    .colab-df-convert {\n",
              "      background-color: #E8F0FE;\n",
              "      border: none;\n",
              "      border-radius: 50%;\n",
              "      cursor: pointer;\n",
              "      display: none;\n",
              "      fill: #1967D2;\n",
              "      height: 32px;\n",
              "      padding: 0 0 0 0;\n",
              "      width: 32px;\n",
              "    }\n",
              "\n",
              "    .colab-df-convert:hover {\n",
              "      background-color: #E2EBFA;\n",
              "      box-shadow: 0px 1px 2px rgba(60, 64, 67, 0.3), 0px 1px 3px 1px rgba(60, 64, 67, 0.15);\n",
              "      fill: #174EA6;\n",
              "    }\n",
              "\n",
              "    [theme=dark] .colab-df-convert {\n",
              "      background-color: #3B4455;\n",
              "      fill: #D2E3FC;\n",
              "    }\n",
              "\n",
              "    [theme=dark] .colab-df-convert:hover {\n",
              "      background-color: #434B5C;\n",
              "      box-shadow: 0px 1px 3px 1px rgba(0, 0, 0, 0.15);\n",
              "      filter: drop-shadow(0px 1px 2px rgba(0, 0, 0, 0.3));\n",
              "      fill: #FFFFFF;\n",
              "    }\n",
              "  </style>\n",
              "\n",
              "      <script>\n",
              "        const buttonEl =\n",
              "          document.querySelector('#df-5529c6d4-5cb4-430f-84c2-994888b0c0b3 button.colab-df-convert');\n",
              "        buttonEl.style.display =\n",
              "          google.colab.kernel.accessAllowed ? 'block' : 'none';\n",
              "\n",
              "        async function convertToInteractive(key) {\n",
              "          const element = document.querySelector('#df-5529c6d4-5cb4-430f-84c2-994888b0c0b3');\n",
              "          const dataTable =\n",
              "            await google.colab.kernel.invokeFunction('convertToInteractive',\n",
              "                                                     [key], {});\n",
              "          if (!dataTable) return;\n",
              "\n",
              "          const docLinkHtml = 'Like what you see? Visit the ' +\n",
              "            '<a target=\"_blank\" href=https://colab.research.google.com/notebooks/data_table.ipynb>data table notebook</a>'\n",
              "            + ' to learn more about interactive tables.';\n",
              "          element.innerHTML = '';\n",
              "          dataTable['output_type'] = 'display_data';\n",
              "          await google.colab.output.renderOutput(dataTable, element);\n",
              "          const docLink = document.createElement('div');\n",
              "          docLink.innerHTML = docLinkHtml;\n",
              "          element.appendChild(docLink);\n",
              "        }\n",
              "      </script>\n",
              "    </div>\n",
              "  </div>\n",
              "  "
            ]
          },
          "metadata": {},
          "execution_count": 23
        }
      ],
      "source": [
        "bow_vectors = pivot_two_bows(course1, course2)\n",
        "bow_vectors"
      ]
    },
    {
      "cell_type": "markdown",
      "metadata": {
        "id": "c015986a-d268-40a4-a2dc-1cc6a9219981"
      },
      "source": [
        "Similarly, we can use the cosine method to calculate their similarity:\n"
      ]
    },
    {
      "cell_type": "code",
      "execution_count": 24,
      "metadata": {
        "id": "2ce12fc0-d4a1-4862-9889-dc37a0de7b90",
        "outputId": "a9405f54-96d4-40ea-c42f-a9bf2c743532",
        "colab": {
          "base_uri": "https://localhost:8080/"
        }
      },
      "outputs": [
        {
          "output_type": "execute_result",
          "data": {
            "text/plain": [
              "0.6626221399549089"
            ]
          },
          "metadata": {},
          "execution_count": 24
        }
      ],
      "source": [
        "similarity = 1 - cosine(bow_vectors.iloc[0, 2:], bow_vectors.iloc[1, 2:])\n",
        "similarity"
      ]
    },
    {
      "cell_type": "markdown",
      "metadata": {
        "id": "ff8e435d-1134-4570-9007-ef269bc35f34"
      },
      "source": [
        "Now it's your turn to perform a task of finding all courses similar to the course `Machine Learning with Python`:\n"
      ]
    },
    {
      "cell_type": "code",
      "execution_count": 25,
      "metadata": {
        "id": "9ab43370-d56b-41f2-839b-066561d25375",
        "outputId": "9c17466a-bcf2-48c4-eb28-0342a0535e29",
        "colab": {
          "base_uri": "https://localhost:8080/",
          "height": 80
        }
      },
      "outputs": [
        {
          "output_type": "execute_result",
          "data": {
            "text/plain": [
              "      COURSE_ID                         TITLE  \\\n",
              "158  ML0101ENv3  machine learning with python   \n",
              "\n",
              "                                           DESCRIPTION  \n",
              "158  machine learning can be an incredibly benefici...  "
            ],
            "text/html": [
              "\n",
              "  <div id=\"df-76136271-148c-4221-a338-5dd37f143778\">\n",
              "    <div class=\"colab-df-container\">\n",
              "      <div>\n",
              "<style scoped>\n",
              "    .dataframe tbody tr th:only-of-type {\n",
              "        vertical-align: middle;\n",
              "    }\n",
              "\n",
              "    .dataframe tbody tr th {\n",
              "        vertical-align: top;\n",
              "    }\n",
              "\n",
              "    .dataframe thead th {\n",
              "        text-align: right;\n",
              "    }\n",
              "</style>\n",
              "<table border=\"1\" class=\"dataframe\">\n",
              "  <thead>\n",
              "    <tr style=\"text-align: right;\">\n",
              "      <th></th>\n",
              "      <th>COURSE_ID</th>\n",
              "      <th>TITLE</th>\n",
              "      <th>DESCRIPTION</th>\n",
              "    </tr>\n",
              "  </thead>\n",
              "  <tbody>\n",
              "    <tr>\n",
              "      <th>158</th>\n",
              "      <td>ML0101ENv3</td>\n",
              "      <td>machine learning with python</td>\n",
              "      <td>machine learning can be an incredibly benefici...</td>\n",
              "    </tr>\n",
              "  </tbody>\n",
              "</table>\n",
              "</div>\n",
              "      <button class=\"colab-df-convert\" onclick=\"convertToInteractive('df-76136271-148c-4221-a338-5dd37f143778')\"\n",
              "              title=\"Convert this dataframe to an interactive table.\"\n",
              "              style=\"display:none;\">\n",
              "        \n",
              "  <svg xmlns=\"http://www.w3.org/2000/svg\" height=\"24px\"viewBox=\"0 0 24 24\"\n",
              "       width=\"24px\">\n",
              "    <path d=\"M0 0h24v24H0V0z\" fill=\"none\"/>\n",
              "    <path d=\"M18.56 5.44l.94 2.06.94-2.06 2.06-.94-2.06-.94-.94-2.06-.94 2.06-2.06.94zm-11 1L8.5 8.5l.94-2.06 2.06-.94-2.06-.94L8.5 2.5l-.94 2.06-2.06.94zm10 10l.94 2.06.94-2.06 2.06-.94-2.06-.94-.94-2.06-.94 2.06-2.06.94z\"/><path d=\"M17.41 7.96l-1.37-1.37c-.4-.4-.92-.59-1.43-.59-.52 0-1.04.2-1.43.59L10.3 9.45l-7.72 7.72c-.78.78-.78 2.05 0 2.83L4 21.41c.39.39.9.59 1.41.59.51 0 1.02-.2 1.41-.59l7.78-7.78 2.81-2.81c.8-.78.8-2.07 0-2.86zM5.41 20L4 18.59l7.72-7.72 1.47 1.35L5.41 20z\"/>\n",
              "  </svg>\n",
              "      </button>\n",
              "      \n",
              "  <style>\n",
              "    .colab-df-container {\n",
              "      display:flex;\n",
              "      flex-wrap:wrap;\n",
              "      gap: 12px;\n",
              "    }\n",
              "\n",
              "    .colab-df-convert {\n",
              "      background-color: #E8F0FE;\n",
              "      border: none;\n",
              "      border-radius: 50%;\n",
              "      cursor: pointer;\n",
              "      display: none;\n",
              "      fill: #1967D2;\n",
              "      height: 32px;\n",
              "      padding: 0 0 0 0;\n",
              "      width: 32px;\n",
              "    }\n",
              "\n",
              "    .colab-df-convert:hover {\n",
              "      background-color: #E2EBFA;\n",
              "      box-shadow: 0px 1px 2px rgba(60, 64, 67, 0.3), 0px 1px 3px 1px rgba(60, 64, 67, 0.15);\n",
              "      fill: #174EA6;\n",
              "    }\n",
              "\n",
              "    [theme=dark] .colab-df-convert {\n",
              "      background-color: #3B4455;\n",
              "      fill: #D2E3FC;\n",
              "    }\n",
              "\n",
              "    [theme=dark] .colab-df-convert:hover {\n",
              "      background-color: #434B5C;\n",
              "      box-shadow: 0px 1px 3px 1px rgba(0, 0, 0, 0.15);\n",
              "      filter: drop-shadow(0px 1px 2px rgba(0, 0, 0, 0.3));\n",
              "      fill: #FFFFFF;\n",
              "    }\n",
              "  </style>\n",
              "\n",
              "      <script>\n",
              "        const buttonEl =\n",
              "          document.querySelector('#df-76136271-148c-4221-a338-5dd37f143778 button.colab-df-convert');\n",
              "        buttonEl.style.display =\n",
              "          google.colab.kernel.accessAllowed ? 'block' : 'none';\n",
              "\n",
              "        async function convertToInteractive(key) {\n",
              "          const element = document.querySelector('#df-76136271-148c-4221-a338-5dd37f143778');\n",
              "          const dataTable =\n",
              "            await google.colab.kernel.invokeFunction('convertToInteractive',\n",
              "                                                     [key], {});\n",
              "          if (!dataTable) return;\n",
              "\n",
              "          const docLinkHtml = 'Like what you see? Visit the ' +\n",
              "            '<a target=\"_blank\" href=https://colab.research.google.com/notebooks/data_table.ipynb>data table notebook</a>'\n",
              "            + ' to learn more about interactive tables.';\n",
              "          element.innerHTML = '';\n",
              "          dataTable['output_type'] = 'display_data';\n",
              "          await google.colab.output.renderOutput(dataTable, element);\n",
              "          const docLink = document.createElement('div');\n",
              "          docLink.innerHTML = docLinkHtml;\n",
              "          element.appendChild(docLink);\n",
              "        }\n",
              "      </script>\n",
              "    </div>\n",
              "  </div>\n",
              "  "
            ]
          },
          "metadata": {},
          "execution_count": 25
        }
      ],
      "source": [
        "course_df[course_df['COURSE_ID'] == 'ML0101ENv3']"
      ]
    },
    {
      "cell_type": "markdown",
      "metadata": {
        "id": "9a50629b-a7f2-49a1-a073-5b6a324c613f"
      },
      "source": [
        "You can set a similarity threshold such as 0.5 to determine if two courses are similar enough.\n"
      ]
    },
    {
      "cell_type": "markdown",
      "metadata": {
        "id": "3c8b6b2e-e95c-4dbc-aef0-30270fdf2b48"
      },
      "source": [
        "_TODO: Find courses which are similar to course `Machine Learning with Python (ML0101ENv3)`, you also need to show the title and descriptions of those courses._\n"
      ]
    },
    {
      "cell_type": "code",
      "execution_count": 26,
      "metadata": {
        "id": "ebf0e707-4528-4bd3-87b6-167465492a7a",
        "outputId": "1e89ee60-077f-42a8-8080-7bec945a54ed",
        "colab": {
          "base_uri": "https://localhost:8080/"
        }
      },
      "outputs": [
        {
          "output_type": "stream",
          "name": "stderr",
          "text": [
            "<ipython-input-21-abf8720ec68f>:7: FutureWarning: The frame.append method is deprecated and will be removed from pandas in a future version. Use pandas.concat instead.\n",
            "  join = base.append(compare)\n",
            "<ipython-input-21-abf8720ec68f>:7: FutureWarning: The frame.append method is deprecated and will be removed from pandas in a future version. Use pandas.concat instead.\n",
            "  join = base.append(compare)\n",
            "<ipython-input-21-abf8720ec68f>:7: FutureWarning: The frame.append method is deprecated and will be removed from pandas in a future version. Use pandas.concat instead.\n",
            "  join = base.append(compare)\n",
            "<ipython-input-21-abf8720ec68f>:7: FutureWarning: The frame.append method is deprecated and will be removed from pandas in a future version. Use pandas.concat instead.\n",
            "  join = base.append(compare)\n",
            "<ipython-input-21-abf8720ec68f>:7: FutureWarning: The frame.append method is deprecated and will be removed from pandas in a future version. Use pandas.concat instead.\n",
            "  join = base.append(compare)\n",
            "<ipython-input-21-abf8720ec68f>:7: FutureWarning: The frame.append method is deprecated and will be removed from pandas in a future version. Use pandas.concat instead.\n",
            "  join = base.append(compare)\n",
            "<ipython-input-21-abf8720ec68f>:7: FutureWarning: The frame.append method is deprecated and will be removed from pandas in a future version. Use pandas.concat instead.\n",
            "  join = base.append(compare)\n",
            "<ipython-input-21-abf8720ec68f>:7: FutureWarning: The frame.append method is deprecated and will be removed from pandas in a future version. Use pandas.concat instead.\n",
            "  join = base.append(compare)\n",
            "<ipython-input-21-abf8720ec68f>:7: FutureWarning: The frame.append method is deprecated and will be removed from pandas in a future version. Use pandas.concat instead.\n",
            "  join = base.append(compare)\n",
            "<ipython-input-21-abf8720ec68f>:7: FutureWarning: The frame.append method is deprecated and will be removed from pandas in a future version. Use pandas.concat instead.\n",
            "  join = base.append(compare)\n",
            "<ipython-input-21-abf8720ec68f>:7: FutureWarning: The frame.append method is deprecated and will be removed from pandas in a future version. Use pandas.concat instead.\n",
            "  join = base.append(compare)\n",
            "<ipython-input-21-abf8720ec68f>:7: FutureWarning: The frame.append method is deprecated and will be removed from pandas in a future version. Use pandas.concat instead.\n",
            "  join = base.append(compare)\n",
            "<ipython-input-21-abf8720ec68f>:7: FutureWarning: The frame.append method is deprecated and will be removed from pandas in a future version. Use pandas.concat instead.\n",
            "  join = base.append(compare)\n",
            "<ipython-input-21-abf8720ec68f>:7: FutureWarning: The frame.append method is deprecated and will be removed from pandas in a future version. Use pandas.concat instead.\n",
            "  join = base.append(compare)\n",
            "<ipython-input-21-abf8720ec68f>:7: FutureWarning: The frame.append method is deprecated and will be removed from pandas in a future version. Use pandas.concat instead.\n",
            "  join = base.append(compare)\n",
            "<ipython-input-21-abf8720ec68f>:7: FutureWarning: The frame.append method is deprecated and will be removed from pandas in a future version. Use pandas.concat instead.\n",
            "  join = base.append(compare)\n",
            "<ipython-input-21-abf8720ec68f>:7: FutureWarning: The frame.append method is deprecated and will be removed from pandas in a future version. Use pandas.concat instead.\n",
            "  join = base.append(compare)\n",
            "<ipython-input-21-abf8720ec68f>:7: FutureWarning: The frame.append method is deprecated and will be removed from pandas in a future version. Use pandas.concat instead.\n",
            "  join = base.append(compare)\n",
            "<ipython-input-21-abf8720ec68f>:7: FutureWarning: The frame.append method is deprecated and will be removed from pandas in a future version. Use pandas.concat instead.\n",
            "  join = base.append(compare)\n",
            "<ipython-input-21-abf8720ec68f>:7: FutureWarning: The frame.append method is deprecated and will be removed from pandas in a future version. Use pandas.concat instead.\n",
            "  join = base.append(compare)\n",
            "<ipython-input-21-abf8720ec68f>:7: FutureWarning: The frame.append method is deprecated and will be removed from pandas in a future version. Use pandas.concat instead.\n",
            "  join = base.append(compare)\n",
            "<ipython-input-21-abf8720ec68f>:7: FutureWarning: The frame.append method is deprecated and will be removed from pandas in a future version. Use pandas.concat instead.\n",
            "  join = base.append(compare)\n",
            "<ipython-input-21-abf8720ec68f>:7: FutureWarning: The frame.append method is deprecated and will be removed from pandas in a future version. Use pandas.concat instead.\n",
            "  join = base.append(compare)\n",
            "<ipython-input-21-abf8720ec68f>:7: FutureWarning: The frame.append method is deprecated and will be removed from pandas in a future version. Use pandas.concat instead.\n",
            "  join = base.append(compare)\n",
            "<ipython-input-21-abf8720ec68f>:7: FutureWarning: The frame.append method is deprecated and will be removed from pandas in a future version. Use pandas.concat instead.\n",
            "  join = base.append(compare)\n",
            "<ipython-input-21-abf8720ec68f>:7: FutureWarning: The frame.append method is deprecated and will be removed from pandas in a future version. Use pandas.concat instead.\n",
            "  join = base.append(compare)\n",
            "<ipython-input-21-abf8720ec68f>:7: FutureWarning: The frame.append method is deprecated and will be removed from pandas in a future version. Use pandas.concat instead.\n",
            "  join = base.append(compare)\n",
            "<ipython-input-21-abf8720ec68f>:7: FutureWarning: The frame.append method is deprecated and will be removed from pandas in a future version. Use pandas.concat instead.\n",
            "  join = base.append(compare)\n",
            "<ipython-input-21-abf8720ec68f>:7: FutureWarning: The frame.append method is deprecated and will be removed from pandas in a future version. Use pandas.concat instead.\n",
            "  join = base.append(compare)\n",
            "<ipython-input-21-abf8720ec68f>:7: FutureWarning: The frame.append method is deprecated and will be removed from pandas in a future version. Use pandas.concat instead.\n",
            "  join = base.append(compare)\n",
            "<ipython-input-21-abf8720ec68f>:7: FutureWarning: The frame.append method is deprecated and will be removed from pandas in a future version. Use pandas.concat instead.\n",
            "  join = base.append(compare)\n",
            "<ipython-input-21-abf8720ec68f>:7: FutureWarning: The frame.append method is deprecated and will be removed from pandas in a future version. Use pandas.concat instead.\n",
            "  join = base.append(compare)\n",
            "<ipython-input-21-abf8720ec68f>:7: FutureWarning: The frame.append method is deprecated and will be removed from pandas in a future version. Use pandas.concat instead.\n",
            "  join = base.append(compare)\n",
            "<ipython-input-21-abf8720ec68f>:7: FutureWarning: The frame.append method is deprecated and will be removed from pandas in a future version. Use pandas.concat instead.\n",
            "  join = base.append(compare)\n",
            "<ipython-input-21-abf8720ec68f>:7: FutureWarning: The frame.append method is deprecated and will be removed from pandas in a future version. Use pandas.concat instead.\n",
            "  join = base.append(compare)\n",
            "<ipython-input-21-abf8720ec68f>:7: FutureWarning: The frame.append method is deprecated and will be removed from pandas in a future version. Use pandas.concat instead.\n",
            "  join = base.append(compare)\n",
            "<ipython-input-21-abf8720ec68f>:7: FutureWarning: The frame.append method is deprecated and will be removed from pandas in a future version. Use pandas.concat instead.\n",
            "  join = base.append(compare)\n",
            "<ipython-input-21-abf8720ec68f>:7: FutureWarning: The frame.append method is deprecated and will be removed from pandas in a future version. Use pandas.concat instead.\n",
            "  join = base.append(compare)\n",
            "<ipython-input-21-abf8720ec68f>:7: FutureWarning: The frame.append method is deprecated and will be removed from pandas in a future version. Use pandas.concat instead.\n",
            "  join = base.append(compare)\n",
            "<ipython-input-21-abf8720ec68f>:7: FutureWarning: The frame.append method is deprecated and will be removed from pandas in a future version. Use pandas.concat instead.\n",
            "  join = base.append(compare)\n",
            "<ipython-input-21-abf8720ec68f>:7: FutureWarning: The frame.append method is deprecated and will be removed from pandas in a future version. Use pandas.concat instead.\n",
            "  join = base.append(compare)\n",
            "<ipython-input-21-abf8720ec68f>:7: FutureWarning: The frame.append method is deprecated and will be removed from pandas in a future version. Use pandas.concat instead.\n",
            "  join = base.append(compare)\n",
            "<ipython-input-21-abf8720ec68f>:7: FutureWarning: The frame.append method is deprecated and will be removed from pandas in a future version. Use pandas.concat instead.\n",
            "  join = base.append(compare)\n",
            "<ipython-input-21-abf8720ec68f>:7: FutureWarning: The frame.append method is deprecated and will be removed from pandas in a future version. Use pandas.concat instead.\n",
            "  join = base.append(compare)\n",
            "<ipython-input-21-abf8720ec68f>:7: FutureWarning: The frame.append method is deprecated and will be removed from pandas in a future version. Use pandas.concat instead.\n",
            "  join = base.append(compare)\n",
            "<ipython-input-21-abf8720ec68f>:7: FutureWarning: The frame.append method is deprecated and will be removed from pandas in a future version. Use pandas.concat instead.\n",
            "  join = base.append(compare)\n",
            "<ipython-input-21-abf8720ec68f>:7: FutureWarning: The frame.append method is deprecated and will be removed from pandas in a future version. Use pandas.concat instead.\n",
            "  join = base.append(compare)\n",
            "<ipython-input-21-abf8720ec68f>:7: FutureWarning: The frame.append method is deprecated and will be removed from pandas in a future version. Use pandas.concat instead.\n",
            "  join = base.append(compare)\n",
            "<ipython-input-21-abf8720ec68f>:7: FutureWarning: The frame.append method is deprecated and will be removed from pandas in a future version. Use pandas.concat instead.\n",
            "  join = base.append(compare)\n",
            "<ipython-input-21-abf8720ec68f>:7: FutureWarning: The frame.append method is deprecated and will be removed from pandas in a future version. Use pandas.concat instead.\n",
            "  join = base.append(compare)\n",
            "<ipython-input-21-abf8720ec68f>:7: FutureWarning: The frame.append method is deprecated and will be removed from pandas in a future version. Use pandas.concat instead.\n",
            "  join = base.append(compare)\n",
            "<ipython-input-21-abf8720ec68f>:7: FutureWarning: The frame.append method is deprecated and will be removed from pandas in a future version. Use pandas.concat instead.\n",
            "  join = base.append(compare)\n",
            "<ipython-input-21-abf8720ec68f>:7: FutureWarning: The frame.append method is deprecated and will be removed from pandas in a future version. Use pandas.concat instead.\n",
            "  join = base.append(compare)\n",
            "<ipython-input-21-abf8720ec68f>:7: FutureWarning: The frame.append method is deprecated and will be removed from pandas in a future version. Use pandas.concat instead.\n",
            "  join = base.append(compare)\n",
            "<ipython-input-21-abf8720ec68f>:7: FutureWarning: The frame.append method is deprecated and will be removed from pandas in a future version. Use pandas.concat instead.\n",
            "  join = base.append(compare)\n",
            "<ipython-input-21-abf8720ec68f>:7: FutureWarning: The frame.append method is deprecated and will be removed from pandas in a future version. Use pandas.concat instead.\n",
            "  join = base.append(compare)\n",
            "<ipython-input-21-abf8720ec68f>:7: FutureWarning: The frame.append method is deprecated and will be removed from pandas in a future version. Use pandas.concat instead.\n",
            "  join = base.append(compare)\n",
            "<ipython-input-21-abf8720ec68f>:7: FutureWarning: The frame.append method is deprecated and will be removed from pandas in a future version. Use pandas.concat instead.\n",
            "  join = base.append(compare)\n",
            "<ipython-input-21-abf8720ec68f>:7: FutureWarning: The frame.append method is deprecated and will be removed from pandas in a future version. Use pandas.concat instead.\n",
            "  join = base.append(compare)\n",
            "<ipython-input-21-abf8720ec68f>:7: FutureWarning: The frame.append method is deprecated and will be removed from pandas in a future version. Use pandas.concat instead.\n",
            "  join = base.append(compare)\n",
            "<ipython-input-21-abf8720ec68f>:7: FutureWarning: The frame.append method is deprecated and will be removed from pandas in a future version. Use pandas.concat instead.\n",
            "  join = base.append(compare)\n",
            "<ipython-input-21-abf8720ec68f>:7: FutureWarning: The frame.append method is deprecated and will be removed from pandas in a future version. Use pandas.concat instead.\n",
            "  join = base.append(compare)\n",
            "<ipython-input-21-abf8720ec68f>:7: FutureWarning: The frame.append method is deprecated and will be removed from pandas in a future version. Use pandas.concat instead.\n",
            "  join = base.append(compare)\n",
            "<ipython-input-21-abf8720ec68f>:7: FutureWarning: The frame.append method is deprecated and will be removed from pandas in a future version. Use pandas.concat instead.\n",
            "  join = base.append(compare)\n",
            "<ipython-input-21-abf8720ec68f>:7: FutureWarning: The frame.append method is deprecated and will be removed from pandas in a future version. Use pandas.concat instead.\n",
            "  join = base.append(compare)\n",
            "<ipython-input-21-abf8720ec68f>:7: FutureWarning: The frame.append method is deprecated and will be removed from pandas in a future version. Use pandas.concat instead.\n",
            "  join = base.append(compare)\n",
            "<ipython-input-21-abf8720ec68f>:7: FutureWarning: The frame.append method is deprecated and will be removed from pandas in a future version. Use pandas.concat instead.\n",
            "  join = base.append(compare)\n",
            "<ipython-input-21-abf8720ec68f>:7: FutureWarning: The frame.append method is deprecated and will be removed from pandas in a future version. Use pandas.concat instead.\n",
            "  join = base.append(compare)\n",
            "<ipython-input-21-abf8720ec68f>:7: FutureWarning: The frame.append method is deprecated and will be removed from pandas in a future version. Use pandas.concat instead.\n",
            "  join = base.append(compare)\n",
            "<ipython-input-21-abf8720ec68f>:7: FutureWarning: The frame.append method is deprecated and will be removed from pandas in a future version. Use pandas.concat instead.\n",
            "  join = base.append(compare)\n",
            "<ipython-input-21-abf8720ec68f>:7: FutureWarning: The frame.append method is deprecated and will be removed from pandas in a future version. Use pandas.concat instead.\n",
            "  join = base.append(compare)\n",
            "<ipython-input-21-abf8720ec68f>:7: FutureWarning: The frame.append method is deprecated and will be removed from pandas in a future version. Use pandas.concat instead.\n",
            "  join = base.append(compare)\n",
            "<ipython-input-21-abf8720ec68f>:7: FutureWarning: The frame.append method is deprecated and will be removed from pandas in a future version. Use pandas.concat instead.\n",
            "  join = base.append(compare)\n",
            "<ipython-input-21-abf8720ec68f>:7: FutureWarning: The frame.append method is deprecated and will be removed from pandas in a future version. Use pandas.concat instead.\n",
            "  join = base.append(compare)\n",
            "<ipython-input-21-abf8720ec68f>:7: FutureWarning: The frame.append method is deprecated and will be removed from pandas in a future version. Use pandas.concat instead.\n",
            "  join = base.append(compare)\n",
            "<ipython-input-21-abf8720ec68f>:7: FutureWarning: The frame.append method is deprecated and will be removed from pandas in a future version. Use pandas.concat instead.\n",
            "  join = base.append(compare)\n",
            "<ipython-input-21-abf8720ec68f>:7: FutureWarning: The frame.append method is deprecated and will be removed from pandas in a future version. Use pandas.concat instead.\n",
            "  join = base.append(compare)\n",
            "<ipython-input-21-abf8720ec68f>:7: FutureWarning: The frame.append method is deprecated and will be removed from pandas in a future version. Use pandas.concat instead.\n",
            "  join = base.append(compare)\n",
            "<ipython-input-21-abf8720ec68f>:7: FutureWarning: The frame.append method is deprecated and will be removed from pandas in a future version. Use pandas.concat instead.\n",
            "  join = base.append(compare)\n",
            "<ipython-input-21-abf8720ec68f>:7: FutureWarning: The frame.append method is deprecated and will be removed from pandas in a future version. Use pandas.concat instead.\n",
            "  join = base.append(compare)\n",
            "<ipython-input-21-abf8720ec68f>:7: FutureWarning: The frame.append method is deprecated and will be removed from pandas in a future version. Use pandas.concat instead.\n",
            "  join = base.append(compare)\n",
            "<ipython-input-21-abf8720ec68f>:7: FutureWarning: The frame.append method is deprecated and will be removed from pandas in a future version. Use pandas.concat instead.\n",
            "  join = base.append(compare)\n",
            "<ipython-input-21-abf8720ec68f>:7: FutureWarning: The frame.append method is deprecated and will be removed from pandas in a future version. Use pandas.concat instead.\n",
            "  join = base.append(compare)\n",
            "<ipython-input-21-abf8720ec68f>:7: FutureWarning: The frame.append method is deprecated and will be removed from pandas in a future version. Use pandas.concat instead.\n",
            "  join = base.append(compare)\n",
            "<ipython-input-21-abf8720ec68f>:7: FutureWarning: The frame.append method is deprecated and will be removed from pandas in a future version. Use pandas.concat instead.\n",
            "  join = base.append(compare)\n",
            "<ipython-input-21-abf8720ec68f>:7: FutureWarning: The frame.append method is deprecated and will be removed from pandas in a future version. Use pandas.concat instead.\n",
            "  join = base.append(compare)\n",
            "<ipython-input-21-abf8720ec68f>:7: FutureWarning: The frame.append method is deprecated and will be removed from pandas in a future version. Use pandas.concat instead.\n",
            "  join = base.append(compare)\n",
            "<ipython-input-21-abf8720ec68f>:7: FutureWarning: The frame.append method is deprecated and will be removed from pandas in a future version. Use pandas.concat instead.\n",
            "  join = base.append(compare)\n",
            "<ipython-input-21-abf8720ec68f>:7: FutureWarning: The frame.append method is deprecated and will be removed from pandas in a future version. Use pandas.concat instead.\n",
            "  join = base.append(compare)\n",
            "<ipython-input-21-abf8720ec68f>:7: FutureWarning: The frame.append method is deprecated and will be removed from pandas in a future version. Use pandas.concat instead.\n",
            "  join = base.append(compare)\n",
            "<ipython-input-21-abf8720ec68f>:7: FutureWarning: The frame.append method is deprecated and will be removed from pandas in a future version. Use pandas.concat instead.\n",
            "  join = base.append(compare)\n",
            "<ipython-input-21-abf8720ec68f>:7: FutureWarning: The frame.append method is deprecated and will be removed from pandas in a future version. Use pandas.concat instead.\n",
            "  join = base.append(compare)\n",
            "<ipython-input-21-abf8720ec68f>:7: FutureWarning: The frame.append method is deprecated and will be removed from pandas in a future version. Use pandas.concat instead.\n",
            "  join = base.append(compare)\n",
            "<ipython-input-21-abf8720ec68f>:7: FutureWarning: The frame.append method is deprecated and will be removed from pandas in a future version. Use pandas.concat instead.\n",
            "  join = base.append(compare)\n",
            "<ipython-input-21-abf8720ec68f>:7: FutureWarning: The frame.append method is deprecated and will be removed from pandas in a future version. Use pandas.concat instead.\n",
            "  join = base.append(compare)\n",
            "<ipython-input-21-abf8720ec68f>:7: FutureWarning: The frame.append method is deprecated and will be removed from pandas in a future version. Use pandas.concat instead.\n",
            "  join = base.append(compare)\n",
            "<ipython-input-21-abf8720ec68f>:7: FutureWarning: The frame.append method is deprecated and will be removed from pandas in a future version. Use pandas.concat instead.\n",
            "  join = base.append(compare)\n",
            "<ipython-input-21-abf8720ec68f>:7: FutureWarning: The frame.append method is deprecated and will be removed from pandas in a future version. Use pandas.concat instead.\n",
            "  join = base.append(compare)\n",
            "<ipython-input-21-abf8720ec68f>:7: FutureWarning: The frame.append method is deprecated and will be removed from pandas in a future version. Use pandas.concat instead.\n",
            "  join = base.append(compare)\n",
            "<ipython-input-21-abf8720ec68f>:7: FutureWarning: The frame.append method is deprecated and will be removed from pandas in a future version. Use pandas.concat instead.\n",
            "  join = base.append(compare)\n",
            "<ipython-input-21-abf8720ec68f>:7: FutureWarning: The frame.append method is deprecated and will be removed from pandas in a future version. Use pandas.concat instead.\n",
            "  join = base.append(compare)\n",
            "<ipython-input-21-abf8720ec68f>:7: FutureWarning: The frame.append method is deprecated and will be removed from pandas in a future version. Use pandas.concat instead.\n",
            "  join = base.append(compare)\n",
            "<ipython-input-21-abf8720ec68f>:7: FutureWarning: The frame.append method is deprecated and will be removed from pandas in a future version. Use pandas.concat instead.\n",
            "  join = base.append(compare)\n",
            "<ipython-input-21-abf8720ec68f>:7: FutureWarning: The frame.append method is deprecated and will be removed from pandas in a future version. Use pandas.concat instead.\n",
            "  join = base.append(compare)\n",
            "<ipython-input-21-abf8720ec68f>:7: FutureWarning: The frame.append method is deprecated and will be removed from pandas in a future version. Use pandas.concat instead.\n",
            "  join = base.append(compare)\n",
            "<ipython-input-21-abf8720ec68f>:7: FutureWarning: The frame.append method is deprecated and will be removed from pandas in a future version. Use pandas.concat instead.\n",
            "  join = base.append(compare)\n",
            "<ipython-input-21-abf8720ec68f>:7: FutureWarning: The frame.append method is deprecated and will be removed from pandas in a future version. Use pandas.concat instead.\n",
            "  join = base.append(compare)\n",
            "<ipython-input-21-abf8720ec68f>:7: FutureWarning: The frame.append method is deprecated and will be removed from pandas in a future version. Use pandas.concat instead.\n",
            "  join = base.append(compare)\n",
            "<ipython-input-21-abf8720ec68f>:7: FutureWarning: The frame.append method is deprecated and will be removed from pandas in a future version. Use pandas.concat instead.\n",
            "  join = base.append(compare)\n",
            "<ipython-input-21-abf8720ec68f>:7: FutureWarning: The frame.append method is deprecated and will be removed from pandas in a future version. Use pandas.concat instead.\n",
            "  join = base.append(compare)\n",
            "<ipython-input-21-abf8720ec68f>:7: FutureWarning: The frame.append method is deprecated and will be removed from pandas in a future version. Use pandas.concat instead.\n",
            "  join = base.append(compare)\n",
            "<ipython-input-21-abf8720ec68f>:7: FutureWarning: The frame.append method is deprecated and will be removed from pandas in a future version. Use pandas.concat instead.\n",
            "  join = base.append(compare)\n",
            "<ipython-input-21-abf8720ec68f>:7: FutureWarning: The frame.append method is deprecated and will be removed from pandas in a future version. Use pandas.concat instead.\n",
            "  join = base.append(compare)\n",
            "<ipython-input-21-abf8720ec68f>:7: FutureWarning: The frame.append method is deprecated and will be removed from pandas in a future version. Use pandas.concat instead.\n",
            "  join = base.append(compare)\n",
            "<ipython-input-21-abf8720ec68f>:7: FutureWarning: The frame.append method is deprecated and will be removed from pandas in a future version. Use pandas.concat instead.\n",
            "  join = base.append(compare)\n",
            "<ipython-input-21-abf8720ec68f>:7: FutureWarning: The frame.append method is deprecated and will be removed from pandas in a future version. Use pandas.concat instead.\n",
            "  join = base.append(compare)\n",
            "<ipython-input-21-abf8720ec68f>:7: FutureWarning: The frame.append method is deprecated and will be removed from pandas in a future version. Use pandas.concat instead.\n",
            "  join = base.append(compare)\n",
            "<ipython-input-21-abf8720ec68f>:7: FutureWarning: The frame.append method is deprecated and will be removed from pandas in a future version. Use pandas.concat instead.\n",
            "  join = base.append(compare)\n",
            "<ipython-input-21-abf8720ec68f>:7: FutureWarning: The frame.append method is deprecated and will be removed from pandas in a future version. Use pandas.concat instead.\n",
            "  join = base.append(compare)\n",
            "<ipython-input-21-abf8720ec68f>:7: FutureWarning: The frame.append method is deprecated and will be removed from pandas in a future version. Use pandas.concat instead.\n",
            "  join = base.append(compare)\n",
            "<ipython-input-21-abf8720ec68f>:7: FutureWarning: The frame.append method is deprecated and will be removed from pandas in a future version. Use pandas.concat instead.\n",
            "  join = base.append(compare)\n",
            "<ipython-input-21-abf8720ec68f>:7: FutureWarning: The frame.append method is deprecated and will be removed from pandas in a future version. Use pandas.concat instead.\n",
            "  join = base.append(compare)\n",
            "<ipython-input-21-abf8720ec68f>:7: FutureWarning: The frame.append method is deprecated and will be removed from pandas in a future version. Use pandas.concat instead.\n",
            "  join = base.append(compare)\n",
            "<ipython-input-21-abf8720ec68f>:7: FutureWarning: The frame.append method is deprecated and will be removed from pandas in a future version. Use pandas.concat instead.\n",
            "  join = base.append(compare)\n",
            "<ipython-input-21-abf8720ec68f>:7: FutureWarning: The frame.append method is deprecated and will be removed from pandas in a future version. Use pandas.concat instead.\n",
            "  join = base.append(compare)\n",
            "<ipython-input-21-abf8720ec68f>:7: FutureWarning: The frame.append method is deprecated and will be removed from pandas in a future version. Use pandas.concat instead.\n",
            "  join = base.append(compare)\n",
            "<ipython-input-21-abf8720ec68f>:7: FutureWarning: The frame.append method is deprecated and will be removed from pandas in a future version. Use pandas.concat instead.\n",
            "  join = base.append(compare)\n",
            "<ipython-input-21-abf8720ec68f>:7: FutureWarning: The frame.append method is deprecated and will be removed from pandas in a future version. Use pandas.concat instead.\n",
            "  join = base.append(compare)\n",
            "<ipython-input-21-abf8720ec68f>:7: FutureWarning: The frame.append method is deprecated and will be removed from pandas in a future version. Use pandas.concat instead.\n",
            "  join = base.append(compare)\n",
            "<ipython-input-21-abf8720ec68f>:7: FutureWarning: The frame.append method is deprecated and will be removed from pandas in a future version. Use pandas.concat instead.\n",
            "  join = base.append(compare)\n",
            "<ipython-input-21-abf8720ec68f>:7: FutureWarning: The frame.append method is deprecated and will be removed from pandas in a future version. Use pandas.concat instead.\n",
            "  join = base.append(compare)\n",
            "<ipython-input-21-abf8720ec68f>:7: FutureWarning: The frame.append method is deprecated and will be removed from pandas in a future version. Use pandas.concat instead.\n",
            "  join = base.append(compare)\n",
            "<ipython-input-21-abf8720ec68f>:7: FutureWarning: The frame.append method is deprecated and will be removed from pandas in a future version. Use pandas.concat instead.\n",
            "  join = base.append(compare)\n",
            "<ipython-input-21-abf8720ec68f>:7: FutureWarning: The frame.append method is deprecated and will be removed from pandas in a future version. Use pandas.concat instead.\n",
            "  join = base.append(compare)\n",
            "<ipython-input-21-abf8720ec68f>:7: FutureWarning: The frame.append method is deprecated and will be removed from pandas in a future version. Use pandas.concat instead.\n",
            "  join = base.append(compare)\n",
            "<ipython-input-21-abf8720ec68f>:7: FutureWarning: The frame.append method is deprecated and will be removed from pandas in a future version. Use pandas.concat instead.\n",
            "  join = base.append(compare)\n",
            "<ipython-input-21-abf8720ec68f>:7: FutureWarning: The frame.append method is deprecated and will be removed from pandas in a future version. Use pandas.concat instead.\n",
            "  join = base.append(compare)\n",
            "<ipython-input-21-abf8720ec68f>:7: FutureWarning: The frame.append method is deprecated and will be removed from pandas in a future version. Use pandas.concat instead.\n",
            "  join = base.append(compare)\n",
            "<ipython-input-21-abf8720ec68f>:7: FutureWarning: The frame.append method is deprecated and will be removed from pandas in a future version. Use pandas.concat instead.\n",
            "  join = base.append(compare)\n",
            "<ipython-input-21-abf8720ec68f>:7: FutureWarning: The frame.append method is deprecated and will be removed from pandas in a future version. Use pandas.concat instead.\n",
            "  join = base.append(compare)\n",
            "<ipython-input-21-abf8720ec68f>:7: FutureWarning: The frame.append method is deprecated and will be removed from pandas in a future version. Use pandas.concat instead.\n",
            "  join = base.append(compare)\n",
            "<ipython-input-21-abf8720ec68f>:7: FutureWarning: The frame.append method is deprecated and will be removed from pandas in a future version. Use pandas.concat instead.\n",
            "  join = base.append(compare)\n",
            "<ipython-input-21-abf8720ec68f>:7: FutureWarning: The frame.append method is deprecated and will be removed from pandas in a future version. Use pandas.concat instead.\n",
            "  join = base.append(compare)\n",
            "<ipython-input-21-abf8720ec68f>:7: FutureWarning: The frame.append method is deprecated and will be removed from pandas in a future version. Use pandas.concat instead.\n",
            "  join = base.append(compare)\n",
            "<ipython-input-21-abf8720ec68f>:7: FutureWarning: The frame.append method is deprecated and will be removed from pandas in a future version. Use pandas.concat instead.\n",
            "  join = base.append(compare)\n",
            "<ipython-input-21-abf8720ec68f>:7: FutureWarning: The frame.append method is deprecated and will be removed from pandas in a future version. Use pandas.concat instead.\n",
            "  join = base.append(compare)\n",
            "<ipython-input-21-abf8720ec68f>:7: FutureWarning: The frame.append method is deprecated and will be removed from pandas in a future version. Use pandas.concat instead.\n",
            "  join = base.append(compare)\n",
            "<ipython-input-21-abf8720ec68f>:7: FutureWarning: The frame.append method is deprecated and will be removed from pandas in a future version. Use pandas.concat instead.\n",
            "  join = base.append(compare)\n",
            "<ipython-input-21-abf8720ec68f>:7: FutureWarning: The frame.append method is deprecated and will be removed from pandas in a future version. Use pandas.concat instead.\n",
            "  join = base.append(compare)\n",
            "<ipython-input-21-abf8720ec68f>:7: FutureWarning: The frame.append method is deprecated and will be removed from pandas in a future version. Use pandas.concat instead.\n",
            "  join = base.append(compare)\n",
            "<ipython-input-21-abf8720ec68f>:7: FutureWarning: The frame.append method is deprecated and will be removed from pandas in a future version. Use pandas.concat instead.\n",
            "  join = base.append(compare)\n",
            "<ipython-input-21-abf8720ec68f>:7: FutureWarning: The frame.append method is deprecated and will be removed from pandas in a future version. Use pandas.concat instead.\n",
            "  join = base.append(compare)\n",
            "<ipython-input-21-abf8720ec68f>:7: FutureWarning: The frame.append method is deprecated and will be removed from pandas in a future version. Use pandas.concat instead.\n",
            "  join = base.append(compare)\n",
            "<ipython-input-21-abf8720ec68f>:7: FutureWarning: The frame.append method is deprecated and will be removed from pandas in a future version. Use pandas.concat instead.\n",
            "  join = base.append(compare)\n",
            "<ipython-input-21-abf8720ec68f>:7: FutureWarning: The frame.append method is deprecated and will be removed from pandas in a future version. Use pandas.concat instead.\n",
            "  join = base.append(compare)\n",
            "<ipython-input-21-abf8720ec68f>:7: FutureWarning: The frame.append method is deprecated and will be removed from pandas in a future version. Use pandas.concat instead.\n",
            "  join = base.append(compare)\n",
            "<ipython-input-21-abf8720ec68f>:7: FutureWarning: The frame.append method is deprecated and will be removed from pandas in a future version. Use pandas.concat instead.\n",
            "  join = base.append(compare)\n",
            "<ipython-input-21-abf8720ec68f>:7: FutureWarning: The frame.append method is deprecated and will be removed from pandas in a future version. Use pandas.concat instead.\n",
            "  join = base.append(compare)\n",
            "<ipython-input-21-abf8720ec68f>:7: FutureWarning: The frame.append method is deprecated and will be removed from pandas in a future version. Use pandas.concat instead.\n",
            "  join = base.append(compare)\n",
            "<ipython-input-21-abf8720ec68f>:7: FutureWarning: The frame.append method is deprecated and will be removed from pandas in a future version. Use pandas.concat instead.\n",
            "  join = base.append(compare)\n",
            "<ipython-input-21-abf8720ec68f>:7: FutureWarning: The frame.append method is deprecated and will be removed from pandas in a future version. Use pandas.concat instead.\n",
            "  join = base.append(compare)\n",
            "<ipython-input-21-abf8720ec68f>:7: FutureWarning: The frame.append method is deprecated and will be removed from pandas in a future version. Use pandas.concat instead.\n",
            "  join = base.append(compare)\n",
            "<ipython-input-21-abf8720ec68f>:7: FutureWarning: The frame.append method is deprecated and will be removed from pandas in a future version. Use pandas.concat instead.\n",
            "  join = base.append(compare)\n",
            "<ipython-input-21-abf8720ec68f>:7: FutureWarning: The frame.append method is deprecated and will be removed from pandas in a future version. Use pandas.concat instead.\n",
            "  join = base.append(compare)\n",
            "<ipython-input-21-abf8720ec68f>:7: FutureWarning: The frame.append method is deprecated and will be removed from pandas in a future version. Use pandas.concat instead.\n",
            "  join = base.append(compare)\n",
            "<ipython-input-21-abf8720ec68f>:7: FutureWarning: The frame.append method is deprecated and will be removed from pandas in a future version. Use pandas.concat instead.\n",
            "  join = base.append(compare)\n",
            "<ipython-input-21-abf8720ec68f>:7: FutureWarning: The frame.append method is deprecated and will be removed from pandas in a future version. Use pandas.concat instead.\n",
            "  join = base.append(compare)\n",
            "<ipython-input-21-abf8720ec68f>:7: FutureWarning: The frame.append method is deprecated and will be removed from pandas in a future version. Use pandas.concat instead.\n",
            "  join = base.append(compare)\n",
            "<ipython-input-21-abf8720ec68f>:7: FutureWarning: The frame.append method is deprecated and will be removed from pandas in a future version. Use pandas.concat instead.\n",
            "  join = base.append(compare)\n",
            "<ipython-input-21-abf8720ec68f>:7: FutureWarning: The frame.append method is deprecated and will be removed from pandas in a future version. Use pandas.concat instead.\n",
            "  join = base.append(compare)\n",
            "<ipython-input-21-abf8720ec68f>:7: FutureWarning: The frame.append method is deprecated and will be removed from pandas in a future version. Use pandas.concat instead.\n",
            "  join = base.append(compare)\n",
            "<ipython-input-21-abf8720ec68f>:7: FutureWarning: The frame.append method is deprecated and will be removed from pandas in a future version. Use pandas.concat instead.\n",
            "  join = base.append(compare)\n",
            "<ipython-input-21-abf8720ec68f>:7: FutureWarning: The frame.append method is deprecated and will be removed from pandas in a future version. Use pandas.concat instead.\n",
            "  join = base.append(compare)\n",
            "<ipython-input-21-abf8720ec68f>:7: FutureWarning: The frame.append method is deprecated and will be removed from pandas in a future version. Use pandas.concat instead.\n",
            "  join = base.append(compare)\n",
            "<ipython-input-21-abf8720ec68f>:7: FutureWarning: The frame.append method is deprecated and will be removed from pandas in a future version. Use pandas.concat instead.\n",
            "  join = base.append(compare)\n",
            "<ipython-input-21-abf8720ec68f>:7: FutureWarning: The frame.append method is deprecated and will be removed from pandas in a future version. Use pandas.concat instead.\n",
            "  join = base.append(compare)\n",
            "<ipython-input-21-abf8720ec68f>:7: FutureWarning: The frame.append method is deprecated and will be removed from pandas in a future version. Use pandas.concat instead.\n",
            "  join = base.append(compare)\n",
            "<ipython-input-21-abf8720ec68f>:7: FutureWarning: The frame.append method is deprecated and will be removed from pandas in a future version. Use pandas.concat instead.\n",
            "  join = base.append(compare)\n",
            "<ipython-input-21-abf8720ec68f>:7: FutureWarning: The frame.append method is deprecated and will be removed from pandas in a future version. Use pandas.concat instead.\n",
            "  join = base.append(compare)\n",
            "<ipython-input-21-abf8720ec68f>:7: FutureWarning: The frame.append method is deprecated and will be removed from pandas in a future version. Use pandas.concat instead.\n",
            "  join = base.append(compare)\n",
            "<ipython-input-21-abf8720ec68f>:7: FutureWarning: The frame.append method is deprecated and will be removed from pandas in a future version. Use pandas.concat instead.\n",
            "  join = base.append(compare)\n",
            "<ipython-input-21-abf8720ec68f>:7: FutureWarning: The frame.append method is deprecated and will be removed from pandas in a future version. Use pandas.concat instead.\n",
            "  join = base.append(compare)\n",
            "<ipython-input-21-abf8720ec68f>:7: FutureWarning: The frame.append method is deprecated and will be removed from pandas in a future version. Use pandas.concat instead.\n",
            "  join = base.append(compare)\n",
            "<ipython-input-21-abf8720ec68f>:7: FutureWarning: The frame.append method is deprecated and will be removed from pandas in a future version. Use pandas.concat instead.\n",
            "  join = base.append(compare)\n",
            "<ipython-input-21-abf8720ec68f>:7: FutureWarning: The frame.append method is deprecated and will be removed from pandas in a future version. Use pandas.concat instead.\n",
            "  join = base.append(compare)\n",
            "<ipython-input-21-abf8720ec68f>:7: FutureWarning: The frame.append method is deprecated and will be removed from pandas in a future version. Use pandas.concat instead.\n",
            "  join = base.append(compare)\n",
            "<ipython-input-21-abf8720ec68f>:7: FutureWarning: The frame.append method is deprecated and will be removed from pandas in a future version. Use pandas.concat instead.\n",
            "  join = base.append(compare)\n",
            "<ipython-input-21-abf8720ec68f>:7: FutureWarning: The frame.append method is deprecated and will be removed from pandas in a future version. Use pandas.concat instead.\n",
            "  join = base.append(compare)\n",
            "<ipython-input-21-abf8720ec68f>:7: FutureWarning: The frame.append method is deprecated and will be removed from pandas in a future version. Use pandas.concat instead.\n",
            "  join = base.append(compare)\n",
            "<ipython-input-21-abf8720ec68f>:7: FutureWarning: The frame.append method is deprecated and will be removed from pandas in a future version. Use pandas.concat instead.\n",
            "  join = base.append(compare)\n",
            "<ipython-input-21-abf8720ec68f>:7: FutureWarning: The frame.append method is deprecated and will be removed from pandas in a future version. Use pandas.concat instead.\n",
            "  join = base.append(compare)\n",
            "<ipython-input-21-abf8720ec68f>:7: FutureWarning: The frame.append method is deprecated and will be removed from pandas in a future version. Use pandas.concat instead.\n",
            "  join = base.append(compare)\n",
            "<ipython-input-21-abf8720ec68f>:7: FutureWarning: The frame.append method is deprecated and will be removed from pandas in a future version. Use pandas.concat instead.\n",
            "  join = base.append(compare)\n",
            "<ipython-input-21-abf8720ec68f>:7: FutureWarning: The frame.append method is deprecated and will be removed from pandas in a future version. Use pandas.concat instead.\n",
            "  join = base.append(compare)\n",
            "<ipython-input-21-abf8720ec68f>:7: FutureWarning: The frame.append method is deprecated and will be removed from pandas in a future version. Use pandas.concat instead.\n",
            "  join = base.append(compare)\n",
            "<ipython-input-21-abf8720ec68f>:7: FutureWarning: The frame.append method is deprecated and will be removed from pandas in a future version. Use pandas.concat instead.\n",
            "  join = base.append(compare)\n",
            "<ipython-input-21-abf8720ec68f>:7: FutureWarning: The frame.append method is deprecated and will be removed from pandas in a future version. Use pandas.concat instead.\n",
            "  join = base.append(compare)\n",
            "<ipython-input-21-abf8720ec68f>:7: FutureWarning: The frame.append method is deprecated and will be removed from pandas in a future version. Use pandas.concat instead.\n",
            "  join = base.append(compare)\n",
            "<ipython-input-21-abf8720ec68f>:7: FutureWarning: The frame.append method is deprecated and will be removed from pandas in a future version. Use pandas.concat instead.\n",
            "  join = base.append(compare)\n",
            "<ipython-input-21-abf8720ec68f>:7: FutureWarning: The frame.append method is deprecated and will be removed from pandas in a future version. Use pandas.concat instead.\n",
            "  join = base.append(compare)\n",
            "<ipython-input-21-abf8720ec68f>:7: FutureWarning: The frame.append method is deprecated and will be removed from pandas in a future version. Use pandas.concat instead.\n",
            "  join = base.append(compare)\n",
            "<ipython-input-21-abf8720ec68f>:7: FutureWarning: The frame.append method is deprecated and will be removed from pandas in a future version. Use pandas.concat instead.\n",
            "  join = base.append(compare)\n",
            "<ipython-input-21-abf8720ec68f>:7: FutureWarning: The frame.append method is deprecated and will be removed from pandas in a future version. Use pandas.concat instead.\n",
            "  join = base.append(compare)\n",
            "<ipython-input-21-abf8720ec68f>:7: FutureWarning: The frame.append method is deprecated and will be removed from pandas in a future version. Use pandas.concat instead.\n",
            "  join = base.append(compare)\n",
            "<ipython-input-21-abf8720ec68f>:7: FutureWarning: The frame.append method is deprecated and will be removed from pandas in a future version. Use pandas.concat instead.\n",
            "  join = base.append(compare)\n",
            "<ipython-input-21-abf8720ec68f>:7: FutureWarning: The frame.append method is deprecated and will be removed from pandas in a future version. Use pandas.concat instead.\n",
            "  join = base.append(compare)\n",
            "<ipython-input-21-abf8720ec68f>:7: FutureWarning: The frame.append method is deprecated and will be removed from pandas in a future version. Use pandas.concat instead.\n",
            "  join = base.append(compare)\n",
            "<ipython-input-21-abf8720ec68f>:7: FutureWarning: The frame.append method is deprecated and will be removed from pandas in a future version. Use pandas.concat instead.\n",
            "  join = base.append(compare)\n",
            "<ipython-input-21-abf8720ec68f>:7: FutureWarning: The frame.append method is deprecated and will be removed from pandas in a future version. Use pandas.concat instead.\n",
            "  join = base.append(compare)\n",
            "<ipython-input-21-abf8720ec68f>:7: FutureWarning: The frame.append method is deprecated and will be removed from pandas in a future version. Use pandas.concat instead.\n",
            "  join = base.append(compare)\n",
            "<ipython-input-21-abf8720ec68f>:7: FutureWarning: The frame.append method is deprecated and will be removed from pandas in a future version. Use pandas.concat instead.\n",
            "  join = base.append(compare)\n",
            "<ipython-input-21-abf8720ec68f>:7: FutureWarning: The frame.append method is deprecated and will be removed from pandas in a future version. Use pandas.concat instead.\n",
            "  join = base.append(compare)\n",
            "<ipython-input-21-abf8720ec68f>:7: FutureWarning: The frame.append method is deprecated and will be removed from pandas in a future version. Use pandas.concat instead.\n",
            "  join = base.append(compare)\n",
            "<ipython-input-21-abf8720ec68f>:7: FutureWarning: The frame.append method is deprecated and will be removed from pandas in a future version. Use pandas.concat instead.\n",
            "  join = base.append(compare)\n",
            "<ipython-input-21-abf8720ec68f>:7: FutureWarning: The frame.append method is deprecated and will be removed from pandas in a future version. Use pandas.concat instead.\n",
            "  join = base.append(compare)\n",
            "<ipython-input-21-abf8720ec68f>:7: FutureWarning: The frame.append method is deprecated and will be removed from pandas in a future version. Use pandas.concat instead.\n",
            "  join = base.append(compare)\n",
            "<ipython-input-21-abf8720ec68f>:7: FutureWarning: The frame.append method is deprecated and will be removed from pandas in a future version. Use pandas.concat instead.\n",
            "  join = base.append(compare)\n",
            "<ipython-input-21-abf8720ec68f>:7: FutureWarning: The frame.append method is deprecated and will be removed from pandas in a future version. Use pandas.concat instead.\n",
            "  join = base.append(compare)\n",
            "<ipython-input-21-abf8720ec68f>:7: FutureWarning: The frame.append method is deprecated and will be removed from pandas in a future version. Use pandas.concat instead.\n",
            "  join = base.append(compare)\n",
            "<ipython-input-21-abf8720ec68f>:7: FutureWarning: The frame.append method is deprecated and will be removed from pandas in a future version. Use pandas.concat instead.\n",
            "  join = base.append(compare)\n",
            "<ipython-input-21-abf8720ec68f>:7: FutureWarning: The frame.append method is deprecated and will be removed from pandas in a future version. Use pandas.concat instead.\n",
            "  join = base.append(compare)\n",
            "<ipython-input-21-abf8720ec68f>:7: FutureWarning: The frame.append method is deprecated and will be removed from pandas in a future version. Use pandas.concat instead.\n",
            "  join = base.append(compare)\n",
            "<ipython-input-21-abf8720ec68f>:7: FutureWarning: The frame.append method is deprecated and will be removed from pandas in a future version. Use pandas.concat instead.\n",
            "  join = base.append(compare)\n",
            "<ipython-input-21-abf8720ec68f>:7: FutureWarning: The frame.append method is deprecated and will be removed from pandas in a future version. Use pandas.concat instead.\n",
            "  join = base.append(compare)\n",
            "<ipython-input-21-abf8720ec68f>:7: FutureWarning: The frame.append method is deprecated and will be removed from pandas in a future version. Use pandas.concat instead.\n",
            "  join = base.append(compare)\n",
            "<ipython-input-21-abf8720ec68f>:7: FutureWarning: The frame.append method is deprecated and will be removed from pandas in a future version. Use pandas.concat instead.\n",
            "  join = base.append(compare)\n",
            "<ipython-input-21-abf8720ec68f>:7: FutureWarning: The frame.append method is deprecated and will be removed from pandas in a future version. Use pandas.concat instead.\n",
            "  join = base.append(compare)\n",
            "<ipython-input-21-abf8720ec68f>:7: FutureWarning: The frame.append method is deprecated and will be removed from pandas in a future version. Use pandas.concat instead.\n",
            "  join = base.append(compare)\n",
            "<ipython-input-21-abf8720ec68f>:7: FutureWarning: The frame.append method is deprecated and will be removed from pandas in a future version. Use pandas.concat instead.\n",
            "  join = base.append(compare)\n",
            "<ipython-input-21-abf8720ec68f>:7: FutureWarning: The frame.append method is deprecated and will be removed from pandas in a future version. Use pandas.concat instead.\n",
            "  join = base.append(compare)\n",
            "<ipython-input-21-abf8720ec68f>:7: FutureWarning: The frame.append method is deprecated and will be removed from pandas in a future version. Use pandas.concat instead.\n",
            "  join = base.append(compare)\n",
            "<ipython-input-21-abf8720ec68f>:7: FutureWarning: The frame.append method is deprecated and will be removed from pandas in a future version. Use pandas.concat instead.\n",
            "  join = base.append(compare)\n",
            "<ipython-input-21-abf8720ec68f>:7: FutureWarning: The frame.append method is deprecated and will be removed from pandas in a future version. Use pandas.concat instead.\n",
            "  join = base.append(compare)\n",
            "<ipython-input-21-abf8720ec68f>:7: FutureWarning: The frame.append method is deprecated and will be removed from pandas in a future version. Use pandas.concat instead.\n",
            "  join = base.append(compare)\n",
            "<ipython-input-21-abf8720ec68f>:7: FutureWarning: The frame.append method is deprecated and will be removed from pandas in a future version. Use pandas.concat instead.\n",
            "  join = base.append(compare)\n",
            "<ipython-input-21-abf8720ec68f>:7: FutureWarning: The frame.append method is deprecated and will be removed from pandas in a future version. Use pandas.concat instead.\n",
            "  join = base.append(compare)\n",
            "<ipython-input-21-abf8720ec68f>:7: FutureWarning: The frame.append method is deprecated and will be removed from pandas in a future version. Use pandas.concat instead.\n",
            "  join = base.append(compare)\n",
            "<ipython-input-21-abf8720ec68f>:7: FutureWarning: The frame.append method is deprecated and will be removed from pandas in a future version. Use pandas.concat instead.\n",
            "  join = base.append(compare)\n",
            "<ipython-input-21-abf8720ec68f>:7: FutureWarning: The frame.append method is deprecated and will be removed from pandas in a future version. Use pandas.concat instead.\n",
            "  join = base.append(compare)\n",
            "<ipython-input-21-abf8720ec68f>:7: FutureWarning: The frame.append method is deprecated and will be removed from pandas in a future version. Use pandas.concat instead.\n",
            "  join = base.append(compare)\n",
            "<ipython-input-21-abf8720ec68f>:7: FutureWarning: The frame.append method is deprecated and will be removed from pandas in a future version. Use pandas.concat instead.\n",
            "  join = base.append(compare)\n",
            "<ipython-input-21-abf8720ec68f>:7: FutureWarning: The frame.append method is deprecated and will be removed from pandas in a future version. Use pandas.concat instead.\n",
            "  join = base.append(compare)\n",
            "<ipython-input-21-abf8720ec68f>:7: FutureWarning: The frame.append method is deprecated and will be removed from pandas in a future version. Use pandas.concat instead.\n",
            "  join = base.append(compare)\n",
            "<ipython-input-21-abf8720ec68f>:7: FutureWarning: The frame.append method is deprecated and will be removed from pandas in a future version. Use pandas.concat instead.\n",
            "  join = base.append(compare)\n",
            "<ipython-input-21-abf8720ec68f>:7: FutureWarning: The frame.append method is deprecated and will be removed from pandas in a future version. Use pandas.concat instead.\n",
            "  join = base.append(compare)\n",
            "<ipython-input-21-abf8720ec68f>:7: FutureWarning: The frame.append method is deprecated and will be removed from pandas in a future version. Use pandas.concat instead.\n",
            "  join = base.append(compare)\n",
            "<ipython-input-21-abf8720ec68f>:7: FutureWarning: The frame.append method is deprecated and will be removed from pandas in a future version. Use pandas.concat instead.\n",
            "  join = base.append(compare)\n",
            "<ipython-input-21-abf8720ec68f>:7: FutureWarning: The frame.append method is deprecated and will be removed from pandas in a future version. Use pandas.concat instead.\n",
            "  join = base.append(compare)\n",
            "<ipython-input-21-abf8720ec68f>:7: FutureWarning: The frame.append method is deprecated and will be removed from pandas in a future version. Use pandas.concat instead.\n",
            "  join = base.append(compare)\n",
            "<ipython-input-21-abf8720ec68f>:7: FutureWarning: The frame.append method is deprecated and will be removed from pandas in a future version. Use pandas.concat instead.\n",
            "  join = base.append(compare)\n",
            "<ipython-input-21-abf8720ec68f>:7: FutureWarning: The frame.append method is deprecated and will be removed from pandas in a future version. Use pandas.concat instead.\n",
            "  join = base.append(compare)\n",
            "<ipython-input-21-abf8720ec68f>:7: FutureWarning: The frame.append method is deprecated and will be removed from pandas in a future version. Use pandas.concat instead.\n",
            "  join = base.append(compare)\n",
            "<ipython-input-21-abf8720ec68f>:7: FutureWarning: The frame.append method is deprecated and will be removed from pandas in a future version. Use pandas.concat instead.\n",
            "  join = base.append(compare)\n",
            "<ipython-input-21-abf8720ec68f>:7: FutureWarning: The frame.append method is deprecated and will be removed from pandas in a future version. Use pandas.concat instead.\n",
            "  join = base.append(compare)\n",
            "<ipython-input-21-abf8720ec68f>:7: FutureWarning: The frame.append method is deprecated and will be removed from pandas in a future version. Use pandas.concat instead.\n",
            "  join = base.append(compare)\n",
            "<ipython-input-21-abf8720ec68f>:7: FutureWarning: The frame.append method is deprecated and will be removed from pandas in a future version. Use pandas.concat instead.\n",
            "  join = base.append(compare)\n",
            "<ipython-input-21-abf8720ec68f>:7: FutureWarning: The frame.append method is deprecated and will be removed from pandas in a future version. Use pandas.concat instead.\n",
            "  join = base.append(compare)\n",
            "<ipython-input-21-abf8720ec68f>:7: FutureWarning: The frame.append method is deprecated and will be removed from pandas in a future version. Use pandas.concat instead.\n",
            "  join = base.append(compare)\n",
            "<ipython-input-21-abf8720ec68f>:7: FutureWarning: The frame.append method is deprecated and will be removed from pandas in a future version. Use pandas.concat instead.\n",
            "  join = base.append(compare)\n",
            "<ipython-input-21-abf8720ec68f>:7: FutureWarning: The frame.append method is deprecated and will be removed from pandas in a future version. Use pandas.concat instead.\n",
            "  join = base.append(compare)\n",
            "<ipython-input-21-abf8720ec68f>:7: FutureWarning: The frame.append method is deprecated and will be removed from pandas in a future version. Use pandas.concat instead.\n",
            "  join = base.append(compare)\n",
            "<ipython-input-21-abf8720ec68f>:7: FutureWarning: The frame.append method is deprecated and will be removed from pandas in a future version. Use pandas.concat instead.\n",
            "  join = base.append(compare)\n",
            "<ipython-input-21-abf8720ec68f>:7: FutureWarning: The frame.append method is deprecated and will be removed from pandas in a future version. Use pandas.concat instead.\n",
            "  join = base.append(compare)\n",
            "<ipython-input-21-abf8720ec68f>:7: FutureWarning: The frame.append method is deprecated and will be removed from pandas in a future version. Use pandas.concat instead.\n",
            "  join = base.append(compare)\n",
            "<ipython-input-21-abf8720ec68f>:7: FutureWarning: The frame.append method is deprecated and will be removed from pandas in a future version. Use pandas.concat instead.\n",
            "  join = base.append(compare)\n",
            "<ipython-input-21-abf8720ec68f>:7: FutureWarning: The frame.append method is deprecated and will be removed from pandas in a future version. Use pandas.concat instead.\n",
            "  join = base.append(compare)\n",
            "<ipython-input-21-abf8720ec68f>:7: FutureWarning: The frame.append method is deprecated and will be removed from pandas in a future version. Use pandas.concat instead.\n",
            "  join = base.append(compare)\n",
            "<ipython-input-21-abf8720ec68f>:7: FutureWarning: The frame.append method is deprecated and will be removed from pandas in a future version. Use pandas.concat instead.\n",
            "  join = base.append(compare)\n",
            "<ipython-input-21-abf8720ec68f>:7: FutureWarning: The frame.append method is deprecated and will be removed from pandas in a future version. Use pandas.concat instead.\n",
            "  join = base.append(compare)\n",
            "<ipython-input-21-abf8720ec68f>:7: FutureWarning: The frame.append method is deprecated and will be removed from pandas in a future version. Use pandas.concat instead.\n",
            "  join = base.append(compare)\n",
            "<ipython-input-21-abf8720ec68f>:7: FutureWarning: The frame.append method is deprecated and will be removed from pandas in a future version. Use pandas.concat instead.\n",
            "  join = base.append(compare)\n",
            "<ipython-input-21-abf8720ec68f>:7: FutureWarning: The frame.append method is deprecated and will be removed from pandas in a future version. Use pandas.concat instead.\n",
            "  join = base.append(compare)\n",
            "<ipython-input-21-abf8720ec68f>:7: FutureWarning: The frame.append method is deprecated and will be removed from pandas in a future version. Use pandas.concat instead.\n",
            "  join = base.append(compare)\n",
            "<ipython-input-21-abf8720ec68f>:7: FutureWarning: The frame.append method is deprecated and will be removed from pandas in a future version. Use pandas.concat instead.\n",
            "  join = base.append(compare)\n",
            "<ipython-input-21-abf8720ec68f>:7: FutureWarning: The frame.append method is deprecated and will be removed from pandas in a future version. Use pandas.concat instead.\n",
            "  join = base.append(compare)\n",
            "<ipython-input-21-abf8720ec68f>:7: FutureWarning: The frame.append method is deprecated and will be removed from pandas in a future version. Use pandas.concat instead.\n",
            "  join = base.append(compare)\n",
            "<ipython-input-21-abf8720ec68f>:7: FutureWarning: The frame.append method is deprecated and will be removed from pandas in a future version. Use pandas.concat instead.\n",
            "  join = base.append(compare)\n",
            "<ipython-input-21-abf8720ec68f>:7: FutureWarning: The frame.append method is deprecated and will be removed from pandas in a future version. Use pandas.concat instead.\n",
            "  join = base.append(compare)\n",
            "<ipython-input-21-abf8720ec68f>:7: FutureWarning: The frame.append method is deprecated and will be removed from pandas in a future version. Use pandas.concat instead.\n",
            "  join = base.append(compare)\n",
            "<ipython-input-21-abf8720ec68f>:7: FutureWarning: The frame.append method is deprecated and will be removed from pandas in a future version. Use pandas.concat instead.\n",
            "  join = base.append(compare)\n",
            "<ipython-input-21-abf8720ec68f>:7: FutureWarning: The frame.append method is deprecated and will be removed from pandas in a future version. Use pandas.concat instead.\n",
            "  join = base.append(compare)\n",
            "<ipython-input-21-abf8720ec68f>:7: FutureWarning: The frame.append method is deprecated and will be removed from pandas in a future version. Use pandas.concat instead.\n",
            "  join = base.append(compare)\n",
            "<ipython-input-21-abf8720ec68f>:7: FutureWarning: The frame.append method is deprecated and will be removed from pandas in a future version. Use pandas.concat instead.\n",
            "  join = base.append(compare)\n",
            "<ipython-input-21-abf8720ec68f>:7: FutureWarning: The frame.append method is deprecated and will be removed from pandas in a future version. Use pandas.concat instead.\n",
            "  join = base.append(compare)\n",
            "<ipython-input-21-abf8720ec68f>:7: FutureWarning: The frame.append method is deprecated and will be removed from pandas in a future version. Use pandas.concat instead.\n",
            "  join = base.append(compare)\n",
            "<ipython-input-21-abf8720ec68f>:7: FutureWarning: The frame.append method is deprecated and will be removed from pandas in a future version. Use pandas.concat instead.\n",
            "  join = base.append(compare)\n",
            "<ipython-input-21-abf8720ec68f>:7: FutureWarning: The frame.append method is deprecated and will be removed from pandas in a future version. Use pandas.concat instead.\n",
            "  join = base.append(compare)\n",
            "<ipython-input-21-abf8720ec68f>:7: FutureWarning: The frame.append method is deprecated and will be removed from pandas in a future version. Use pandas.concat instead.\n",
            "  join = base.append(compare)\n",
            "<ipython-input-21-abf8720ec68f>:7: FutureWarning: The frame.append method is deprecated and will be removed from pandas in a future version. Use pandas.concat instead.\n",
            "  join = base.append(compare)\n",
            "<ipython-input-21-abf8720ec68f>:7: FutureWarning: The frame.append method is deprecated and will be removed from pandas in a future version. Use pandas.concat instead.\n",
            "  join = base.append(compare)\n",
            "<ipython-input-21-abf8720ec68f>:7: FutureWarning: The frame.append method is deprecated and will be removed from pandas in a future version. Use pandas.concat instead.\n",
            "  join = base.append(compare)\n",
            "<ipython-input-21-abf8720ec68f>:7: FutureWarning: The frame.append method is deprecated and will be removed from pandas in a future version. Use pandas.concat instead.\n",
            "  join = base.append(compare)\n",
            "<ipython-input-21-abf8720ec68f>:7: FutureWarning: The frame.append method is deprecated and will be removed from pandas in a future version. Use pandas.concat instead.\n",
            "  join = base.append(compare)\n",
            "<ipython-input-21-abf8720ec68f>:7: FutureWarning: The frame.append method is deprecated and will be removed from pandas in a future version. Use pandas.concat instead.\n",
            "  join = base.append(compare)\n",
            "<ipython-input-21-abf8720ec68f>:7: FutureWarning: The frame.append method is deprecated and will be removed from pandas in a future version. Use pandas.concat instead.\n",
            "  join = base.append(compare)\n",
            "<ipython-input-21-abf8720ec68f>:7: FutureWarning: The frame.append method is deprecated and will be removed from pandas in a future version. Use pandas.concat instead.\n",
            "  join = base.append(compare)\n",
            "<ipython-input-21-abf8720ec68f>:7: FutureWarning: The frame.append method is deprecated and will be removed from pandas in a future version. Use pandas.concat instead.\n",
            "  join = base.append(compare)\n",
            "<ipython-input-21-abf8720ec68f>:7: FutureWarning: The frame.append method is deprecated and will be removed from pandas in a future version. Use pandas.concat instead.\n",
            "  join = base.append(compare)\n",
            "<ipython-input-21-abf8720ec68f>:7: FutureWarning: The frame.append method is deprecated and will be removed from pandas in a future version. Use pandas.concat instead.\n",
            "  join = base.append(compare)\n",
            "<ipython-input-21-abf8720ec68f>:7: FutureWarning: The frame.append method is deprecated and will be removed from pandas in a future version. Use pandas.concat instead.\n",
            "  join = base.append(compare)\n",
            "<ipython-input-21-abf8720ec68f>:7: FutureWarning: The frame.append method is deprecated and will be removed from pandas in a future version. Use pandas.concat instead.\n",
            "  join = base.append(compare)\n",
            "<ipython-input-21-abf8720ec68f>:7: FutureWarning: The frame.append method is deprecated and will be removed from pandas in a future version. Use pandas.concat instead.\n",
            "  join = base.append(compare)\n",
            "<ipython-input-21-abf8720ec68f>:7: FutureWarning: The frame.append method is deprecated and will be removed from pandas in a future version. Use pandas.concat instead.\n",
            "  join = base.append(compare)\n",
            "<ipython-input-21-abf8720ec68f>:7: FutureWarning: The frame.append method is deprecated and will be removed from pandas in a future version. Use pandas.concat instead.\n",
            "  join = base.append(compare)\n",
            "<ipython-input-21-abf8720ec68f>:7: FutureWarning: The frame.append method is deprecated and will be removed from pandas in a future version. Use pandas.concat instead.\n",
            "  join = base.append(compare)\n",
            "<ipython-input-21-abf8720ec68f>:7: FutureWarning: The frame.append method is deprecated and will be removed from pandas in a future version. Use pandas.concat instead.\n",
            "  join = base.append(compare)\n"
          ]
        },
        {
          "output_type": "execute_result",
          "data": {
            "text/plain": [
              "{'ML0109EN': 0.521749194749951,\n",
              " 'ML0151EN': 0.6626221399549089,\n",
              " 'excourse46': 0.6120541193300345,\n",
              " 'excourse47': 0.6347547807096177,\n",
              " 'excourse60': 0.5490400192158564}"
            ]
          },
          "metadata": {},
          "execution_count": 26
        }
      ],
      "source": [
        "# WRITE YOUR CODE HERE\n",
        "\n",
        "## For each course other than ML0101ENv3, use pivot_course_rows to convert it with course ML0101ENv3 into horizontal two BoW feature vectors\n",
        "## Then use the cosine method to calculate the similarity\n",
        "## Report all courses with similarities larger than a specific threshold (such as 0.5)\n",
        "sims={}\n",
        "for i in course_df.iloc[:,0]:\n",
        "    if i=='ML0101ENv3':\n",
        "        continue\n",
        "    base = bows_df[bows_df['doc_id'] == 'ML0101ENv3']\n",
        "    comparedoc = bows_df[bows_df['doc_id'] == i]\n",
        "    bow_vectors = pivot_two_bows(base, comparedoc)\n",
        "    similarity = 1 - cosine(bow_vectors.iloc[0, 2:], bow_vectors.iloc[1, 2:])\n",
        "    if similarity>=0.5:\n",
        "        sims[i]=similarity\n",
        "sims"
      ]
    },
    {
      "cell_type": "markdown",
      "metadata": {
        "id": "317d2a1e-7b06-4a40-b391-9ac89f047bd5"
      },
      "source": [
        "<details>\n",
        "    <summary>Click here for Hints</summary>\n",
        "    \n",
        "You can use `bows_df[bows_df['doc_id'] == 'ML0101ENv3']` to find 'ML0101ENv3' course bow. Then in a similar matter you can find bows for each course_id that's not 'ML0101ENv3'. Then you can join 2 bows by using predefined `pivot_two_bows` function and calculate the similarity as we just did using the cosine method. Print the course ids with similarity>0.5 \n",
        "</details>\n"
      ]
    },
    {
      "cell_type": "markdown",
      "metadata": {
        "id": "4cfd4b37-f900-4e45-9be7-e8b27a2fdb22"
      },
      "source": [
        "### Summary\n"
      ]
    },
    {
      "cell_type": "markdown",
      "metadata": {
        "id": "858efd61-8d35-4121-9d50-354a57ebf156"
      },
      "source": [
        "Congratulations, you have finished the course similarity lab. In this lab, you used cosine and course BoW features to calculate the similarities among courses. Such similarity measurement is the core of many content-based recommender systems, which you will learn and practice in the later labs.\n"
      ]
    },
    {
      "cell_type": "markdown",
      "metadata": {
        "id": "bb4bdfac-dc21-4fad-a122-c6e2834968c7"
      },
      "source": [
        "## Authors\n"
      ]
    },
    {
      "cell_type": "markdown",
      "metadata": {
        "id": "9cdb0d22-13cb-47d0-afbf-b3e6fd3487c1"
      },
      "source": [
        "[Yan Luo](https://www.linkedin.com/in/yan-luo-96288783/?utm_medium=Exinfluencer&utm_source=Exinfluencer&utm_content=000026UJ&utm_term=10006555&utm_id=NA-SkillsNetwork-Channel-SkillsNetworkCoursesIBMML321ENSkillsNetwork817-2022-01-01)\n"
      ]
    },
    {
      "cell_type": "markdown",
      "metadata": {
        "id": "dbcfae86-4105-4667-8343-76aa60ef8b9d"
      },
      "source": [
        "### Other Contributors\n"
      ]
    },
    {
      "cell_type": "markdown",
      "metadata": {
        "id": "74d974ef-7403-4768-aa1c-0999a050b432"
      },
      "source": [
        "## Change Log\n"
      ]
    },
    {
      "cell_type": "markdown",
      "metadata": {
        "id": "da350f0e-ffc6-41e1-8ea4-139ba10fe8ed"
      },
      "source": [
        "|Date (YYYY-MM-DD)|Version|Changed By|Change Description|\n",
        "|-|-|-|-|\n",
        "|2021-10-25|1.0|Yan|Created the initial version|\n"
      ]
    },
    {
      "cell_type": "markdown",
      "metadata": {
        "id": "3f016c9c-ff65-4db1-a63a-275d695e57d5"
      },
      "source": [
        "Copyright © 2021 IBM Corporation. All rights reserved.\n"
      ]
    }
  ],
  "metadata": {
    "kernelspec": {
      "display_name": "Python 3 (ipykernel)",
      "language": "python",
      "name": "python3"
    },
    "language_info": {
      "codemirror_mode": {
        "name": "ipython",
        "version": 3
      },
      "file_extension": ".py",
      "mimetype": "text/x-python",
      "name": "python",
      "nbconvert_exporter": "python",
      "pygments_lexer": "ipython3",
      "version": "3.9.12"
    },
    "colab": {
      "provenance": []
    }
  },
  "nbformat": 4,
  "nbformat_minor": 0
}