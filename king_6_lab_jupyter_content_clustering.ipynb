{
  "cells": [
    {
      "cell_type": "markdown",
      "metadata": {
        "id": "8f740f00-fc13-43b7-ad0a-d51d5687708d"
      },
      "source": [
        "<p style=\"text-align:center\">\n",
        "    <a href=\"https://skills.network/?utm_medium=Exinfluencer&utm_source=Exinfluencer&utm_content=000026UJ&utm_term=10006555&utm_id=NA-SkillsNetwork-Channel-SkillsNetworkCoursesIBMML321ENSkillsNetwork817-2022-01-01\" target=\"_blank\">\n",
        "    <img src=\"https://cf-courses-data.s3.us.cloud-object-storage.appdomain.cloud/assets/logos/SN_web_lightmode.png\" width=\"200\" alt=\"Skills Network Logo\"  />\n",
        "    </a>\n",
        "</p>\n"
      ]
    },
    {
      "cell_type": "markdown",
      "metadata": {
        "id": "796529f3-5a0b-4cbe-aa6d-83a9a904dba3"
      },
      "source": [
        "# **Clustering based Course Recommender System**\n"
      ]
    },
    {
      "cell_type": "markdown",
      "metadata": {
        "id": "fe72e3dd-9b9b-4996-b0dc-a2e9b5b9afda"
      },
      "source": [
        "Estimated time needed: **90** minutes\n"
      ]
    },
    {
      "cell_type": "markdown",
      "metadata": {
        "id": "7d82bffb-2659-4313-9956-54ab3fedf18b"
      },
      "source": [
        "Previously, we have generated user profile vectors based on course ratings and genres. \n",
        "\n",
        "A user profile vector may look like a row vector in the following matrix, for example, we can see the Database column for user2 has a value 1 which means user2 is very interesting in courses related to the databases. With the user profile vectors generated, we can also easily compute the similarity among users based on their shared interests.\n"
      ]
    },
    {
      "cell_type": "markdown",
      "metadata": {
        "id": "e5ca946e-7986-49e2-80cb-233745bf373b"
      },
      "source": [
        "![](https://cf-courses-data.s3.us.cloud-object-storage.appdomain.cloud/IBM-ML321EN-SkillsNetwork/labs/module_3/images/userprofiles.png)\n"
      ]
    },
    {
      "cell_type": "markdown",
      "metadata": {
        "id": "575c6881-bcdf-4321-95c3-219568bc81b8"
      },
      "source": [
        "Furthermore, we could perform clustering algorithms such as K-means or DBSCAN to group users with similar learning interests. For example, in the below user clusters, we have user clusters whom have learned courses related to machine learning, cloud computing, databases, and web development, etc.\n"
      ]
    },
    {
      "cell_type": "markdown",
      "metadata": {
        "id": "948b9a75-ace0-479d-b122-fbe2485d5e1a"
      },
      "source": [
        "![](https://cf-courses-data.s3.us.cloud-object-storage.appdomain.cloud/IBM-ML321EN-SkillsNetwork/labs/module_3/images/userprofiles_clustering.png)\n"
      ]
    },
    {
      "cell_type": "markdown",
      "metadata": {
        "id": "96dc36f1-d0ed-4d8e-aa7c-07f6a24aa50f"
      },
      "source": [
        "For each user group, we can come up with a list of popular courses. For example, for the machine learning user cluster/learning group, we can count the most frequently enrolled courses, which are very likely to be the most popular and good machine learning courses because they are enrolled by many users who are interested in machine learning. \n",
        "\n",
        "If we know a user belongs to the machine learning group, we may recommend the most enrolled courses to them and it is very likely the user will be interested in them.\n"
      ]
    },
    {
      "cell_type": "markdown",
      "metadata": {
        "id": "2c044df1-698f-4751-baff-0c6ee0d2a224"
      },
      "source": [
        "Next in this lab, you will be implementing some clustering-based recommender system algorithms.\n"
      ]
    },
    {
      "cell_type": "markdown",
      "metadata": {
        "id": "b4e3b4b1-facb-4681-8501-20a92f5bc464"
      },
      "source": [
        "## Objectives\n"
      ]
    },
    {
      "cell_type": "markdown",
      "metadata": {
        "id": "4f585e6e-a18b-4b63-a666-5cdc32cc5ff1"
      },
      "source": [
        "After completing this lab you will be able to:\n"
      ]
    },
    {
      "cell_type": "markdown",
      "metadata": {
        "id": "d3e331da-f0d6-4d55-94e9-de0a44de7d20"
      },
      "source": [
        "* Perform k-means clustering on the original user profile feature vectors\n",
        "* Apply PCA (Principle Component Analysis ) on user profile feature vectors to reduce dimensions\n",
        "* Perform k-means clustering on the PCA transformed main components\n",
        "* Generate course recommendations based on other group members' enrollment history\n"
      ]
    },
    {
      "cell_type": "markdown",
      "metadata": {
        "id": "e307005b-9328-4541-833e-d41bf425a8df"
      },
      "source": [
        "----\n"
      ]
    },
    {
      "cell_type": "markdown",
      "metadata": {
        "id": "9baa1861-2cc8-4e5d-8093-d379d65c15d4"
      },
      "source": [
        "## Prepare and setup lab environment\n"
      ]
    },
    {
      "cell_type": "markdown",
      "metadata": {
        "id": "7b96296d-dcd2-4b8b-88fa-e6bd2d2dae55"
      },
      "source": [
        "First install and import required libraries:\n"
      ]
    },
    {
      "cell_type": "code",
      "metadata": {
        "id": "6b54a5ad-7196-46a1-ae25-8bb167c425e5",
        "outputId": "bcd582b0-c78a-469b-996e-17ee51101be8",
        "colab": {
          "base_uri": "https://localhost:8080/"
        }
      },
      "outputs": [
        {
          "output_type": "stream",
          "name": "stdout",
          "text": [
            "Looking in indexes: https://pypi.org/simple, https://us-python.pkg.dev/colab-wheels/public/simple/\n",
            "Collecting scikit-learn==1.0.2\n",
            "  Downloading scikit_learn-1.0.2-cp39-cp39-manylinux_2_17_x86_64.manylinux2014_x86_64.whl (26.4 MB)\n",
            "\u001b[2K     \u001b[90m━━━━━━━━━━━━━━━━━━━━━━━━━━━━━━━━━━━━━━━━\u001b[0m \u001b[32m26.4/26.4 MB\u001b[0m \u001b[31m30.2 MB/s\u001b[0m eta \u001b[36m0:00:00\u001b[0m\n",
            "\u001b[?25hRequirement already satisfied: numpy>=1.14.6 in /usr/local/lib/python3.9/dist-packages (from scikit-learn==1.0.2) (1.22.4)\n",
            "Requirement already satisfied: scipy>=1.1.0 in /usr/local/lib/python3.9/dist-packages (from scikit-learn==1.0.2) (1.10.1)\n",
            "Requirement already satisfied: joblib>=0.11 in /usr/local/lib/python3.9/dist-packages (from scikit-learn==1.0.2) (1.1.1)\n",
            "Requirement already satisfied: threadpoolctl>=2.0.0 in /usr/local/lib/python3.9/dist-packages (from scikit-learn==1.0.2) (3.1.0)\n",
            "Installing collected packages: scikit-learn\n",
            "  Attempting uninstall: scikit-learn\n",
            "    Found existing installation: scikit-learn 1.2.2\n",
            "    Uninstalling scikit-learn-1.2.2:\n",
            "      Successfully uninstalled scikit-learn-1.2.2\n",
            "Successfully installed scikit-learn-1.0.2\n",
            "Looking in indexes: https://pypi.org/simple, https://us-python.pkg.dev/colab-wheels/public/simple/\n",
            "Collecting seaborn==0.11.1\n",
            "  Downloading seaborn-0.11.1-py3-none-any.whl (285 kB)\n",
            "\u001b[2K     \u001b[90m━━━━━━━━━━━━━━━━━━━━━━━━━━━━━━━━━━━━━━━\u001b[0m \u001b[32m285.0/285.0 KB\u001b[0m \u001b[31m4.9 MB/s\u001b[0m eta \u001b[36m0:00:00\u001b[0m\n",
            "\u001b[?25hRequirement already satisfied: pandas>=0.23 in /usr/local/lib/python3.9/dist-packages (from seaborn==0.11.1) (1.4.4)\n",
            "Requirement already satisfied: numpy>=1.15 in /usr/local/lib/python3.9/dist-packages (from seaborn==0.11.1) (1.22.4)\n",
            "Requirement already satisfied: matplotlib>=2.2 in /usr/local/lib/python3.9/dist-packages (from seaborn==0.11.1) (3.7.1)\n",
            "Requirement already satisfied: scipy>=1.0 in /usr/local/lib/python3.9/dist-packages (from seaborn==0.11.1) (1.10.1)\n",
            "Requirement already satisfied: packaging>=20.0 in /usr/local/lib/python3.9/dist-packages (from matplotlib>=2.2->seaborn==0.11.1) (23.0)\n",
            "Requirement already satisfied: pillow>=6.2.0 in /usr/local/lib/python3.9/dist-packages (from matplotlib>=2.2->seaborn==0.11.1) (8.4.0)\n",
            "Requirement already satisfied: python-dateutil>=2.7 in /usr/local/lib/python3.9/dist-packages (from matplotlib>=2.2->seaborn==0.11.1) (2.8.2)\n",
            "Requirement already satisfied: fonttools>=4.22.0 in /usr/local/lib/python3.9/dist-packages (from matplotlib>=2.2->seaborn==0.11.1) (4.39.3)\n",
            "Requirement already satisfied: contourpy>=1.0.1 in /usr/local/lib/python3.9/dist-packages (from matplotlib>=2.2->seaborn==0.11.1) (1.0.7)\n",
            "Requirement already satisfied: importlib-resources>=3.2.0 in /usr/local/lib/python3.9/dist-packages (from matplotlib>=2.2->seaborn==0.11.1) (5.12.0)\n",
            "Requirement already satisfied: cycler>=0.10 in /usr/local/lib/python3.9/dist-packages (from matplotlib>=2.2->seaborn==0.11.1) (0.11.0)\n",
            "Requirement already satisfied: pyparsing>=2.3.1 in /usr/local/lib/python3.9/dist-packages (from matplotlib>=2.2->seaborn==0.11.1) (3.0.9)\n",
            "Requirement already satisfied: kiwisolver>=1.0.1 in /usr/local/lib/python3.9/dist-packages (from matplotlib>=2.2->seaborn==0.11.1) (1.4.4)\n",
            "Requirement already satisfied: pytz>=2020.1 in /usr/local/lib/python3.9/dist-packages (from pandas>=0.23->seaborn==0.11.1) (2022.7.1)\n",
            "Requirement already satisfied: zipp>=3.1.0 in /usr/local/lib/python3.9/dist-packages (from importlib-resources>=3.2.0->matplotlib>=2.2->seaborn==0.11.1) (3.15.0)\n",
            "Requirement already satisfied: six>=1.5 in /usr/local/lib/python3.9/dist-packages (from python-dateutil>=2.7->matplotlib>=2.2->seaborn==0.11.1) (1.16.0)\n",
            "Installing collected packages: seaborn\n",
            "  Attempting uninstall: seaborn\n",
            "    Found existing installation: seaborn 0.12.2\n",
            "    Uninstalling seaborn-0.12.2:\n",
            "      Successfully uninstalled seaborn-0.12.2\n",
            "Successfully installed seaborn-0.11.1\n"
          ]
        }
      ],
      "source": [
        "!pip install scikit-learn==1.0.2\n",
        "!pip install seaborn==0.11.1"
      ],
      "execution_count": 1
    },
    {
      "cell_type": "code",
      "metadata": {
        "id": "8e4c2eaa-1799-4218-8e6d-1e77ca49ff74"
      },
      "outputs": [],
      "source": [
        "import seaborn as sns\n",
        "import pandas as pd\n",
        "import numpy as np\n",
        "import matplotlib.pyplot as plt\n",
        "\n",
        "from sklearn.cluster import KMeans\n",
        "from sklearn.preprocessing import StandardScaler\n",
        "from sklearn.decomposition import PCA\n",
        "\n",
        "%matplotlib inline"
      ],
      "execution_count": 2
    },
    {
      "cell_type": "code",
      "metadata": {
        "id": "b7e984af-33a9-450b-bbc6-d1cd7c28c5f5"
      },
      "outputs": [],
      "source": [
        "# also set a random state\n",
        "rs = 123"
      ],
      "execution_count": 3
    },
    {
      "cell_type": "markdown",
      "metadata": {
        "id": "29a5c802-e106-43cf-8d65-b0d5af9b62ae"
      },
      "source": [
        "### Load the user profile dataset\n"
      ]
    },
    {
      "cell_type": "markdown",
      "metadata": {
        "id": "5268fddd-081a-4517-b7ef-94b4262650b6"
      },
      "source": [
        "Let's first load the original user profile feature vectors:\n"
      ]
    },
    {
      "cell_type": "code",
      "metadata": {
        "id": "36bd29cf-2faa-4f22-818c-9adda7c419bf",
        "outputId": "e0545762-5566-43fa-d501-4cf1ca712f6f",
        "colab": {
          "base_uri": "https://localhost:8080/",
          "height": 270
        }
      },
      "outputs": [
        {
          "output_type": "execute_result",
          "data": {
            "text/plain": [
              "   user  Database  Python  CloudComputing  DataAnalysis  Containers  \\\n",
              "0     2      52.0    14.0             6.0          43.0         3.0   \n",
              "1     4      40.0     2.0             4.0          28.0         0.0   \n",
              "2     5      24.0     8.0            18.0          24.0         0.0   \n",
              "3     7       2.0     0.0             0.0           2.0         0.0   \n",
              "4     8       6.0     0.0             0.0           4.0         0.0   \n",
              "\n",
              "   MachineLearning  ComputerVision  DataScience  BigData  Chatbot     R  \\\n",
              "0             33.0             0.0         29.0     41.0      2.0  18.0   \n",
              "1             14.0             0.0         20.0     24.0      0.0   6.0   \n",
              "2             30.0             0.0         22.0     14.0      2.0  14.0   \n",
              "3              0.0             0.0          0.0      2.0      0.0   0.0   \n",
              "4              0.0             0.0          0.0      6.0      0.0   2.0   \n",
              "\n",
              "   BackendDev  FrontendDev  Blockchain  \n",
              "0        34.0          9.0         6.0  \n",
              "1         6.0          0.0         2.0  \n",
              "2        26.0          4.0         6.0  \n",
              "3         0.0          0.0         0.0  \n",
              "4         0.0          0.0         0.0  "
            ],
            "text/html": [
              "\n",
              "  <div id=\"df-ffa7bd15-707e-4d31-861a-5a607e1a466e\">\n",
              "    <div class=\"colab-df-container\">\n",
              "      <div>\n",
              "<style scoped>\n",
              "    .dataframe tbody tr th:only-of-type {\n",
              "        vertical-align: middle;\n",
              "    }\n",
              "\n",
              "    .dataframe tbody tr th {\n",
              "        vertical-align: top;\n",
              "    }\n",
              "\n",
              "    .dataframe thead th {\n",
              "        text-align: right;\n",
              "    }\n",
              "</style>\n",
              "<table border=\"1\" class=\"dataframe\">\n",
              "  <thead>\n",
              "    <tr style=\"text-align: right;\">\n",
              "      <th></th>\n",
              "      <th>user</th>\n",
              "      <th>Database</th>\n",
              "      <th>Python</th>\n",
              "      <th>CloudComputing</th>\n",
              "      <th>DataAnalysis</th>\n",
              "      <th>Containers</th>\n",
              "      <th>MachineLearning</th>\n",
              "      <th>ComputerVision</th>\n",
              "      <th>DataScience</th>\n",
              "      <th>BigData</th>\n",
              "      <th>Chatbot</th>\n",
              "      <th>R</th>\n",
              "      <th>BackendDev</th>\n",
              "      <th>FrontendDev</th>\n",
              "      <th>Blockchain</th>\n",
              "    </tr>\n",
              "  </thead>\n",
              "  <tbody>\n",
              "    <tr>\n",
              "      <th>0</th>\n",
              "      <td>2</td>\n",
              "      <td>52.0</td>\n",
              "      <td>14.0</td>\n",
              "      <td>6.0</td>\n",
              "      <td>43.0</td>\n",
              "      <td>3.0</td>\n",
              "      <td>33.0</td>\n",
              "      <td>0.0</td>\n",
              "      <td>29.0</td>\n",
              "      <td>41.0</td>\n",
              "      <td>2.0</td>\n",
              "      <td>18.0</td>\n",
              "      <td>34.0</td>\n",
              "      <td>9.0</td>\n",
              "      <td>6.0</td>\n",
              "    </tr>\n",
              "    <tr>\n",
              "      <th>1</th>\n",
              "      <td>4</td>\n",
              "      <td>40.0</td>\n",
              "      <td>2.0</td>\n",
              "      <td>4.0</td>\n",
              "      <td>28.0</td>\n",
              "      <td>0.0</td>\n",
              "      <td>14.0</td>\n",
              "      <td>0.0</td>\n",
              "      <td>20.0</td>\n",
              "      <td>24.0</td>\n",
              "      <td>0.0</td>\n",
              "      <td>6.0</td>\n",
              "      <td>6.0</td>\n",
              "      <td>0.0</td>\n",
              "      <td>2.0</td>\n",
              "    </tr>\n",
              "    <tr>\n",
              "      <th>2</th>\n",
              "      <td>5</td>\n",
              "      <td>24.0</td>\n",
              "      <td>8.0</td>\n",
              "      <td>18.0</td>\n",
              "      <td>24.0</td>\n",
              "      <td>0.0</td>\n",
              "      <td>30.0</td>\n",
              "      <td>0.0</td>\n",
              "      <td>22.0</td>\n",
              "      <td>14.0</td>\n",
              "      <td>2.0</td>\n",
              "      <td>14.0</td>\n",
              "      <td>26.0</td>\n",
              "      <td>4.0</td>\n",
              "      <td>6.0</td>\n",
              "    </tr>\n",
              "    <tr>\n",
              "      <th>3</th>\n",
              "      <td>7</td>\n",
              "      <td>2.0</td>\n",
              "      <td>0.0</td>\n",
              "      <td>0.0</td>\n",
              "      <td>2.0</td>\n",
              "      <td>0.0</td>\n",
              "      <td>0.0</td>\n",
              "      <td>0.0</td>\n",
              "      <td>0.0</td>\n",
              "      <td>2.0</td>\n",
              "      <td>0.0</td>\n",
              "      <td>0.0</td>\n",
              "      <td>0.0</td>\n",
              "      <td>0.0</td>\n",
              "      <td>0.0</td>\n",
              "    </tr>\n",
              "    <tr>\n",
              "      <th>4</th>\n",
              "      <td>8</td>\n",
              "      <td>6.0</td>\n",
              "      <td>0.0</td>\n",
              "      <td>0.0</td>\n",
              "      <td>4.0</td>\n",
              "      <td>0.0</td>\n",
              "      <td>0.0</td>\n",
              "      <td>0.0</td>\n",
              "      <td>0.0</td>\n",
              "      <td>6.0</td>\n",
              "      <td>0.0</td>\n",
              "      <td>2.0</td>\n",
              "      <td>0.0</td>\n",
              "      <td>0.0</td>\n",
              "      <td>0.0</td>\n",
              "    </tr>\n",
              "  </tbody>\n",
              "</table>\n",
              "</div>\n",
              "      <button class=\"colab-df-convert\" onclick=\"convertToInteractive('df-ffa7bd15-707e-4d31-861a-5a607e1a466e')\"\n",
              "              title=\"Convert this dataframe to an interactive table.\"\n",
              "              style=\"display:none;\">\n",
              "        \n",
              "  <svg xmlns=\"http://www.w3.org/2000/svg\" height=\"24px\"viewBox=\"0 0 24 24\"\n",
              "       width=\"24px\">\n",
              "    <path d=\"M0 0h24v24H0V0z\" fill=\"none\"/>\n",
              "    <path d=\"M18.56 5.44l.94 2.06.94-2.06 2.06-.94-2.06-.94-.94-2.06-.94 2.06-2.06.94zm-11 1L8.5 8.5l.94-2.06 2.06-.94-2.06-.94L8.5 2.5l-.94 2.06-2.06.94zm10 10l.94 2.06.94-2.06 2.06-.94-2.06-.94-.94-2.06-.94 2.06-2.06.94z\"/><path d=\"M17.41 7.96l-1.37-1.37c-.4-.4-.92-.59-1.43-.59-.52 0-1.04.2-1.43.59L10.3 9.45l-7.72 7.72c-.78.78-.78 2.05 0 2.83L4 21.41c.39.39.9.59 1.41.59.51 0 1.02-.2 1.41-.59l7.78-7.78 2.81-2.81c.8-.78.8-2.07 0-2.86zM5.41 20L4 18.59l7.72-7.72 1.47 1.35L5.41 20z\"/>\n",
              "  </svg>\n",
              "      </button>\n",
              "      \n",
              "  <style>\n",
              "    .colab-df-container {\n",
              "      display:flex;\n",
              "      flex-wrap:wrap;\n",
              "      gap: 12px;\n",
              "    }\n",
              "\n",
              "    .colab-df-convert {\n",
              "      background-color: #E8F0FE;\n",
              "      border: none;\n",
              "      border-radius: 50%;\n",
              "      cursor: pointer;\n",
              "      display: none;\n",
              "      fill: #1967D2;\n",
              "      height: 32px;\n",
              "      padding: 0 0 0 0;\n",
              "      width: 32px;\n",
              "    }\n",
              "\n",
              "    .colab-df-convert:hover {\n",
              "      background-color: #E2EBFA;\n",
              "      box-shadow: 0px 1px 2px rgba(60, 64, 67, 0.3), 0px 1px 3px 1px rgba(60, 64, 67, 0.15);\n",
              "      fill: #174EA6;\n",
              "    }\n",
              "\n",
              "    [theme=dark] .colab-df-convert {\n",
              "      background-color: #3B4455;\n",
              "      fill: #D2E3FC;\n",
              "    }\n",
              "\n",
              "    [theme=dark] .colab-df-convert:hover {\n",
              "      background-color: #434B5C;\n",
              "      box-shadow: 0px 1px 3px 1px rgba(0, 0, 0, 0.15);\n",
              "      filter: drop-shadow(0px 1px 2px rgba(0, 0, 0, 0.3));\n",
              "      fill: #FFFFFF;\n",
              "    }\n",
              "  </style>\n",
              "\n",
              "      <script>\n",
              "        const buttonEl =\n",
              "          document.querySelector('#df-ffa7bd15-707e-4d31-861a-5a607e1a466e button.colab-df-convert');\n",
              "        buttonEl.style.display =\n",
              "          google.colab.kernel.accessAllowed ? 'block' : 'none';\n",
              "\n",
              "        async function convertToInteractive(key) {\n",
              "          const element = document.querySelector('#df-ffa7bd15-707e-4d31-861a-5a607e1a466e');\n",
              "          const dataTable =\n",
              "            await google.colab.kernel.invokeFunction('convertToInteractive',\n",
              "                                                     [key], {});\n",
              "          if (!dataTable) return;\n",
              "\n",
              "          const docLinkHtml = 'Like what you see? Visit the ' +\n",
              "            '<a target=\"_blank\" href=https://colab.research.google.com/notebooks/data_table.ipynb>data table notebook</a>'\n",
              "            + ' to learn more about interactive tables.';\n",
              "          element.innerHTML = '';\n",
              "          dataTable['output_type'] = 'display_data';\n",
              "          await google.colab.output.renderOutput(dataTable, element);\n",
              "          const docLink = document.createElement('div');\n",
              "          docLink.innerHTML = docLinkHtml;\n",
              "          element.appendChild(docLink);\n",
              "        }\n",
              "      </script>\n",
              "    </div>\n",
              "  </div>\n",
              "  "
            ]
          },
          "metadata": {},
          "execution_count": 4
        }
      ],
      "source": [
        "user_profile_url = \"https://cf-courses-data.s3.us.cloud-object-storage.appdomain.cloud/IBM-ML321EN-SkillsNetwork/labs/datasets/user_profile.csv\"\n",
        "user_profile_df = pd.read_csv(user_profile_url)\n",
        "user_profile_df.head()"
      ],
      "execution_count": 4
    },
    {
      "cell_type": "code",
      "metadata": {
        "id": "1b276586-121b-4094-97b8-e7b4a56668bd",
        "outputId": "3070c7e0-5875-44ba-d749-f1160d70afde",
        "colab": {
          "base_uri": "https://localhost:8080/"
        }
      },
      "outputs": [
        {
          "output_type": "execute_result",
          "data": {
            "text/plain": [
              "(33901, 15)"
            ]
          },
          "metadata": {},
          "execution_count": 5
        }
      ],
      "source": [
        "user_profile_df.shape"
      ],
      "execution_count": 5
    },
    {
      "cell_type": "markdown",
      "metadata": {
        "id": "2f689315-9c40-4af6-9f45-755c7c6f4166"
      },
      "source": [
        "we can then list the feature names, they are the user interested topics (course genres):\n"
      ]
    },
    {
      "cell_type": "code",
      "metadata": {
        "id": "3530a17e-f98f-42c7-b702-6c9faae850c6",
        "outputId": "148ae0aa-3a32-46a7-fd62-e03e58053693",
        "colab": {
          "base_uri": "https://localhost:8080/"
        }
      },
      "outputs": [
        {
          "output_type": "execute_result",
          "data": {
            "text/plain": [
              "['Database',\n",
              " 'Python',\n",
              " 'CloudComputing',\n",
              " 'DataAnalysis',\n",
              " 'Containers',\n",
              " 'MachineLearning',\n",
              " 'ComputerVision',\n",
              " 'DataScience',\n",
              " 'BigData',\n",
              " 'Chatbot',\n",
              " 'R',\n",
              " 'BackendDev',\n",
              " 'FrontendDev',\n",
              " 'Blockchain']"
            ]
          },
          "metadata": {},
          "execution_count": 6
        }
      ],
      "source": [
        "feature_names = list(user_profile_df.columns[1:])\n",
        "feature_names"
      ],
      "execution_count": 6
    },
    {
      "cell_type": "markdown",
      "metadata": {
        "id": "87f3fae1-93a9-4082-bde5-6688c57d775e"
      },
      "source": [
        "As we can see from the user profile dataset, we have about 33K unique users with interests in areas like ``Database``, ``Python``, ``CloudComputing``, etc. Then, let's check the  summary statistics for each feature.\n"
      ]
    },
    {
      "cell_type": "code",
      "metadata": {
        "id": "c8bda932-911c-4c96-8739-2ae8f65ff8ee",
        "outputId": "5363e922-8342-4764-b806-2b6fbcd627d1",
        "colab": {
          "base_uri": "https://localhost:8080/",
          "height": 364
        }
      },
      "outputs": [
        {
          "output_type": "execute_result",
          "data": {
            "text/plain": [
              "               user      Database        Python  CloudComputing  DataAnalysis  \\\n",
              "count  3.390100e+04  33901.000000  33901.000000    33901.000000  33901.000000   \n",
              "mean   1.064064e+06      5.518569      3.493791        2.307100      3.624701   \n",
              "std    4.972578e+05      7.611941      4.227254        3.841858      4.760135   \n",
              "min    2.000000e+00      0.000000      0.000000        0.000000      0.000000   \n",
              "25%    6.813480e+05      0.000000      0.000000        0.000000      0.000000   \n",
              "50%    1.043907e+06      3.000000      3.000000        0.000000      3.000000   \n",
              "75%    1.451159e+06      9.000000      6.000000        3.000000      6.000000   \n",
              "max    2.103039e+06     63.000000     18.000000       38.000000     48.000000   \n",
              "\n",
              "         Containers  MachineLearning  ComputerVision   DataScience  \\\n",
              "count  33901.000000     33901.000000    33901.000000  33901.000000   \n",
              "mean       0.998938         3.048022        0.001770      5.087343   \n",
              "std        2.351764         4.624004        0.072846      5.230697   \n",
              "min        0.000000         0.000000        0.000000      0.000000   \n",
              "25%        0.000000         0.000000        0.000000      0.000000   \n",
              "50%        0.000000         0.000000        0.000000      3.000000   \n",
              "75%        0.000000         3.000000        0.000000      9.000000   \n",
              "max       15.000000        39.000000        3.000000     32.000000   \n",
              "\n",
              "            BigData       Chatbot             R    BackendDev   FrontendDev  \\\n",
              "count  33901.000000  33901.000000  33901.000000  33901.000000  33901.000000   \n",
              "mean       4.750450      0.462995      1.017433      2.269461      0.315802   \n",
              "std        7.216228      1.055186      2.342532      4.310752      1.363462   \n",
              "min        0.000000      0.000000      0.000000      0.000000      0.000000   \n",
              "25%        0.000000      0.000000      0.000000      0.000000      0.000000   \n",
              "50%        2.000000      0.000000      0.000000      0.000000      0.000000   \n",
              "75%        6.000000      0.000000      0.000000      3.000000      0.000000   \n",
              "max       54.000000      6.000000     18.000000     54.000000     15.000000   \n",
              "\n",
              "         Blockchain  \n",
              "count  33901.000000  \n",
              "mean       0.986844  \n",
              "std        1.950585  \n",
              "min        0.000000  \n",
              "25%        0.000000  \n",
              "50%        0.000000  \n",
              "75%        2.000000  \n",
              "max       12.000000  "
            ],
            "text/html": [
              "\n",
              "  <div id=\"df-5b1fa548-b3ea-417b-9e83-13ce2c48376b\">\n",
              "    <div class=\"colab-df-container\">\n",
              "      <div>\n",
              "<style scoped>\n",
              "    .dataframe tbody tr th:only-of-type {\n",
              "        vertical-align: middle;\n",
              "    }\n",
              "\n",
              "    .dataframe tbody tr th {\n",
              "        vertical-align: top;\n",
              "    }\n",
              "\n",
              "    .dataframe thead th {\n",
              "        text-align: right;\n",
              "    }\n",
              "</style>\n",
              "<table border=\"1\" class=\"dataframe\">\n",
              "  <thead>\n",
              "    <tr style=\"text-align: right;\">\n",
              "      <th></th>\n",
              "      <th>user</th>\n",
              "      <th>Database</th>\n",
              "      <th>Python</th>\n",
              "      <th>CloudComputing</th>\n",
              "      <th>DataAnalysis</th>\n",
              "      <th>Containers</th>\n",
              "      <th>MachineLearning</th>\n",
              "      <th>ComputerVision</th>\n",
              "      <th>DataScience</th>\n",
              "      <th>BigData</th>\n",
              "      <th>Chatbot</th>\n",
              "      <th>R</th>\n",
              "      <th>BackendDev</th>\n",
              "      <th>FrontendDev</th>\n",
              "      <th>Blockchain</th>\n",
              "    </tr>\n",
              "  </thead>\n",
              "  <tbody>\n",
              "    <tr>\n",
              "      <th>count</th>\n",
              "      <td>3.390100e+04</td>\n",
              "      <td>33901.000000</td>\n",
              "      <td>33901.000000</td>\n",
              "      <td>33901.000000</td>\n",
              "      <td>33901.000000</td>\n",
              "      <td>33901.000000</td>\n",
              "      <td>33901.000000</td>\n",
              "      <td>33901.000000</td>\n",
              "      <td>33901.000000</td>\n",
              "      <td>33901.000000</td>\n",
              "      <td>33901.000000</td>\n",
              "      <td>33901.000000</td>\n",
              "      <td>33901.000000</td>\n",
              "      <td>33901.000000</td>\n",
              "      <td>33901.000000</td>\n",
              "    </tr>\n",
              "    <tr>\n",
              "      <th>mean</th>\n",
              "      <td>1.064064e+06</td>\n",
              "      <td>5.518569</td>\n",
              "      <td>3.493791</td>\n",
              "      <td>2.307100</td>\n",
              "      <td>3.624701</td>\n",
              "      <td>0.998938</td>\n",
              "      <td>3.048022</td>\n",
              "      <td>0.001770</td>\n",
              "      <td>5.087343</td>\n",
              "      <td>4.750450</td>\n",
              "      <td>0.462995</td>\n",
              "      <td>1.017433</td>\n",
              "      <td>2.269461</td>\n",
              "      <td>0.315802</td>\n",
              "      <td>0.986844</td>\n",
              "    </tr>\n",
              "    <tr>\n",
              "      <th>std</th>\n",
              "      <td>4.972578e+05</td>\n",
              "      <td>7.611941</td>\n",
              "      <td>4.227254</td>\n",
              "      <td>3.841858</td>\n",
              "      <td>4.760135</td>\n",
              "      <td>2.351764</td>\n",
              "      <td>4.624004</td>\n",
              "      <td>0.072846</td>\n",
              "      <td>5.230697</td>\n",
              "      <td>7.216228</td>\n",
              "      <td>1.055186</td>\n",
              "      <td>2.342532</td>\n",
              "      <td>4.310752</td>\n",
              "      <td>1.363462</td>\n",
              "      <td>1.950585</td>\n",
              "    </tr>\n",
              "    <tr>\n",
              "      <th>min</th>\n",
              "      <td>2.000000e+00</td>\n",
              "      <td>0.000000</td>\n",
              "      <td>0.000000</td>\n",
              "      <td>0.000000</td>\n",
              "      <td>0.000000</td>\n",
              "      <td>0.000000</td>\n",
              "      <td>0.000000</td>\n",
              "      <td>0.000000</td>\n",
              "      <td>0.000000</td>\n",
              "      <td>0.000000</td>\n",
              "      <td>0.000000</td>\n",
              "      <td>0.000000</td>\n",
              "      <td>0.000000</td>\n",
              "      <td>0.000000</td>\n",
              "      <td>0.000000</td>\n",
              "    </tr>\n",
              "    <tr>\n",
              "      <th>25%</th>\n",
              "      <td>6.813480e+05</td>\n",
              "      <td>0.000000</td>\n",
              "      <td>0.000000</td>\n",
              "      <td>0.000000</td>\n",
              "      <td>0.000000</td>\n",
              "      <td>0.000000</td>\n",
              "      <td>0.000000</td>\n",
              "      <td>0.000000</td>\n",
              "      <td>0.000000</td>\n",
              "      <td>0.000000</td>\n",
              "      <td>0.000000</td>\n",
              "      <td>0.000000</td>\n",
              "      <td>0.000000</td>\n",
              "      <td>0.000000</td>\n",
              "      <td>0.000000</td>\n",
              "    </tr>\n",
              "    <tr>\n",
              "      <th>50%</th>\n",
              "      <td>1.043907e+06</td>\n",
              "      <td>3.000000</td>\n",
              "      <td>3.000000</td>\n",
              "      <td>0.000000</td>\n",
              "      <td>3.000000</td>\n",
              "      <td>0.000000</td>\n",
              "      <td>0.000000</td>\n",
              "      <td>0.000000</td>\n",
              "      <td>3.000000</td>\n",
              "      <td>2.000000</td>\n",
              "      <td>0.000000</td>\n",
              "      <td>0.000000</td>\n",
              "      <td>0.000000</td>\n",
              "      <td>0.000000</td>\n",
              "      <td>0.000000</td>\n",
              "    </tr>\n",
              "    <tr>\n",
              "      <th>75%</th>\n",
              "      <td>1.451159e+06</td>\n",
              "      <td>9.000000</td>\n",
              "      <td>6.000000</td>\n",
              "      <td>3.000000</td>\n",
              "      <td>6.000000</td>\n",
              "      <td>0.000000</td>\n",
              "      <td>3.000000</td>\n",
              "      <td>0.000000</td>\n",
              "      <td>9.000000</td>\n",
              "      <td>6.000000</td>\n",
              "      <td>0.000000</td>\n",
              "      <td>0.000000</td>\n",
              "      <td>3.000000</td>\n",
              "      <td>0.000000</td>\n",
              "      <td>2.000000</td>\n",
              "    </tr>\n",
              "    <tr>\n",
              "      <th>max</th>\n",
              "      <td>2.103039e+06</td>\n",
              "      <td>63.000000</td>\n",
              "      <td>18.000000</td>\n",
              "      <td>38.000000</td>\n",
              "      <td>48.000000</td>\n",
              "      <td>15.000000</td>\n",
              "      <td>39.000000</td>\n",
              "      <td>3.000000</td>\n",
              "      <td>32.000000</td>\n",
              "      <td>54.000000</td>\n",
              "      <td>6.000000</td>\n",
              "      <td>18.000000</td>\n",
              "      <td>54.000000</td>\n",
              "      <td>15.000000</td>\n",
              "      <td>12.000000</td>\n",
              "    </tr>\n",
              "  </tbody>\n",
              "</table>\n",
              "</div>\n",
              "      <button class=\"colab-df-convert\" onclick=\"convertToInteractive('df-5b1fa548-b3ea-417b-9e83-13ce2c48376b')\"\n",
              "              title=\"Convert this dataframe to an interactive table.\"\n",
              "              style=\"display:none;\">\n",
              "        \n",
              "  <svg xmlns=\"http://www.w3.org/2000/svg\" height=\"24px\"viewBox=\"0 0 24 24\"\n",
              "       width=\"24px\">\n",
              "    <path d=\"M0 0h24v24H0V0z\" fill=\"none\"/>\n",
              "    <path d=\"M18.56 5.44l.94 2.06.94-2.06 2.06-.94-2.06-.94-.94-2.06-.94 2.06-2.06.94zm-11 1L8.5 8.5l.94-2.06 2.06-.94-2.06-.94L8.5 2.5l-.94 2.06-2.06.94zm10 10l.94 2.06.94-2.06 2.06-.94-2.06-.94-.94-2.06-.94 2.06-2.06.94z\"/><path d=\"M17.41 7.96l-1.37-1.37c-.4-.4-.92-.59-1.43-.59-.52 0-1.04.2-1.43.59L10.3 9.45l-7.72 7.72c-.78.78-.78 2.05 0 2.83L4 21.41c.39.39.9.59 1.41.59.51 0 1.02-.2 1.41-.59l7.78-7.78 2.81-2.81c.8-.78.8-2.07 0-2.86zM5.41 20L4 18.59l7.72-7.72 1.47 1.35L5.41 20z\"/>\n",
              "  </svg>\n",
              "      </button>\n",
              "      \n",
              "  <style>\n",
              "    .colab-df-container {\n",
              "      display:flex;\n",
              "      flex-wrap:wrap;\n",
              "      gap: 12px;\n",
              "    }\n",
              "\n",
              "    .colab-df-convert {\n",
              "      background-color: #E8F0FE;\n",
              "      border: none;\n",
              "      border-radius: 50%;\n",
              "      cursor: pointer;\n",
              "      display: none;\n",
              "      fill: #1967D2;\n",
              "      height: 32px;\n",
              "      padding: 0 0 0 0;\n",
              "      width: 32px;\n",
              "    }\n",
              "\n",
              "    .colab-df-convert:hover {\n",
              "      background-color: #E2EBFA;\n",
              "      box-shadow: 0px 1px 2px rgba(60, 64, 67, 0.3), 0px 1px 3px 1px rgba(60, 64, 67, 0.15);\n",
              "      fill: #174EA6;\n",
              "    }\n",
              "\n",
              "    [theme=dark] .colab-df-convert {\n",
              "      background-color: #3B4455;\n",
              "      fill: #D2E3FC;\n",
              "    }\n",
              "\n",
              "    [theme=dark] .colab-df-convert:hover {\n",
              "      background-color: #434B5C;\n",
              "      box-shadow: 0px 1px 3px 1px rgba(0, 0, 0, 0.15);\n",
              "      filter: drop-shadow(0px 1px 2px rgba(0, 0, 0, 0.3));\n",
              "      fill: #FFFFFF;\n",
              "    }\n",
              "  </style>\n",
              "\n",
              "      <script>\n",
              "        const buttonEl =\n",
              "          document.querySelector('#df-5b1fa548-b3ea-417b-9e83-13ce2c48376b button.colab-df-convert');\n",
              "        buttonEl.style.display =\n",
              "          google.colab.kernel.accessAllowed ? 'block' : 'none';\n",
              "\n",
              "        async function convertToInteractive(key) {\n",
              "          const element = document.querySelector('#df-5b1fa548-b3ea-417b-9e83-13ce2c48376b');\n",
              "          const dataTable =\n",
              "            await google.colab.kernel.invokeFunction('convertToInteractive',\n",
              "                                                     [key], {});\n",
              "          if (!dataTable) return;\n",
              "\n",
              "          const docLinkHtml = 'Like what you see? Visit the ' +\n",
              "            '<a target=\"_blank\" href=https://colab.research.google.com/notebooks/data_table.ipynb>data table notebook</a>'\n",
              "            + ' to learn more about interactive tables.';\n",
              "          element.innerHTML = '';\n",
              "          dataTable['output_type'] = 'display_data';\n",
              "          await google.colab.output.renderOutput(dataTable, element);\n",
              "          const docLink = document.createElement('div');\n",
              "          docLink.innerHTML = docLinkHtml;\n",
              "          element.appendChild(docLink);\n",
              "        }\n",
              "      </script>\n",
              "    </div>\n",
              "  </div>\n",
              "  "
            ]
          },
          "metadata": {},
          "execution_count": 7
        }
      ],
      "source": [
        "user_profile_df.describe()"
      ],
      "execution_count": 7
    },
    {
      "cell_type": "markdown",
      "metadata": {
        "id": "1026252d-2022-4ae9-b082-83942d397f11"
      },
      "source": [
        "The original user profile feature vector is not normalized, which may cause issues when we perform clustering and Principal component analysis (PCA), therefor we standardize the data.\n"
      ]
    },
    {
      "cell_type": "code",
      "metadata": {
        "id": "c313529e-cebe-4c45-ba84-ade21e50f2a7",
        "outputId": "6edd1f6e-5089-4571-9360-b78a4bd0e772",
        "colab": {
          "base_uri": "https://localhost:8080/"
        }
      },
      "outputs": [
        {
          "output_type": "stream",
          "name": "stdout",
          "text": [
            "mean Database          -3.353495e-17\n",
            "Python            -5.700942e-17\n",
            "CloudComputing    -3.521170e-17\n",
            "DataAnalysis      -7.671120e-17\n",
            "Containers         3.353495e-18\n",
            "MachineLearning    3.688845e-17\n",
            "ComputerVision    -1.509073e-17\n",
            "DataScience       -1.676748e-17\n",
            "BigData            6.706990e-17\n",
            "Chatbot           -6.874665e-17\n",
            "R                  4.233788e-17\n",
            "BackendDev         1.383317e-17\n",
            "FrontendDev        5.051202e-17\n",
            "Blockchain        -5.281755e-17\n",
            "dtype: float64 and standard deviationDatabase           1.000015\n",
            "Python             1.000015\n",
            "CloudComputing     1.000015\n",
            "DataAnalysis       1.000015\n",
            "Containers         1.000015\n",
            "MachineLearning    1.000015\n",
            "ComputerVision     1.000015\n",
            "DataScience        1.000015\n",
            "BigData            1.000015\n",
            "Chatbot            1.000015\n",
            "R                  1.000015\n",
            "BackendDev         1.000015\n",
            "FrontendDev        1.000015\n",
            "Blockchain         1.000015\n",
            "dtype: float64 \n"
          ]
        }
      ],
      "source": [
        "# Use StandardScaler to make each feature with mean 0, standard deviation 1\n",
        "scaler = StandardScaler()\n",
        "user_profile_df[feature_names] = scaler.fit_transform(user_profile_df[feature_names])\n",
        "print(\"mean {} and standard deviation{} \".format(user_profile_df[feature_names].mean(),user_profile_df[feature_names].std()))"
      ],
      "execution_count": 8
    },
    {
      "cell_type": "code",
      "metadata": {
        "id": "9779861a-f0da-4adf-8358-3a5f8ab4f558",
        "outputId": "3df8bfd2-a048-4e74-c482-7ba4f3451297",
        "colab": {
          "base_uri": "https://localhost:8080/",
          "height": 364
        }
      },
      "outputs": [
        {
          "output_type": "execute_result",
          "data": {
            "text/plain": [
              "               user      Database        Python  CloudComputing  DataAnalysis  \\\n",
              "count  3.390100e+04  3.390100e+04  3.390100e+04    3.390100e+04  3.390100e+04   \n",
              "mean   1.064064e+06 -3.353495e-17 -5.700942e-17   -3.521170e-17 -7.671120e-17   \n",
              "std    4.972578e+05  1.000015e+00  1.000015e+00    1.000015e+00  1.000015e+00   \n",
              "min    2.000000e+00 -7.249991e-01 -8.265040e-01   -6.005256e-01 -7.614816e-01   \n",
              "25%    6.813480e+05 -7.249991e-01 -8.265040e-01   -6.005256e-01 -7.614816e-01   \n",
              "50%    1.043907e+06 -3.308757e-01 -1.168130e-01   -6.005256e-01 -1.312380e-01   \n",
              "75%    1.451159e+06  4.573712e-01  5.928781e-01    1.803581e-01  4.990056e-01   \n",
              "max    2.103039e+06  7.551593e+00  3.431642e+00    9.290667e+00  9.322416e+00   \n",
              "\n",
              "         Containers  MachineLearning  ComputerVision   DataScience  \\\n",
              "count  3.390100e+04     3.390100e+04    3.390100e+04  3.390100e+04   \n",
              "mean   3.353495e-18     3.688845e-17   -1.509073e-17 -1.676748e-17   \n",
              "std    1.000015e+00     1.000015e+00    1.000015e+00  1.000015e+00   \n",
              "min   -4.247674e-01    -6.591835e-01   -2.429612e-02 -9.726080e-01   \n",
              "25%   -4.247674e-01    -6.591835e-01   -2.429612e-02 -9.726080e-01   \n",
              "50%   -4.247674e-01    -6.591835e-01   -2.429612e-02 -3.990622e-01   \n",
              "75%   -4.247674e-01    -1.038556e-02   -2.429612e-02  7.480294e-01   \n",
              "max    5.953517e+00     7.775190e+00    4.115884e+01  5.145214e+00   \n",
              "\n",
              "            BigData       Chatbot             R    BackendDev   FrontendDev  \\\n",
              "count  3.390100e+04  3.390100e+04  3.390100e+04  3.390100e+04  3.390100e+04   \n",
              "mean   6.706990e-17 -6.874665e-17  4.233788e-17  1.383317e-17  5.051202e-17   \n",
              "std    1.000015e+00  1.000015e+00  1.000015e+00  1.000015e+00  1.000015e+00   \n",
              "min   -6.583107e-01 -4.387873e-01 -4.343370e-01 -5.264730e-01 -2.316212e-01   \n",
              "25%   -6.583107e-01 -4.387873e-01 -4.343370e-01 -5.264730e-01 -2.316212e-01   \n",
              "50%   -3.811535e-01 -4.387873e-01 -4.343370e-01 -5.264730e-01 -2.316212e-01   \n",
              "75%    1.731609e-01 -4.387873e-01 -4.343370e-01  1.694715e-01 -2.316212e-01   \n",
              "max    6.824934e+00  5.247500e+00  7.249771e+00  1.200053e+01  1.076995e+01   \n",
              "\n",
              "         Blockchain  \n",
              "count  3.390100e+04  \n",
              "mean  -5.281755e-17  \n",
              "std    1.000015e+00  \n",
              "min   -5.059295e-01  \n",
              "25%   -5.059295e-01  \n",
              "50%   -5.059295e-01  \n",
              "75%    5.194189e-01  \n",
              "max    5.646161e+00  "
            ],
            "text/html": [
              "\n",
              "  <div id=\"df-f397a823-dd8a-4ce3-9d95-39b9d7436e2e\">\n",
              "    <div class=\"colab-df-container\">\n",
              "      <div>\n",
              "<style scoped>\n",
              "    .dataframe tbody tr th:only-of-type {\n",
              "        vertical-align: middle;\n",
              "    }\n",
              "\n",
              "    .dataframe tbody tr th {\n",
              "        vertical-align: top;\n",
              "    }\n",
              "\n",
              "    .dataframe thead th {\n",
              "        text-align: right;\n",
              "    }\n",
              "</style>\n",
              "<table border=\"1\" class=\"dataframe\">\n",
              "  <thead>\n",
              "    <tr style=\"text-align: right;\">\n",
              "      <th></th>\n",
              "      <th>user</th>\n",
              "      <th>Database</th>\n",
              "      <th>Python</th>\n",
              "      <th>CloudComputing</th>\n",
              "      <th>DataAnalysis</th>\n",
              "      <th>Containers</th>\n",
              "      <th>MachineLearning</th>\n",
              "      <th>ComputerVision</th>\n",
              "      <th>DataScience</th>\n",
              "      <th>BigData</th>\n",
              "      <th>Chatbot</th>\n",
              "      <th>R</th>\n",
              "      <th>BackendDev</th>\n",
              "      <th>FrontendDev</th>\n",
              "      <th>Blockchain</th>\n",
              "    </tr>\n",
              "  </thead>\n",
              "  <tbody>\n",
              "    <tr>\n",
              "      <th>count</th>\n",
              "      <td>3.390100e+04</td>\n",
              "      <td>3.390100e+04</td>\n",
              "      <td>3.390100e+04</td>\n",
              "      <td>3.390100e+04</td>\n",
              "      <td>3.390100e+04</td>\n",
              "      <td>3.390100e+04</td>\n",
              "      <td>3.390100e+04</td>\n",
              "      <td>3.390100e+04</td>\n",
              "      <td>3.390100e+04</td>\n",
              "      <td>3.390100e+04</td>\n",
              "      <td>3.390100e+04</td>\n",
              "      <td>3.390100e+04</td>\n",
              "      <td>3.390100e+04</td>\n",
              "      <td>3.390100e+04</td>\n",
              "      <td>3.390100e+04</td>\n",
              "    </tr>\n",
              "    <tr>\n",
              "      <th>mean</th>\n",
              "      <td>1.064064e+06</td>\n",
              "      <td>-3.353495e-17</td>\n",
              "      <td>-5.700942e-17</td>\n",
              "      <td>-3.521170e-17</td>\n",
              "      <td>-7.671120e-17</td>\n",
              "      <td>3.353495e-18</td>\n",
              "      <td>3.688845e-17</td>\n",
              "      <td>-1.509073e-17</td>\n",
              "      <td>-1.676748e-17</td>\n",
              "      <td>6.706990e-17</td>\n",
              "      <td>-6.874665e-17</td>\n",
              "      <td>4.233788e-17</td>\n",
              "      <td>1.383317e-17</td>\n",
              "      <td>5.051202e-17</td>\n",
              "      <td>-5.281755e-17</td>\n",
              "    </tr>\n",
              "    <tr>\n",
              "      <th>std</th>\n",
              "      <td>4.972578e+05</td>\n",
              "      <td>1.000015e+00</td>\n",
              "      <td>1.000015e+00</td>\n",
              "      <td>1.000015e+00</td>\n",
              "      <td>1.000015e+00</td>\n",
              "      <td>1.000015e+00</td>\n",
              "      <td>1.000015e+00</td>\n",
              "      <td>1.000015e+00</td>\n",
              "      <td>1.000015e+00</td>\n",
              "      <td>1.000015e+00</td>\n",
              "      <td>1.000015e+00</td>\n",
              "      <td>1.000015e+00</td>\n",
              "      <td>1.000015e+00</td>\n",
              "      <td>1.000015e+00</td>\n",
              "      <td>1.000015e+00</td>\n",
              "    </tr>\n",
              "    <tr>\n",
              "      <th>min</th>\n",
              "      <td>2.000000e+00</td>\n",
              "      <td>-7.249991e-01</td>\n",
              "      <td>-8.265040e-01</td>\n",
              "      <td>-6.005256e-01</td>\n",
              "      <td>-7.614816e-01</td>\n",
              "      <td>-4.247674e-01</td>\n",
              "      <td>-6.591835e-01</td>\n",
              "      <td>-2.429612e-02</td>\n",
              "      <td>-9.726080e-01</td>\n",
              "      <td>-6.583107e-01</td>\n",
              "      <td>-4.387873e-01</td>\n",
              "      <td>-4.343370e-01</td>\n",
              "      <td>-5.264730e-01</td>\n",
              "      <td>-2.316212e-01</td>\n",
              "      <td>-5.059295e-01</td>\n",
              "    </tr>\n",
              "    <tr>\n",
              "      <th>25%</th>\n",
              "      <td>6.813480e+05</td>\n",
              "      <td>-7.249991e-01</td>\n",
              "      <td>-8.265040e-01</td>\n",
              "      <td>-6.005256e-01</td>\n",
              "      <td>-7.614816e-01</td>\n",
              "      <td>-4.247674e-01</td>\n",
              "      <td>-6.591835e-01</td>\n",
              "      <td>-2.429612e-02</td>\n",
              "      <td>-9.726080e-01</td>\n",
              "      <td>-6.583107e-01</td>\n",
              "      <td>-4.387873e-01</td>\n",
              "      <td>-4.343370e-01</td>\n",
              "      <td>-5.264730e-01</td>\n",
              "      <td>-2.316212e-01</td>\n",
              "      <td>-5.059295e-01</td>\n",
              "    </tr>\n",
              "    <tr>\n",
              "      <th>50%</th>\n",
              "      <td>1.043907e+06</td>\n",
              "      <td>-3.308757e-01</td>\n",
              "      <td>-1.168130e-01</td>\n",
              "      <td>-6.005256e-01</td>\n",
              "      <td>-1.312380e-01</td>\n",
              "      <td>-4.247674e-01</td>\n",
              "      <td>-6.591835e-01</td>\n",
              "      <td>-2.429612e-02</td>\n",
              "      <td>-3.990622e-01</td>\n",
              "      <td>-3.811535e-01</td>\n",
              "      <td>-4.387873e-01</td>\n",
              "      <td>-4.343370e-01</td>\n",
              "      <td>-5.264730e-01</td>\n",
              "      <td>-2.316212e-01</td>\n",
              "      <td>-5.059295e-01</td>\n",
              "    </tr>\n",
              "    <tr>\n",
              "      <th>75%</th>\n",
              "      <td>1.451159e+06</td>\n",
              "      <td>4.573712e-01</td>\n",
              "      <td>5.928781e-01</td>\n",
              "      <td>1.803581e-01</td>\n",
              "      <td>4.990056e-01</td>\n",
              "      <td>-4.247674e-01</td>\n",
              "      <td>-1.038556e-02</td>\n",
              "      <td>-2.429612e-02</td>\n",
              "      <td>7.480294e-01</td>\n",
              "      <td>1.731609e-01</td>\n",
              "      <td>-4.387873e-01</td>\n",
              "      <td>-4.343370e-01</td>\n",
              "      <td>1.694715e-01</td>\n",
              "      <td>-2.316212e-01</td>\n",
              "      <td>5.194189e-01</td>\n",
              "    </tr>\n",
              "    <tr>\n",
              "      <th>max</th>\n",
              "      <td>2.103039e+06</td>\n",
              "      <td>7.551593e+00</td>\n",
              "      <td>3.431642e+00</td>\n",
              "      <td>9.290667e+00</td>\n",
              "      <td>9.322416e+00</td>\n",
              "      <td>5.953517e+00</td>\n",
              "      <td>7.775190e+00</td>\n",
              "      <td>4.115884e+01</td>\n",
              "      <td>5.145214e+00</td>\n",
              "      <td>6.824934e+00</td>\n",
              "      <td>5.247500e+00</td>\n",
              "      <td>7.249771e+00</td>\n",
              "      <td>1.200053e+01</td>\n",
              "      <td>1.076995e+01</td>\n",
              "      <td>5.646161e+00</td>\n",
              "    </tr>\n",
              "  </tbody>\n",
              "</table>\n",
              "</div>\n",
              "      <button class=\"colab-df-convert\" onclick=\"convertToInteractive('df-f397a823-dd8a-4ce3-9d95-39b9d7436e2e')\"\n",
              "              title=\"Convert this dataframe to an interactive table.\"\n",
              "              style=\"display:none;\">\n",
              "        \n",
              "  <svg xmlns=\"http://www.w3.org/2000/svg\" height=\"24px\"viewBox=\"0 0 24 24\"\n",
              "       width=\"24px\">\n",
              "    <path d=\"M0 0h24v24H0V0z\" fill=\"none\"/>\n",
              "    <path d=\"M18.56 5.44l.94 2.06.94-2.06 2.06-.94-2.06-.94-.94-2.06-.94 2.06-2.06.94zm-11 1L8.5 8.5l.94-2.06 2.06-.94-2.06-.94L8.5 2.5l-.94 2.06-2.06.94zm10 10l.94 2.06.94-2.06 2.06-.94-2.06-.94-.94-2.06-.94 2.06-2.06.94z\"/><path d=\"M17.41 7.96l-1.37-1.37c-.4-.4-.92-.59-1.43-.59-.52 0-1.04.2-1.43.59L10.3 9.45l-7.72 7.72c-.78.78-.78 2.05 0 2.83L4 21.41c.39.39.9.59 1.41.59.51 0 1.02-.2 1.41-.59l7.78-7.78 2.81-2.81c.8-.78.8-2.07 0-2.86zM5.41 20L4 18.59l7.72-7.72 1.47 1.35L5.41 20z\"/>\n",
              "  </svg>\n",
              "      </button>\n",
              "      \n",
              "  <style>\n",
              "    .colab-df-container {\n",
              "      display:flex;\n",
              "      flex-wrap:wrap;\n",
              "      gap: 12px;\n",
              "    }\n",
              "\n",
              "    .colab-df-convert {\n",
              "      background-color: #E8F0FE;\n",
              "      border: none;\n",
              "      border-radius: 50%;\n",
              "      cursor: pointer;\n",
              "      display: none;\n",
              "      fill: #1967D2;\n",
              "      height: 32px;\n",
              "      padding: 0 0 0 0;\n",
              "      width: 32px;\n",
              "    }\n",
              "\n",
              "    .colab-df-convert:hover {\n",
              "      background-color: #E2EBFA;\n",
              "      box-shadow: 0px 1px 2px rgba(60, 64, 67, 0.3), 0px 1px 3px 1px rgba(60, 64, 67, 0.15);\n",
              "      fill: #174EA6;\n",
              "    }\n",
              "\n",
              "    [theme=dark] .colab-df-convert {\n",
              "      background-color: #3B4455;\n",
              "      fill: #D2E3FC;\n",
              "    }\n",
              "\n",
              "    [theme=dark] .colab-df-convert:hover {\n",
              "      background-color: #434B5C;\n",
              "      box-shadow: 0px 1px 3px 1px rgba(0, 0, 0, 0.15);\n",
              "      filter: drop-shadow(0px 1px 2px rgba(0, 0, 0, 0.3));\n",
              "      fill: #FFFFFF;\n",
              "    }\n",
              "  </style>\n",
              "\n",
              "      <script>\n",
              "        const buttonEl =\n",
              "          document.querySelector('#df-f397a823-dd8a-4ce3-9d95-39b9d7436e2e button.colab-df-convert');\n",
              "        buttonEl.style.display =\n",
              "          google.colab.kernel.accessAllowed ? 'block' : 'none';\n",
              "\n",
              "        async function convertToInteractive(key) {\n",
              "          const element = document.querySelector('#df-f397a823-dd8a-4ce3-9d95-39b9d7436e2e');\n",
              "          const dataTable =\n",
              "            await google.colab.kernel.invokeFunction('convertToInteractive',\n",
              "                                                     [key], {});\n",
              "          if (!dataTable) return;\n",
              "\n",
              "          const docLinkHtml = 'Like what you see? Visit the ' +\n",
              "            '<a target=\"_blank\" href=https://colab.research.google.com/notebooks/data_table.ipynb>data table notebook</a>'\n",
              "            + ' to learn more about interactive tables.';\n",
              "          element.innerHTML = '';\n",
              "          dataTable['output_type'] = 'display_data';\n",
              "          await google.colab.output.renderOutput(dataTable, element);\n",
              "          const docLink = document.createElement('div');\n",
              "          docLink.innerHTML = docLinkHtml;\n",
              "          element.appendChild(docLink);\n",
              "        }\n",
              "      </script>\n",
              "    </div>\n",
              "  </div>\n",
              "  "
            ]
          },
          "metadata": {},
          "execution_count": 9
        }
      ],
      "source": [
        "user_profile_df.describe()"
      ],
      "execution_count": 9
    },
    {
      "cell_type": "markdown",
      "metadata": {
        "id": "be4a681c-6f90-487a-bc2a-d1f793c309e5"
      },
      "source": [
        "The normalized user profile features are: \n"
      ]
    },
    {
      "cell_type": "code",
      "metadata": {
        "id": "b8d24f1b-c828-4901-9526-d822365a7953",
        "outputId": "c2782d25-cb5d-497e-c350-5eddc284f931",
        "colab": {
          "base_uri": "https://localhost:8080/",
          "height": 487
        }
      },
      "outputs": [
        {
          "output_type": "execute_result",
          "data": {
            "text/plain": [
              "       Database    Python  CloudComputing  DataAnalysis  Containers  \\\n",
              "0      6.106474  2.485388        0.961242      8.272010    0.850889   \n",
              "1      4.529980 -0.353377        0.440653      5.120792   -0.424767   \n",
              "2      2.427988  1.066006        4.084776      4.280467   -0.424767   \n",
              "3     -0.462250 -0.826504       -0.600526     -0.341319   -0.424767   \n",
              "4      0.063248 -0.826504       -0.600526      0.078843   -0.424767   \n",
              "...         ...       ...             ...           ...         ...   \n",
              "33896 -0.330876 -0.116813        0.180358      0.499006   -0.424767   \n",
              "33897 -0.724999 -0.826504       -0.079936     -0.761482   -0.424767   \n",
              "33898 -0.330876  0.592878        0.961242     -0.761482   -0.424767   \n",
              "33899 -0.724999 -0.826504       -0.600526     -0.761482   -0.424767   \n",
              "33900 -0.724999 -0.826504       -0.600526     -0.761482   -0.424767   \n",
              "\n",
              "       MachineLearning  ComputerVision  DataScience   BigData   Chatbot  \\\n",
              "0             6.477594       -0.024296     4.571668  5.023412  1.456642   \n",
              "1             2.368540       -0.024296     2.851031  2.667576 -0.438787   \n",
              "2             5.828796       -0.024296     3.233395  1.281790  1.456642   \n",
              "3            -0.659184       -0.024296    -0.972608 -0.381153 -0.438787   \n",
              "4            -0.659184       -0.024296    -0.972608  0.173161 -0.438787   \n",
              "...                ...             ...          ...       ...       ...   \n",
              "33896        -0.659184       -0.024296     0.174484 -0.658311 -0.438787   \n",
              "33897        -0.659184       -0.024296    -0.972608 -0.658311 -0.438787   \n",
              "33898         2.368540       -0.024296     0.748029 -0.658311 -0.438787   \n",
              "33899        -0.226652       -0.024296    -0.972608 -0.658311 -0.438787   \n",
              "33900        -0.226652       -0.024296    -0.972608 -0.658311 -0.438787   \n",
              "\n",
              "              R  BackendDev  FrontendDev  Blockchain  \n",
              "0      7.249771    7.360899     6.369323    2.570116  \n",
              "1      2.127032    0.865416    -0.231621    0.519419  \n",
              "2      5.542191    5.505047     2.702132    2.570116  \n",
              "3     -0.434337   -0.526473    -0.231621   -0.505930  \n",
              "4      0.419453   -0.526473    -0.231621   -0.505930  \n",
              "...         ...         ...          ...         ...  \n",
              "33896  2.127032    0.865416    -0.231621    1.032093  \n",
              "33897 -0.434337   -0.526473    -0.231621   -0.505930  \n",
              "33898  0.846348   -0.526473    -0.231621   -0.505930  \n",
              "33899 -0.434337   -0.526473    -0.231621   -0.505930  \n",
              "33900 -0.434337   -0.526473    -0.231621   -0.505930  \n",
              "\n",
              "[33901 rows x 14 columns]"
            ],
            "text/html": [
              "\n",
              "  <div id=\"df-a03ab035-14ef-4eb8-a3bc-ce19f0448204\">\n",
              "    <div class=\"colab-df-container\">\n",
              "      <div>\n",
              "<style scoped>\n",
              "    .dataframe tbody tr th:only-of-type {\n",
              "        vertical-align: middle;\n",
              "    }\n",
              "\n",
              "    .dataframe tbody tr th {\n",
              "        vertical-align: top;\n",
              "    }\n",
              "\n",
              "    .dataframe thead th {\n",
              "        text-align: right;\n",
              "    }\n",
              "</style>\n",
              "<table border=\"1\" class=\"dataframe\">\n",
              "  <thead>\n",
              "    <tr style=\"text-align: right;\">\n",
              "      <th></th>\n",
              "      <th>Database</th>\n",
              "      <th>Python</th>\n",
              "      <th>CloudComputing</th>\n",
              "      <th>DataAnalysis</th>\n",
              "      <th>Containers</th>\n",
              "      <th>MachineLearning</th>\n",
              "      <th>ComputerVision</th>\n",
              "      <th>DataScience</th>\n",
              "      <th>BigData</th>\n",
              "      <th>Chatbot</th>\n",
              "      <th>R</th>\n",
              "      <th>BackendDev</th>\n",
              "      <th>FrontendDev</th>\n",
              "      <th>Blockchain</th>\n",
              "    </tr>\n",
              "  </thead>\n",
              "  <tbody>\n",
              "    <tr>\n",
              "      <th>0</th>\n",
              "      <td>6.106474</td>\n",
              "      <td>2.485388</td>\n",
              "      <td>0.961242</td>\n",
              "      <td>8.272010</td>\n",
              "      <td>0.850889</td>\n",
              "      <td>6.477594</td>\n",
              "      <td>-0.024296</td>\n",
              "      <td>4.571668</td>\n",
              "      <td>5.023412</td>\n",
              "      <td>1.456642</td>\n",
              "      <td>7.249771</td>\n",
              "      <td>7.360899</td>\n",
              "      <td>6.369323</td>\n",
              "      <td>2.570116</td>\n",
              "    </tr>\n",
              "    <tr>\n",
              "      <th>1</th>\n",
              "      <td>4.529980</td>\n",
              "      <td>-0.353377</td>\n",
              "      <td>0.440653</td>\n",
              "      <td>5.120792</td>\n",
              "      <td>-0.424767</td>\n",
              "      <td>2.368540</td>\n",
              "      <td>-0.024296</td>\n",
              "      <td>2.851031</td>\n",
              "      <td>2.667576</td>\n",
              "      <td>-0.438787</td>\n",
              "      <td>2.127032</td>\n",
              "      <td>0.865416</td>\n",
              "      <td>-0.231621</td>\n",
              "      <td>0.519419</td>\n",
              "    </tr>\n",
              "    <tr>\n",
              "      <th>2</th>\n",
              "      <td>2.427988</td>\n",
              "      <td>1.066006</td>\n",
              "      <td>4.084776</td>\n",
              "      <td>4.280467</td>\n",
              "      <td>-0.424767</td>\n",
              "      <td>5.828796</td>\n",
              "      <td>-0.024296</td>\n",
              "      <td>3.233395</td>\n",
              "      <td>1.281790</td>\n",
              "      <td>1.456642</td>\n",
              "      <td>5.542191</td>\n",
              "      <td>5.505047</td>\n",
              "      <td>2.702132</td>\n",
              "      <td>2.570116</td>\n",
              "    </tr>\n",
              "    <tr>\n",
              "      <th>3</th>\n",
              "      <td>-0.462250</td>\n",
              "      <td>-0.826504</td>\n",
              "      <td>-0.600526</td>\n",
              "      <td>-0.341319</td>\n",
              "      <td>-0.424767</td>\n",
              "      <td>-0.659184</td>\n",
              "      <td>-0.024296</td>\n",
              "      <td>-0.972608</td>\n",
              "      <td>-0.381153</td>\n",
              "      <td>-0.438787</td>\n",
              "      <td>-0.434337</td>\n",
              "      <td>-0.526473</td>\n",
              "      <td>-0.231621</td>\n",
              "      <td>-0.505930</td>\n",
              "    </tr>\n",
              "    <tr>\n",
              "      <th>4</th>\n",
              "      <td>0.063248</td>\n",
              "      <td>-0.826504</td>\n",
              "      <td>-0.600526</td>\n",
              "      <td>0.078843</td>\n",
              "      <td>-0.424767</td>\n",
              "      <td>-0.659184</td>\n",
              "      <td>-0.024296</td>\n",
              "      <td>-0.972608</td>\n",
              "      <td>0.173161</td>\n",
              "      <td>-0.438787</td>\n",
              "      <td>0.419453</td>\n",
              "      <td>-0.526473</td>\n",
              "      <td>-0.231621</td>\n",
              "      <td>-0.505930</td>\n",
              "    </tr>\n",
              "    <tr>\n",
              "      <th>...</th>\n",
              "      <td>...</td>\n",
              "      <td>...</td>\n",
              "      <td>...</td>\n",
              "      <td>...</td>\n",
              "      <td>...</td>\n",
              "      <td>...</td>\n",
              "      <td>...</td>\n",
              "      <td>...</td>\n",
              "      <td>...</td>\n",
              "      <td>...</td>\n",
              "      <td>...</td>\n",
              "      <td>...</td>\n",
              "      <td>...</td>\n",
              "      <td>...</td>\n",
              "    </tr>\n",
              "    <tr>\n",
              "      <th>33896</th>\n",
              "      <td>-0.330876</td>\n",
              "      <td>-0.116813</td>\n",
              "      <td>0.180358</td>\n",
              "      <td>0.499006</td>\n",
              "      <td>-0.424767</td>\n",
              "      <td>-0.659184</td>\n",
              "      <td>-0.024296</td>\n",
              "      <td>0.174484</td>\n",
              "      <td>-0.658311</td>\n",
              "      <td>-0.438787</td>\n",
              "      <td>2.127032</td>\n",
              "      <td>0.865416</td>\n",
              "      <td>-0.231621</td>\n",
              "      <td>1.032093</td>\n",
              "    </tr>\n",
              "    <tr>\n",
              "      <th>33897</th>\n",
              "      <td>-0.724999</td>\n",
              "      <td>-0.826504</td>\n",
              "      <td>-0.079936</td>\n",
              "      <td>-0.761482</td>\n",
              "      <td>-0.424767</td>\n",
              "      <td>-0.659184</td>\n",
              "      <td>-0.024296</td>\n",
              "      <td>-0.972608</td>\n",
              "      <td>-0.658311</td>\n",
              "      <td>-0.438787</td>\n",
              "      <td>-0.434337</td>\n",
              "      <td>-0.526473</td>\n",
              "      <td>-0.231621</td>\n",
              "      <td>-0.505930</td>\n",
              "    </tr>\n",
              "    <tr>\n",
              "      <th>33898</th>\n",
              "      <td>-0.330876</td>\n",
              "      <td>0.592878</td>\n",
              "      <td>0.961242</td>\n",
              "      <td>-0.761482</td>\n",
              "      <td>-0.424767</td>\n",
              "      <td>2.368540</td>\n",
              "      <td>-0.024296</td>\n",
              "      <td>0.748029</td>\n",
              "      <td>-0.658311</td>\n",
              "      <td>-0.438787</td>\n",
              "      <td>0.846348</td>\n",
              "      <td>-0.526473</td>\n",
              "      <td>-0.231621</td>\n",
              "      <td>-0.505930</td>\n",
              "    </tr>\n",
              "    <tr>\n",
              "      <th>33899</th>\n",
              "      <td>-0.724999</td>\n",
              "      <td>-0.826504</td>\n",
              "      <td>-0.600526</td>\n",
              "      <td>-0.761482</td>\n",
              "      <td>-0.424767</td>\n",
              "      <td>-0.226652</td>\n",
              "      <td>-0.024296</td>\n",
              "      <td>-0.972608</td>\n",
              "      <td>-0.658311</td>\n",
              "      <td>-0.438787</td>\n",
              "      <td>-0.434337</td>\n",
              "      <td>-0.526473</td>\n",
              "      <td>-0.231621</td>\n",
              "      <td>-0.505930</td>\n",
              "    </tr>\n",
              "    <tr>\n",
              "      <th>33900</th>\n",
              "      <td>-0.724999</td>\n",
              "      <td>-0.826504</td>\n",
              "      <td>-0.600526</td>\n",
              "      <td>-0.761482</td>\n",
              "      <td>-0.424767</td>\n",
              "      <td>-0.226652</td>\n",
              "      <td>-0.024296</td>\n",
              "      <td>-0.972608</td>\n",
              "      <td>-0.658311</td>\n",
              "      <td>-0.438787</td>\n",
              "      <td>-0.434337</td>\n",
              "      <td>-0.526473</td>\n",
              "      <td>-0.231621</td>\n",
              "      <td>-0.505930</td>\n",
              "    </tr>\n",
              "  </tbody>\n",
              "</table>\n",
              "<p>33901 rows × 14 columns</p>\n",
              "</div>\n",
              "      <button class=\"colab-df-convert\" onclick=\"convertToInteractive('df-a03ab035-14ef-4eb8-a3bc-ce19f0448204')\"\n",
              "              title=\"Convert this dataframe to an interactive table.\"\n",
              "              style=\"display:none;\">\n",
              "        \n",
              "  <svg xmlns=\"http://www.w3.org/2000/svg\" height=\"24px\"viewBox=\"0 0 24 24\"\n",
              "       width=\"24px\">\n",
              "    <path d=\"M0 0h24v24H0V0z\" fill=\"none\"/>\n",
              "    <path d=\"M18.56 5.44l.94 2.06.94-2.06 2.06-.94-2.06-.94-.94-2.06-.94 2.06-2.06.94zm-11 1L8.5 8.5l.94-2.06 2.06-.94-2.06-.94L8.5 2.5l-.94 2.06-2.06.94zm10 10l.94 2.06.94-2.06 2.06-.94-2.06-.94-.94-2.06-.94 2.06-2.06.94z\"/><path d=\"M17.41 7.96l-1.37-1.37c-.4-.4-.92-.59-1.43-.59-.52 0-1.04.2-1.43.59L10.3 9.45l-7.72 7.72c-.78.78-.78 2.05 0 2.83L4 21.41c.39.39.9.59 1.41.59.51 0 1.02-.2 1.41-.59l7.78-7.78 2.81-2.81c.8-.78.8-2.07 0-2.86zM5.41 20L4 18.59l7.72-7.72 1.47 1.35L5.41 20z\"/>\n",
              "  </svg>\n",
              "      </button>\n",
              "      \n",
              "  <style>\n",
              "    .colab-df-container {\n",
              "      display:flex;\n",
              "      flex-wrap:wrap;\n",
              "      gap: 12px;\n",
              "    }\n",
              "\n",
              "    .colab-df-convert {\n",
              "      background-color: #E8F0FE;\n",
              "      border: none;\n",
              "      border-radius: 50%;\n",
              "      cursor: pointer;\n",
              "      display: none;\n",
              "      fill: #1967D2;\n",
              "      height: 32px;\n",
              "      padding: 0 0 0 0;\n",
              "      width: 32px;\n",
              "    }\n",
              "\n",
              "    .colab-df-convert:hover {\n",
              "      background-color: #E2EBFA;\n",
              "      box-shadow: 0px 1px 2px rgba(60, 64, 67, 0.3), 0px 1px 3px 1px rgba(60, 64, 67, 0.15);\n",
              "      fill: #174EA6;\n",
              "    }\n",
              "\n",
              "    [theme=dark] .colab-df-convert {\n",
              "      background-color: #3B4455;\n",
              "      fill: #D2E3FC;\n",
              "    }\n",
              "\n",
              "    [theme=dark] .colab-df-convert:hover {\n",
              "      background-color: #434B5C;\n",
              "      box-shadow: 0px 1px 3px 1px rgba(0, 0, 0, 0.15);\n",
              "      filter: drop-shadow(0px 1px 2px rgba(0, 0, 0, 0.3));\n",
              "      fill: #FFFFFF;\n",
              "    }\n",
              "  </style>\n",
              "\n",
              "      <script>\n",
              "        const buttonEl =\n",
              "          document.querySelector('#df-a03ab035-14ef-4eb8-a3bc-ce19f0448204 button.colab-df-convert');\n",
              "        buttonEl.style.display =\n",
              "          google.colab.kernel.accessAllowed ? 'block' : 'none';\n",
              "\n",
              "        async function convertToInteractive(key) {\n",
              "          const element = document.querySelector('#df-a03ab035-14ef-4eb8-a3bc-ce19f0448204');\n",
              "          const dataTable =\n",
              "            await google.colab.kernel.invokeFunction('convertToInteractive',\n",
              "                                                     [key], {});\n",
              "          if (!dataTable) return;\n",
              "\n",
              "          const docLinkHtml = 'Like what you see? Visit the ' +\n",
              "            '<a target=\"_blank\" href=https://colab.research.google.com/notebooks/data_table.ipynb>data table notebook</a>'\n",
              "            + ' to learn more about interactive tables.';\n",
              "          element.innerHTML = '';\n",
              "          dataTable['output_type'] = 'display_data';\n",
              "          await google.colab.output.renderOutput(dataTable, element);\n",
              "          const docLink = document.createElement('div');\n",
              "          docLink.innerHTML = docLinkHtml;\n",
              "          element.appendChild(docLink);\n",
              "        }\n",
              "      </script>\n",
              "    </div>\n",
              "  </div>\n",
              "  "
            ]
          },
          "metadata": {},
          "execution_count": 10
        }
      ],
      "source": [
        "features = user_profile_df.loc[:, user_profile_df.columns != 'user']\n",
        "features"
      ],
      "execution_count": 10
    },
    {
      "cell_type": "markdown",
      "metadata": {
        "id": "a8ae6511-73d4-4789-854c-f7cc6a732768"
      },
      "source": [
        "we can also save the user ids for later recommendation tasks:\n"
      ]
    },
    {
      "cell_type": "code",
      "metadata": {
        "id": "027fbaaa-4d8e-4f0a-ae54-5030e0612410",
        "outputId": "acbf2019-b939-450a-adb5-8231bd50f0a3",
        "colab": {
          "base_uri": "https://localhost:8080/",
          "height": 423
        }
      },
      "outputs": [
        {
          "output_type": "execute_result",
          "data": {
            "text/plain": [
              "          user\n",
              "0            2\n",
              "1            4\n",
              "2            5\n",
              "3            7\n",
              "4            8\n",
              "...        ...\n",
              "33896  2102054\n",
              "33897  2102356\n",
              "33898  2102680\n",
              "33899  2102983\n",
              "33900  2103039\n",
              "\n",
              "[33901 rows x 1 columns]"
            ],
            "text/html": [
              "\n",
              "  <div id=\"df-78eb2f9b-42a8-4450-b1b0-47c9fa28fe11\">\n",
              "    <div class=\"colab-df-container\">\n",
              "      <div>\n",
              "<style scoped>\n",
              "    .dataframe tbody tr th:only-of-type {\n",
              "        vertical-align: middle;\n",
              "    }\n",
              "\n",
              "    .dataframe tbody tr th {\n",
              "        vertical-align: top;\n",
              "    }\n",
              "\n",
              "    .dataframe thead th {\n",
              "        text-align: right;\n",
              "    }\n",
              "</style>\n",
              "<table border=\"1\" class=\"dataframe\">\n",
              "  <thead>\n",
              "    <tr style=\"text-align: right;\">\n",
              "      <th></th>\n",
              "      <th>user</th>\n",
              "    </tr>\n",
              "  </thead>\n",
              "  <tbody>\n",
              "    <tr>\n",
              "      <th>0</th>\n",
              "      <td>2</td>\n",
              "    </tr>\n",
              "    <tr>\n",
              "      <th>1</th>\n",
              "      <td>4</td>\n",
              "    </tr>\n",
              "    <tr>\n",
              "      <th>2</th>\n",
              "      <td>5</td>\n",
              "    </tr>\n",
              "    <tr>\n",
              "      <th>3</th>\n",
              "      <td>7</td>\n",
              "    </tr>\n",
              "    <tr>\n",
              "      <th>4</th>\n",
              "      <td>8</td>\n",
              "    </tr>\n",
              "    <tr>\n",
              "      <th>...</th>\n",
              "      <td>...</td>\n",
              "    </tr>\n",
              "    <tr>\n",
              "      <th>33896</th>\n",
              "      <td>2102054</td>\n",
              "    </tr>\n",
              "    <tr>\n",
              "      <th>33897</th>\n",
              "      <td>2102356</td>\n",
              "    </tr>\n",
              "    <tr>\n",
              "      <th>33898</th>\n",
              "      <td>2102680</td>\n",
              "    </tr>\n",
              "    <tr>\n",
              "      <th>33899</th>\n",
              "      <td>2102983</td>\n",
              "    </tr>\n",
              "    <tr>\n",
              "      <th>33900</th>\n",
              "      <td>2103039</td>\n",
              "    </tr>\n",
              "  </tbody>\n",
              "</table>\n",
              "<p>33901 rows × 1 columns</p>\n",
              "</div>\n",
              "      <button class=\"colab-df-convert\" onclick=\"convertToInteractive('df-78eb2f9b-42a8-4450-b1b0-47c9fa28fe11')\"\n",
              "              title=\"Convert this dataframe to an interactive table.\"\n",
              "              style=\"display:none;\">\n",
              "        \n",
              "  <svg xmlns=\"http://www.w3.org/2000/svg\" height=\"24px\"viewBox=\"0 0 24 24\"\n",
              "       width=\"24px\">\n",
              "    <path d=\"M0 0h24v24H0V0z\" fill=\"none\"/>\n",
              "    <path d=\"M18.56 5.44l.94 2.06.94-2.06 2.06-.94-2.06-.94-.94-2.06-.94 2.06-2.06.94zm-11 1L8.5 8.5l.94-2.06 2.06-.94-2.06-.94L8.5 2.5l-.94 2.06-2.06.94zm10 10l.94 2.06.94-2.06 2.06-.94-2.06-.94-.94-2.06-.94 2.06-2.06.94z\"/><path d=\"M17.41 7.96l-1.37-1.37c-.4-.4-.92-.59-1.43-.59-.52 0-1.04.2-1.43.59L10.3 9.45l-7.72 7.72c-.78.78-.78 2.05 0 2.83L4 21.41c.39.39.9.59 1.41.59.51 0 1.02-.2 1.41-.59l7.78-7.78 2.81-2.81c.8-.78.8-2.07 0-2.86zM5.41 20L4 18.59l7.72-7.72 1.47 1.35L5.41 20z\"/>\n",
              "  </svg>\n",
              "      </button>\n",
              "      \n",
              "  <style>\n",
              "    .colab-df-container {\n",
              "      display:flex;\n",
              "      flex-wrap:wrap;\n",
              "      gap: 12px;\n",
              "    }\n",
              "\n",
              "    .colab-df-convert {\n",
              "      background-color: #E8F0FE;\n",
              "      border: none;\n",
              "      border-radius: 50%;\n",
              "      cursor: pointer;\n",
              "      display: none;\n",
              "      fill: #1967D2;\n",
              "      height: 32px;\n",
              "      padding: 0 0 0 0;\n",
              "      width: 32px;\n",
              "    }\n",
              "\n",
              "    .colab-df-convert:hover {\n",
              "      background-color: #E2EBFA;\n",
              "      box-shadow: 0px 1px 2px rgba(60, 64, 67, 0.3), 0px 1px 3px 1px rgba(60, 64, 67, 0.15);\n",
              "      fill: #174EA6;\n",
              "    }\n",
              "\n",
              "    [theme=dark] .colab-df-convert {\n",
              "      background-color: #3B4455;\n",
              "      fill: #D2E3FC;\n",
              "    }\n",
              "\n",
              "    [theme=dark] .colab-df-convert:hover {\n",
              "      background-color: #434B5C;\n",
              "      box-shadow: 0px 1px 3px 1px rgba(0, 0, 0, 0.15);\n",
              "      filter: drop-shadow(0px 1px 2px rgba(0, 0, 0, 0.3));\n",
              "      fill: #FFFFFF;\n",
              "    }\n",
              "  </style>\n",
              "\n",
              "      <script>\n",
              "        const buttonEl =\n",
              "          document.querySelector('#df-78eb2f9b-42a8-4450-b1b0-47c9fa28fe11 button.colab-df-convert');\n",
              "        buttonEl.style.display =\n",
              "          google.colab.kernel.accessAllowed ? 'block' : 'none';\n",
              "\n",
              "        async function convertToInteractive(key) {\n",
              "          const element = document.querySelector('#df-78eb2f9b-42a8-4450-b1b0-47c9fa28fe11');\n",
              "          const dataTable =\n",
              "            await google.colab.kernel.invokeFunction('convertToInteractive',\n",
              "                                                     [key], {});\n",
              "          if (!dataTable) return;\n",
              "\n",
              "          const docLinkHtml = 'Like what you see? Visit the ' +\n",
              "            '<a target=\"_blank\" href=https://colab.research.google.com/notebooks/data_table.ipynb>data table notebook</a>'\n",
              "            + ' to learn more about interactive tables.';\n",
              "          element.innerHTML = '';\n",
              "          dataTable['output_type'] = 'display_data';\n",
              "          await google.colab.output.renderOutput(dataTable, element);\n",
              "          const docLink = document.createElement('div');\n",
              "          docLink.innerHTML = docLinkHtml;\n",
              "          element.appendChild(docLink);\n",
              "        }\n",
              "      </script>\n",
              "    </div>\n",
              "  </div>\n",
              "  "
            ]
          },
          "metadata": {},
          "execution_count": 11
        }
      ],
      "source": [
        "user_ids = user_profile_df.loc[:, user_profile_df.columns == 'user']\n",
        "user_ids"
      ],
      "execution_count": 11
    },
    {
      "cell_type": "markdown",
      "metadata": {
        "id": "a7982254-d95f-4e57-8e2c-3766439e29cb"
      },
      "source": [
        "### TASK: Perform K-means clustering algorithm on the user profile feature vectors\n"
      ]
    },
    {
      "cell_type": "markdown",
      "metadata": {
        "id": "685bd78a-dbf3-4880-b7ac-8b640b079e7b"
      },
      "source": [
        "With the user profile dataset ready, you need to use the `KMeans` class provided by scikit-learn library to perform clustering on the user profile feature vectors. \n"
      ]
    },
    {
      "cell_type": "markdown",
      "metadata": {
        "id": "a9cb93c9-36ef-449e-9ca3-d80323caf9a6"
      },
      "source": [
        "For `KMeans` algorithm, one important hyperparameter is the number of clusters `n_cluster`, and a good way to find the optimized `n_cluster` is using to grid search a list of candidates and find the one with the best or optimized clustering evaluation metrics such as minimal `sum of squared distance`:\n"
      ]
    },
    {
      "cell_type": "markdown",
      "metadata": {
        "id": "9ba4f8d3-4ac6-43c3-820c-6ac0f52bebcf"
      },
      "source": [
        "_TODO: grid search the optimized n_cluster for KMeans() model_\n"
      ]
    },
    {
      "cell_type": "code",
      "metadata": {
        "id": "9a69506c-ca0a-428a-89fa-732a26c08202"
      },
      "outputs": [],
      "source": [
        "# WRITE YOUR CODE HERE\n",
        "\n",
        "# Find an optimized number of neighors k from a candidate list such as list_k = list(range(1, 30))\n",
        "import warnings\n",
        "def warn(*args,**kwargs):\n",
        "    pass\n",
        "warnings.warn = warn"
      ],
      "execution_count": 12
    },
    {
      "cell_type": "code",
      "source": [
        "ssd=[]\n",
        "for k in range(1,30):\n",
        "    km = KMeans(n_clusters=k)\n",
        "    km.fit_predict(features)\n",
        "    ssd.append(km.inertia_)\n",
        "\n",
        "plt.plot(list(range(1,30)),ssd)\n",
        "plt.scatter(list(range(1,30)),ssd);"
      ],
      "metadata": {
        "id": "RMUiyym0L6ix",
        "outputId": "8b3fb92c-756f-4f11-f41f-c4caa2a81535",
        "colab": {
          "base_uri": "https://localhost:8080/",
          "height": 430
        }
      },
      "execution_count": 13,
      "outputs": [
        {
          "output_type": "display_data",
          "data": {
            "text/plain": [
              "<Figure size 640x480 with 1 Axes>"
            ],
            "image/png": "[encoded data removed]"
          },
          "metadata": {}
        }
      ]
    },
    {
      "cell_type": "markdown",
      "metadata": {
        "id": "7302de83-5e40-4455-aa2d-59a58e80d409"
      },
      "source": [
        "<details>\n",
        "    <summary>Click here for Hints</summary>\n",
        "    \n",
        "Create a list that will hold the the sum of square distances for each fitted model. For each k in `n_clusters` make a model by calling `KMeans(n_clusters=k, random_state=rs).fit(features)` ans append `model.inertia_` to the list. Plot square distances against the k values.  \n",
        "\n",
        "</details>\n"
      ]
    },
    {
      "cell_type": "markdown",
      "metadata": {
        "id": "f3b8011e-f308-4c2a-9f27-6093a46cb987"
      },
      "source": [
        "If you plot the grid search process, you may get a elbow plot like the following:\n"
      ]
    },
    {
      "cell_type": "markdown",
      "metadata": {
        "id": "eb97ecf5-0544-4432-a9dd-111052443650"
      },
      "source": [
        "![](https://cf-courses-data.s3.us.cloud-object-storage.appdomain.cloud/IBM-ML321EN-SkillsNetwork/labs/module_3/images/clusters_elbow.png)\n"
      ]
    },
    {
      "cell_type": "markdown",
      "metadata": {
        "id": "095a9421-26c4-45c8-8047-da67606b576d"
      },
      "source": [
        "From the elbow plot, you should visualy identify the point where the metric starting to be flatten, which indicates the optimized number of clusters.\n"
      ]
    },
    {
      "cell_type": "markdown",
      "metadata": {
        "id": "2b8c2b43-174f-4e4d-82b0-342a2bb239bb"
      },
      "source": [
        "Once you have identified the best number of clusters, you can apply `KMeans()` again to generate cluster label for all users.\n"
      ]
    },
    {
      "cell_type": "code",
      "metadata": {
        "id": "7bb23559-b1c2-4537-941b-034f11a64ab5"
      },
      "outputs": [],
      "source": [
        "cluster_labels = [None] * len(user_ids)"
      ],
      "execution_count": 14
    },
    {
      "cell_type": "markdown",
      "metadata": {
        "id": "2b59c254-dae1-4cbc-b143-fb5b2b9ce44d"
      },
      "source": [
        "_TODO: Apply KMeans() on the features with optimized n_cluster parameter after model fitting, you can find output cluster labels in `model.labels_` attribute_\n"
      ]
    },
    {
      "cell_type": "code",
      "metadata": {
        "id": "d40442cf-a8cd-47a2-913a-04fc791db59c",
        "outputId": "d50b80a0-c5bf-4958-8086-5b05bc8ac5c9",
        "colab": {
          "base_uri": "https://localhost:8080/"
        }
      },
      "outputs": [
        {
          "output_type": "execute_result",
          "data": {
            "text/plain": [
              "array([15,  9, 15, ...,  0,  4,  4], dtype=int32)"
            ]
          },
          "metadata": {},
          "execution_count": 15
        }
      ],
      "source": [
        "## WRITE YOUR CODE HERE\n",
        "\n",
        "## ...\n",
        "## cluster_labels = model.labels\n",
        "## ...\n",
        "model = KMeans(n_clusters=20)\n",
        "model.fit(features)\n",
        "model.labels_"
      ],
      "execution_count": 15
    },
    {
      "cell_type": "markdown",
      "metadata": {
        "id": "0475a709-d619-48e5-b31b-a322fb896bfc"
      },
      "source": [
        "<details>\n",
        "    <summary>Click here for Hints</summary>\n",
        "    \n",
        "Create  a model by calling `KMeans(n_clusters=k, random_state=rs).fit(features)`. Save the labels by accessing `model.labels`.\n",
        "\n",
        "</details>\n"
      ]
    },
    {
      "cell_type": "markdown",
      "metadata": {
        "id": "c8918096-fa1f-4760-90a9-1ea50ce96751"
      },
      "source": [
        "The cluster labels you generated is a list of integers indicating cluster indices. You may use the following utility method to combine the cluster labels and user ids to a dataframe, so that you know which cluster a user belongs:\n"
      ]
    },
    {
      "cell_type": "code",
      "metadata": {
        "id": "02ff1040-1b0e-430d-9121-15ec18147fa6"
      },
      "outputs": [],
      "source": [
        "def combine_cluster_labels(user_ids, labels):\n",
        "    labels_df = pd.DataFrame(labels)\n",
        "    cluster_df = pd.merge(user_ids, labels_df, left_index=True, right_index=True)\n",
        "    cluster_df.columns = ['user', 'cluster']\n",
        "    return cluster_df"
      ],
      "execution_count": 16
    },
    {
      "cell_type": "code",
      "source": [
        "cluster_df = combine_cluster_labels(user_ids,model.labels_)\n",
        "cluster_df"
      ],
      "metadata": {
        "id": "6QfL4ezJMjTM",
        "outputId": "2c69135f-a212-496c-f6a2-14403045619d",
        "colab": {
          "base_uri": "https://localhost:8080/",
          "height": 423
        }
      },
      "execution_count": 17,
      "outputs": [
        {
          "output_type": "execute_result",
          "data": {
            "text/plain": [
              "          user  cluster\n",
              "0            2       15\n",
              "1            4        9\n",
              "2            5       15\n",
              "3            7        4\n",
              "4            8        4\n",
              "...        ...      ...\n",
              "33896  2102054       12\n",
              "33897  2102356        4\n",
              "33898  2102680        0\n",
              "33899  2102983        4\n",
              "33900  2103039        4\n",
              "\n",
              "[33901 rows x 2 columns]"
            ],
            "text/html": [
              "\n",
              "  <div id=\"df-0ae8800d-5995-4ef5-b136-18f8258ae450\">\n",
              "    <div class=\"colab-df-container\">\n",
              "      <div>\n",
              "<style scoped>\n",
              "    .dataframe tbody tr th:only-of-type {\n",
              "        vertical-align: middle;\n",
              "    }\n",
              "\n",
              "    .dataframe tbody tr th {\n",
              "        vertical-align: top;\n",
              "    }\n",
              "\n",
              "    .dataframe thead th {\n",
              "        text-align: right;\n",
              "    }\n",
              "</style>\n",
              "<table border=\"1\" class=\"dataframe\">\n",
              "  <thead>\n",
              "    <tr style=\"text-align: right;\">\n",
              "      <th></th>\n",
              "      <th>user</th>\n",
              "      <th>cluster</th>\n",
              "    </tr>\n",
              "  </thead>\n",
              "  <tbody>\n",
              "    <tr>\n",
              "      <th>0</th>\n",
              "      <td>2</td>\n",
              "      <td>15</td>\n",
              "    </tr>\n",
              "    <tr>\n",
              "      <th>1</th>\n",
              "      <td>4</td>\n",
              "      <td>9</td>\n",
              "    </tr>\n",
              "    <tr>\n",
              "      <th>2</th>\n",
              "      <td>5</td>\n",
              "      <td>15</td>\n",
              "    </tr>\n",
              "    <tr>\n",
              "      <th>3</th>\n",
              "      <td>7</td>\n",
              "      <td>4</td>\n",
              "    </tr>\n",
              "    <tr>\n",
              "      <th>4</th>\n",
              "      <td>8</td>\n",
              "      <td>4</td>\n",
              "    </tr>\n",
              "    <tr>\n",
              "      <th>...</th>\n",
              "      <td>...</td>\n",
              "      <td>...</td>\n",
              "    </tr>\n",
              "    <tr>\n",
              "      <th>33896</th>\n",
              "      <td>2102054</td>\n",
              "      <td>12</td>\n",
              "    </tr>\n",
              "    <tr>\n",
              "      <th>33897</th>\n",
              "      <td>2102356</td>\n",
              "      <td>4</td>\n",
              "    </tr>\n",
              "    <tr>\n",
              "      <th>33898</th>\n",
              "      <td>2102680</td>\n",
              "      <td>0</td>\n",
              "    </tr>\n",
              "    <tr>\n",
              "      <th>33899</th>\n",
              "      <td>2102983</td>\n",
              "      <td>4</td>\n",
              "    </tr>\n",
              "    <tr>\n",
              "      <th>33900</th>\n",
              "      <td>2103039</td>\n",
              "      <td>4</td>\n",
              "    </tr>\n",
              "  </tbody>\n",
              "</table>\n",
              "<p>33901 rows × 2 columns</p>\n",
              "</div>\n",
              "      <button class=\"colab-df-convert\" onclick=\"convertToInteractive('df-0ae8800d-5995-4ef5-b136-18f8258ae450')\"\n",
              "              title=\"Convert this dataframe to an interactive table.\"\n",
              "              style=\"display:none;\">\n",
              "        \n",
              "  <svg xmlns=\"http://www.w3.org/2000/svg\" height=\"24px\"viewBox=\"0 0 24 24\"\n",
              "       width=\"24px\">\n",
              "    <path d=\"M0 0h24v24H0V0z\" fill=\"none\"/>\n",
              "    <path d=\"M18.56 5.44l.94 2.06.94-2.06 2.06-.94-2.06-.94-.94-2.06-.94 2.06-2.06.94zm-11 1L8.5 8.5l.94-2.06 2.06-.94-2.06-.94L8.5 2.5l-.94 2.06-2.06.94zm10 10l.94 2.06.94-2.06 2.06-.94-2.06-.94-.94-2.06-.94 2.06-2.06.94z\"/><path d=\"M17.41 7.96l-1.37-1.37c-.4-.4-.92-.59-1.43-.59-.52 0-1.04.2-1.43.59L10.3 9.45l-7.72 7.72c-.78.78-.78 2.05 0 2.83L4 21.41c.39.39.9.59 1.41.59.51 0 1.02-.2 1.41-.59l7.78-7.78 2.81-2.81c.8-.78.8-2.07 0-2.86zM5.41 20L4 18.59l7.72-7.72 1.47 1.35L5.41 20z\"/>\n",
              "  </svg>\n",
              "      </button>\n",
              "      \n",
              "  <style>\n",
              "    .colab-df-container {\n",
              "      display:flex;\n",
              "      flex-wrap:wrap;\n",
              "      gap: 12px;\n",
              "    }\n",
              "\n",
              "    .colab-df-convert {\n",
              "      background-color: #E8F0FE;\n",
              "      border: none;\n",
              "      border-radius: 50%;\n",
              "      cursor: pointer;\n",
              "      display: none;\n",
              "      fill: #1967D2;\n",
              "      height: 32px;\n",
              "      padding: 0 0 0 0;\n",
              "      width: 32px;\n",
              "    }\n",
              "\n",
              "    .colab-df-convert:hover {\n",
              "      background-color: #E2EBFA;\n",
              "      box-shadow: 0px 1px 2px rgba(60, 64, 67, 0.3), 0px 1px 3px 1px rgba(60, 64, 67, 0.15);\n",
              "      fill: #174EA6;\n",
              "    }\n",
              "\n",
              "    [theme=dark] .colab-df-convert {\n",
              "      background-color: #3B4455;\n",
              "      fill: #D2E3FC;\n",
              "    }\n",
              "\n",
              "    [theme=dark] .colab-df-convert:hover {\n",
              "      background-color: #434B5C;\n",
              "      box-shadow: 0px 1px 3px 1px rgba(0, 0, 0, 0.15);\n",
              "      filter: drop-shadow(0px 1px 2px rgba(0, 0, 0, 0.3));\n",
              "      fill: #FFFFFF;\n",
              "    }\n",
              "  </style>\n",
              "\n",
              "      <script>\n",
              "        const buttonEl =\n",
              "          document.querySelector('#df-0ae8800d-5995-4ef5-b136-18f8258ae450 button.colab-df-convert');\n",
              "        buttonEl.style.display =\n",
              "          google.colab.kernel.accessAllowed ? 'block' : 'none';\n",
              "\n",
              "        async function convertToInteractive(key) {\n",
              "          const element = document.querySelector('#df-0ae8800d-5995-4ef5-b136-18f8258ae450');\n",
              "          const dataTable =\n",
              "            await google.colab.kernel.invokeFunction('convertToInteractive',\n",
              "                                                     [key], {});\n",
              "          if (!dataTable) return;\n",
              "\n",
              "          const docLinkHtml = 'Like what you see? Visit the ' +\n",
              "            '<a target=\"_blank\" href=https://colab.research.google.com/notebooks/data_table.ipynb>data table notebook</a>'\n",
              "            + ' to learn more about interactive tables.';\n",
              "          element.innerHTML = '';\n",
              "          dataTable['output_type'] = 'display_data';\n",
              "          await google.colab.output.renderOutput(dataTable, element);\n",
              "          const docLink = document.createElement('div');\n",
              "          docLink.innerHTML = docLinkHtml;\n",
              "          element.appendChild(docLink);\n",
              "        }\n",
              "      </script>\n",
              "    </div>\n",
              "  </div>\n",
              "  "
            ]
          },
          "metadata": {},
          "execution_count": 17
        }
      ]
    },
    {
      "cell_type": "markdown",
      "metadata": {
        "id": "93271a7e-2541-4b3d-bd1b-4dfd9a7ff66f"
      },
      "source": [
        "Your clustering results may look like the following screenshot:\n"
      ]
    },
    {
      "cell_type": "markdown",
      "metadata": {
        "id": "05c44068-29a8-41e0-a494-353da3dbae99"
      },
      "source": [
        "![](https://cf-courses-data.s3.us.cloud-object-storage.appdomain.cloud/IBM-ML321EN-SkillsNetwork/labs/module_3/images/cluster_labels.png)\n"
      ]
    },
    {
      "cell_type": "markdown",
      "metadata": {
        "id": "3f16c7b4-764b-42dd-a675-f9ec440b4d70"
      },
      "source": [
        "Now, each user finds its own cluster or we can say we have created many clusters of learning communities. Learners within each community share very similar learning interests.\n"
      ]
    },
    {
      "cell_type": "markdown",
      "metadata": {
        "id": "65f09f38-8626-489b-9b73-18bd9df0b9a8"
      },
      "source": [
        "### TASK: Apply PCA on user profile feature vectors to reduce dimensions\n"
      ]
    },
    {
      "cell_type": "markdown",
      "metadata": {
        "id": "5ece8942-d67f-4f37-bded-6911a76c21f4"
      },
      "source": [
        "In the previous step, we applied `KMeans` on the original user profile feature vectors which have 14 original features (the course genres).\n"
      ]
    },
    {
      "cell_type": "code",
      "metadata": {
        "id": "9c7edb57-939c-4414-8bc2-dd39e732e023"
      },
      "outputs": [],
      "source": [
        "features = user_profile_df.loc[:, user_profile_df.columns != 'user']\n",
        "user_ids = user_profile_df.loc[:, user_profile_df.columns == 'user']\n",
        "feature_names = list(user_profile_df.columns[1:])"
      ],
      "execution_count": 18
    },
    {
      "cell_type": "code",
      "metadata": {
        "id": "e7e7f270-489b-4ae5-a610-338da1740006",
        "outputId": "ca659135-7712-478f-b864-48e870d76b2c",
        "colab": {
          "base_uri": "https://localhost:8080/"
        }
      },
      "outputs": [
        {
          "output_type": "stream",
          "name": "stdout",
          "text": [
            "There are 14 features for each user profile.\n"
          ]
        }
      ],
      "source": [
        "print(f\"There are {len(feature_names)} features for each user profile.\")"
      ],
      "execution_count": 19
    },
    {
      "cell_type": "markdown",
      "metadata": {
        "id": "96f9d1b5-dffc-4d83-b1ac-f358ab9bce3f"
      },
      "source": [
        "If we plot a covariance matrix of the user profile feature vectors with 14 features, we can observe that some features are actually correlated:\n"
      ]
    },
    {
      "cell_type": "code",
      "metadata": {
        "id": "09c9d107-2875-4757-82a2-019fa02d17bc",
        "outputId": "ff6f7334-87f1-441a-a037-c516a543707a",
        "colab": {
          "base_uri": "https://localhost:8080/",
          "height": 862
        }
      },
      "outputs": [
        {
          "output_type": "display_data",
          "data": {
            "text/plain": [
              "<Figure size 1100x900 with 2 Axes>"
            ],
            "image/png": "[encoded data removed]"
          },
          "metadata": {}
        }
      ],
      "source": [
        "sns.set_theme(style=\"white\")\n",
        "\n",
        "# Compute the correlation matrix\n",
        "corr = features.cov()\n",
        "\n",
        "# Generate a mask for the upper triangle\n",
        "mask = np.triu(np.ones_like(corr, dtype=bool))\n",
        "\n",
        "# Set up the matplotlib figure\n",
        "f, ax = plt.subplots(figsize=(11, 9))\n",
        "\n",
        "# Generate a custom diverging colormap\n",
        "cmap = sns.diverging_palette(230, 20, as_cmap=True)\n",
        "\n",
        "# Draw the heatmap with the mask and correct aspect ratio\n",
        "sns.heatmap(corr, mask=mask, cmap=cmap, vmax=.3, center=0,\n",
        "            square=True, linewidths=.5, cbar_kws={\"shrink\": .5})\n",
        "\n",
        "\n",
        "plt.show()"
      ],
      "execution_count": 20
    },
    {
      "cell_type": "markdown",
      "metadata": {
        "id": "ffccd514-d657-42f1-8cbb-1e499087aea4"
      },
      "source": [
        "For example, the feature `MachineLearning` and the feature `DataScience` are correlated. Such covariances among features may indicate that we can apply PCA to find its main components (eigenvectors with max eigenvalues on the covariance matrix). \n",
        "\n",
        "If we only keep the independent main components, then we can reduce the dimensions of our user profile feature vectors.\n"
      ]
    },
    {
      "cell_type": "markdown",
      "metadata": {
        "id": "b16db9ed-95f6-4414-b682-e892ef0930e8"
      },
      "source": [
        "Now let's apply the `PCA()` provided by  `scikit-learn` to find the main components in user profile feature vectors and see if we can reduce its dimensions by only keeping the main components.\n"
      ]
    },
    {
      "cell_type": "markdown",
      "metadata": {
        "id": "973eb113-b2c9-46ef-9139-0678b20e0c90"
      },
      "source": [
        "Note that when calling the  `PCA()` class, there is also an import argument called `n_components` which indicates how many components you want to keep in the PCA result. One way to find an optimized `n_components` is to do a grid search on a list of argument candidates (such as `range(1, 15)`) and calculate the ratio of the accumulated variance for each candidate. \n",
        "\n",
        "If the accumulated variances ratio of a candidate `n_components` is larger than a threshold, e.g., 90%, then we can say the transformed `n_components` could explain about 90% of variances of the original data variance and can be considered as an optimized components size.\n"
      ]
    },
    {
      "cell_type": "markdown",
      "metadata": {
        "id": "b402d9ab-1cbd-4cba-ba2d-745d609f9eab"
      },
      "source": [
        "_TODO: Find the optimized `n_components` for PCA_\n"
      ]
    },
    {
      "cell_type": "code",
      "metadata": {
        "id": "12ebefa3-4d3b-446d-a322-1f9baf7bd333",
        "outputId": "cd4e5441-23c5-4636-c0eb-91dd55741cd8",
        "colab": {
          "base_uri": "https://localhost:8080/",
          "height": 480
        }
      },
      "outputs": [
        {
          "output_type": "display_data",
          "data": {
            "text/plain": [
              "<Figure size 640x480 with 1 Axes>"
            ],
            "image/png": "[encoded data removed]"
          },
          "metadata": {}
        }
      ],
      "source": [
        "# WRITE YOUR CODE HERE\n",
        "\n",
        "# - For a list of candidate `n_components` arguments such as 1 to 14, find out the minimal `n` that can explain accumulated 90% variances of previous data\n",
        "# - In the fitted PCA() model, you can find explained_variance_ratio_ and use the sum() function to add them to get the accumulated variance ratio\n",
        "evr=[]\n",
        "for n in range(1,15):\n",
        "    pca = PCA(n_components=n)\n",
        "    pca.fit(features)\n",
        "    evr.append(pca.explained_variance_ratio_.sum())\n",
        "\n",
        "plt.bar(x=list(range(1,15)),height=evr,width=0.8);\n",
        "plt.hlines(y=0.9,xmin=0.5,xmax=14.5,color='red');\n",
        "plt.tight_layout();"
      ],
      "execution_count": 21
    },
    {
      "cell_type": "markdown",
      "metadata": {
        "id": "7aef35d8-d2b6-4ae2-97bd-50d65d3a864c"
      },
      "source": [
        "<details>\n",
        "    <summary>Click here for Hints</summary>\n",
        "    \n",
        "* For each `n_components` from 1 to 14 you can call `PCA=PCA(n_components=component)`, then you can simply fit it by callsing `pca.fit_transform(features)` where `features = user_profile_df.loc[:, user_profile_df.columns != 'user']`. \n",
        "* Then you can find `accumulated_variance_ratios` by applying `sum()` to `pca.explained_variance_ratio_`. \n",
        "* Then find the smallest n_components value for which `accumulated_variance_ratios >= 0.9` and return it.\n",
        "</details>\n"
      ]
    },
    {
      "cell_type": "markdown",
      "metadata": {
        "id": "058ae7ca-e17a-4ed6-8e78-bdf1f63dbee4"
      },
      "source": [
        "If you visualize your hyperparameter searching process, you may get a trend line like the following:\n"
      ]
    },
    {
      "cell_type": "markdown",
      "metadata": {
        "id": "299191cd-788b-4960-a38b-4cb3fce37150"
      },
      "source": [
        "![](https://cf-courses-data.s3.us.cloud-object-storage.appdomain.cloud/IBM-ML321EN-SkillsNetwork/labs/module_3/images/pca.png)\n"
      ]
    },
    {
      "cell_type": "markdown",
      "metadata": {
        "id": "00276b91-b2a3-4083-8544-59b9fd228edc"
      },
      "source": [
        "Once you found the optimized `n_component` argument value, you can apply PCA on the user profile feature vectors and reduce the  14 features into  `n_component` features.\n"
      ]
    },
    {
      "cell_type": "markdown",
      "metadata": {
        "id": "521982fc-a35a-4f46-8c97-a84b38e44de4"
      },
      "source": [
        "_TODO: Perform PCA to transform original user profile features_\n"
      ]
    },
    {
      "cell_type": "code",
      "metadata": {
        "id": "5dc14206-372a-4a67-8e76-17b4c9aabbff",
        "outputId": "facc328b-f138-4667-e6fd-2bba6bfe12ff",
        "colab": {
          "base_uri": "https://localhost:8080/",
          "height": 423
        }
      },
      "outputs": [
        {
          "output_type": "execute_result",
          "data": {
            "text/plain": [
              "       index     user        PC0       PC1       PC2       PC3       PC4  \\\n",
              "0          0        2  17.772494  0.200681  1.730609  2.567359 -3.825814   \n",
              "1          1        4   7.145199 -2.847481  2.358636 -0.576654  0.398803   \n",
              "2          2        5  11.363270  1.873619 -1.522077  1.076144 -1.711688   \n",
              "3          3        7  -1.834033 -0.277462  0.564905  0.053470 -0.064440   \n",
              "4          4        8  -1.049125 -0.684767  1.072765  0.006371 -0.005695   \n",
              "...      ...      ...        ...       ...       ...       ...       ...   \n",
              "33896  33896  2102054   0.633824  0.108815 -0.388871 -0.122665 -0.098364   \n",
              "33897  33897  2102356  -2.095339  0.135058  0.244727 -0.088185  0.025081   \n",
              "33898  33898  2102680   0.625943 -0.547167 -1.692824 -0.630589  0.166632   \n",
              "33899  33899  2102983  -2.036832 -0.153534  0.162852  0.082651 -0.126419   \n",
              "33900  33900  2103039  -2.036832 -0.153534  0.162852  0.082651 -0.126419   \n",
              "\n",
              "            PC5       PC6       PC7       PC8  \n",
              "0      2.707154  0.681042  2.312613  0.868272  \n",
              "1     -0.134533  0.549769  0.469033  0.033405  \n",
              "2      0.883212  1.677582  2.937669  2.097639  \n",
              "3      0.165757  0.030956  0.039519  0.210887  \n",
              "4      0.118686  0.118559  0.559292  0.186379  \n",
              "...         ...       ...       ...       ...  \n",
              "33896  0.358333  1.752049  1.486542 -0.523600  \n",
              "33897  0.183641  0.046413  0.191709  0.260437  \n",
              "33898  0.676244 -0.055100  0.582091  1.703193  \n",
              "33899  0.255109  0.072496  0.113750  0.622900  \n",
              "33900  0.255109  0.072496  0.113750  0.622900  \n",
              "\n",
              "[33901 rows x 11 columns]"
            ],
            "text/html": [
              "\n",
              "  <div id=\"df-d2f451c4-2e24-4e22-afb8-e15c0271b3c6\">\n",
              "    <div class=\"colab-df-container\">\n",
              "      <div>\n",
              "<style scoped>\n",
              "    .dataframe tbody tr th:only-of-type {\n",
              "        vertical-align: middle;\n",
              "    }\n",
              "\n",
              "    .dataframe tbody tr th {\n",
              "        vertical-align: top;\n",
              "    }\n",
              "\n",
              "    .dataframe thead th {\n",
              "        text-align: right;\n",
              "    }\n",
              "</style>\n",
              "<table border=\"1\" class=\"dataframe\">\n",
              "  <thead>\n",
              "    <tr style=\"text-align: right;\">\n",
              "      <th></th>\n",
              "      <th>index</th>\n",
              "      <th>user</th>\n",
              "      <th>PC0</th>\n",
              "      <th>PC1</th>\n",
              "      <th>PC2</th>\n",
              "      <th>PC3</th>\n",
              "      <th>PC4</th>\n",
              "      <th>PC5</th>\n",
              "      <th>PC6</th>\n",
              "      <th>PC7</th>\n",
              "      <th>PC8</th>\n",
              "    </tr>\n",
              "  </thead>\n",
              "  <tbody>\n",
              "    <tr>\n",
              "      <th>0</th>\n",
              "      <td>0</td>\n",
              "      <td>2</td>\n",
              "      <td>17.772494</td>\n",
              "      <td>0.200681</td>\n",
              "      <td>1.730609</td>\n",
              "      <td>2.567359</td>\n",
              "      <td>-3.825814</td>\n",
              "      <td>2.707154</td>\n",
              "      <td>0.681042</td>\n",
              "      <td>2.312613</td>\n",
              "      <td>0.868272</td>\n",
              "    </tr>\n",
              "    <tr>\n",
              "      <th>1</th>\n",
              "      <td>1</td>\n",
              "      <td>4</td>\n",
              "      <td>7.145199</td>\n",
              "      <td>-2.847481</td>\n",
              "      <td>2.358636</td>\n",
              "      <td>-0.576654</td>\n",
              "      <td>0.398803</td>\n",
              "      <td>-0.134533</td>\n",
              "      <td>0.549769</td>\n",
              "      <td>0.469033</td>\n",
              "      <td>0.033405</td>\n",
              "    </tr>\n",
              "    <tr>\n",
              "      <th>2</th>\n",
              "      <td>2</td>\n",
              "      <td>5</td>\n",
              "      <td>11.363270</td>\n",
              "      <td>1.873619</td>\n",
              "      <td>-1.522077</td>\n",
              "      <td>1.076144</td>\n",
              "      <td>-1.711688</td>\n",
              "      <td>0.883212</td>\n",
              "      <td>1.677582</td>\n",
              "      <td>2.937669</td>\n",
              "      <td>2.097639</td>\n",
              "    </tr>\n",
              "    <tr>\n",
              "      <th>3</th>\n",
              "      <td>3</td>\n",
              "      <td>7</td>\n",
              "      <td>-1.834033</td>\n",
              "      <td>-0.277462</td>\n",
              "      <td>0.564905</td>\n",
              "      <td>0.053470</td>\n",
              "      <td>-0.064440</td>\n",
              "      <td>0.165757</td>\n",
              "      <td>0.030956</td>\n",
              "      <td>0.039519</td>\n",
              "      <td>0.210887</td>\n",
              "    </tr>\n",
              "    <tr>\n",
              "      <th>4</th>\n",
              "      <td>4</td>\n",
              "      <td>8</td>\n",
              "      <td>-1.049125</td>\n",
              "      <td>-0.684767</td>\n",
              "      <td>1.072765</td>\n",
              "      <td>0.006371</td>\n",
              "      <td>-0.005695</td>\n",
              "      <td>0.118686</td>\n",
              "      <td>0.118559</td>\n",
              "      <td>0.559292</td>\n",
              "      <td>0.186379</td>\n",
              "    </tr>\n",
              "    <tr>\n",
              "      <th>...</th>\n",
              "      <td>...</td>\n",
              "      <td>...</td>\n",
              "      <td>...</td>\n",
              "      <td>...</td>\n",
              "      <td>...</td>\n",
              "      <td>...</td>\n",
              "      <td>...</td>\n",
              "      <td>...</td>\n",
              "      <td>...</td>\n",
              "      <td>...</td>\n",
              "      <td>...</td>\n",
              "    </tr>\n",
              "    <tr>\n",
              "      <th>33896</th>\n",
              "      <td>33896</td>\n",
              "      <td>2102054</td>\n",
              "      <td>0.633824</td>\n",
              "      <td>0.108815</td>\n",
              "      <td>-0.388871</td>\n",
              "      <td>-0.122665</td>\n",
              "      <td>-0.098364</td>\n",
              "      <td>0.358333</td>\n",
              "      <td>1.752049</td>\n",
              "      <td>1.486542</td>\n",
              "      <td>-0.523600</td>\n",
              "    </tr>\n",
              "    <tr>\n",
              "      <th>33897</th>\n",
              "      <td>33897</td>\n",
              "      <td>2102356</td>\n",
              "      <td>-2.095339</td>\n",
              "      <td>0.135058</td>\n",
              "      <td>0.244727</td>\n",
              "      <td>-0.088185</td>\n",
              "      <td>0.025081</td>\n",
              "      <td>0.183641</td>\n",
              "      <td>0.046413</td>\n",
              "      <td>0.191709</td>\n",
              "      <td>0.260437</td>\n",
              "    </tr>\n",
              "    <tr>\n",
              "      <th>33898</th>\n",
              "      <td>33898</td>\n",
              "      <td>2102680</td>\n",
              "      <td>0.625943</td>\n",
              "      <td>-0.547167</td>\n",
              "      <td>-1.692824</td>\n",
              "      <td>-0.630589</td>\n",
              "      <td>0.166632</td>\n",
              "      <td>0.676244</td>\n",
              "      <td>-0.055100</td>\n",
              "      <td>0.582091</td>\n",
              "      <td>1.703193</td>\n",
              "    </tr>\n",
              "    <tr>\n",
              "      <th>33899</th>\n",
              "      <td>33899</td>\n",
              "      <td>2102983</td>\n",
              "      <td>-2.036832</td>\n",
              "      <td>-0.153534</td>\n",
              "      <td>0.162852</td>\n",
              "      <td>0.082651</td>\n",
              "      <td>-0.126419</td>\n",
              "      <td>0.255109</td>\n",
              "      <td>0.072496</td>\n",
              "      <td>0.113750</td>\n",
              "      <td>0.622900</td>\n",
              "    </tr>\n",
              "    <tr>\n",
              "      <th>33900</th>\n",
              "      <td>33900</td>\n",
              "      <td>2103039</td>\n",
              "      <td>-2.036832</td>\n",
              "      <td>-0.153534</td>\n",
              "      <td>0.162852</td>\n",
              "      <td>0.082651</td>\n",
              "      <td>-0.126419</td>\n",
              "      <td>0.255109</td>\n",
              "      <td>0.072496</td>\n",
              "      <td>0.113750</td>\n",
              "      <td>0.622900</td>\n",
              "    </tr>\n",
              "  </tbody>\n",
              "</table>\n",
              "<p>33901 rows × 11 columns</p>\n",
              "</div>\n",
              "      <button class=\"colab-df-convert\" onclick=\"convertToInteractive('df-d2f451c4-2e24-4e22-afb8-e15c0271b3c6')\"\n",
              "              title=\"Convert this dataframe to an interactive table.\"\n",
              "              style=\"display:none;\">\n",
              "        \n",
              "  <svg xmlns=\"http://www.w3.org/2000/svg\" height=\"24px\"viewBox=\"0 0 24 24\"\n",
              "       width=\"24px\">\n",
              "    <path d=\"M0 0h24v24H0V0z\" fill=\"none\"/>\n",
              "    <path d=\"M18.56 5.44l.94 2.06.94-2.06 2.06-.94-2.06-.94-.94-2.06-.94 2.06-2.06.94zm-11 1L8.5 8.5l.94-2.06 2.06-.94-2.06-.94L8.5 2.5l-.94 2.06-2.06.94zm10 10l.94 2.06.94-2.06 2.06-.94-2.06-.94-.94-2.06-.94 2.06-2.06.94z\"/><path d=\"M17.41 7.96l-1.37-1.37c-.4-.4-.92-.59-1.43-.59-.52 0-1.04.2-1.43.59L10.3 9.45l-7.72 7.72c-.78.78-.78 2.05 0 2.83L4 21.41c.39.39.9.59 1.41.59.51 0 1.02-.2 1.41-.59l7.78-7.78 2.81-2.81c.8-.78.8-2.07 0-2.86zM5.41 20L4 18.59l7.72-7.72 1.47 1.35L5.41 20z\"/>\n",
              "  </svg>\n",
              "      </button>\n",
              "      \n",
              "  <style>\n",
              "    .colab-df-container {\n",
              "      display:flex;\n",
              "      flex-wrap:wrap;\n",
              "      gap: 12px;\n",
              "    }\n",
              "\n",
              "    .colab-df-convert {\n",
              "      background-color: #E8F0FE;\n",
              "      border: none;\n",
              "      border-radius: 50%;\n",
              "      cursor: pointer;\n",
              "      display: none;\n",
              "      fill: #1967D2;\n",
              "      height: 32px;\n",
              "      padding: 0 0 0 0;\n",
              "      width: 32px;\n",
              "    }\n",
              "\n",
              "    .colab-df-convert:hover {\n",
              "      background-color: #E2EBFA;\n",
              "      box-shadow: 0px 1px 2px rgba(60, 64, 67, 0.3), 0px 1px 3px 1px rgba(60, 64, 67, 0.15);\n",
              "      fill: #174EA6;\n",
              "    }\n",
              "\n",
              "    [theme=dark] .colab-df-convert {\n",
              "      background-color: #3B4455;\n",
              "      fill: #D2E3FC;\n",
              "    }\n",
              "\n",
              "    [theme=dark] .colab-df-convert:hover {\n",
              "      background-color: #434B5C;\n",
              "      box-shadow: 0px 1px 3px 1px rgba(0, 0, 0, 0.15);\n",
              "      filter: drop-shadow(0px 1px 2px rgba(0, 0, 0, 0.3));\n",
              "      fill: #FFFFFF;\n",
              "    }\n",
              "  </style>\n",
              "\n",
              "      <script>\n",
              "        const buttonEl =\n",
              "          document.querySelector('#df-d2f451c4-2e24-4e22-afb8-e15c0271b3c6 button.colab-df-convert');\n",
              "        buttonEl.style.display =\n",
              "          google.colab.kernel.accessAllowed ? 'block' : 'none';\n",
              "\n",
              "        async function convertToInteractive(key) {\n",
              "          const element = document.querySelector('#df-d2f451c4-2e24-4e22-afb8-e15c0271b3c6');\n",
              "          const dataTable =\n",
              "            await google.colab.kernel.invokeFunction('convertToInteractive',\n",
              "                                                     [key], {});\n",
              "          if (!dataTable) return;\n",
              "\n",
              "          const docLinkHtml = 'Like what you see? Visit the ' +\n",
              "            '<a target=\"_blank\" href=https://colab.research.google.com/notebooks/data_table.ipynb>data table notebook</a>'\n",
              "            + ' to learn more about interactive tables.';\n",
              "          element.innerHTML = '';\n",
              "          dataTable['output_type'] = 'display_data';\n",
              "          await google.colab.output.renderOutput(dataTable, element);\n",
              "          const docLink = document.createElement('div');\n",
              "          docLink.innerHTML = docLinkHtml;\n",
              "          element.appendChild(docLink);\n",
              "        }\n",
              "      </script>\n",
              "    </div>\n",
              "  </div>\n",
              "  "
            ]
          },
          "metadata": {},
          "execution_count": 22
        }
      ],
      "source": [
        "# WRITE YOUR CODE HERE\n",
        "\n",
        "# - For a list of candidate `n_components` arguments such as 1 to 14, find out the minimal `n` that can explain accumulated 90% variances of previous data\n",
        "# - In the fitted PCA() model, you can find explained_variance_ratio_ and use the sum() function to add them to get the accumulated variance ratio\n",
        "# - Merge the user ids and transformed features into a new dataframe\n",
        "pca = PCA(n_components=9)\n",
        "features_red = pca.fit_transform(features)\n",
        "merged_pca_df = user_ids.join(pd.DataFrame(features_red)).reset_index()\n",
        "merged_pca_df.rename(columns={0:'PC0',1:'PC1',2:'PC2',3:'PC3',4:'PC4',5:'PC5',6:'PC6',7:'PC7',8:'PC8'},inplace=True)\n",
        "merged_pca_df.reset_index(drop=True,inplace=True)\n",
        "merged_pca_df"
      ],
      "execution_count": 22
    },
    {
      "cell_type": "markdown",
      "metadata": {
        "id": "7bb717b0-beb0-4188-87f3-2fbdb2672f33"
      },
      "source": [
        "<details>\n",
        "    <summary>Click here for Hints</summary>\n",
        "    \n",
        "* Call PCA class as `pca = PCA(n_components=n_components)` \n",
        "* Fit PCA model using predefined `features` variable as only parameter\n",
        "* Get the components by calling `pca.fit_transform(features)` \n",
        "* Create a `pd.DataFrame(data=components)` and use `pd.merge` to merge it with `user_ids` don't forget to specify `left_index=True, right_index=True` in `merge` function parameters.\n",
        "    \n",
        "</details> \n",
        "    \n"
      ]
    },
    {
      "cell_type": "markdown",
      "metadata": {
        "id": "498700fe-e658-45c5-83e6-b840d18e4d48"
      },
      "source": [
        "Your PCA transformed dataframe may look like the following:\n"
      ]
    },
    {
      "cell_type": "markdown",
      "metadata": {
        "id": "49ed03ce-597e-4ce6-ac42-9b7e07b9e48e"
      },
      "source": [
        "![](https://cf-courses-data.s3.us.cloud-object-storage.appdomain.cloud/IBM-ML321EN-SkillsNetwork/labs/module_3/images/pca_res.png)\n"
      ]
    },
    {
      "cell_type": "markdown",
      "metadata": {
        "id": "5bcadab7-1abb-4d22-a70f-f8f2e9c2bfff"
      },
      "source": [
        "### TASK: Perform k-means clustering on the PCA transformed feature vectors\n"
      ]
    },
    {
      "cell_type": "markdown",
      "metadata": {
        "id": "ef99e46a-31ff-4cf0-aaf3-78cf6117fd44"
      },
      "source": [
        "Now, you have the PCA  components of the original profile vectors. You can perform k-means on them again:\n"
      ]
    },
    {
      "cell_type": "markdown",
      "metadata": {
        "id": "2e76759d-570e-4dcb-824a-3de460eae3c2"
      },
      "source": [
        "_TODO: Perform K-means on the PCA transformed features_\n"
      ]
    },
    {
      "cell_type": "code",
      "metadata": {
        "id": "064ae8c6-ff84-43e8-8db5-eada35faed52",
        "outputId": "70d52f15-b324-4007-ea5d-18792e059e86",
        "colab": {
          "base_uri": "https://localhost:8080/",
          "height": 423
        }
      },
      "outputs": [
        {
          "output_type": "execute_result",
          "data": {
            "text/plain": [
              "          user   0\n",
              "0            2  11\n",
              "1            4  11\n",
              "2            5  11\n",
              "3            7  11\n",
              "4            8  11\n",
              "...        ...  ..\n",
              "33896  2102054  13\n",
              "33897  2102356  13\n",
              "33898  2102680  13\n",
              "33899  2102983  13\n",
              "33900  2103039  13\n",
              "\n",
              "[33901 rows x 2 columns]"
            ],
            "text/html": [
              "\n",
              "  <div id=\"df-e6ee82dd-89cd-4a2b-a284-75fc9739054e\">\n",
              "    <div class=\"colab-df-container\">\n",
              "      <div>\n",
              "<style scoped>\n",
              "    .dataframe tbody tr th:only-of-type {\n",
              "        vertical-align: middle;\n",
              "    }\n",
              "\n",
              "    .dataframe tbody tr th {\n",
              "        vertical-align: top;\n",
              "    }\n",
              "\n",
              "    .dataframe thead th {\n",
              "        text-align: right;\n",
              "    }\n",
              "</style>\n",
              "<table border=\"1\" class=\"dataframe\">\n",
              "  <thead>\n",
              "    <tr style=\"text-align: right;\">\n",
              "      <th></th>\n",
              "      <th>user</th>\n",
              "      <th>0</th>\n",
              "    </tr>\n",
              "  </thead>\n",
              "  <tbody>\n",
              "    <tr>\n",
              "      <th>0</th>\n",
              "      <td>2</td>\n",
              "      <td>11</td>\n",
              "    </tr>\n",
              "    <tr>\n",
              "      <th>1</th>\n",
              "      <td>4</td>\n",
              "      <td>11</td>\n",
              "    </tr>\n",
              "    <tr>\n",
              "      <th>2</th>\n",
              "      <td>5</td>\n",
              "      <td>11</td>\n",
              "    </tr>\n",
              "    <tr>\n",
              "      <th>3</th>\n",
              "      <td>7</td>\n",
              "      <td>11</td>\n",
              "    </tr>\n",
              "    <tr>\n",
              "      <th>4</th>\n",
              "      <td>8</td>\n",
              "      <td>11</td>\n",
              "    </tr>\n",
              "    <tr>\n",
              "      <th>...</th>\n",
              "      <td>...</td>\n",
              "      <td>...</td>\n",
              "    </tr>\n",
              "    <tr>\n",
              "      <th>33896</th>\n",
              "      <td>2102054</td>\n",
              "      <td>13</td>\n",
              "    </tr>\n",
              "    <tr>\n",
              "      <th>33897</th>\n",
              "      <td>2102356</td>\n",
              "      <td>13</td>\n",
              "    </tr>\n",
              "    <tr>\n",
              "      <th>33898</th>\n",
              "      <td>2102680</td>\n",
              "      <td>13</td>\n",
              "    </tr>\n",
              "    <tr>\n",
              "      <th>33899</th>\n",
              "      <td>2102983</td>\n",
              "      <td>13</td>\n",
              "    </tr>\n",
              "    <tr>\n",
              "      <th>33900</th>\n",
              "      <td>2103039</td>\n",
              "      <td>13</td>\n",
              "    </tr>\n",
              "  </tbody>\n",
              "</table>\n",
              "<p>33901 rows × 2 columns</p>\n",
              "</div>\n",
              "      <button class=\"colab-df-convert\" onclick=\"convertToInteractive('df-e6ee82dd-89cd-4a2b-a284-75fc9739054e')\"\n",
              "              title=\"Convert this dataframe to an interactive table.\"\n",
              "              style=\"display:none;\">\n",
              "        \n",
              "  <svg xmlns=\"http://www.w3.org/2000/svg\" height=\"24px\"viewBox=\"0 0 24 24\"\n",
              "       width=\"24px\">\n",
              "    <path d=\"M0 0h24v24H0V0z\" fill=\"none\"/>\n",
              "    <path d=\"M18.56 5.44l.94 2.06.94-2.06 2.06-.94-2.06-.94-.94-2.06-.94 2.06-2.06.94zm-11 1L8.5 8.5l.94-2.06 2.06-.94-2.06-.94L8.5 2.5l-.94 2.06-2.06.94zm10 10l.94 2.06.94-2.06 2.06-.94-2.06-.94-.94-2.06-.94 2.06-2.06.94z\"/><path d=\"M17.41 7.96l-1.37-1.37c-.4-.4-.92-.59-1.43-.59-.52 0-1.04.2-1.43.59L10.3 9.45l-7.72 7.72c-.78.78-.78 2.05 0 2.83L4 21.41c.39.39.9.59 1.41.59.51 0 1.02-.2 1.41-.59l7.78-7.78 2.81-2.81c.8-.78.8-2.07 0-2.86zM5.41 20L4 18.59l7.72-7.72 1.47 1.35L5.41 20z\"/>\n",
              "  </svg>\n",
              "      </button>\n",
              "      \n",
              "  <style>\n",
              "    .colab-df-container {\n",
              "      display:flex;\n",
              "      flex-wrap:wrap;\n",
              "      gap: 12px;\n",
              "    }\n",
              "\n",
              "    .colab-df-convert {\n",
              "      background-color: #E8F0FE;\n",
              "      border: none;\n",
              "      border-radius: 50%;\n",
              "      cursor: pointer;\n",
              "      display: none;\n",
              "      fill: #1967D2;\n",
              "      height: 32px;\n",
              "      padding: 0 0 0 0;\n",
              "      width: 32px;\n",
              "    }\n",
              "\n",
              "    .colab-df-convert:hover {\n",
              "      background-color: #E2EBFA;\n",
              "      box-shadow: 0px 1px 2px rgba(60, 64, 67, 0.3), 0px 1px 3px 1px rgba(60, 64, 67, 0.15);\n",
              "      fill: #174EA6;\n",
              "    }\n",
              "\n",
              "    [theme=dark] .colab-df-convert {\n",
              "      background-color: #3B4455;\n",
              "      fill: #D2E3FC;\n",
              "    }\n",
              "\n",
              "    [theme=dark] .colab-df-convert:hover {\n",
              "      background-color: #434B5C;\n",
              "      box-shadow: 0px 1px 3px 1px rgba(0, 0, 0, 0.15);\n",
              "      filter: drop-shadow(0px 1px 2px rgba(0, 0, 0, 0.3));\n",
              "      fill: #FFFFFF;\n",
              "    }\n",
              "  </style>\n",
              "\n",
              "      <script>\n",
              "        const buttonEl =\n",
              "          document.querySelector('#df-e6ee82dd-89cd-4a2b-a284-75fc9739054e button.colab-df-convert');\n",
              "        buttonEl.style.display =\n",
              "          google.colab.kernel.accessAllowed ? 'block' : 'none';\n",
              "\n",
              "        async function convertToInteractive(key) {\n",
              "          const element = document.querySelector('#df-e6ee82dd-89cd-4a2b-a284-75fc9739054e');\n",
              "          const dataTable =\n",
              "            await google.colab.kernel.invokeFunction('convertToInteractive',\n",
              "                                                     [key], {});\n",
              "          if (!dataTable) return;\n",
              "\n",
              "          const docLinkHtml = 'Like what you see? Visit the ' +\n",
              "            '<a target=\"_blank\" href=https://colab.research.google.com/notebooks/data_table.ipynb>data table notebook</a>'\n",
              "            + ' to learn more about interactive tables.';\n",
              "          element.innerHTML = '';\n",
              "          dataTable['output_type'] = 'display_data';\n",
              "          await google.colab.output.renderOutput(dataTable, element);\n",
              "          const docLink = document.createElement('div');\n",
              "          docLink.innerHTML = docLinkHtml;\n",
              "          element.appendChild(docLink);\n",
              "        }\n",
              "      </script>\n",
              "    </div>\n",
              "  </div>\n",
              "  "
            ]
          },
          "metadata": {},
          "execution_count": 23
        }
      ],
      "source": [
        "## WRITE YOUR CODE HERE\n",
        "\n",
        "## - Apply KMeans() on the PCA features\n",
        "## - Obtain the cluster label lists from model.labels_ attribute\n",
        "## - Assign each user a cluster label by combining user ids and cluster labels\n",
        "km = KMeans(n_clusters=20)\n",
        "km.fit_predict(merged_pca_df)\n",
        "km = KMeans(n_clusters=20)\n",
        "km.fit_predict(merged_pca_df)\n",
        "clustered_users = user_ids.join(pd.DataFrame(km.labels_))\n",
        "clustered_users"
      ],
      "execution_count": 23
    },
    {
      "cell_type": "markdown",
      "metadata": {
        "id": "28826c3c-85a8-418f-a421-bda2958f101c"
      },
      "source": [
        "Your clustering results should have the same format as the k-means on the original dataset:\n"
      ]
    },
    {
      "cell_type": "markdown",
      "metadata": {
        "id": "3e4dab65-ae2b-4953-b6c5-c1196b3f3d4c"
      },
      "source": [
        "![](https://cf-courses-data.s3.us.cloud-object-storage.appdomain.cloud/IBM-ML321EN-SkillsNetwork/labs/module_3/images/cluster_labels.png)\n"
      ]
    },
    {
      "cell_type": "markdown",
      "metadata": {
        "id": "5e04f17d-4d1a-4730-9367-4f4a6c1f03be"
      },
      "source": [
        "Great, now all users find their learning interest groups, either based on their original or the PCA transformed user profile features. \n"
      ]
    },
    {
      "cell_type": "markdown",
      "metadata": {
        "id": "904a5c03-af05-4a04-ab84-9b6cb39b7bcc"
      },
      "source": [
        "When a user is in a group or a community, it is very likely that the user will be interested in the courses enrolled by other members within the same group.\n"
      ]
    },
    {
      "cell_type": "markdown",
      "metadata": {
        "id": "366a0ab2-4b6a-4461-b162-bbb34f414dea"
      },
      "source": [
        "### TASK: Generate course recommendations based on the popular courses in the same cluster\n"
      ]
    },
    {
      "cell_type": "markdown",
      "metadata": {
        "id": "e14f636c-5b96-4168-b04e-be5f9134e514"
      },
      "source": [
        "The Intuition of clustering-based course recommendation is very simple and can be illustrated via the following example:\n"
      ]
    },
    {
      "cell_type": "markdown",
      "metadata": {
        "id": "c53ac1c9-7519-452b-a100-0e96f577185f"
      },
      "source": [
        "Suppose a user has joined a machine learning group (via clustering algorithm). In the group, he/she finds that the top-3 courses enrolled by all other group members are `Machine Learning for Everyone`, `Machine Learning with Python`, `Machine Learning with Scikit-learn`. Since the user has already completed the `Machine Learning for Everyone` earlier, he/she decides to trust the group members' choices and enroll in other two unselected courses `Machine Learning with Python` and `Machine Learning with Scikit-learn`.\n"
      ]
    },
    {
      "cell_type": "markdown",
      "metadata": {
        "id": "e120d208-60d4-44d8-a515-045347474393"
      },
      "source": [
        "In summary, the clustering-based recommender system first groups all users based on their profiles, and maintains a popular courses list for each group. \n",
        "\n",
        "For any group member who needs course recommendations, the algorithm recommends the unselected courses from the popular course lists.\n"
      ]
    },
    {
      "cell_type": "markdown",
      "metadata": {
        "id": "9be2b1d0-aba8-4e47-8451-2d5aef05ef3e"
      },
      "source": [
        "Next, suppose we have a set of test users, and we want to recommend new courses to them using a clustering-based recommender system:\n"
      ]
    },
    {
      "cell_type": "code",
      "metadata": {
        "id": "d2520ae8-a011-4a00-9333-646c8825fc13",
        "outputId": "33cbcbe8-0918-4ee7-c228-75696463de2f",
        "colab": {
          "base_uri": "https://localhost:8080/",
          "height": 206
        }
      },
      "outputs": [
        {
          "output_type": "execute_result",
          "data": {
            "text/plain": [
              "      user      item\n",
              "0  1502801  RP0105EN\n",
              "1  1609720  CNSC02EN\n",
              "2  1347188  CO0301EN\n",
              "3   755067  ML0103EN\n",
              "4   538595  BD0115EN"
            ],
            "text/html": [
              "\n",
              "  <div id=\"df-c2b1509e-0885-4f7a-9d4c-7fab88cb9c97\">\n",
              "    <div class=\"colab-df-container\">\n",
              "      <div>\n",
              "<style scoped>\n",
              "    .dataframe tbody tr th:only-of-type {\n",
              "        vertical-align: middle;\n",
              "    }\n",
              "\n",
              "    .dataframe tbody tr th {\n",
              "        vertical-align: top;\n",
              "    }\n",
              "\n",
              "    .dataframe thead th {\n",
              "        text-align: right;\n",
              "    }\n",
              "</style>\n",
              "<table border=\"1\" class=\"dataframe\">\n",
              "  <thead>\n",
              "    <tr style=\"text-align: right;\">\n",
              "      <th></th>\n",
              "      <th>user</th>\n",
              "      <th>item</th>\n",
              "    </tr>\n",
              "  </thead>\n",
              "  <tbody>\n",
              "    <tr>\n",
              "      <th>0</th>\n",
              "      <td>1502801</td>\n",
              "      <td>RP0105EN</td>\n",
              "    </tr>\n",
              "    <tr>\n",
              "      <th>1</th>\n",
              "      <td>1609720</td>\n",
              "      <td>CNSC02EN</td>\n",
              "    </tr>\n",
              "    <tr>\n",
              "      <th>2</th>\n",
              "      <td>1347188</td>\n",
              "      <td>CO0301EN</td>\n",
              "    </tr>\n",
              "    <tr>\n",
              "      <th>3</th>\n",
              "      <td>755067</td>\n",
              "      <td>ML0103EN</td>\n",
              "    </tr>\n",
              "    <tr>\n",
              "      <th>4</th>\n",
              "      <td>538595</td>\n",
              "      <td>BD0115EN</td>\n",
              "    </tr>\n",
              "  </tbody>\n",
              "</table>\n",
              "</div>\n",
              "      <button class=\"colab-df-convert\" onclick=\"convertToInteractive('df-c2b1509e-0885-4f7a-9d4c-7fab88cb9c97')\"\n",
              "              title=\"Convert this dataframe to an interactive table.\"\n",
              "              style=\"display:none;\">\n",
              "        \n",
              "  <svg xmlns=\"http://www.w3.org/2000/svg\" height=\"24px\"viewBox=\"0 0 24 24\"\n",
              "       width=\"24px\">\n",
              "    <path d=\"M0 0h24v24H0V0z\" fill=\"none\"/>\n",
              "    <path d=\"M18.56 5.44l.94 2.06.94-2.06 2.06-.94-2.06-.94-.94-2.06-.94 2.06-2.06.94zm-11 1L8.5 8.5l.94-2.06 2.06-.94-2.06-.94L8.5 2.5l-.94 2.06-2.06.94zm10 10l.94 2.06.94-2.06 2.06-.94-2.06-.94-.94-2.06-.94 2.06-2.06.94z\"/><path d=\"M17.41 7.96l-1.37-1.37c-.4-.4-.92-.59-1.43-.59-.52 0-1.04.2-1.43.59L10.3 9.45l-7.72 7.72c-.78.78-.78 2.05 0 2.83L4 21.41c.39.39.9.59 1.41.59.51 0 1.02-.2 1.41-.59l7.78-7.78 2.81-2.81c.8-.78.8-2.07 0-2.86zM5.41 20L4 18.59l7.72-7.72 1.47 1.35L5.41 20z\"/>\n",
              "  </svg>\n",
              "      </button>\n",
              "      \n",
              "  <style>\n",
              "    .colab-df-container {\n",
              "      display:flex;\n",
              "      flex-wrap:wrap;\n",
              "      gap: 12px;\n",
              "    }\n",
              "\n",
              "    .colab-df-convert {\n",
              "      background-color: #E8F0FE;\n",
              "      border: none;\n",
              "      border-radius: 50%;\n",
              "      cursor: pointer;\n",
              "      display: none;\n",
              "      fill: #1967D2;\n",
              "      height: 32px;\n",
              "      padding: 0 0 0 0;\n",
              "      width: 32px;\n",
              "    }\n",
              "\n",
              "    .colab-df-convert:hover {\n",
              "      background-color: #E2EBFA;\n",
              "      box-shadow: 0px 1px 2px rgba(60, 64, 67, 0.3), 0px 1px 3px 1px rgba(60, 64, 67, 0.15);\n",
              "      fill: #174EA6;\n",
              "    }\n",
              "\n",
              "    [theme=dark] .colab-df-convert {\n",
              "      background-color: #3B4455;\n",
              "      fill: #D2E3FC;\n",
              "    }\n",
              "\n",
              "    [theme=dark] .colab-df-convert:hover {\n",
              "      background-color: #434B5C;\n",
              "      box-shadow: 0px 1px 3px 1px rgba(0, 0, 0, 0.15);\n",
              "      filter: drop-shadow(0px 1px 2px rgba(0, 0, 0, 0.3));\n",
              "      fill: #FFFFFF;\n",
              "    }\n",
              "  </style>\n",
              "\n",
              "      <script>\n",
              "        const buttonEl =\n",
              "          document.querySelector('#df-c2b1509e-0885-4f7a-9d4c-7fab88cb9c97 button.colab-df-convert');\n",
              "        buttonEl.style.display =\n",
              "          google.colab.kernel.accessAllowed ? 'block' : 'none';\n",
              "\n",
              "        async function convertToInteractive(key) {\n",
              "          const element = document.querySelector('#df-c2b1509e-0885-4f7a-9d4c-7fab88cb9c97');\n",
              "          const dataTable =\n",
              "            await google.colab.kernel.invokeFunction('convertToInteractive',\n",
              "                                                     [key], {});\n",
              "          if (!dataTable) return;\n",
              "\n",
              "          const docLinkHtml = 'Like what you see? Visit the ' +\n",
              "            '<a target=\"_blank\" href=https://colab.research.google.com/notebooks/data_table.ipynb>data table notebook</a>'\n",
              "            + ' to learn more about interactive tables.';\n",
              "          element.innerHTML = '';\n",
              "          dataTable['output_type'] = 'display_data';\n",
              "          await google.colab.output.renderOutput(dataTable, element);\n",
              "          const docLink = document.createElement('div');\n",
              "          docLink.innerHTML = docLinkHtml;\n",
              "          element.appendChild(docLink);\n",
              "        }\n",
              "      </script>\n",
              "    </div>\n",
              "  </div>\n",
              "  "
            ]
          },
          "metadata": {},
          "execution_count": 30
        }
      ],
      "source": [
        "test_user_url = \"https://cf-courses-data.s3.us.cloud-object-storage.appdomain.cloud/IBM-ML321EN-SkillsNetwork/labs/datasets/rs_content_test.csv\"\n",
        "test_users_df = pd.read_csv(test_user_url)[['user', 'item']]\n",
        "test_users_df.head()"
      ],
      "execution_count": 30
    },
    {
      "cell_type": "markdown",
      "metadata": {
        "id": "a5ea94ca-f8d7-4a53-976a-69d8cb74b660"
      },
      "source": [
        "The test users dataset has only two columns, the user id and the enrolled course id. \n"
      ]
    },
    {
      "cell_type": "markdown",
      "metadata": {
        "id": "77f7d427-84c1-401f-9f50-41f14628bb41"
      },
      "source": [
        "For each user, let's find its cluster label using the k-means results you have performed in previous steps, assuming it is named `cluster_df`.\n"
      ]
    },
    {
      "cell_type": "markdown",
      "metadata": {
        "id": "85c5e6bf-3460-4d9f-8ca1-13f4752ff6c5"
      },
      "source": [
        "You can assign the cluster label to all test users via merging the clustering labels (`cluster_df`:):\n"
      ]
    },
    {
      "cell_type": "code",
      "metadata": {
        "id": "a91d1349-3111-47cb-8a77-26006e0bb0cd",
        "outputId": "ec0d8288-ea2d-4aa2-9047-193f8e41fa73",
        "colab": {
          "base_uri": "https://localhost:8080/",
          "height": 423
        }
      },
      "outputs": [
        {
          "output_type": "execute_result",
          "data": {
            "text/plain": [
              "         user      item  cluster\n",
              "0     1502801  RP0105EN       12\n",
              "1     1502801  BD0131EN       12\n",
              "2     1502801  BD0212EN       12\n",
              "3     1502801  BD0115EN       12\n",
              "4     1502801  BD0211EN       12\n",
              "...       ...       ...      ...\n",
              "9397   630511  BD0121EN        9\n",
              "9398   630511  SC0101EN        9\n",
              "9399   630511  BD0111EN        9\n",
              "9400   630511  BD0115EN        9\n",
              "9401   630511  PY0101EN        9\n",
              "\n",
              "[9402 rows x 3 columns]"
            ],
            "text/html": [
              "\n",
              "  <div id=\"df-4905d5f8-d828-4ed8-9fcf-3ab8c548d7cb\">\n",
              "    <div class=\"colab-df-container\">\n",
              "      <div>\n",
              "<style scoped>\n",
              "    .dataframe tbody tr th:only-of-type {\n",
              "        vertical-align: middle;\n",
              "    }\n",
              "\n",
              "    .dataframe tbody tr th {\n",
              "        vertical-align: top;\n",
              "    }\n",
              "\n",
              "    .dataframe thead th {\n",
              "        text-align: right;\n",
              "    }\n",
              "</style>\n",
              "<table border=\"1\" class=\"dataframe\">\n",
              "  <thead>\n",
              "    <tr style=\"text-align: right;\">\n",
              "      <th></th>\n",
              "      <th>user</th>\n",
              "      <th>item</th>\n",
              "      <th>cluster</th>\n",
              "    </tr>\n",
              "  </thead>\n",
              "  <tbody>\n",
              "    <tr>\n",
              "      <th>0</th>\n",
              "      <td>1502801</td>\n",
              "      <td>RP0105EN</td>\n",
              "      <td>12</td>\n",
              "    </tr>\n",
              "    <tr>\n",
              "      <th>1</th>\n",
              "      <td>1502801</td>\n",
              "      <td>BD0131EN</td>\n",
              "      <td>12</td>\n",
              "    </tr>\n",
              "    <tr>\n",
              "      <th>2</th>\n",
              "      <td>1502801</td>\n",
              "      <td>BD0212EN</td>\n",
              "      <td>12</td>\n",
              "    </tr>\n",
              "    <tr>\n",
              "      <th>3</th>\n",
              "      <td>1502801</td>\n",
              "      <td>BD0115EN</td>\n",
              "      <td>12</td>\n",
              "    </tr>\n",
              "    <tr>\n",
              "      <th>4</th>\n",
              "      <td>1502801</td>\n",
              "      <td>BD0211EN</td>\n",
              "      <td>12</td>\n",
              "    </tr>\n",
              "    <tr>\n",
              "      <th>...</th>\n",
              "      <td>...</td>\n",
              "      <td>...</td>\n",
              "      <td>...</td>\n",
              "    </tr>\n",
              "    <tr>\n",
              "      <th>9397</th>\n",
              "      <td>630511</td>\n",
              "      <td>BD0121EN</td>\n",
              "      <td>9</td>\n",
              "    </tr>\n",
              "    <tr>\n",
              "      <th>9398</th>\n",
              "      <td>630511</td>\n",
              "      <td>SC0101EN</td>\n",
              "      <td>9</td>\n",
              "    </tr>\n",
              "    <tr>\n",
              "      <th>9399</th>\n",
              "      <td>630511</td>\n",
              "      <td>BD0111EN</td>\n",
              "      <td>9</td>\n",
              "    </tr>\n",
              "    <tr>\n",
              "      <th>9400</th>\n",
              "      <td>630511</td>\n",
              "      <td>BD0115EN</td>\n",
              "      <td>9</td>\n",
              "    </tr>\n",
              "    <tr>\n",
              "      <th>9401</th>\n",
              "      <td>630511</td>\n",
              "      <td>PY0101EN</td>\n",
              "      <td>9</td>\n",
              "    </tr>\n",
              "  </tbody>\n",
              "</table>\n",
              "<p>9402 rows × 3 columns</p>\n",
              "</div>\n",
              "      <button class=\"colab-df-convert\" onclick=\"convertToInteractive('df-4905d5f8-d828-4ed8-9fcf-3ab8c548d7cb')\"\n",
              "              title=\"Convert this dataframe to an interactive table.\"\n",
              "              style=\"display:none;\">\n",
              "        \n",
              "  <svg xmlns=\"http://www.w3.org/2000/svg\" height=\"24px\"viewBox=\"0 0 24 24\"\n",
              "       width=\"24px\">\n",
              "    <path d=\"M0 0h24v24H0V0z\" fill=\"none\"/>\n",
              "    <path d=\"M18.56 5.44l.94 2.06.94-2.06 2.06-.94-2.06-.94-.94-2.06-.94 2.06-2.06.94zm-11 1L8.5 8.5l.94-2.06 2.06-.94-2.06-.94L8.5 2.5l-.94 2.06-2.06.94zm10 10l.94 2.06.94-2.06 2.06-.94-2.06-.94-.94-2.06-.94 2.06-2.06.94z\"/><path d=\"M17.41 7.96l-1.37-1.37c-.4-.4-.92-.59-1.43-.59-.52 0-1.04.2-1.43.59L10.3 9.45l-7.72 7.72c-.78.78-.78 2.05 0 2.83L4 21.41c.39.39.9.59 1.41.59.51 0 1.02-.2 1.41-.59l7.78-7.78 2.81-2.81c.8-.78.8-2.07 0-2.86zM5.41 20L4 18.59l7.72-7.72 1.47 1.35L5.41 20z\"/>\n",
              "  </svg>\n",
              "      </button>\n",
              "      \n",
              "  <style>\n",
              "    .colab-df-container {\n",
              "      display:flex;\n",
              "      flex-wrap:wrap;\n",
              "      gap: 12px;\n",
              "    }\n",
              "\n",
              "    .colab-df-convert {\n",
              "      background-color: #E8F0FE;\n",
              "      border: none;\n",
              "      border-radius: 50%;\n",
              "      cursor: pointer;\n",
              "      display: none;\n",
              "      fill: #1967D2;\n",
              "      height: 32px;\n",
              "      padding: 0 0 0 0;\n",
              "      width: 32px;\n",
              "    }\n",
              "\n",
              "    .colab-df-convert:hover {\n",
              "      background-color: #E2EBFA;\n",
              "      box-shadow: 0px 1px 2px rgba(60, 64, 67, 0.3), 0px 1px 3px 1px rgba(60, 64, 67, 0.15);\n",
              "      fill: #174EA6;\n",
              "    }\n",
              "\n",
              "    [theme=dark] .colab-df-convert {\n",
              "      background-color: #3B4455;\n",
              "      fill: #D2E3FC;\n",
              "    }\n",
              "\n",
              "    [theme=dark] .colab-df-convert:hover {\n",
              "      background-color: #434B5C;\n",
              "      box-shadow: 0px 1px 3px 1px rgba(0, 0, 0, 0.15);\n",
              "      filter: drop-shadow(0px 1px 2px rgba(0, 0, 0, 0.3));\n",
              "      fill: #FFFFFF;\n",
              "    }\n",
              "  </style>\n",
              "\n",
              "      <script>\n",
              "        const buttonEl =\n",
              "          document.querySelector('#df-4905d5f8-d828-4ed8-9fcf-3ab8c548d7cb button.colab-df-convert');\n",
              "        buttonEl.style.display =\n",
              "          google.colab.kernel.accessAllowed ? 'block' : 'none';\n",
              "\n",
              "        async function convertToInteractive(key) {\n",
              "          const element = document.querySelector('#df-4905d5f8-d828-4ed8-9fcf-3ab8c548d7cb');\n",
              "          const dataTable =\n",
              "            await google.colab.kernel.invokeFunction('convertToInteractive',\n",
              "                                                     [key], {});\n",
              "          if (!dataTable) return;\n",
              "\n",
              "          const docLinkHtml = 'Like what you see? Visit the ' +\n",
              "            '<a target=\"_blank\" href=https://colab.research.google.com/notebooks/data_table.ipynb>data table notebook</a>'\n",
              "            + ' to learn more about interactive tables.';\n",
              "          element.innerHTML = '';\n",
              "          dataTable['output_type'] = 'display_data';\n",
              "          await google.colab.output.renderOutput(dataTable, element);\n",
              "          const docLink = document.createElement('div');\n",
              "          docLink.innerHTML = docLinkHtml;\n",
              "          element.appendChild(docLink);\n",
              "        }\n",
              "      </script>\n",
              "    </div>\n",
              "  </div>\n",
              "  "
            ]
          },
          "metadata": {},
          "execution_count": 31
        }
      ],
      "source": [
        "# test_users_labelled = pd.merge(test_users_df, cluster_df, left_on='user', right_on='user')\n",
        "test_users_labelled = pd.merge(test_users_df, clustered_users, left_on='user', right_on='user')\n",
        "test_users_labelled.rename(columns={0:'cluster'},inplace=True)\n",
        "test_users_labelled"
      ],
      "execution_count": 31
    },
    {
      "cell_type": "markdown",
      "metadata": {
        "id": "c7cd3ddd-b5af-4aca-9266-f02109896960"
      },
      "source": [
        "The merged the test dataset may look like the following:\n"
      ]
    },
    {
      "cell_type": "markdown",
      "metadata": {
        "id": "608ce599-cfb2-4080-8ef4-645dc418ba63"
      },
      "source": [
        "![](https://cf-courses-data.s3.us.cloud-object-storage.appdomain.cloud/IBM-ML321EN-SkillsNetwork/labs/module_3/images/test_users_label.png)\n"
      ]
    },
    {
      "cell_type": "markdown",
      "metadata": {
        "id": "dc1c85fc-4a16-4d54-982c-2e137aa58687"
      },
      "source": [
        "From the above dataframe, we know each user's enrolled courses and its cluster index.\n"
      ]
    },
    {
      "cell_type": "markdown",
      "metadata": {
        "id": "04fc9b6b-f40f-4216-8704-321b6a80b8fe"
      },
      "source": [
        "If we use a `groupby`  and `sum` aggregation, we can get the enrollments count for each course in each group, like the following code snippet:\n"
      ]
    },
    {
      "cell_type": "code",
      "metadata": {
        "id": "7950008f-a91e-4858-a815-9774026ca65f",
        "outputId": "735f4c6a-b529-4194-e1d1-944fbec29fc9",
        "colab": {
          "base_uri": "https://localhost:8080/",
          "height": 52
        }
      },
      "outputs": [
        {
          "output_type": "execute_result",
          "data": {
            "text/plain": [
              "\"\\ncourses_cluster = test_users_labelled[['item', 'cluster']]\\ncourses_cluster['count'] = [1] * len(courses_cluster)\\ncourses_cluster.groupby(['cluster','item']).agg(enrollments = ('count','sum')).reset_index()\\n\""
            ],
            "application/vnd.google.colaboratory.intrinsic+json": {
              "type": "string"
            }
          },
          "metadata": {},
          "execution_count": 32
        }
      ],
      "source": [
        "'''\n",
        "courses_cluster = test_users_labelled[['item', 'cluster']]\n",
        "courses_cluster['count'] = [1] * len(courses_cluster)\n",
        "courses_cluster.groupby(['cluster','item']).agg(enrollments = ('count','sum')).reset_index()\n",
        "'''"
      ],
      "execution_count": 32
    },
    {
      "cell_type": "markdown",
      "metadata": {
        "id": "95563f59-7a01-4454-a727-d54aca4836c4"
      },
      "source": [
        "_TODO: For each test user, try to recommend any unseen courses based on the popular courses in his/her cluster. You may use an enrollment count threshold (such as larger than 10) to determine if it is a popular course in the cluster_ \n"
      ]
    },
    {
      "cell_type": "code",
      "metadata": {
        "id": "f316c0dc-5173-417b-af4b-5a104a485d97"
      },
      "outputs": [],
      "source": [
        "## WRITE YOUR CODE HERE\n",
        "\n",
        "## - For each user, first finds its cluster label\n",
        "\n",
        "    ## - First get all courses belonging to the same cluster and figure out what are the popular ones (such as course enrollments beyond a threshold like 100)\n",
        "    \n",
        "    ## - Get the user's current enrolled courses\n",
        "    \n",
        "    ## - Check if there are any courses on the popular course list which are new/unseen to the user. \n",
        "    \n",
        "    ## If yes, make those unseen and popular courses as recommendation results for the user\n",
        "\n",
        "courses_cluster = test_users_labelled[['item','cluster']]\n",
        "courses_cluster['count'] = [1] * len(courses_cluster)\n",
        "courses_cluster = courses_cluster.groupby(['cluster','item']).agg(enrollments=('count','sum')).reset_index()\n",
        "\n",
        "recommend = {}\n",
        "union_courses=set()\n",
        "\n",
        "for user_id in test_users_labelled['user'].unique():\n",
        "    d_user = test_users_labelled[test_users_labelled['user']==user_id]\n",
        "    cluster = d_user['cluster'].iloc[0]\n",
        "    all_courses_cluster = courses_cluster[courses_cluster['cluster']==cluster]\n",
        "    all_courses_cluster = all_courses_cluster.sort_values(by='enrollments').iloc[-10:,1].values\n",
        "    user_courses = d_user['item'].values\n",
        "    new_courses = list(set(all_courses_cluster).difference(set(all_courses_cluster).intersection(user_courses)))\n",
        "    recommend[user_id] = new_courses\n",
        "    union_courses = union_courses.union(set(new_courses))"
      ],
      "execution_count": 33
    },
    {
      "cell_type": "code",
      "source": [
        "avail = list(union_courses)\n",
        "user_recommendations = pd.DataFrame([[user]+[courses.count(c) for c in avail] for user,courses in recommend.items()],columns=['user']+avail)\n",
        "user_recommendations.head(3)"
      ],
      "metadata": {
        "id": "csCcsmT4NiCO",
        "outputId": "0bf536f1-f37b-4cb1-a574-6909c306f4a4",
        "colab": {
          "base_uri": "https://localhost:8080/",
          "height": 236
        }
      },
      "execution_count": 34,
      "outputs": [
        {
          "output_type": "execute_result",
          "data": {
            "text/plain": [
              "      user  BC0101EN  DS0103EN  CO0301EN  CO0101EN  BD0145EN  ST0101EN  \\\n",
              "0  1502801         0         1         0         1         0         0   \n",
              "1  1609720         1         0         0         0         0         0   \n",
              "2  1347188         0         1         0         0         0         0   \n",
              "\n",
              "   DS0101EN  SC0101EN  DS0105EN  ...  CO0201EN  BD0221EN  CC0101EN  BD0141EN  \\\n",
              "0         1         0         0  ...         0         0         1         0   \n",
              "1         0         0         0  ...         0         0         1         0   \n",
              "2         1         0         0  ...         0         0         0         0   \n",
              "\n",
              "   CC0103EN  BD0111EN  BD0101EN  DA0101EN  BD0115EN  DB0101EN  \n",
              "0         0         0         0         1         0         0  \n",
              "1         0         1         1         0         0         1  \n",
              "2         0         1         1         1         0         0  \n",
              "\n",
              "[3 rows x 31 columns]"
            ],
            "text/html": [
              "\n",
              "  <div id=\"df-e8226fa1-9e2e-46a5-81cd-135bc1b7c340\">\n",
              "    <div class=\"colab-df-container\">\n",
              "      <div>\n",
              "<style scoped>\n",
              "    .dataframe tbody tr th:only-of-type {\n",
              "        vertical-align: middle;\n",
              "    }\n",
              "\n",
              "    .dataframe tbody tr th {\n",
              "        vertical-align: top;\n",
              "    }\n",
              "\n",
              "    .dataframe thead th {\n",
              "        text-align: right;\n",
              "    }\n",
              "</style>\n",
              "<table border=\"1\" class=\"dataframe\">\n",
              "  <thead>\n",
              "    <tr style=\"text-align: right;\">\n",
              "      <th></th>\n",
              "      <th>user</th>\n",
              "      <th>BC0101EN</th>\n",
              "      <th>DS0103EN</th>\n",
              "      <th>CO0301EN</th>\n",
              "      <th>CO0101EN</th>\n",
              "      <th>BD0145EN</th>\n",
              "      <th>ST0101EN</th>\n",
              "      <th>DS0101EN</th>\n",
              "      <th>SC0101EN</th>\n",
              "      <th>DS0105EN</th>\n",
              "      <th>...</th>\n",
              "      <th>CO0201EN</th>\n",
              "      <th>BD0221EN</th>\n",
              "      <th>CC0101EN</th>\n",
              "      <th>BD0141EN</th>\n",
              "      <th>CC0103EN</th>\n",
              "      <th>BD0111EN</th>\n",
              "      <th>BD0101EN</th>\n",
              "      <th>DA0101EN</th>\n",
              "      <th>BD0115EN</th>\n",
              "      <th>DB0101EN</th>\n",
              "    </tr>\n",
              "  </thead>\n",
              "  <tbody>\n",
              "    <tr>\n",
              "      <th>0</th>\n",
              "      <td>1502801</td>\n",
              "      <td>0</td>\n",
              "      <td>1</td>\n",
              "      <td>0</td>\n",
              "      <td>1</td>\n",
              "      <td>0</td>\n",
              "      <td>0</td>\n",
              "      <td>1</td>\n",
              "      <td>0</td>\n",
              "      <td>0</td>\n",
              "      <td>...</td>\n",
              "      <td>0</td>\n",
              "      <td>0</td>\n",
              "      <td>1</td>\n",
              "      <td>0</td>\n",
              "      <td>0</td>\n",
              "      <td>0</td>\n",
              "      <td>0</td>\n",
              "      <td>1</td>\n",
              "      <td>0</td>\n",
              "      <td>0</td>\n",
              "    </tr>\n",
              "    <tr>\n",
              "      <th>1</th>\n",
              "      <td>1609720</td>\n",
              "      <td>1</td>\n",
              "      <td>0</td>\n",
              "      <td>0</td>\n",
              "      <td>0</td>\n",
              "      <td>0</td>\n",
              "      <td>0</td>\n",
              "      <td>0</td>\n",
              "      <td>0</td>\n",
              "      <td>0</td>\n",
              "      <td>...</td>\n",
              "      <td>0</td>\n",
              "      <td>0</td>\n",
              "      <td>1</td>\n",
              "      <td>0</td>\n",
              "      <td>0</td>\n",
              "      <td>1</td>\n",
              "      <td>1</td>\n",
              "      <td>0</td>\n",
              "      <td>0</td>\n",
              "      <td>1</td>\n",
              "    </tr>\n",
              "    <tr>\n",
              "      <th>2</th>\n",
              "      <td>1347188</td>\n",
              "      <td>0</td>\n",
              "      <td>1</td>\n",
              "      <td>0</td>\n",
              "      <td>0</td>\n",
              "      <td>0</td>\n",
              "      <td>0</td>\n",
              "      <td>1</td>\n",
              "      <td>0</td>\n",
              "      <td>0</td>\n",
              "      <td>...</td>\n",
              "      <td>0</td>\n",
              "      <td>0</td>\n",
              "      <td>0</td>\n",
              "      <td>0</td>\n",
              "      <td>0</td>\n",
              "      <td>1</td>\n",
              "      <td>1</td>\n",
              "      <td>1</td>\n",
              "      <td>0</td>\n",
              "      <td>0</td>\n",
              "    </tr>\n",
              "  </tbody>\n",
              "</table>\n",
              "<p>3 rows × 31 columns</p>\n",
              "</div>\n",
              "      <button class=\"colab-df-convert\" onclick=\"convertToInteractive('df-e8226fa1-9e2e-46a5-81cd-135bc1b7c340')\"\n",
              "              title=\"Convert this dataframe to an interactive table.\"\n",
              "              style=\"display:none;\">\n",
              "        \n",
              "  <svg xmlns=\"http://www.w3.org/2000/svg\" height=\"24px\"viewBox=\"0 0 24 24\"\n",
              "       width=\"24px\">\n",
              "    <path d=\"M0 0h24v24H0V0z\" fill=\"none\"/>\n",
              "    <path d=\"M18.56 5.44l.94 2.06.94-2.06 2.06-.94-2.06-.94-.94-2.06-.94 2.06-2.06.94zm-11 1L8.5 8.5l.94-2.06 2.06-.94-2.06-.94L8.5 2.5l-.94 2.06-2.06.94zm10 10l.94 2.06.94-2.06 2.06-.94-2.06-.94-.94-2.06-.94 2.06-2.06.94z\"/><path d=\"M17.41 7.96l-1.37-1.37c-.4-.4-.92-.59-1.43-.59-.52 0-1.04.2-1.43.59L10.3 9.45l-7.72 7.72c-.78.78-.78 2.05 0 2.83L4 21.41c.39.39.9.59 1.41.59.51 0 1.02-.2 1.41-.59l7.78-7.78 2.81-2.81c.8-.78.8-2.07 0-2.86zM5.41 20L4 18.59l7.72-7.72 1.47 1.35L5.41 20z\"/>\n",
              "  </svg>\n",
              "      </button>\n",
              "      \n",
              "  <style>\n",
              "    .colab-df-container {\n",
              "      display:flex;\n",
              "      flex-wrap:wrap;\n",
              "      gap: 12px;\n",
              "    }\n",
              "\n",
              "    .colab-df-convert {\n",
              "      background-color: #E8F0FE;\n",
              "      border: none;\n",
              "      border-radius: 50%;\n",
              "      cursor: pointer;\n",
              "      display: none;\n",
              "      fill: #1967D2;\n",
              "      height: 32px;\n",
              "      padding: 0 0 0 0;\n",
              "      width: 32px;\n",
              "    }\n",
              "\n",
              "    .colab-df-convert:hover {\n",
              "      background-color: #E2EBFA;\n",
              "      box-shadow: 0px 1px 2px rgba(60, 64, 67, 0.3), 0px 1px 3px 1px rgba(60, 64, 67, 0.15);\n",
              "      fill: #174EA6;\n",
              "    }\n",
              "\n",
              "    [theme=dark] .colab-df-convert {\n",
              "      background-color: #3B4455;\n",
              "      fill: #D2E3FC;\n",
              "    }\n",
              "\n",
              "    [theme=dark] .colab-df-convert:hover {\n",
              "      background-color: #434B5C;\n",
              "      box-shadow: 0px 1px 3px 1px rgba(0, 0, 0, 0.15);\n",
              "      filter: drop-shadow(0px 1px 2px rgba(0, 0, 0, 0.3));\n",
              "      fill: #FFFFFF;\n",
              "    }\n",
              "  </style>\n",
              "\n",
              "      <script>\n",
              "        const buttonEl =\n",
              "          document.querySelector('#df-e8226fa1-9e2e-46a5-81cd-135bc1b7c340 button.colab-df-convert');\n",
              "        buttonEl.style.display =\n",
              "          google.colab.kernel.accessAllowed ? 'block' : 'none';\n",
              "\n",
              "        async function convertToInteractive(key) {\n",
              "          const element = document.querySelector('#df-e8226fa1-9e2e-46a5-81cd-135bc1b7c340');\n",
              "          const dataTable =\n",
              "            await google.colab.kernel.invokeFunction('convertToInteractive',\n",
              "                                                     [key], {});\n",
              "          if (!dataTable) return;\n",
              "\n",
              "          const docLinkHtml = 'Like what you see? Visit the ' +\n",
              "            '<a target=\"_blank\" href=https://colab.research.google.com/notebooks/data_table.ipynb>data table notebook</a>'\n",
              "            + ' to learn more about interactive tables.';\n",
              "          element.innerHTML = '';\n",
              "          dataTable['output_type'] = 'display_data';\n",
              "          await google.colab.output.renderOutput(dataTable, element);\n",
              "          const docLink = document.createElement('div');\n",
              "          docLink.innerHTML = docLinkHtml;\n",
              "          element.appendChild(docLink);\n",
              "        }\n",
              "      </script>\n",
              "    </div>\n",
              "  </div>\n",
              "  "
            ]
          },
          "metadata": {},
          "execution_count": 34
        }
      ]
    },
    {
      "cell_type": "markdown",
      "metadata": {
        "id": "582fe97b-6297-41ca-ba47-a335a82b4751"
      },
      "source": [
        "<details>\n",
        "    <summary>Click here for Hints</summary>\n",
        "    \n",
        "* First of all, create a `user_subset` of  `test_users_labelled` where `test_users_labelled['user'] == user_id`. \n",
        "* Get the enrolled courses by  simply accessing `['item']` column of `user_subset`\n",
        "* Find its cluster label by accessing `['cluster']` column of `user_subset`. You can just use the first one (`.iloc[0]`) since every value in the column is the same for an individual user.\n",
        "* You can find all courses in the same cluster, by simply accessing `['item']` column of a subset of `test_users_labelled` where `test_users_labelled[test_users_labelled['cluster'] == cluster_id]`\n",
        "* You can find new/unseen courses to the user by taking a set difference between courses in cluster and enrolled_courses by using `.difference` method (dont forget to convert 2 lists in to sets before calling the method). \n",
        "* Use `courses_cluster` data set to find popularity of new/unseen courses and make unseen and popular courses as recommendation results for the user\n",
        "    \n",
        "</details> \n"
      ]
    },
    {
      "cell_type": "markdown",
      "metadata": {
        "id": "acea3ced-c698-48cc-a1af-a14be8433153"
      },
      "source": [
        "With the recommendation results, you also need to write some analytic code to answer the following two questions:\n"
      ]
    },
    {
      "cell_type": "markdown",
      "metadata": {
        "id": "45256cd0-74e5-40e2-b50d-50f5e38b6f85"
      },
      "source": [
        "- On average, how many new/unseen courses have been recommended to each user?\n",
        "- What are the most frequently recommended courses? Return the top-10 commonly recommended courses across all users.\n"
      ]
    },
    {
      "cell_type": "code",
      "source": [
        "s = 0\n",
        "for r in user_recommendations.values:\n",
        "    s+=r[1:].sum()\n",
        "avg=s/len(user_recommendations)\n",
        "print(avg)"
      ],
      "metadata": {
        "id": "iTL_efU9NgJQ",
        "outputId": "baf9c360-b07d-4e0b-944b-1d689e5c78e4",
        "colab": {
          "base_uri": "https://localhost:8080/"
        }
      },
      "execution_count": 35,
      "outputs": [
        {
          "output_type": "stream",
          "name": "stdout",
          "text": [
            "5.732\n"
          ]
        }
      ]
    },
    {
      "cell_type": "code",
      "source": [
        "user_recommendations.iloc[:,1:].sum().sort_values(ascending=False).iloc[:10]"
      ],
      "metadata": {
        "id": "_efbhzprNle7",
        "outputId": "b37fb77b-1868-4da4-e0ce-8f422873858b",
        "colab": {
          "base_uri": "https://localhost:8080/"
        }
      },
      "execution_count": 36,
      "outputs": [
        {
          "output_type": "execute_result",
          "data": {
            "text/plain": [
              "DA0101EN      532\n",
              "DS0103EN      498\n",
              "BD0111EN      472\n",
              "DS0101EN      444\n",
              "BD0101EN      431\n",
              "PY0101EN      386\n",
              "DS0105EN      351\n",
              "BC0101EN      328\n",
              "ML0115EN      326\n",
              "ML0101ENv3    299\n",
              "dtype: int64"
            ]
          },
          "metadata": {},
          "execution_count": 36
        }
      ]
    },
    {
      "cell_type": "markdown",
      "metadata": {
        "id": "6cc4d54f-eb4b-4a5d-ad8e-c9db1211416f"
      },
      "source": [
        "For example, suppose we have only 3 test users, each user receives the following recommendations:\n"
      ]
    },
    {
      "cell_type": "markdown",
      "metadata": {
        "id": "8fc1dc43-0a14-4507-a536-112ad1a3dd11"
      },
      "source": [
        "- User1: ['course1', 'course2']\n",
        "- User2: ['course3', 'course4']\n",
        "- User3: ['course3', 'course4', 'course5']\n"
      ]
    },
    {
      "cell_type": "markdown",
      "metadata": {
        "id": "3bfc6c17-32e5-48f8-b976-2caac840c745"
      },
      "source": [
        "Then, the average recommended courses per user is $(2 + 2 + 3) / 3 = 2.33$. The top-2 recommended courses are: `course3`: 2 times, and `course4`: 2 times.\n"
      ]
    },
    {
      "cell_type": "markdown",
      "metadata": {
        "id": "324d14d3-afb9-43d8-a628-696d6354bbd2"
      },
      "source": [
        "Note that the answers will depend on how you compute the popular courses for each cluster. A lower threshold yields more recommended courses but with smaller confidence so that some test users may receive very long course recommendation lists and feel overwhelmed. \n",
        "\n",
        "Ideally, we should limit the maximum course recommendations for each user to be less than 20 courses per user.\n"
      ]
    },
    {
      "cell_type": "markdown",
      "metadata": {
        "id": "dab7fa5e-8174-4c36-b0e7-452fc6142c82"
      },
      "source": [
        "### Explore other clustering algorithms\n"
      ]
    },
    {
      "cell_type": "markdown",
      "metadata": {
        "id": "411644fd-4179-434a-97bb-898d941acfe7"
      },
      "source": [
        "As you have learned in previous unsupervised learning course, there are many other clustering algorithms such as `DBSCAN` and `Hierarchical Clustering`. You are encouraged to try them on the user profile feature vectors and compare the results with K-means.\n"
      ]
    },
    {
      "cell_type": "markdown",
      "metadata": {
        "id": "9fd886a5-35b0-4175-9bc6-4f413668c447"
      },
      "source": [
        "### Summary\n"
      ]
    },
    {
      "cell_type": "markdown",
      "metadata": {
        "id": "7c53abaf-df16-4c46-9d18-30cca324c4f7"
      },
      "source": [
        "Congratulations! In this lab, you have applied clustering algorithms to group users with similar interests and also tried PCA to reduce the dimensions of user feature vectors.\n",
        "\n",
        "Furthermore, with each user finding its learning interest group, you have also implemented clustering-based course recommender system to make recommendations based on his/her group members' popular courses choices.\n"
      ]
    },
    {
      "cell_type": "markdown",
      "metadata": {
        "id": "a264c0d5-5384-4d5b-8767-e84ac01774ea"
      },
      "source": [
        "## Authors\n"
      ]
    },
    {
      "cell_type": "markdown",
      "metadata": {
        "id": "48530cf0-6a23-4148-9844-529ec2fea713"
      },
      "source": [
        "[Yan Luo](https://www.linkedin.com/in/yan-luo-96288783/?utm_medium=Exinfluencer&utm_source=Exinfluencer&utm_content=000026UJ&utm_term=10006555&utm_id=NA-SkillsNetwork-Channel-SkillsNetworkCoursesIBMML321ENSkillsNetwork817-2022-01-01)\n"
      ]
    },
    {
      "cell_type": "markdown",
      "metadata": {
        "id": "fac635b6-1069-40bb-bed0-27e612d1a52f"
      },
      "source": [
        "### Other Contributors\n"
      ]
    },
    {
      "cell_type": "markdown",
      "metadata": {
        "id": "790b980d-5d2d-400f-9442-93a90a87d727"
      },
      "source": [
        "## Change Log\n"
      ]
    },
    {
      "cell_type": "markdown",
      "metadata": {
        "id": "ab002c5b-d52b-4fb5-b3e3-b7c32020b69f"
      },
      "source": [
        "|Date (YYYY-MM-DD)|Version|Changed By|Change Description|\n",
        "|-|-|-|-|\n",
        "|2021-10-25|1.0|Yan|Created the initial version|\n"
      ]
    },
    {
      "cell_type": "markdown",
      "metadata": {
        "id": "f6a2268e-bf75-4bfb-ae0c-d0781eb15b37"
      },
      "source": [
        "Copyright © 2021 IBM Corporation. All rights reserved.\n"
      ]
    }
  ],
  "metadata": {
    "kernelspec": {
      "display_name": "Python",
      "language": "python",
      "name": "conda-env-python-py"
    },
    "language_info": {
      "name": ""
    },
    "colab": {
      "provenance": []
    }
  },
  "nbformat": 4,
  "nbformat_minor": 0
}